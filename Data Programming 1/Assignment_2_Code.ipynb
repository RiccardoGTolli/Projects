{
 "cells": [
  {
   "cell_type": "markdown",
   "metadata": {},
   "source": [
    "# Clean the data"
   ]
  },
  {
   "cell_type": "markdown",
   "metadata": {},
   "source": [
    " Before doing anything we have to clean up the data"
   ]
  },
  {
   "cell_type": "code",
   "execution_count": 1,
   "metadata": {},
   "outputs": [],
   "source": [
    "# import libraries\n",
    "import json\n",
    "import matplotlib.pyplot as plt \n",
    "import pandas as pd\n",
    "import numpy as np \n",
    "import seaborn as sns"
   ]
  },
  {
   "cell_type": "code",
   "execution_count": 2,
   "metadata": {},
   "outputs": [],
   "source": [
    "# main dataframe\n",
    "df1 = pd.read_csv(\"games.csv\")"
   ]
  },
  {
   "cell_type": "code",
   "execution_count": 3,
   "metadata": {},
   "outputs": [
    {
     "data": {
      "text/plain": [
       "Index(['gameId', 'creationTime', 'gameDuration', 'seasonId', 'winner',\n",
       "       'firstBlood', 'firstTower', 'firstInhibitor', 'firstBaron',\n",
       "       'firstDragon', 'firstRiftHerald', 't1_champ1id', 't1_champ1_sum1',\n",
       "       't1_champ1_sum2', 't1_champ2id', 't1_champ2_sum1', 't1_champ2_sum2',\n",
       "       't1_champ3id', 't1_champ3_sum1', 't1_champ3_sum2', 't1_champ4id',\n",
       "       't1_champ4_sum1', 't1_champ4_sum2', 't1_champ5id', 't1_champ5_sum1',\n",
       "       't1_champ5_sum2', 't1_towerKills', 't1_inhibitorKills', 't1_baronKills',\n",
       "       't1_dragonKills', 't1_riftHeraldKills', 't1_ban1', 't1_ban2', 't1_ban3',\n",
       "       't1_ban4', 't1_ban5', 't2_champ1id', 't2_champ1_sum1', 't2_champ1_sum2',\n",
       "       't2_champ2id', 't2_champ2_sum1', 't2_champ2_sum2', 't2_champ3id',\n",
       "       't2_champ3_sum1', 't2_champ3_sum2', 't2_champ4id', 't2_champ4_sum1',\n",
       "       't2_champ4_sum2', 't2_champ5id', 't2_champ5_sum1', 't2_champ5_sum2',\n",
       "       't2_towerKills', 't2_inhibitorKills', 't2_baronKills', 't2_dragonKills',\n",
       "       't2_riftHeraldKills', 't2_ban1', 't2_ban2', 't2_ban3', 't2_ban4',\n",
       "       't2_ban5'],\n",
       "      dtype='object')"
      ]
     },
     "execution_count": 3,
     "metadata": {},
     "output_type": "execute_result"
    }
   ],
   "source": [
    "#all the columns from the dataframe above\n",
    "df1.columns"
   ]
  },
  {
   "cell_type": "code",
   "execution_count": 4,
   "metadata": {},
   "outputs": [
    {
     "data": {
      "text/html": [
       "<div>\n",
       "<style scoped>\n",
       "    .dataframe tbody tr th:only-of-type {\n",
       "        vertical-align: middle;\n",
       "    }\n",
       "\n",
       "    .dataframe tbody tr th {\n",
       "        vertical-align: top;\n",
       "    }\n",
       "\n",
       "    .dataframe thead th {\n",
       "        text-align: right;\n",
       "    }\n",
       "</style>\n",
       "<table border=\"1\" class=\"dataframe\">\n",
       "  <thead>\n",
       "    <tr style=\"text-align: right;\">\n",
       "      <th></th>\n",
       "      <th>winner</th>\n",
       "      <th>t1_champ1id</th>\n",
       "      <th>t1_champ1_sum1</th>\n",
       "    </tr>\n",
       "  </thead>\n",
       "  <tbody>\n",
       "    <tr>\n",
       "      <th>0</th>\n",
       "      <td>1</td>\n",
       "      <td>8</td>\n",
       "      <td>12</td>\n",
       "    </tr>\n",
       "    <tr>\n",
       "      <th>1</th>\n",
       "      <td>1</td>\n",
       "      <td>119</td>\n",
       "      <td>7</td>\n",
       "    </tr>\n",
       "    <tr>\n",
       "      <th>2</th>\n",
       "      <td>1</td>\n",
       "      <td>18</td>\n",
       "      <td>4</td>\n",
       "    </tr>\n",
       "    <tr>\n",
       "      <th>3</th>\n",
       "      <td>1</td>\n",
       "      <td>57</td>\n",
       "      <td>4</td>\n",
       "    </tr>\n",
       "    <tr>\n",
       "      <th>4</th>\n",
       "      <td>1</td>\n",
       "      <td>19</td>\n",
       "      <td>4</td>\n",
       "    </tr>\n",
       "    <tr>\n",
       "      <th>5</th>\n",
       "      <td>1</td>\n",
       "      <td>40</td>\n",
       "      <td>3</td>\n",
       "    </tr>\n",
       "    <tr>\n",
       "      <th>6</th>\n",
       "      <td>1</td>\n",
       "      <td>74</td>\n",
       "      <td>3</td>\n",
       "    </tr>\n",
       "    <tr>\n",
       "      <th>7</th>\n",
       "      <td>1</td>\n",
       "      <td>150</td>\n",
       "      <td>12</td>\n",
       "    </tr>\n",
       "    <tr>\n",
       "      <th>8</th>\n",
       "      <td>2</td>\n",
       "      <td>111</td>\n",
       "      <td>12</td>\n",
       "    </tr>\n",
       "    <tr>\n",
       "      <th>9</th>\n",
       "      <td>2</td>\n",
       "      <td>427</td>\n",
       "      <td>4</td>\n",
       "    </tr>\n",
       "    <tr>\n",
       "      <th>10</th>\n",
       "      <td>2</td>\n",
       "      <td>99</td>\n",
       "      <td>4</td>\n",
       "    </tr>\n",
       "    <tr>\n",
       "      <th>11</th>\n",
       "      <td>1</td>\n",
       "      <td>22</td>\n",
       "      <td>7</td>\n",
       "    </tr>\n",
       "    <tr>\n",
       "      <th>12</th>\n",
       "      <td>1</td>\n",
       "      <td>79</td>\n",
       "      <td>4</td>\n",
       "    </tr>\n",
       "    <tr>\n",
       "      <th>13</th>\n",
       "      <td>1</td>\n",
       "      <td>143</td>\n",
       "      <td>3</td>\n",
       "    </tr>\n",
       "    <tr>\n",
       "      <th>14</th>\n",
       "      <td>2</td>\n",
       "      <td>40</td>\n",
       "      <td>4</td>\n",
       "    </tr>\n",
       "    <tr>\n",
       "      <th>15</th>\n",
       "      <td>1</td>\n",
       "      <td>23</td>\n",
       "      <td>12</td>\n",
       "    </tr>\n",
       "    <tr>\n",
       "      <th>16</th>\n",
       "      <td>2</td>\n",
       "      <td>67</td>\n",
       "      <td>4</td>\n",
       "    </tr>\n",
       "    <tr>\n",
       "      <th>17</th>\n",
       "      <td>1</td>\n",
       "      <td>114</td>\n",
       "      <td>4</td>\n",
       "    </tr>\n",
       "    <tr>\n",
       "      <th>18</th>\n",
       "      <td>2</td>\n",
       "      <td>222</td>\n",
       "      <td>7</td>\n",
       "    </tr>\n",
       "    <tr>\n",
       "      <th>19</th>\n",
       "      <td>2</td>\n",
       "      <td>421</td>\n",
       "      <td>4</td>\n",
       "    </tr>\n",
       "    <tr>\n",
       "      <th>20</th>\n",
       "      <td>2</td>\n",
       "      <td>134</td>\n",
       "      <td>4</td>\n",
       "    </tr>\n",
       "    <tr>\n",
       "      <th>21</th>\n",
       "      <td>2</td>\n",
       "      <td>238</td>\n",
       "      <td>4</td>\n",
       "    </tr>\n",
       "    <tr>\n",
       "      <th>22</th>\n",
       "      <td>2</td>\n",
       "      <td>96</td>\n",
       "      <td>4</td>\n",
       "    </tr>\n",
       "    <tr>\n",
       "      <th>23</th>\n",
       "      <td>1</td>\n",
       "      <td>122</td>\n",
       "      <td>12</td>\n",
       "    </tr>\n",
       "    <tr>\n",
       "      <th>24</th>\n",
       "      <td>2</td>\n",
       "      <td>498</td>\n",
       "      <td>4</td>\n",
       "    </tr>\n",
       "    <tr>\n",
       "      <th>25</th>\n",
       "      <td>2</td>\n",
       "      <td>41</td>\n",
       "      <td>4</td>\n",
       "    </tr>\n",
       "    <tr>\n",
       "      <th>26</th>\n",
       "      <td>2</td>\n",
       "      <td>67</td>\n",
       "      <td>4</td>\n",
       "    </tr>\n",
       "    <tr>\n",
       "      <th>27</th>\n",
       "      <td>2</td>\n",
       "      <td>19</td>\n",
       "      <td>4</td>\n",
       "    </tr>\n",
       "    <tr>\n",
       "      <th>28</th>\n",
       "      <td>2</td>\n",
       "      <td>78</td>\n",
       "      <td>12</td>\n",
       "    </tr>\n",
       "    <tr>\n",
       "      <th>29</th>\n",
       "      <td>1</td>\n",
       "      <td>412</td>\n",
       "      <td>4</td>\n",
       "    </tr>\n",
       "    <tr>\n",
       "      <th>...</th>\n",
       "      <td>...</td>\n",
       "      <td>...</td>\n",
       "      <td>...</td>\n",
       "    </tr>\n",
       "    <tr>\n",
       "      <th>51460</th>\n",
       "      <td>1</td>\n",
       "      <td>21</td>\n",
       "      <td>4</td>\n",
       "    </tr>\n",
       "    <tr>\n",
       "      <th>51461</th>\n",
       "      <td>1</td>\n",
       "      <td>12</td>\n",
       "      <td>4</td>\n",
       "    </tr>\n",
       "    <tr>\n",
       "      <th>51462</th>\n",
       "      <td>2</td>\n",
       "      <td>6</td>\n",
       "      <td>4</td>\n",
       "    </tr>\n",
       "    <tr>\n",
       "      <th>51463</th>\n",
       "      <td>1</td>\n",
       "      <td>201</td>\n",
       "      <td>7</td>\n",
       "    </tr>\n",
       "    <tr>\n",
       "      <th>51464</th>\n",
       "      <td>2</td>\n",
       "      <td>84</td>\n",
       "      <td>14</td>\n",
       "    </tr>\n",
       "    <tr>\n",
       "      <th>51465</th>\n",
       "      <td>1</td>\n",
       "      <td>23</td>\n",
       "      <td>11</td>\n",
       "    </tr>\n",
       "    <tr>\n",
       "      <th>51466</th>\n",
       "      <td>2</td>\n",
       "      <td>42</td>\n",
       "      <td>4</td>\n",
       "    </tr>\n",
       "    <tr>\n",
       "      <th>51467</th>\n",
       "      <td>2</td>\n",
       "      <td>202</td>\n",
       "      <td>4</td>\n",
       "    </tr>\n",
       "    <tr>\n",
       "      <th>51468</th>\n",
       "      <td>1</td>\n",
       "      <td>25</td>\n",
       "      <td>4</td>\n",
       "    </tr>\n",
       "    <tr>\n",
       "      <th>51469</th>\n",
       "      <td>1</td>\n",
       "      <td>15</td>\n",
       "      <td>4</td>\n",
       "    </tr>\n",
       "    <tr>\n",
       "      <th>51470</th>\n",
       "      <td>1</td>\n",
       "      <td>90</td>\n",
       "      <td>4</td>\n",
       "    </tr>\n",
       "    <tr>\n",
       "      <th>51471</th>\n",
       "      <td>1</td>\n",
       "      <td>134</td>\n",
       "      <td>4</td>\n",
       "    </tr>\n",
       "    <tr>\n",
       "      <th>51472</th>\n",
       "      <td>1</td>\n",
       "      <td>150</td>\n",
       "      <td>4</td>\n",
       "    </tr>\n",
       "    <tr>\n",
       "      <th>51473</th>\n",
       "      <td>2</td>\n",
       "      <td>96</td>\n",
       "      <td>7</td>\n",
       "    </tr>\n",
       "    <tr>\n",
       "      <th>51474</th>\n",
       "      <td>2</td>\n",
       "      <td>32</td>\n",
       "      <td>11</td>\n",
       "    </tr>\n",
       "    <tr>\n",
       "      <th>51475</th>\n",
       "      <td>2</td>\n",
       "      <td>62</td>\n",
       "      <td>11</td>\n",
       "    </tr>\n",
       "    <tr>\n",
       "      <th>51476</th>\n",
       "      <td>1</td>\n",
       "      <td>498</td>\n",
       "      <td>7</td>\n",
       "    </tr>\n",
       "    <tr>\n",
       "      <th>51477</th>\n",
       "      <td>2</td>\n",
       "      <td>74</td>\n",
       "      <td>12</td>\n",
       "    </tr>\n",
       "    <tr>\n",
       "      <th>51478</th>\n",
       "      <td>2</td>\n",
       "      <td>103</td>\n",
       "      <td>4</td>\n",
       "    </tr>\n",
       "    <tr>\n",
       "      <th>51479</th>\n",
       "      <td>1</td>\n",
       "      <td>222</td>\n",
       "      <td>4</td>\n",
       "    </tr>\n",
       "    <tr>\n",
       "      <th>51480</th>\n",
       "      <td>2</td>\n",
       "      <td>497</td>\n",
       "      <td>4</td>\n",
       "    </tr>\n",
       "    <tr>\n",
       "      <th>51481</th>\n",
       "      <td>1</td>\n",
       "      <td>28</td>\n",
       "      <td>4</td>\n",
       "    </tr>\n",
       "    <tr>\n",
       "      <th>51482</th>\n",
       "      <td>2</td>\n",
       "      <td>134</td>\n",
       "      <td>4</td>\n",
       "    </tr>\n",
       "    <tr>\n",
       "      <th>51483</th>\n",
       "      <td>2</td>\n",
       "      <td>91</td>\n",
       "      <td>14</td>\n",
       "    </tr>\n",
       "    <tr>\n",
       "      <th>51484</th>\n",
       "      <td>2</td>\n",
       "      <td>110</td>\n",
       "      <td>4</td>\n",
       "    </tr>\n",
       "    <tr>\n",
       "      <th>51485</th>\n",
       "      <td>2</td>\n",
       "      <td>19</td>\n",
       "      <td>12</td>\n",
       "    </tr>\n",
       "    <tr>\n",
       "      <th>51486</th>\n",
       "      <td>2</td>\n",
       "      <td>90</td>\n",
       "      <td>4</td>\n",
       "    </tr>\n",
       "    <tr>\n",
       "      <th>51487</th>\n",
       "      <td>2</td>\n",
       "      <td>141</td>\n",
       "      <td>11</td>\n",
       "    </tr>\n",
       "    <tr>\n",
       "      <th>51488</th>\n",
       "      <td>2</td>\n",
       "      <td>121</td>\n",
       "      <td>11</td>\n",
       "    </tr>\n",
       "    <tr>\n",
       "      <th>51489</th>\n",
       "      <td>1</td>\n",
       "      <td>89</td>\n",
       "      <td>3</td>\n",
       "    </tr>\n",
       "  </tbody>\n",
       "</table>\n",
       "<p>51490 rows × 3 columns</p>\n",
       "</div>"
      ],
      "text/plain": [
       "       winner  t1_champ1id  t1_champ1_sum1\n",
       "0           1            8              12\n",
       "1           1          119               7\n",
       "2           1           18               4\n",
       "3           1           57               4\n",
       "4           1           19               4\n",
       "5           1           40               3\n",
       "6           1           74               3\n",
       "7           1          150              12\n",
       "8           2          111              12\n",
       "9           2          427               4\n",
       "10          2           99               4\n",
       "11          1           22               7\n",
       "12          1           79               4\n",
       "13          1          143               3\n",
       "14          2           40               4\n",
       "15          1           23              12\n",
       "16          2           67               4\n",
       "17          1          114               4\n",
       "18          2          222               7\n",
       "19          2          421               4\n",
       "20          2          134               4\n",
       "21          2          238               4\n",
       "22          2           96               4\n",
       "23          1          122              12\n",
       "24          2          498               4\n",
       "25          2           41               4\n",
       "26          2           67               4\n",
       "27          2           19               4\n",
       "28          2           78              12\n",
       "29          1          412               4\n",
       "...       ...          ...             ...\n",
       "51460       1           21               4\n",
       "51461       1           12               4\n",
       "51462       2            6               4\n",
       "51463       1          201               7\n",
       "51464       2           84              14\n",
       "51465       1           23              11\n",
       "51466       2           42               4\n",
       "51467       2          202               4\n",
       "51468       1           25               4\n",
       "51469       1           15               4\n",
       "51470       1           90               4\n",
       "51471       1          134               4\n",
       "51472       1          150               4\n",
       "51473       2           96               7\n",
       "51474       2           32              11\n",
       "51475       2           62              11\n",
       "51476       1          498               7\n",
       "51477       2           74              12\n",
       "51478       2          103               4\n",
       "51479       1          222               4\n",
       "51480       2          497               4\n",
       "51481       1           28               4\n",
       "51482       2          134               4\n",
       "51483       2           91              14\n",
       "51484       2          110               4\n",
       "51485       2           19              12\n",
       "51486       2           90               4\n",
       "51487       2          141              11\n",
       "51488       2          121              11\n",
       "51489       1           89               3\n",
       "\n",
       "[51490 rows x 3 columns]"
      ]
     },
     "execution_count": 4,
     "metadata": {},
     "output_type": "execute_result"
    }
   ],
   "source": [
    "# As it can be seen the columns for the victorious team, the champions \n",
    "# and the summoner spells all show their respective IDs instead of their names\n",
    "df1[['winner','t1_champ1id','t1_champ1_sum1']]"
   ]
  },
  {
   "cell_type": "code",
   "execution_count": 5,
   "metadata": {},
   "outputs": [],
   "source": [
    "# Using a json file with the champions information in order to change \n",
    "# the id to the names in the main dataframe\n",
    "champsread = pd.read_json('champion_info_2.json')\n",
    "champs = pd.read_json((champsread['data']).to_json(), orient='index')\n",
    "# make index to id in order to facilitate the change of id to names\n",
    "champs.set_index(['id'], inplace=True)"
   ]
  },
  {
   "cell_type": "code",
   "execution_count": 6,
   "metadata": {},
   "outputs": [],
   "source": [
    "# list of the columns I want to change the id to the names of the champions \n",
    "Champions = ['t1_champ1id','t1_champ2id','t1_champ3id','t1_champ4id','t1_champ5id',\n",
    "             't2_champ1id','t2_champ2id','t2_champ3id','t2_champ4id','t2_champ5id']\n",
    "Bans = ['t1_ban1','t1_ban2','t1_ban3','t1_ban4','t1_ban5',\n",
    "             't2_ban1','t2_ban2','t2_ban3','t2_ban4','t2_ban5',]"
   ]
  },
  {
   "cell_type": "code",
   "execution_count": 7,
   "metadata": {},
   "outputs": [],
   "source": [
    "# defining a function to change champion ids into names\n",
    "def Champnames(ID, dictionary):\n",
    "    champion = dictionary['name'][ID]\n",
    "    return champion"
   ]
  },
  {
   "cell_type": "code",
   "execution_count": 8,
   "metadata": {},
   "outputs": [],
   "source": [
    " # call the Champnames function to change champions ids into names for the champion picks columns\n",
    "for n in Champions:\n",
    "    df1[n] = df1[n].apply(lambda x: Champnames(x, champs))"
   ]
  },
  {
   "cell_type": "code",
   "execution_count": 9,
   "metadata": {},
   "outputs": [],
   "source": [
    " # call the Champnames function to change champions ids into names for the champion bans columns\n",
    "for n in Bans:\n",
    "    df1[n] = df1[n].apply(lambda x: Champnames(x, champs)) "
   ]
  },
  {
   "cell_type": "code",
   "execution_count": 10,
   "metadata": {},
   "outputs": [],
   "source": [
    "# Using a json file with the summoner spells information in order to change the id to the names\n",
    "# in the main dataframe\n",
    "SSpellsread = pd.read_json('summoner_spell_info.json')\n",
    "SSpells= pd.read_json((SSpellsread['data']).to_json(),orient='index')"
   ]
  },
  {
   "cell_type": "code",
   "execution_count": 11,
   "metadata": {},
   "outputs": [],
   "source": [
    "#  list of the columns I want to change the id to the names of the summoner spells\n",
    "SumSpells = ['t1_champ1_sum1','t1_champ1_sum2','t1_champ2_sum1','t1_champ2_sum2','t1_champ3_sum1','t1_champ3_sum2',\n",
    "                 't1_champ4_sum1','t1_champ4_sum2','t1_champ5_sum1','t1_champ5_sum2','t2_champ1_sum1','t2_champ1_sum2',\n",
    "                 't2_champ2_sum1','t2_champ2_sum2','t2_champ3_sum1','t2_champ3_sum2','t2_champ4_sum1','t2_champ4_sum2',\n",
    "                 't2_champ5_sum1','t2_champ5_sum2']"
   ]
  },
  {
   "cell_type": "code",
   "execution_count": 12,
   "metadata": {},
   "outputs": [],
   "source": [
    "# Using Champnames to change the id of summoner spells into their names\n",
    "for n in SumSpells:\n",
    "    df1[n] = df1[n].apply(lambda x: Champnames(x, SSpells))"
   ]
  },
  {
   "cell_type": "code",
   "execution_count": 13,
   "metadata": {},
   "outputs": [],
   "source": [
    "# Change the numerical values corresponding to either team  to blue team \n",
    "# and red team (the actual names of the teams) for the given columns\n",
    "columnslist=['winner',\n",
    "       'firstBlood', 'firstTower', 'firstInhibitor', 'firstBaron',\n",
    "       'firstDragon', 'firstRiftHerald']\n",
    "for n in columnslist:\n",
    "    df1[n].replace(1, 'blue team',inplace=True)\n",
    "    df1[n].replace(2, 'red team',inplace=True)\n",
    "    df1[n].replace(0, 'no one',inplace=True)"
   ]
  },
  {
   "cell_type": "code",
   "execution_count": 14,
   "metadata": {},
   "outputs": [],
   "source": [
    "# delete unnecessary columns\n",
    "df1.drop(['creationTime',\"seasonId\"], axis = 1, inplace = True)"
   ]
  },
  {
   "cell_type": "code",
   "execution_count": 15,
   "metadata": {},
   "outputs": [],
   "source": [
    "#Renaming columns to more readable headers\n",
    "df1.columns= ['Game ID', 'Game Duration','Winner',\n",
    "       'First Blood', 'First Tower', 'First Inibitor', 'First Baron',\n",
    "       'First Dragon', 'First Rift Herald', 'Team 1 Champ 1', 'Team 1 Champ 1 Sum 1',\n",
    "       'Team 1 Champ 1 Sum 2', 'Team 1 Champ 2', 'Team 1 Champ 2 Sum 1', 'Team 1 Champ 2 Sum 2',\n",
    "       'Team 1 Champ 3', 'Team 1 Champ 3 Sum 1', 'Team 1 Champ 3 Sum 2', 'Team 1 Champ 4',\n",
    "       'Team 1 Champ 4 Sum 1', 'Team 1 Champ 4 Sum 2', 'Team 1 Champ 5', 'Team 1 Champ 5 Sum 1',\n",
    "       'Team 1 Champ 5 Sum 2', 'Team 1 Tower Kills', 'Team 1 Inhibitor Kills', 'Team 1 Baron Kills',\n",
    "       'Team 1 Dragon Kills', 'Team 1 Rift Herald Kills', 'Team 1 Ban 1', 'Team 1 Ban 2', 'Team 1 Ban 3',\n",
    "       'Team 1 Ban 4', 'Team 1 Ban 5', 'Team 2 Champ 1', 'Team 2 Champ 1 Sum 1',\n",
    "       'Team 2 Champ 1 Sum 2', 'Team 2 Champ 2', 'Team 2 Champ 2 Sum 1', 'Team 2 Champ 2 Sum 2',\n",
    "       'Team 2 Champ 3', 'Team 2 Champ 3 Sum 1', 'Team 2 Champ 3 Sum 2', 'Team 2 Champ 4',\n",
    "       'Team 2 Champ 4 Sum 1', 'Team 2 Champ 4 Sum 2', 'Team 2 Champ 5', 'Team 2 Champ 5 Sum 1',\n",
    "       'Team 2 Champ 5 Sum 2', 'Team 2 Tower Kills', 'Team 2 Inhibitor Kills', 'Team 2 Baron Kills',\n",
    "       'Team 2 Dragon Kills', 'Team 2 Rift Herald Kills', 'Team 2 Ban 1', 'Team 2 Ban 2', 'Team 2 Ban 3',\n",
    "       'Team 2 Ban 4', 'Team 2 Ban 5']"
   ]
  },
  {
   "cell_type": "markdown",
   "metadata": {},
   "source": [
    "# Analysing the data"
   ]
  },
  {
   "cell_type": "code",
   "execution_count": 16,
   "metadata": {},
   "outputs": [],
   "source": [
    "# mean of selected columns\n",
    "mean_Game_Duration=df1[\"Game Duration\"].mean()\n",
    "mean_Tower_Kills= (df1[\"Team 1 Tower Kills\"].mean() + df1[\"Team 2 Tower Kills\"].mean())/2\n",
    "mean_Inhibitor_Kills=(df1[\"Team 1 Inhibitor Kills\"].mean() + df1[\"Team 2 Inhibitor Kills\"].mean())/2\n",
    "mean_Baron_Kills=(df1[\"Team 1 Baron Kills\"].mean() + df1[\"Team 2 Baron Kills\"].mean())/2\n",
    "mean_Dragon_Kills=(df1[\"Team 1 Dragon Kills\"].mean() + df1[\"Team 1 Dragon Kills\"].mean())/2\n",
    "mean_Rift_Herald_Kills=(df1[\"Team 1 Rift Herald Kills\"].mean() + df1[\"Team 2 Rift Herald Kills\"].mean())/2"
   ]
  },
  {
   "cell_type": "code",
   "execution_count": 17,
   "metadata": {},
   "outputs": [
    {
     "data": {
      "text/plain": [
       "1832.3628083122937"
      ]
     },
     "execution_count": 17,
     "metadata": {},
     "output_type": "execute_result"
    }
   ],
   "source": [
    "mean_Game_Duration\n"
   ]
  },
  {
   "cell_type": "code",
   "execution_count": 18,
   "metadata": {},
   "outputs": [
    {
     "data": {
      "text/plain": [
       "5.6244125072829672"
      ]
     },
     "execution_count": 18,
     "metadata": {},
     "output_type": "execute_result"
    }
   ],
   "source": [
    "mean_Tower_Kills"
   ]
  },
  {
   "cell_type": "code",
   "execution_count": 19,
   "metadata": {},
   "outputs": [
    {
     "data": {
      "text/plain": [
       "1.0013109341619733"
      ]
     },
     "execution_count": 19,
     "metadata": {},
     "output_type": "execute_result"
    }
   ],
   "source": [
    "mean_Inhibitor_Kills"
   ]
  },
  {
   "cell_type": "code",
   "execution_count": 20,
   "metadata": {},
   "outputs": [
    {
     "data": {
      "text/plain": [
       "0.39341619731986793"
      ]
     },
     "execution_count": 20,
     "metadata": {},
     "output_type": "execute_result"
    }
   ],
   "source": [
    "mean_Baron_Kills"
   ]
  },
  {
   "cell_type": "code",
   "execution_count": 21,
   "metadata": {},
   "outputs": [
    {
     "data": {
      "text/plain": [
       "1.3871819770829288"
      ]
     },
     "execution_count": 21,
     "metadata": {},
     "output_type": "execute_result"
    }
   ],
   "source": [
    "mean_Dragon_Kills"
   ]
  },
  {
   "cell_type": "code",
   "execution_count": 22,
   "metadata": {},
   "outputs": [
    {
     "data": {
      "text/plain": [
       "0.24578558943484174"
      ]
     },
     "execution_count": 22,
     "metadata": {},
     "output_type": "execute_result"
    }
   ],
   "source": [
    "mean_Rift_Herald_Kills"
   ]
  },
  {
   "cell_type": "code",
   "execution_count": 23,
   "metadata": {},
   "outputs": [
    {
     "data": {
      "text/plain": [
       "blue team    26077\n",
       "red team     25413\n",
       "Name: Winner, dtype: int64"
      ]
     },
     "execution_count": 23,
     "metadata": {},
     "output_type": "execute_result"
    }
   ],
   "source": [
    "# Win loss ratio\n",
    "df1['Winner'].value_counts()"
   ]
  },
  {
   "cell_type": "code",
   "execution_count": 24,
   "metadata": {},
   "outputs": [
    {
     "data": {
      "image/png": "[encoded data removed]",
      "text/plain": [
       "<matplotlib.figure.Figure at 0x7f59d3626d30>"
      ]
     },
     "metadata": {},
     "output_type": "display_data"
    }
   ],
   "source": [
    "# Pie chart of win loss ratio\n",
    "labels = 'Blue Team', 'Red Team'\n",
    "sizes = [26077, 25413]\n",
    "explode = (0.1,0)\n",
    "\n",
    "fig1, ax1 = plt.subplots()\n",
    "ax1.pie(sizes, explode=explode, labels=labels, autopct='%1.1f%%',\n",
    "        shadow=True, startangle=90)\n",
    "ax1.axis('equal')\n",
    "plt.show()"
   ]
  },
  {
   "cell_type": "code",
   "execution_count": 25,
   "metadata": {},
   "outputs": [],
   "source": [
    "#list of champion picks\n",
    "Pickslist = pd.concat([df1['Team 1 Champ 1'],df1['Team 1 Champ 2'],df1['Team 1 Champ 3'],df1['Team 1 Champ 3'],df1['Team 1 Champ 2'],\n",
    "                     df1['Team 2 Champ 1'],df1['Team 2 Champ 2'],df1['Team 2 Champ 3'],df1['Team 2 Champ 4'],df1['Team 2 Champ 5']],\n",
    "                     ignore_index=True)"
   ]
  },
  {
   "cell_type": "code",
   "execution_count": 26,
   "metadata": {},
   "outputs": [],
   "source": [
    "#list of champion bans\n",
    "Banslist = pd.concat([df1['Team 1 Ban 1'],df1['Team 1 Ban 2'],df1['Team 1 Ban 3'],df1['Team 1 Ban 4'],df1['Team 1 Ban 5'],\n",
    "                     df1['Team 2 Ban 1'],df1['Team 2 Ban 2'],df1['Team 2 Ban 3'],df1['Team 2 Ban 4'],df1['Team 2 Ban 5']],\n",
    "                     ignore_index=True)"
   ]
  },
  {
   "cell_type": "code",
   "execution_count": 27,
   "metadata": {},
   "outputs": [],
   "source": [
    "# Most common Champions bar graph\n",
    "sns.countplot(y=Pickslist, data=df1, ax=ax1)\n",
    "ax1.set_title('Most Common Champion Picks')\n",
    "plt.show()\n"
   ]
  },
  {
   "cell_type": "code",
   "execution_count": 28,
   "metadata": {},
   "outputs": [
    {
     "data": {
      "image/png": "[encoded data removed]",
      "text/plain": [
       "<matplotlib.figure.Figure at 0x7f59d0878c88>"
      ]
     },
     "metadata": {},
     "output_type": "display_data"
    }
   ],
   "source": [
    "# Most common Champions picks and bans bar graph\n",
    "fig, (ax1, ax2) = plt.subplots(ncols=2,sharey=False,figsize=(13,25))\n",
    "sns.countplot(y=Pickslist, data=df1, ax=ax1)\n",
    "ax1.set_title('Most Common Champion Picks')\n",
    "sns.countplot(y=Banslist, data=df1, ax=ax2)\n",
    "ax2.set_title('Most Common Champion Bans')\n",
    "plt.show()"
   ]
  },
  {
   "cell_type": "code",
   "execution_count": 29,
   "metadata": {},
   "outputs": [],
   "source": [
    "# list of sum spells Columns\n",
    "SumSpellsColumns=['Team 1 Champ 1 Sum 1','Team 1 Champ 1 Sum 2','Team 1 Champ 2 Sum 1','Team 1 Champ 2 Sum 2'\n",
    "                  ,'Team 1 Champ 3 Sum 1','Team 1 Champ 3 Sum 2','Team 1 Champ 4 Sum 1','Team 1 Champ 4 Sum 2'\n",
    "                 , 'Team 1 Champ 5 Sum 1','Team 1 Champ 5 Sum 2','Team 2 Champ 1 Sum 1','Team 2 Champ 1 Sum 2'\n",
    "                 , 'Team 2 Champ 2 Sum 1','Team 2 Champ 2 Sum 2','Team 2 Champ 3 Sum 1','Team 2 Champ 3 Sum 2'\n",
    "                  ,'Team 2 Champ 4 Sum 1','Team 2 Champ 4 Sum 2','Team 2 Champ 5 Sum 1','Team 2 Champ 5 Sum 2']"
   ]
  },
  {
   "cell_type": "code",
   "execution_count": 30,
   "metadata": {},
   "outputs": [
    {
     "data": {
      "text/html": [
       "<div>\n",
       "<style scoped>\n",
       "    .dataframe tbody tr th:only-of-type {\n",
       "        vertical-align: middle;\n",
       "    }\n",
       "\n",
       "    .dataframe tbody tr th {\n",
       "        vertical-align: top;\n",
       "    }\n",
       "\n",
       "    .dataframe thead th {\n",
       "        text-align: right;\n",
       "    }\n",
       "</style>\n",
       "<table border=\"1\" class=\"dataframe\">\n",
       "  <thead>\n",
       "    <tr style=\"text-align: right;\">\n",
       "      <th></th>\n",
       "      <th>Team 1 Champ 1 Sum 1</th>\n",
       "      <th>Team 1 Champ 1 Sum 2</th>\n",
       "      <th>Team 1 Champ 2 Sum 1</th>\n",
       "      <th>Team 1 Champ 2 Sum 2</th>\n",
       "      <th>Team 1 Champ 3 Sum 1</th>\n",
       "      <th>Team 1 Champ 3 Sum 2</th>\n",
       "      <th>Team 1 Champ 4 Sum 1</th>\n",
       "      <th>Team 1 Champ 4 Sum 2</th>\n",
       "      <th>Team 1 Champ 5 Sum 1</th>\n",
       "      <th>Team 1 Champ 5 Sum 2</th>\n",
       "      <th>...</th>\n",
       "      <th>Team 2 Champ 1 Sum 2</th>\n",
       "      <th>Team 2 Champ 2 Sum 1</th>\n",
       "      <th>Team 2 Champ 2 Sum 2</th>\n",
       "      <th>Team 2 Champ 3 Sum 1</th>\n",
       "      <th>Team 2 Champ 3 Sum 2</th>\n",
       "      <th>Team 2 Champ 4 Sum 1</th>\n",
       "      <th>Team 2 Champ 4 Sum 2</th>\n",
       "      <th>Team 2 Champ 5 Sum 1</th>\n",
       "      <th>Team 2 Champ 5 Sum 2</th>\n",
       "      <th>count</th>\n",
       "    </tr>\n",
       "  </thead>\n",
       "  <tbody>\n",
       "    <tr>\n",
       "      <th>Barrier</th>\n",
       "      <td>702</td>\n",
       "      <td>890</td>\n",
       "      <td>649</td>\n",
       "      <td>814</td>\n",
       "      <td>620</td>\n",
       "      <td>852</td>\n",
       "      <td>630</td>\n",
       "      <td>834</td>\n",
       "      <td>648</td>\n",
       "      <td>814</td>\n",
       "      <td>...</td>\n",
       "      <td>881</td>\n",
       "      <td>637</td>\n",
       "      <td>887</td>\n",
       "      <td>617</td>\n",
       "      <td>823</td>\n",
       "      <td>634</td>\n",
       "      <td>838</td>\n",
       "      <td>625</td>\n",
       "      <td>804</td>\n",
       "      <td>14880</td>\n",
       "    </tr>\n",
       "    <tr>\n",
       "      <th>Cleanse</th>\n",
       "      <td>160</td>\n",
       "      <td>199</td>\n",
       "      <td>151</td>\n",
       "      <td>153</td>\n",
       "      <td>135</td>\n",
       "      <td>168</td>\n",
       "      <td>136</td>\n",
       "      <td>134</td>\n",
       "      <td>125</td>\n",
       "      <td>182</td>\n",
       "      <td>...</td>\n",
       "      <td>190</td>\n",
       "      <td>129</td>\n",
       "      <td>159</td>\n",
       "      <td>136</td>\n",
       "      <td>182</td>\n",
       "      <td>154</td>\n",
       "      <td>181</td>\n",
       "      <td>149</td>\n",
       "      <td>184</td>\n",
       "      <td>3154</td>\n",
       "    </tr>\n",
       "    <tr>\n",
       "      <th>Exhaust</th>\n",
       "      <td>3640</td>\n",
       "      <td>4394</td>\n",
       "      <td>3904</td>\n",
       "      <td>4614</td>\n",
       "      <td>3928</td>\n",
       "      <td>4738</td>\n",
       "      <td>3992</td>\n",
       "      <td>4723</td>\n",
       "      <td>3763</td>\n",
       "      <td>4557</td>\n",
       "      <td>...</td>\n",
       "      <td>4459</td>\n",
       "      <td>3912</td>\n",
       "      <td>4596</td>\n",
       "      <td>3928</td>\n",
       "      <td>4704</td>\n",
       "      <td>3855</td>\n",
       "      <td>4717</td>\n",
       "      <td>3885</td>\n",
       "      <td>4511</td>\n",
       "      <td>84576</td>\n",
       "    </tr>\n",
       "    <tr>\n",
       "      <th>Flash</th>\n",
       "      <td>28164</td>\n",
       "      <td>22216</td>\n",
       "      <td>27998</td>\n",
       "      <td>22490</td>\n",
       "      <td>28019</td>\n",
       "      <td>22397</td>\n",
       "      <td>27988</td>\n",
       "      <td>22393</td>\n",
       "      <td>27966</td>\n",
       "      <td>22377</td>\n",
       "      <td>...</td>\n",
       "      <td>22204</td>\n",
       "      <td>28037</td>\n",
       "      <td>22427</td>\n",
       "      <td>28170</td>\n",
       "      <td>22255</td>\n",
       "      <td>28089</td>\n",
       "      <td>22322</td>\n",
       "      <td>27838</td>\n",
       "      <td>22589</td>\n",
       "      <td>504121</td>\n",
       "    </tr>\n",
       "    <tr>\n",
       "      <th>Ghost</th>\n",
       "      <td>744</td>\n",
       "      <td>798</td>\n",
       "      <td>678</td>\n",
       "      <td>706</td>\n",
       "      <td>647</td>\n",
       "      <td>750</td>\n",
       "      <td>664</td>\n",
       "      <td>689</td>\n",
       "      <td>720</td>\n",
       "      <td>800</td>\n",
       "      <td>...</td>\n",
       "      <td>761</td>\n",
       "      <td>715</td>\n",
       "      <td>706</td>\n",
       "      <td>690</td>\n",
       "      <td>712</td>\n",
       "      <td>672</td>\n",
       "      <td>737</td>\n",
       "      <td>665</td>\n",
       "      <td>711</td>\n",
       "      <td>14305</td>\n",
       "    </tr>\n",
       "    <tr>\n",
       "      <th>Heal</th>\n",
       "      <td>4581</td>\n",
       "      <td>5758</td>\n",
       "      <td>4922</td>\n",
       "      <td>6309</td>\n",
       "      <td>4902</td>\n",
       "      <td>6180</td>\n",
       "      <td>4971</td>\n",
       "      <td>6136</td>\n",
       "      <td>4500</td>\n",
       "      <td>5826</td>\n",
       "      <td>...</td>\n",
       "      <td>5934</td>\n",
       "      <td>4854</td>\n",
       "      <td>6197</td>\n",
       "      <td>4834</td>\n",
       "      <td>6173</td>\n",
       "      <td>4896</td>\n",
       "      <td>6276</td>\n",
       "      <td>4571</td>\n",
       "      <td>5746</td>\n",
       "      <td>108043</td>\n",
       "    </tr>\n",
       "    <tr>\n",
       "      <th>Ignite</th>\n",
       "      <td>3820</td>\n",
       "      <td>5205</td>\n",
       "      <td>3832</td>\n",
       "      <td>4930</td>\n",
       "      <td>3786</td>\n",
       "      <td>4894</td>\n",
       "      <td>3777</td>\n",
       "      <td>4982</td>\n",
       "      <td>3917</td>\n",
       "      <td>5093</td>\n",
       "      <td>...</td>\n",
       "      <td>5047</td>\n",
       "      <td>3823</td>\n",
       "      <td>4875</td>\n",
       "      <td>3758</td>\n",
       "      <td>4980</td>\n",
       "      <td>3715</td>\n",
       "      <td>4899</td>\n",
       "      <td>3956</td>\n",
       "      <td>5032</td>\n",
       "      <td>88258</td>\n",
       "    </tr>\n",
       "    <tr>\n",
       "      <th>Smite</th>\n",
       "      <td>4711</td>\n",
       "      <td>5635</td>\n",
       "      <td>4780</td>\n",
       "      <td>5520</td>\n",
       "      <td>4789</td>\n",
       "      <td>5511</td>\n",
       "      <td>4681</td>\n",
       "      <td>5579</td>\n",
       "      <td>4768</td>\n",
       "      <td>5550</td>\n",
       "      <td>...</td>\n",
       "      <td>5656</td>\n",
       "      <td>4690</td>\n",
       "      <td>5558</td>\n",
       "      <td>4621</td>\n",
       "      <td>5594</td>\n",
       "      <td>4894</td>\n",
       "      <td>5594</td>\n",
       "      <td>4777</td>\n",
       "      <td>5563</td>\n",
       "      <td>103062</td>\n",
       "    </tr>\n",
       "    <tr>\n",
       "      <th>Teleport</th>\n",
       "      <td>4968</td>\n",
       "      <td>6395</td>\n",
       "      <td>4576</td>\n",
       "      <td>5954</td>\n",
       "      <td>4664</td>\n",
       "      <td>6000</td>\n",
       "      <td>4651</td>\n",
       "      <td>6020</td>\n",
       "      <td>5083</td>\n",
       "      <td>6291</td>\n",
       "      <td>...</td>\n",
       "      <td>6358</td>\n",
       "      <td>4693</td>\n",
       "      <td>6085</td>\n",
       "      <td>4736</td>\n",
       "      <td>6067</td>\n",
       "      <td>4581</td>\n",
       "      <td>5926</td>\n",
       "      <td>5024</td>\n",
       "      <td>6350</td>\n",
       "      <td>109401</td>\n",
       "    </tr>\n",
       "  </tbody>\n",
       "</table>\n",
       "<p>9 rows × 21 columns</p>\n",
       "</div>"
      ],
      "text/plain": [
       "          Team 1 Champ 1 Sum 1  Team 1 Champ 1 Sum 2  Team 1 Champ 2 Sum 1  \\\n",
       "Barrier                    702                   890                   649   \n",
       "Cleanse                    160                   199                   151   \n",
       "Exhaust                   3640                  4394                  3904   \n",
       "Flash                    28164                 22216                 27998   \n",
       "Ghost                      744                   798                   678   \n",
       "Heal                      4581                  5758                  4922   \n",
       "Ignite                    3820                  5205                  3832   \n",
       "Smite                     4711                  5635                  4780   \n",
       "Teleport                  4968                  6395                  4576   \n",
       "\n",
       "          Team 1 Champ 2 Sum 2  Team 1 Champ 3 Sum 1  Team 1 Champ 3 Sum 2  \\\n",
       "Barrier                    814                   620                   852   \n",
       "Cleanse                    153                   135                   168   \n",
       "Exhaust                   4614                  3928                  4738   \n",
       "Flash                    22490                 28019                 22397   \n",
       "Ghost                      706                   647                   750   \n",
       "Heal                      6309                  4902                  6180   \n",
       "Ignite                    4930                  3786                  4894   \n",
       "Smite                     5520                  4789                  5511   \n",
       "Teleport                  5954                  4664                  6000   \n",
       "\n",
       "          Team 1 Champ 4 Sum 1  Team 1 Champ 4 Sum 2  Team 1 Champ 5 Sum 1  \\\n",
       "Barrier                    630                   834                   648   \n",
       "Cleanse                    136                   134                   125   \n",
       "Exhaust                   3992                  4723                  3763   \n",
       "Flash                    27988                 22393                 27966   \n",
       "Ghost                      664                   689                   720   \n",
       "Heal                      4971                  6136                  4500   \n",
       "Ignite                    3777                  4982                  3917   \n",
       "Smite                     4681                  5579                  4768   \n",
       "Teleport                  4651                  6020                  5083   \n",
       "\n",
       "          Team 1 Champ 5 Sum 2   ...    Team 2 Champ 1 Sum 2  \\\n",
       "Barrier                    814   ...                     881   \n",
       "Cleanse                    182   ...                     190   \n",
       "Exhaust                   4557   ...                    4459   \n",
       "Flash                    22377   ...                   22204   \n",
       "Ghost                      800   ...                     761   \n",
       "Heal                      5826   ...                    5934   \n",
       "Ignite                    5093   ...                    5047   \n",
       "Smite                     5550   ...                    5656   \n",
       "Teleport                  6291   ...                    6358   \n",
       "\n",
       "          Team 2 Champ 2 Sum 1  Team 2 Champ 2 Sum 2  Team 2 Champ 3 Sum 1  \\\n",
       "Barrier                    637                   887                   617   \n",
       "Cleanse                    129                   159                   136   \n",
       "Exhaust                   3912                  4596                  3928   \n",
       "Flash                    28037                 22427                 28170   \n",
       "Ghost                      715                   706                   690   \n",
       "Heal                      4854                  6197                  4834   \n",
       "Ignite                    3823                  4875                  3758   \n",
       "Smite                     4690                  5558                  4621   \n",
       "Teleport                  4693                  6085                  4736   \n",
       "\n",
       "          Team 2 Champ 3 Sum 2  Team 2 Champ 4 Sum 1  Team 2 Champ 4 Sum 2  \\\n",
       "Barrier                    823                   634                   838   \n",
       "Cleanse                    182                   154                   181   \n",
       "Exhaust                   4704                  3855                  4717   \n",
       "Flash                    22255                 28089                 22322   \n",
       "Ghost                      712                   672                   737   \n",
       "Heal                      6173                  4896                  6276   \n",
       "Ignite                    4980                  3715                  4899   \n",
       "Smite                     5594                  4894                  5594   \n",
       "Teleport                  6067                  4581                  5926   \n",
       "\n",
       "          Team 2 Champ 5 Sum 1  Team 2 Champ 5 Sum 2   count  \n",
       "Barrier                    625                   804   14880  \n",
       "Cleanse                    149                   184    3154  \n",
       "Exhaust                   3885                  4511   84576  \n",
       "Flash                    27838                 22589  504121  \n",
       "Ghost                      665                   711   14305  \n",
       "Heal                      4571                  5746  108043  \n",
       "Ignite                    3956                  5032   88258  \n",
       "Smite                     4777                  5563  103062  \n",
       "Teleport                  5024                  6350  109401  \n",
       "\n",
       "[9 rows x 21 columns]"
      ]
     },
     "execution_count": 30,
     "metadata": {},
     "output_type": "execute_result"
    }
   ],
   "source": [
    "# Most common Summoner Spells\n",
    "AllSumSpells = df1[SumSpellsColumns].apply(pd.value_counts)\n",
    "AllSumSpells['count'] = AllSumSpells[SumSpellsColumns].sum(axis=1)\n",
    "AllSumSpells"
   ]
  },
  {
   "cell_type": "code",
   "execution_count": 31,
   "metadata": {},
   "outputs": [
    {
     "data": {
      "image/png": "[encoded data removed]",
      "text/plain": [
       "<matplotlib.figure.Figure at 0x7f59d07b4748>"
      ]
     },
     "metadata": {},
     "output_type": "display_data"
    }
   ],
   "source": [
    "# Bar graph of summoner spells\n",
    "sns.barplot(x=AllSumSpells.index,y=AllSumSpells['count'])\n",
    "plt.show()"
   ]
  },
  {
   "cell_type": "code",
   "execution_count": 32,
   "metadata": {},
   "outputs": [
    {
     "name": "stdout",
     "output_type": "stream",
     "text": [
      "[32, 30, 24, 29, 34, 34, 33, 22, 23, 44, 23, 27, 34, 32, 39, 28, 39, 33, 25, 31, 33, 32, 25, 29, 36, 36, 41, 22, 38, 31, 26, 27, 31, 41, 40, 24, 25, 35, 34, 22, 38, 22, 30, 15, 36, 33, 34, 24, 38, 37, 42, 17, 21, 30, 28, 31, 23, 28, 27, 32, 30, 17, 27, 36, 3, 21, 41, 37, 28, 28, 27, 36, 26, 27, 35, 21, 43, 16, 48, 34, 34, 28, 3, 32, 24, 20, 29, 21, 36, 24, 25, 35, 34, 35, 33, 43, 29, 25, 20, 31, 28, 37, 26, 31, 38, 39, 30, 28, 43, 32, 20, 29, 19, 27, 29, 31, 21, 25, 54, 3, 15, 25, 22, 31, 15, 47, 37, 35, 22, 22, 31, 38, 23, 36, 22, 23, 27, 22, 41, 22, 35, 38, 29, 51, 15, 39, 19, 37, 45, 3, 27, 32, 28, 27, 36, 22, 29, 42, 26, 21, 37, 27, 23, 26, 24, 38, 25, 33, 39, 15, 34, 32, 26, 34, 29, 28, 20, 30, 26, 25, 22, 26, 39, 35, 55, 32, 42, 28, 41, 32, 35, 28, 31, 48, 35, 34, 27, 35, 29, 30, 23, 26, 21, 38, 34, 31, 38, 18, 50, 28, 20, 41, 33, 31, 44, 29, 44, 38, 25, 22, 41, 38, 23, 26, 38, 27, 28, 27, 24, 22, 30, 34, 42, 29, 29, 29, 32, 24, 31, 43, 28, 42, 29, 25, 22, 24, 25, 37, 23, 37, 36, 21, 35, 31, 34, 33, 32, 43, 25, 30, 22, 35, 32, 28, 47, 28, 52, 40, 20, 25, 30, 37, 43, 30, 30, 29, 3, 30, 20, 29, 29, 28, 26, 35, 26, 29, 37, 19, 42, 36, 34, 29, 36, 36, 20, 33, 36, 29, 34, 27, 37, 30, 26, 39, 33, 25, 28, 35, 27, 42, 24, 59, 35, 31, 34, 49, 44, 26, 27, 24, 23, 19, 24, 29, 30, 24, 38, 36, 17, 34, 21, 25, 24, 42, 33, 28, 22, 16, 28, 33, 34, 36, 44, 21, 23, 33, 37, 22, 33, 30, 28, 28, 30, 25, 25, 42, 43, 39, 29, 22, 27, 34, 46, 26, 25, 32, 33, 27, 3, 22, 29, 28, 33, 31, 38, 25, 40, 3, 61, 33, 39, 35, 34, 32, 41, 33, 35, 31, 25, 26, 31, 44, 18, 35, 28, 41, 30, 28, 32, 33, 41, 32, 30, 24, 35, 20, 23, 21, 38, 27, 33, 30, 22, 47, 40, 24, 35, 36, 25, 34, 22, 28, 32, 27, 27, 20, 29, 33, 27, 49, 35, 33, 33, 37, 20, 33, 20, 24, 38, 22, 18, 21, 34, 35, 38, 27, 46, 34, 32, 18, 20, 3, 26, 26, 32, 25, 39, 28, 24, 43, 40, 27, 31, 37, 38, 35, 37, 3, 32, 41, 34, 29, 36, 3, 28, 42, 36, 36, 39, 33, 24, 25, 24, 31, 42, 24, 19, 33, 23, 34, 48, 32, 26, 34, 39, 28, 25, 33, 16, 15, 29, 38, 31, 34, 39, 23, 34, 37, 24, 26, 26, 3, 32, 33, 27, 32, 30, 29, 28, 30, 31, 26, 23, 36, 3, 34, 34, 29, 20, 21, 33, 28, 38, 29, 31, 34, 15, 27, 20, 41, 31, 35, 35, 21, 40, 23, 31, 22, 18, 40, 32, 30, 31, 30, 27, 43, 24, 30, 27, 22, 23, 20, 25, 28, 27, 43, 24, 26, 34, 22, 33, 25, 28, 23, 23, 30, 15, 37, 25, 31, 37, 28, 40, 35, 44, 25, 27, 33, 35, 43, 38, 30, 34, 24, 29, 34, 31, 30, 23, 35, 36, 43, 33, 30, 29, 31, 28, 15, 25, 41, 26, 22, 26, 28, 27, 30, 35, 52, 28, 23, 38, 36, 25, 36, 20, 19, 51, 20, 30, 33, 31, 28, 28, 22, 24, 40, 48, 25, 37, 26, 31, 21, 34, 30, 29, 22, 36, 31, 25, 20, 30, 34, 32, 44, 27, 47, 38, 24, 28, 18, 26, 35, 59, 28, 37, 24, 34, 29, 17, 28, 28, 32, 39, 37, 3, 42, 42, 34, 33, 36, 36, 25, 33, 30, 26, 19, 16, 37, 40, 22, 15, 31, 41, 31, 37, 31, 39, 25, 29, 21, 17, 40, 22, 28, 36, 40, 21, 29, 21, 20, 33, 29, 25, 30, 34, 33, 22, 29, 35, 29, 26, 26, 33, 35, 20, 48, 3, 3, 3, 32, 19, 21, 37, 31, 29, 41, 24, 33, 20, 28, 30, 28, 29, 22, 39, 34, 38, 35, 26, 30, 49, 21, 29, 41, 31, 33, 45, 38, 27, 29, 30, 26, 37, 37, 28, 17, 22, 39, 34, 3, 30, 36, 22, 23, 24, 37, 25, 38, 26, 34, 31, 29, 28, 33, 22, 43, 32, 30, 40, 17, 37, 24, 29, 33, 40, 35, 30, 22, 37, 38, 30, 28, 31, 29, 27, 29, 34, 27, 32, 3, 29, 37, 39, 26, 16, 36, 3, 40, 29, 24, 37, 42, 21, 24, 20, 42, 21, 29, 28, 25, 48, 27, 25, 41, 34, 33, 29, 27, 43, 3, 23, 38, 29, 27, 27, 33, 32, 28, 40, 38, 43, 47, 47, 27, 25, 26, 22, 27, 28, 34, 28, 33, 3, 31, 27, 39, 21, 3, 25, 40, 29, 37, 24, 29, 36, 27, 26, 36, 28, 27, 21, 32, 33, 39, 27, 31, 30, 37, 36, 36, 38, 44, 34, 34, 18, 24, 37, 26, 28, 29, 39, 30, 29, 23, 27, 20, 22, 21, 20, 13, 36, 44, 30, 15, 29, 34, 46, 15, 26, 27, 31, 21, 25, 34, 25, 24, 35, 44, 38, 15, 39, 33, 27, 19, 30, 38, 40, 31, 42, 49, 41, 32, 36, 35, 30, 28, 26, 19, 22, 21, 25, 3, 43, 34, 29, 25, 28, 37, 18, 29, 29, 3, 25, 31, 49, 22, 30, 20, 37, 41, 22, 26, 31, 28, 23, 39, 35, 30, 27, 27, 25, 31, 24, 32, 33, 27, 28, 15, 36, 20, 26, 22, 37, 23, 33, 28, 20, 26, 34, 38, 21, 22, 17, 27, 32, 26, 21, 26, 42, 29, 3, 29, 39, 26, 29, 31, 27, 36, 22, 43, 24, 27, 28, 34, 31, 3, 30, 40, 31, 35, 41, 33, 21, 31, 34, 27, 22, 56, 34, 32, 41, 37, 53, 50, 29, 26, 21, 18, 39, 30, 29, 41, 36, 40, 20, 34, 21, 31, 39, 32, 39, 32, 32, 23, 29, 35, 16, 40, 31, 20, 23, 46, 29, 42, 30, 26, 46, 32, 26, 37, 22, 41, 49, 39, 25, 38, 21, 15, 31, 34, 20, 46, 39, 20, 38, 31, 17, 25, 35, 12, 30, 34, 32, 32, 3, 16, 38, 49, 40, 33, 22, 21, 33, 31, 46, 34, 43, 25, 32, 36, 34, 34, 37, 24, 20, 17, 41, 24, 34, 41, 31, 22, 23, 36, 24, 21, 22, 31, 48, 27, 47, 31, 39, 20, 30, 40, 33, 46, 40, 28, 15, 24, 31, 30, 33, 37, 31, 50, 22, 22, 31, 26, 28, 21, 24, 25, 27, 20, 33, 26, 22, 37, 32, 21, 20, 22, 30, 30, 24, 43, 23, 27, 31, 35, 40, 30, 25, 28, 49, 32, 37, 41, 32, 24, 56, 22, 29, 39, 37, 27, 38, 39, 27, 38, 25, 32, 39, 25, 28, 20, 25, 32, 31, 34, 45, 42, 3, 33, 37, 39, 43, 26, 26, 38, 45, 41, 43, 40, 31, 44, 23, 25, 29, 34, 27, 41, 39, 34, 39, 28, 24, 3, 39, 16, 37, 29, 41, 33, 33, 21, 3, 33, 35, 23, 33, 29, 31, 26, 31, 25, 41, 21, 36, 39, 41, 31, 26, 30, 46, 26, 40, 36, 20, 37, 26, 35, 36, 34, 37, 25, 35, 22, 28, 27, 39, 37, 30, 36, 35, 16, 34, 35, 28, 34, 21, 18, 19, 23, 34, 35, 23, 33, 20, 40, 33, 16, 25, 30, 36, 33, 20, 34, 23, 31, 35, 28, 34, 33, 26, 25, 32, 25, 38, 43, 44, 30, 23, 46, 32, 42, 27, 29, 25, 24, 31, 30, 30, 30, 15, 33, 52, 33, 16, 33, 44, 14, 28, 3, 26, 33, 28, 37, 28, 24, 31, 28, 37, 37, 28, 45, 28, 41, 27, 20, 31, 40, 36, 30, 36, 32, 31, 44, 24, 26, 34, 29, 39, 37, 27, 18, 31, 20, 30, 39, 18, 36, 28, 28, 40, 35, 29, 38, 21, 41, 30, 27, 23, 39, 25, 31, 26, 25, 38, 21, 33, 45, 24, 31, 33, 41, 40, 29, 39, 35, 24, 34, 26, 24, 22, 20, 26, 21, 21, 30, 31, 29, 34, 49, 15, 42, 27, 34, 33, 19, 21, 29, 31, 26, 33, 26, 34, 16, 60, 36, 19, 53, 34, 28, 37, 31, 31, 20, 3, 36, 25, 39, 30, 29, 40, 27, 22, 23, 35, 29, 37, 38, 31, 27, 29, 24, 23, 32, 40, 29, 29, 34, 19, 27, 37, 33, 25, 24, 28, 38, 42, 27, 38, 40, 45, 22, 47, 31, 35, 23, 33, 28, 46, 28, 36, 40, 26, 21, 33, 31, 26, 30, 28, 35, 28, 38, 31, 24, 39, 26, 30, 39, 25, 26, 37, 30, 37, 24, 28, 24, 33, 31, 46, 30, 35, 23, 32, 24, 38, 25, 23, 30, 36, 27, 26, 28, 48, 21, 30, 37, 3, 38, 18, 28, 40, 22, 65, 25, 30, 37, 20, 31, 3, 44, 35, 23, 31, 31, 3, 21, 24, 31, 29, 39, 19, 40, 40, 29, 34, 37, 18, 25, 19, 21, 37, 36, 33, 31, 31, 31, 37, 27, 37, 23, 41, 37, 36, 32, 24, 35, 21, 3, 33, 25, 31, 32, 36, 15, 25, 31, 37, 23, 20, 31, 34, 29, 18, 43, 31, 26, 32, 42, 32, 31, 37, 36, 33, 38, 17, 26, 42, 27, 27, 36, 24, 28, 22, 38, 36, 27, 39, 39, 28, 29, 29, 27, 31, 31, 23, 40, 17, 34, 30, 21, 19, 28, 26, 32, 34, 42, 23, 20, 27, 40, 23, 3, 31, 38, 25, 23, 26, 27, 30, 35, 15, 28, 27, 29, 36, 25, 33, 43, 35, 25, 26, 25, 25, 29, 27, 33, 36, 26, 24, 23, 24, 35, 18, 24, 31, 21, 18, 22, 30, 20, 30, 22, 23, 28, 41, 33, 36, 35, 37, 24, 32, 23, 30, 34, 3, 18, 41, 23, 41, 15, 23, 33, 25, 20, 24, 35, 16, 22, 44, 27, 27, 33, 25, 28, 31, 41, 29, 29, 31, 29, 3, 35, 36, 33, 21, 37, 28, 41, 30, 25, 36, 24, 45, 33, 34, 35, 27, 33, 32, 32, 15, 30, 22, 27, 41, 15, 44, 3, 34, 41, 31, 20, 41, 25, 22, 24, 39, 23, 18, 24, 35, 3, 45, 29, 27, 48, 34, 39, 38, 39, 39, 37, 28, 25, 24, 31, 28, 28, 33, 33, 44, 28, 37, 21, 24, 22, 40, 42, 26, 38, 15, 18, 34, 29, 38, 37, 25, 36, 21, 43, 29, 47, 39, 41, 21, 37, 33, 33, 35, 23, 22, 50, 15, 28, 26, 32, 27, 22, 34, 29, 25, 25, 33, 30, 24, 26, 33, 46, 33, 25, 32, 37, 33, 40, 30, 23, 24, 25, 44, 37, 25, 23, 22, 21, 22, 38, 34, 15, 42, 28, 21, 38, 52, 19, 30, 28, 32, 22, 49, 25, 27, 31, 27, 46, 3, 27, 24, 38, 3, 26, 39, 33, 10, 51, 30, 47, 37, 35, 40, 35, 29, 21, 31, 34, 31, 35, 30, 30, 32, 31, 33, 31, 36, 28, 30, 34, 40, 35, 36, 36, 30, 26, 31, 27, 33, 30, 39, 30, 31, 31, 28, 36, 26, 39, 28, 31, 43, 40, 32, 30, 20, 34, 34, 32, 38, 27, 16, 35, 3, 30, 30, 26, 34, 28, 33, 24, 18, 35, 21, 36, 43, 21, 3, 33, 3, 31, 22, 32, 41, 26, 15, 30, 21, 38, 33, 31, 26, 30, 3, 36, 27, 21, 40, 26, 32, 25, 35, 3, 40, 32, 35, 25, 44, 31, 28, 40, 32, 30, 35, 3, 33, 3, 27, 47, 28, 24, 44, 21, 28, 35, 36, 48, 19, 27, 25, 28, 22, 45, 33, 45, 25, 39, 24, 42, 36, 26, 30, 39, 37, 31, 24, 26, 39, 24, 43, 33, 3, 28, 40, 30, 22, 36, 27, 3, 39, 29, 26, 24, 34, 28, 15, 39, 22, 34, 29, 41, 27, 35, 35, 20, 24, 30, 38, 38, 32, 25, 35, 20, 39, 25, 34, 29, 31, 37, 34, 21, 25, 29, 39, 26, 34, 24, 29, 3, 33, 20, 29, 27, 30, 28, 24, 35, 27, 24, 20, 35, 42, 31, 34, 42, 47, 30, 22, 36, 29, 37, 45, 36, 31, 38, 27, 31, 39, 24, 34, 21, 21, 37, 30, 36, 32, 45, 42, 30, 41, 38, 33, 30, 22, 34, 27, 22, 31, 25, 27, 19, 38, 26, 37, 22, 31, 29, 27, 39, 26, 38, 24, 34, 32, 30, 15, 30, 20, 27, 19, 38, 22, 29, 30, 20, 3, 32, 46, 33, 28, 46, 27, 24, 47, 38, 27, 21, 44, 44, 35, 22, 30, 31, 31, 26, 31, 26, 29, 30, 30, 28, 38, 27, 21, 27, 28, 34, 26, 31, 32, 25, 38, 23, 34, 25, 28, 32, 29, 32, 39, 46, 23, 34, 34, 25, 18, 17, 38, 29, 27, 25, 31, 17, 34, 44, 33, 27, 28, 43, 43, 32, 33, 39, 25, 19, 34, 31, 26, 26, 34, 25, 29, 31, 36, 35, 31, 20, 27, 26, 34, 29, 38, 19, 23, 33, 27, 25, 25, 31, 30, 29, 24, 28, 3, 23, 34, 32, 22, 31, 20, 25, 29, 41, 17, 31, 26, 41, 28, 31, 26, 29, 39, 43, 31, 28, 22, 41, 31, 27, 39, 38, 41, 15, 29, 31, 30, 31, 15, 43, 29, 30, 22, 21, 54, 33, 40, 24, 40, 33, 35, 24, 24, 25, 32, 29, 23, 34, 29, 44, 35, 36, 31, 33, 40, 15, 34, 33, 29, 37, 40, 33, 27, 31, 37, 25, 30, 35, 30, 43, 30, 36, 25, 16, 24, 27, 32, 30, 35, 25, 30, 15, 26, 36, 15, 29, 31, 36, 32, 32, 27, 16, 21, 22, 24, 37, 31, 35, 22, 30, 38, 30, 26, 44, 23, 24, 33, 33, 28, 36, 31, 33, 42, 31, 20, 25, 28, 34, 30, 33, 30, 28, 30, 25, 38, 27, 30, 37, 23, 44, 37, 34, 23, 36, 22, 39, 35, 35, 41, 37, 29, 28, 38, 50, 34, 25, 26, 39, 22, 34, 43, 28, 51, 29, 31, 34, 32, 18, 42, 38, 30, 34, 34, 32, 38, 3, 41, 38, 30, 41, 18, 32, 32, 20, 28, 32, 24, 30, 27, 37, 52, 38, 31, 47, 26, 44, 35, 30, 29, 32, 25, 39, 40, 26, 21, 40, 29, 18, 38, 38, 27, 30, 28, 22, 22, 25, 21, 29, 34, 32, 39, 55, 22, 30, 3, 35, 36, 42, 20, 35, 40, 20, 36, 24, 18, 23, 34, 36, 34, 15, 35, 23, 32, 29, 39, 20, 25, 17, 27, 31, 29, 24, 40, 57, 25, 30, 39, 28, 28, 35, 33, 28, 27, 21, 24, 26, 33, 39, 49, 27, 35, 28, 31, 24, 24, 25, 39, 35, 29, 33, 28, 22, 32, 37, 34, 40, 27, 18, 28, 22, 28, 34, 24, 23, 38, 43, 25, 32, 37, 25, 25, 21, 45, 36, 22, 30, 31, 28, 31, 3, 26, 29, 23, 28, 29, 32, 38, 26, 35, 29, 28, 3, 21, 25, 38, 31, 18, 30, 24, 29, 47, 32, 48, 21, 23, 28, 29, 34, 31, 20, 39, 33, 23, 3, 23, 29, 28, 31, 21, 31, 29, 44, 24, 33, 26, 21, 28, 36, 27, 35, 26, 34, 23, 29, 28, 38, 39, 26, 32, 24, 25, 21, 24, 39, 36, 30, 27, 36, 26, 44, 31, 16, 34, 36, 41, 34, 26, 21, 35, 26, 40, 36, 15, 42, 34, 33, 37, 27, 30, 45, 26, 30, 25, 26, 44, 39, 30, 28, 33, 31, 34, 25, 27, 41, 27, 34, 31, 32, 45, 40, 30, 34, 15, 21, 29, 36, 34, 43, 32, 3, 23, 29, 24, 54, 25, 27, 30, 26, 36, 19, 32, 29, 38, 24, 30, 32, 28, 27, 38, 26, 20, 31, 34, 24, 29, 53, 24, 28, 27, 26, 29, 28, 26, 24, 27, 28, 27, 35, 36, 42, 37, 39, 42, 31, 23, 40, 26, 33, 31, 27, 35, 35, 24, 26, 36, 23, 42, 26, 41, 24, 30, 39, 29, 40, 26, 22, 31, 21, 41, 26, 36, 29, 17, 33, 24, 23, 31, 20, 38, 33, 33, 29, 45, 41, 37, 32, 15, 44, 32, 32, 31, 37, 16, 19, 29, 37, 22, 23, 26, 40, 22, 37, 28, 19, 33, 37, 20, 32, 27, 40, 26, 15, 33, 45, 29, 31, 36, 3, 26, 21, 46, 30, 25, 43, 40, 30, 15, 28, 17, 27, 31, 41, 27, 30, 26, 33, 32, 33, 37, 33, 34, 36, 26, 29, 34, 30, 26, 39, 27, 36, 30, 30, 25, 32, 3, 3, 27, 30, 28, 42, 32, 25, 38, 39, 29, 30, 32, 18, 34, 41, 29, 31, 33, 33, 41, 23, 24, 25, 44, 30, 31, 43, 31, 25, 24, 39, 21, 45, 23, 31, 26, 33, 43, 22, 35, 44, 30, 36, 33, 26, 15, 30, 28, 38, 28, 40, 34, 27, 15, 29, 34, 30, 25, 32, 19, 29, 38, 24, 42, 26, 31, 38, 34, 36, 25, 44, 22, 28, 33, 25, 28, 38, 36, 47, 39, 24, 29, 41, 36, 29, 28, 25, 23, 39, 38, 18, 20, 28, 36, 20, 15, 34, 28, 32, 28, 31, 31, 37, 30, 38, 22, 27, 47, 26, 48, 20, 43, 37, 29, 20, 22, 28, 32, 43, 22, 18, 37, 40, 3, 28, 30, 27, 39, 52, 40, 34, 29, 38, 21, 50, 27, 41, 28, 35, 31, 56, 21, 39, 32, 42, 36, 33, 40, 29, 36, 34, 28, 29, 26, 39, 31, 29, 29, 28, 31, 26, 23, 33, 30, 32, 21, 3, 26, 41, 36, 22, 32, 26, 3, 35, 27, 19, 25, 24, 38, 15, 3, 43, 29, 30, 30, 30, 39, 21, 25, 35, 24, 38, 30, 38, 43, 24, 33, 30, 45, 14, 30, 50, 32, 30, 34, 36, 34, 50, 28, 56, 32, 41, 31, 26, 29, 33, 43, 41, 22, 28, 41, 29, 23, 33, 43, 38, 25, 25, 16, 28, 27, 42, 44, 41, 30, 21, 27, 52, 26, 19, 3, 34, 31, 3, 24, 19, 35, 26, 30, 24, 28, 29, 3, 34, 25, 3, 25, 45, 53, 36, 25, 26, 32, 12, 27, 37, 28, 30, 24, 48, 31, 29, 39, 36, 22, 27, 30, 20, 36, 48, 28, 39, 42, 31, 26, 33, 35, 37, 36, 35, 28, 37, 34, 33, 36, 38, 19, 23, 21, 3, 25, 26, 40, 29, 31, 30, 41, 54, 25, 3, 17, 27, 47, 35, 24, 31, 27, 24, 24, 16, 31, 31, 25, 29, 26, 21, 43, 20, 27, 25, 41, 26, 39, 24, 40, 24, 35, 25, 21, 34, 23, 26, 36, 30, 15, 21, 32, 44, 35, 23, 24, 37, 41, 39, 29, 23, 35, 26, 25, 22, 28, 32, 31, 35, 19, 35, 28, 41, 31, 33, 50, 22, 42, 25, 39, 36, 33, 31, 43, 29, 26, 21, 21, 40, 39, 40, 33, 37, 31, 35, 37, 15, 18, 25, 33, 37, 3, 28, 31, 37, 29, 22, 45, 31, 42, 36, 29, 32, 32, 33, 25, 24, 29, 23, 24, 41, 30, 23, 28, 22, 25, 29, 30, 29, 29, 29, 21, 26, 32, 31, 34, 25, 25, 22, 20, 34, 32, 38, 36, 47, 32, 22, 34, 37, 41, 27, 30, 37, 28, 20, 37, 28, 38, 24, 24, 24, 36, 3, 26, 15, 24, 22, 32, 36, 33, 29, 40, 29, 30, 36, 32, 24, 31, 28, 35, 40, 34, 37, 34, 40, 35, 39, 42, 23, 33, 32, 24, 3, 33, 23, 37, 32, 22, 27, 35, 42, 35, 26, 27, 29, 33, 15, 29, 29, 28, 25, 26, 30, 32, 30, 42, 29, 30, 26, 27, 24, 44, 24, 29, 18, 41, 24, 28, 32, 32, 38, 39, 36, 21, 26, 37, 26, 37, 27, 32, 32, 32, 32, 39, 42, 35, 35, 40, 25, 24, 28, 31, 34, 30, 24, 38, 11, 39, 38, 44, 19, 34, 31, 35, 35, 20, 40, 38, 20, 29, 24, 26, 24, 38, 33, 41, 44, 30, 24, 31, 25, 30, 40, 35, 38, 35, 44, 46, 31, 33, 31, 26, 36, 22, 28, 34, 25, 33, 25, 42, 32, 37, 33, 36, 51, 28, 24, 30, 46, 42, 33, 35, 34, 31, 21, 29, 32, 34, 36, 23, 37, 30, 35, 22, 39, 47, 33, 37, 33, 30, 33, 36, 24, 21, 34, 25, 27, 43, 32, 25, 42, 41, 25, 15, 33, 32, 34, 26, 36, 3, 38, 28, 19, 36, 21, 29, 35, 41, 33, 31, 29, 20, 25, 37, 15, 31, 29, 33, 33, 30, 33, 23, 25, 25, 38, 33, 30, 22, 38, 30, 41, 20, 40, 28, 33, 28, 34, 29, 32, 16, 38, 3, 15, 31, 47, 35, 29, 40, 42, 26, 38, 3, 20, 41, 28, 28, 33, 40, 35, 24, 38, 35, 22, 36, 45, 24, 29, 22, 37, 22, 35, 30, 32, 30, 29, 25, 37, 41, 29, 36, 36, 34, 15, 29, 37, 39, 36, 35, 23, 31, 25, 46, 43, 29, 23, 31, 19, 41, 42, 34, 35, 32, 27, 23, 22, 21, 26, 3, 25, 43, 34, 27, 36, 29, 19, 22, 36, 28, 20, 28, 35, 42, 28, 32, 24, 29, 22, 33, 38, 30, 3, 33, 23, 23, 26, 32, 35, 25, 31, 23, 3, 40, 37, 28, 35, 31, 27, 26, 3, 27, 3, 3, 15, 26, 26, 22, 34, 28, 23, 38, 45, 26, 25, 30, 28, 25, 16, 32, 40, 23, 34, 40, 34, 33, 33, 28, 3, 35, 31, 27, 21, 25, 42, 44, 29, 19, 22, 22, 41, 21, 26, 26, 31, 27, 31, 19, 36, 36, 35, 34, 25, 34, 34, 31, 36, 28, 38, 23, 38, 34, 39, 31, 29, 24, 26, 30, 38, 34, 28, 35, 26, 30, 40, 30, 22, 20, 35, 3, 22, 24, 27, 22, 21, 44, 35, 45, 35, 21, 45, 32, 26, 30, 35, 27, 21, 31, 28, 34, 32, 26, 45, 3, 35, 28, 34, 30, 38, 26, 32, 37, 26, 39, 22, 28, 3, 27, 33, 40, 32, 27, 29, 39, 23, 23, 28, 22, 24, 42, 39, 42, 25, 35, 35, 20, 32, 32, 25, 30, 31, 32, 30, 23, 31, 37, 31, 20, 28, 34, 21, 32, 23, 32, 39, 21, 30, 23, 34, 27, 24, 29, 45, 20, 15, 31, 3, 40, 37, 29, 24, 30, 40, 25, 28, 3, 34, 28, 30, 37, 31, 31, 34, 47, 21, 34, 21, 23, 34, 34, 28, 35, 28, 26, 28, 34, 35, 39, 37, 21, 35, 25, 40, 30, 34, 24, 17, 26, 38, 20, 39, 33, 28, 24, 26, 51, 44, 3, 25, 24, 37, 22, 30, 34, 23, 29, 34, 3, 37, 46, 27, 19, 47, 20, 15, 32, 31, 28, 31, 31, 41, 47, 29, 27, 52, 30, 26, 42, 29, 39, 32, 35, 21, 33, 39, 30, 28, 33, 20, 40, 39, 23, 27, 44, 23, 24, 31, 34, 32, 34, 36, 23, 40, 32, 34, 35, 18, 24, 25, 30, 19, 38, 27, 31, 32, 24, 22, 35, 32, 24, 31, 38, 23, 16, 28, 26, 40, 21, 28, 21, 34, 34, 36, 30, 30, 30, 29, 24, 39, 26, 25, 34, 32, 33, 38, 34, 32, 30, 32, 35, 36, 35, 22, 29, 37, 3, 32, 45, 33, 20, 34, 45, 43, 37, 41, 28, 27, 24, 26, 34, 34, 32, 25, 25, 3, 38, 25, 29, 33, 20, 22, 24, 25, 29, 39, 34, 32, 39, 30, 30, 25, 35, 38, 32, 31, 24, 24, 38, 35, 39, 31, 15, 28, 44, 31, 29, 38, 27, 33, 29, 38, 16, 25, 33, 27, 36, 30, 29, 24, 34, 26, 41, 33, 36, 29, 17, 30, 32, 40, 35, 3, 27, 33, 35, 37, 42, 47, 29, 28, 18, 34, 35, 24, 27, 39, 36, 32, 21, 28, 28, 29, 3, 31, 35, 28, 34, 35, 47, 25, 21, 24, 40, 31, 41, 21, 42, 35, 30, 20, 37, 33, 23, 38, 30, 23, 24, 21, 31, 30, 34, 53, 36, 19, 27, 20, 32, 23, 25, 23, 3, 41, 25, 40, 40, 23, 35, 25, 25, 41, 37, 27, 22, 17, 28, 33, 34, 42, 41, 34, 32, 15, 38, 30, 32, 29, 38, 24, 28, 31, 19, 26, 22, 53, 34, 20, 27, 40, 19, 24, 40, 15, 20, 30, 27, 33, 43, 30, 30, 40, 41, 33, 47, 24, 32, 42, 31, 51, 38, 25, 28, 3, 31, 29, 22, 28, 31, 33, 24, 30, 36, 37, 24, 42, 36, 25, 38, 29, 27, 35, 18, 33, 29, 38, 24, 33, 27, 43, 28, 23, 39, 40, 27, 24, 31, 33, 28, 34, 26, 29, 25, 30, 24, 19, 37, 40, 39, 43, 31, 34, 33, 23, 34, 38, 25, 33, 45, 46, 37, 36, 21, 39, 24, 26, 42, 38, 31, 31, 25, 22, 37, 25, 44, 20, 3, 22, 28, 43, 30, 30, 33, 24, 25, 31, 31, 21, 30, 33, 25, 24, 3, 24, 28, 28, 26, 23, 20, 26, 24, 51, 31, 32, 42, 41, 20, 25, 29, 43, 20, 24, 37, 27, 43, 28, 28, 31, 39, 39, 25, 26, 31, 29, 33, 28, 28, 29, 26, 29, 26, 38, 27, 28, 22, 36, 28, 33, 23, 33, 20, 20, 35, 25, 25, 15, 27, 38, 24, 31, 38, 55, 43, 27, 37, 30, 30, 35, 33, 33, 22, 23, 32, 26, 29, 29, 28, 42, 22, 31, 3, 42, 21, 22, 25, 35, 28, 35, 38, 29, 26, 33, 34, 20, 27, 29, 38, 22, 22, 26, 27, 24, 19, 38, 41, 32, 50, 52, 23, 27, 24, 27, 43, 38, 21, 25, 27, 31, 23, 28, 30, 30, 46, 32, 23, 31, 15, 29, 28, 21, 41, 15, 15, 35, 31, 22, 22, 29, 26, 18, 27, 3, 23, 31, 33, 36, 38, 40, 27, 49, 29, 31, 32, 31, 37, 43, 23, 20, 29, 41, 38, 29, 30, 27, 28, 30, 23, 39, 32, 20, 30, 38, 29, 31, 26, 21, 36, 20, 27, 32, 39, 30, 45, 20, 28, 47, 32, 35, 37, 39, 32, 27, 26, 22, 39, 26, 22, 28, 27, 23, 32, 43, 23, 54, 26, 45, 15, 38, 29, 41, 33, 31, 33, 33, 33, 25, 28, 22, 25, 32, 38, 32, 34, 36, 27, 41, 36, 29, 33, 3, 28, 39, 22, 27, 48, 34, 17, 37, 41, 31, 26, 29, 36, 30, 26, 20, 29, 45, 29, 43, 38, 37, 30, 34, 33, 33, 21, 40, 37, 31, 22, 29, 32, 31, 25, 49, 43, 28, 37, 48, 33, 25, 30, 25, 17, 24, 29, 25, 23, 20, 33, 20, 34, 22, 34, 25, 37, 32, 31, 33, 29, 28, 19, 27, 24, 32, 23, 26, 26, 35, 39, 25, 46, 32, 59, 18, 24, 21, 35, 22, 23, 37, 20, 3, 34, 18, 26, 33, 40, 31, 26, 31, 35, 28, 36, 37, 32, 28, 30, 40, 21, 30, 28, 21, 33, 3, 44, 44, 43, 29, 22, 28, 32, 28, 34, 34, 38, 33, 25, 23, 32, 31, 33, 16, 30, 35, 24, 52, 25, 24, 24, 27, 30, 45, 34, 39, 20, 27, 31, 23, 20, 31, 36, 36, 36, 36, 46, 41, 29, 20, 22, 21, 37, 33, 36, 58, 35, 17, 28, 25, 32, 20, 26, 30, 34, 32, 32, 24, 22, 28, 32, 21, 32, 22, 10, 24, 23, 32, 3, 37, 23, 36, 22, 41, 21, 22, 31, 37, 29, 22, 21, 3, 36, 30, 30, 41, 23, 33, 36, 15, 25, 28, 35, 31, 38, 22, 30, 25, 33, 29, 30, 33, 34, 33, 30, 40, 23, 39, 40, 29, 20, 42, 25, 22, 40, 35, 30, 42, 3, 22, 29, 30, 28, 34, 41, 32, 15, 36, 24, 24, 25, 32, 27, 33, 28, 37, 20, 33, 50, 38, 34, 31, 38, 30, 31, 19, 23, 31, 26, 25, 29, 24, 37, 20, 26, 36, 25, 35, 21, 51, 31, 22, 42, 20, 28, 21, 21, 30, 33, 51, 34, 24, 25, 38, 32, 25, 33, 20, 20, 32, 31, 39, 30, 32, 3, 28, 28, 36, 16, 42, 23, 33, 43, 33, 37, 32, 34, 21, 25, 36, 24, 43, 40, 32, 26, 32, 22, 26, 18, 23, 33, 26, 35, 44, 26, 15, 46, 36, 24, 43, 35, 28, 30, 27, 40, 19, 28, 21, 25, 34, 19, 20, 29, 32, 27, 34, 30, 32, 30, 47, 20, 25, 26, 35, 41, 30, 33, 21, 22, 34, 39, 37, 41, 40, 19, 29, 41, 51, 21, 3, 29, 28, 29, 32, 41, 35, 28, 35, 23, 21, 33, 28, 34, 26, 28, 21, 19, 38, 54, 34, 41, 37, 25, 36, 35, 26, 26, 44, 36, 34, 21, 32, 27, 37, 25, 33, 35, 20, 34, 24, 30, 40, 27, 37, 27, 26, 33, 34, 28, 42, 26, 30, 38, 36, 30, 28, 25, 3, 35, 3, 28, 28, 31, 27, 27, 22, 26, 41, 13, 3, 39, 28, 42, 16, 38, 32, 37, 20, 42, 38, 35, 36, 39, 31, 42, 35, 51, 30, 34, 26, 30, 21, 20, 23, 27, 32, 26, 51, 30, 26, 28, 32, 29, 27, 34, 27, 24, 37, 27, 28, 35, 32, 22, 20, 37, 28, 25, 27, 34, 23, 48, 15, 32, 42, 35, 39, 31, 30, 37, 32, 31, 37, 30, 29, 25, 18, 31, 25, 28, 21, 23, 29, 39, 34, 37, 3, 33, 35, 35, 25, 33, 34, 20, 29, 27, 21, 60, 30, 25, 28, 38, 30, 32, 39, 3, 51, 38, 31, 30, 26, 37, 41, 37, 27, 24, 30, 36, 24, 28, 35, 26, 36, 29, 36, 30, 26, 32, 29, 23, 3, 27, 20, 38, 25, 33, 25, 27, 25, 41, 30, 21, 34, 42, 51, 39, 16, 30, 24, 36, 15, 29, 29, 38, 24, 22, 22, 34, 24, 37, 37, 30, 33, 28, 32, 24, 29, 34, 39, 42, 15, 28, 32, 22, 31, 43, 38, 40, 3, 34, 30, 41, 28, 39, 25, 38, 35, 48, 22, 42, 33, 35, 26, 19, 38, 29, 23, 43, 33, 37, 42, 25, 24, 16, 45, 37, 46, 24, 28, 46, 36, 25, 23, 41, 35, 28, 30, 28, 40, 31, 27, 34, 33, 36, 27, 38, 33, 23, 27, 30, 19, 30, 22, 15, 32, 31, 46, 35, 26, 28, 41, 17, 34, 34, 35, 43, 28, 27, 39, 36, 27, 30, 32, 22, 25, 35, 46, 37, 23, 32, 19, 37, 23, 37, 26, 34, 41, 31, 26, 43, 32, 36, 22, 29, 20, 23, 32, 33, 3, 37, 25, 34, 28, 36, 26, 18, 29, 3, 33, 33, 25, 38, 33, 18, 28, 16, 21, 39, 28, 25, 30, 43, 9, 30, 24, 28, 28, 29, 43, 23, 28, 30, 31, 34, 22, 43, 26, 35, 42, 29, 37, 37, 33, 43, 30, 43, 33, 33, 23, 26, 36, 22, 38, 30, 30, 38, 27, 23, 23, 25, 41, 40, 38, 32, 21, 37, 30, 38, 28, 19, 33, 42, 43, 22, 25, 25, 32, 33, 27, 36, 29, 26, 38, 31, 32, 25, 27, 30, 43, 38, 42, 31, 25, 27, 41, 37, 34, 30, 3, 28, 47, 39, 32, 30, 42, 28, 22, 23, 31, 37, 34, 35, 25, 35, 33, 42, 38, 31, 18, 32, 28, 3, 31, 40, 33, 53, 27, 32, 37, 23, 25, 22, 34, 32, 30, 39, 35, 39, 15, 34, 30, 42, 41, 23, 26, 21, 38, 29, 3, 28, 40, 28, 26, 26, 33, 3, 37, 27, 25, 40, 39, 37, 34, 3, 23, 34, 33, 30, 32, 42, 32, 15, 30, 28, 31, 29, 37, 31, 31, 20, 35, 31, 27, 32, 31, 31, 23, 28, 46, 33, 23, 42, 25, 23, 24, 37, 27, 30, 20, 33, 22, 22, 33, 27, 35, 31, 24, 22, 29, 40, 20, 38, 35, 35, 16, 36, 24, 29, 37, 25, 35, 26, 27, 15, 24, 16, 35, 29, 3, 35, 24, 18, 15, 37, 28, 31, 31, 43, 28, 38, 31, 21, 33, 29, 30, 36, 36, 23, 35, 35, 31, 23, 28, 41, 34, 27, 25, 32, 28, 14, 36, 18, 31, 40, 3, 31, 29, 36, 40, 28, 32, 3, 37, 31, 19, 22, 23, 40, 21, 26, 27, 31, 33, 26, 34, 22, 37, 30, 23, 47, 23, 27, 44, 28, 24, 28, 35, 40, 25, 27, 33, 30, 34, 39, 28, 32, 41, 36, 3, 33, 31, 40, 32, 25, 37, 30, 20, 21, 21, 24, 36, 3, 37, 36, 44, 44, 18, 66, 3, 36, 22, 24, 33, 34, 36, 25, 32, 31, 34, 22, 32, 38, 25, 28, 34, 41, 32, 28, 26, 22, 39, 33, 35, 41, 48, 3, 32, 31, 56, 32, 29, 29, 36, 32, 34, 37, 32, 18, 24, 39, 29, 43, 29, 37, 23, 30, 23, 26, 19, 30, 29, 32, 29, 30, 46, 19, 25, 34, 27, 15, 44, 30, 37, 27, 28, 28, 33, 31, 18, 49, 27, 34, 23, 39, 28, 27, 30, 43, 3, 20, 39, 37, 32, 16, 31, 31, 28, 22, 29, 40, 33, 24, 23, 25, 15, 21, 35, 34, 26, 19, 30, 30, 24, 32, 24, 43, 33, 32, 28, 45, 36, 31, 23, 28, 28, 26, 43, 40, 46, 30, 25, 21, 39, 16, 27, 40, 33, 36, 29, 25, 28, 29, 40, 34, 30, 23, 27, 20, 28, 38, 21, 26, 22, 39, 39, 32, 40, 27, 39, 20, 42, 20, 25, 18, 23, 29, 22, 35, 27, 32, 24, 35, 36, 31, 27, 43, 15, 20, 30, 29, 29, 21, 3, 37, 49, 36, 30, 26, 37, 35, 29, 30, 42, 28, 35, 34, 18, 35, 33, 32, 45, 28, 39, 37, 48, 40, 25, 31, 30, 37, 47, 42, 35, 15, 46, 30, 31, 32, 42, 34, 37, 21, 42, 30, 22, 25, 22, 36, 36, 28, 35, 35, 22, 25, 20, 23, 38, 35, 34, 35, 40, 28, 37, 35, 57, 20, 24, 34, 3, 45, 48, 35, 37, 29, 27, 37, 35, 29, 48, 20, 25, 31, 16, 31, 19, 25, 17, 45, 43, 19, 31, 3, 32, 31, 28, 32, 3, 28, 28, 16, 22, 28, 35, 33, 23, 30, 57, 28, 33, 24, 27, 30, 22, 26, 32, 21, 35, 38, 49, 25, 21, 22, 26, 49, 24, 30, 32, 41, 28, 19, 32, 31, 40, 29, 31, 27, 28, 38, 28, 37, 27, 17, 3, 24, 57, 30, 29, 28, 30, 41, 26, 39, 41, 32, 16, 37, 23, 42, 32, 37, 34, 22, 46, 37, 18, 28, 39, 38, 3, 46, 31, 21, 25, 38, 29, 40, 29, 28, 31, 26, 37, 21, 32, 22, 34, 38, 36, 33, 37, 24, 45, 30, 33, 31, 23, 28, 29, 36, 38, 27, 22, 45, 35, 30, 36, 34, 35, 29, 34, 23, 28, 32, 22, 28, 41, 28, 3, 26, 38, 20, 28, 39, 33, 3, 20, 31, 27, 37, 35, 31, 29, 34, 37, 3, 38, 30, 30, 28, 54, 35, 33, 29, 16, 30, 19, 32, 24, 30, 37, 36, 24, 28, 32, 41, 34, 27, 26, 30, 51, 35, 21, 32, 30, 42, 38, 3, 31, 38, 48, 24, 39, 28, 31, 27, 20, 35, 29, 32, 26, 50, 27, 28, 25, 25, 20, 27, 37, 37, 24, 16, 31, 36, 32, 3, 34, 31, 25, 38, 15, 34, 30, 40, 28, 29, 32, 36, 37, 48, 28, 30, 34, 33, 21, 38, 46, 30, 26, 26, 35, 37, 44, 41, 22, 35, 30, 26, 38, 26, 41, 38, 28, 47, 26, 26, 15, 24, 29, 21, 29, 16, 20, 17, 39, 16, 38, 22, 35, 44, 38, 37, 33, 20, 25, 32, 40, 29, 19, 32, 48, 51, 26, 26, 30, 20, 36, 36, 29, 20, 3, 22, 32, 29, 38, 32, 29, 36, 27, 3, 35, 29, 29, 28, 32, 30, 40, 25, 32, 26, 35, 18, 15, 32, 30, 34, 37, 20, 58, 29, 25, 26, 21, 38, 22, 27, 23, 43, 39, 34, 40, 41, 33, 39, 42, 40, 44, 37, 31, 29, 30, 27, 40, 35, 28, 40, 24, 25, 19, 22, 33, 23, 34, 26, 30, 24, 42, 31, 60, 31, 3, 22, 32, 38, 37, 37, 26, 39, 22, 35, 35, 26, 38, 22, 20, 28, 34, 32, 27, 32, 35, 23, 28, 41, 30, 32, 27, 19, 16, 37, 34, 41, 15, 50, 36, 32, 35, 32, 19, 29, 29, 24, 25, 26, 40, 27, 38, 38, 26, 46, 44, 27, 34, 30, 23, 39, 32, 23, 16, 40, 37, 32, 30, 25, 25, 31, 40, 21, 37, 38, 31, 31, 35, 30, 31, 32, 20, 25, 31, 27, 36, 32, 25, 36, 34, 29, 21, 36, 29, 28, 22, 17, 37, 35, 28, 24, 32, 23, 31, 41, 23, 28, 3, 32, 41, 42, 22, 35, 26, 44, 35, 23, 3, 35, 23, 3, 27, 29, 23, 40, 37, 27, 31, 35, 45, 21, 21, 31, 22, 26, 25, 42, 16, 22, 28, 24, 30, 30, 27, 32, 43, 29, 45, 27, 25, 27, 49, 24, 44, 33, 21, 35, 16, 33, 3, 20, 31, 39, 34, 31, 39, 25, 28, 30, 30, 33, 35, 27, 31, 20, 34, 31, 37, 26, 31, 23, 26, 21, 21, 37, 26, 22, 28, 28, 45, 39, 3, 41, 27, 38, 25, 40, 25, 3, 32, 3, 36, 22, 42, 17, 24, 26, 26, 26, 29, 32, 34, 33, 36, 31, 40, 29, 41, 32, 31, 29, 26, 35, 20, 32, 36, 31, 31, 27, 25, 23, 22, 28, 22, 32, 32, 37, 39, 22, 28, 26, 46, 38, 42, 22, 39, 21, 31, 10, 30, 38, 47, 27, 26, 3, 29, 43, 25, 25, 29, 35, 26, 28, 28, 35, 43, 38, 29, 29, 29, 50, 34, 29, 23, 35, 28, 23, 26, 47, 40, 28, 26, 31, 39, 35, 27, 36, 33, 29, 32, 31, 20, 28, 32, 27, 40, 35, 33, 21, 36, 36, 29, 43, 32, 29, 28, 28, 27, 25, 27, 40, 28, 40, 25, 28, 33, 27, 36, 29, 33, 21, 36, 36, 15, 16, 29, 27, 39, 34, 25, 37, 27, 40, 32, 36, 45, 27, 25, 19, 27, 37, 37, 27, 29, 25, 30, 42, 26, 27, 33, 34, 55, 37, 38, 25, 34, 32, 26, 20, 27, 32, 43, 3, 31, 31, 35, 30, 29, 51, 30, 27, 34, 46, 31, 37, 27, 31, 3, 34, 36, 23, 38, 24, 35, 31, 18, 57, 34, 33, 33, 16, 34, 35, 26, 22, 26, 33, 37, 26, 32, 24, 27, 31, 32, 49, 28, 26, 27, 34, 42, 40, 31, 19, 45, 31, 31, 30, 35, 34, 30, 33, 30, 29, 45, 3, 24, 30, 29, 3, 31, 36, 21, 39, 33, 26, 31, 27, 3, 33, 26, 24, 29, 22, 32, 28, 33, 37, 28, 33, 26, 35, 49, 26, 38, 34, 32, 22, 51, 36, 46, 38, 18, 31, 35, 41, 25, 44, 30, 21, 27, 39, 24, 22, 16, 26, 35, 25, 36, 21, 46, 35, 22, 21, 34, 52, 35, 34, 29, 22, 23, 19, 22, 37, 20, 21, 41, 35, 24, 34, 33, 30, 24, 30, 33, 27, 32, 39, 36, 35, 31, 22, 31, 27, 36, 36, 31, 22, 40, 43, 37, 24, 31, 26, 26, 22, 32, 31, 27, 20, 24, 28, 34, 41, 30, 50, 16, 46, 21, 33, 40, 22, 42, 39, 16, 29, 34, 30, 35, 13, 39, 21, 43, 28, 37, 42, 27, 28, 26, 17, 34, 41, 18, 28, 32, 28, 20, 26, 26, 27, 35, 23, 32, 23, 29, 15, 34, 19, 32, 33, 22, 32, 35, 27, 31, 37, 27, 23, 28, 32, 22, 28, 31, 18, 37, 32, 41, 36, 34, 32, 45, 47, 18, 31, 24, 33, 21, 20, 37, 23, 28, 28, 3, 21, 33, 33, 28, 33, 32, 15, 33, 29, 38, 37, 42, 15, 16, 27, 35, 27, 15, 32, 28, 26, 41, 28, 49, 44, 29, 21, 29, 23, 31, 22, 44, 32, 32, 23, 26, 42, 20, 26, 30, 41, 33, 33, 31, 31, 22, 21, 29, 37, 23, 36, 33, 39, 18, 42, 24, 22, 27, 20, 46, 28, 17, 21, 15, 37, 34, 33, 29, 26, 41, 32, 32, 33, 31, 34, 26, 31, 34, 26, 48, 30, 40, 24, 3, 29, 32, 16, 23, 37, 20, 30, 27, 24, 26, 27, 28, 29, 21, 33, 28, 23, 15, 29, 18, 31, 31, 37, 3, 33, 35, 29, 29, 43, 3, 29, 23, 40, 35, 20, 35, 26, 24, 29, 24, 20, 36, 29, 27, 34, 38, 32, 30, 25, 23, 25, 35, 22, 3, 33, 19, 30, 30, 25, 27, 32, 34, 28, 34, 24, 24, 20, 3, 24, 44, 23, 25, 28, 25, 32, 34, 38, 42, 20, 35, 22, 16, 28, 38, 36, 32, 32, 36, 38, 42, 19, 20, 23, 36, 27, 44, 32, 38, 24, 52, 31, 16, 30, 20, 54, 21, 33, 32, 32, 23, 26, 25, 35, 30, 25, 15, 33, 31, 3, 30, 39, 45, 33, 30, 40, 28, 34, 34, 30, 37, 35, 40, 34, 23, 35, 28, 27, 45, 32, 31, 36, 22, 28, 36, 33, 37, 45, 36, 25, 31, 22, 32, 21, 41, 37, 46, 49, 21, 36, 30, 25, 35, 39, 16, 29, 35, 32, 30, 56, 33, 31, 23, 27, 32, 30, 38, 40, 39, 38, 30, 23, 41, 29, 29, 19, 16, 46, 27, 31, 40, 31, 23, 40, 39, 37, 20, 37, 26, 39, 31, 24, 26, 38, 36, 28, 26, 29, 31, 20, 38, 40, 26, 32, 30, 23, 24, 35, 31, 37, 34, 32, 29, 29, 22, 36, 31, 25, 37, 31, 28, 3, 15, 29, 20, 35, 42, 37, 33, 21, 28, 42, 25, 32, 20, 22, 34, 27, 27, 32, 37, 26, 41, 21, 25, 32, 29, 25, 24, 24, 38, 24, 33, 15, 15, 35, 31, 25, 34, 35, 27, 40, 15, 36, 16, 31, 30, 29, 34, 36, 33, 30, 41, 28, 20, 28, 34, 33, 25, 39, 39, 37, 20, 44, 35, 21, 41, 28, 36, 26, 15, 34, 32, 31, 21, 39, 22, 20, 31, 52, 40, 27, 37, 3, 37, 28, 38, 47, 31, 34, 47, 27, 35, 25, 41, 28, 33, 38, 48, 30, 31, 42, 33, 15, 24, 20, 34, 42, 33, 26, 41, 30, 34, 24, 27, 30, 44, 30, 27, 21, 21, 24, 24, 23, 15, 40, 32, 32, 27, 26, 39, 38, 37, 15, 24, 3, 31, 31, 42, 24, 32, 21, 3, 27, 26, 31, 24, 29, 22, 25, 36, 23, 28, 36, 29, 39, 26, 40, 26, 28, 26, 34, 35, 29, 33, 32, 29, 37, 29, 24, 21, 26, 24, 39, 31, 31, 36, 27, 26, 32, 24, 28, 3, 33, 24, 32, 20, 26, 30, 46, 23, 32, 34, 34, 34, 30, 30, 31, 33, 28, 35, 25, 24, 38, 25, 32, 28, 23, 23, 15, 33, 36, 3, 25, 28, 46, 26, 44, 18, 23, 27, 37, 33, 22, 41, 25, 37, 41, 40, 40, 34, 38, 35, 24, 28, 41, 41, 23, 54, 40, 26, 43, 38, 35, 34, 41, 41, 24, 22, 30, 29, 42, 32, 33, 33, 3, 19, 36, 40, 20, 29, 29, 33, 28, 27, 44, 15, 28, 37, 37, 22, 45, 17, 34, 41, 22, 39, 24, 39, 33, 24, 3, 35, 23, 35, 22, 21, 27, 20, 20, 24, 47, 20, 31, 31, 46, 41, 24, 29, 16, 36, 27, 38, 33, 33, 35, 42, 25, 25, 22, 31, 37, 28, 24, 27, 22, 21, 28, 30, 30, 22, 41, 37, 27, 17, 32, 28, 34, 22, 38, 24, 28, 31, 27, 27, 23, 38, 38, 33, 47, 32, 35, 45, 15, 22, 25, 3, 34, 36, 31, 35, 29, 31, 42, 23, 28, 39, 25, 31, 36, 31, 56, 27, 19, 29, 30, 29, 33, 17, 24, 44, 25, 26, 3, 39, 23, 38, 24, 35, 36, 51, 39, 20, 27, 32, 34, 31, 29, 23, 24, 3, 32, 30, 35, 28, 3, 15, 31, 25, 21, 23, 27, 50, 21, 22, 20, 25, 34, 28, 36, 22, 27, 3, 25, 47, 43, 20, 30, 31, 19, 35, 27, 41, 27, 25, 39, 28, 23, 26, 37, 41, 31, 36, 29, 25, 35, 20, 34, 27, 31, 35, 27, 32, 25, 39, 27, 29, 32, 28, 54, 27, 26, 28, 27, 20, 54, 27, 49, 31, 30, 35, 32, 25, 31, 35, 27, 30, 36, 32, 33, 24, 29, 32, 28, 27, 28, 21, 28, 24, 41, 19, 29, 37, 31, 31, 28, 35, 29, 24, 24, 20, 40, 33, 30, 32, 33, 37, 32, 35, 24, 45, 37, 27, 3, 35, 34, 34, 29, 32, 28, 26, 29, 17, 19, 26, 35, 31, 3, 24, 36, 29, 42, 28, 29, 25, 31, 35, 35, 35, 41, 25, 23, 21, 38, 22, 3, 35, 40, 21, 16, 41, 25, 44, 36, 44, 40, 37, 24, 36, 3, 41, 23, 37, 40, 36, 36, 31, 29, 20, 35, 19, 22, 27, 36, 31, 26, 23, 29, 31, 32, 30, 29, 21, 23, 35, 18, 30, 36, 20, 25, 36, 27, 40, 33, 52, 21, 29, 28, 39, 28, 42, 29, 22, 29, 46, 38, 24, 28, 41, 36, 32, 29, 25, 42, 30, 31, 38, 34, 29, 27, 32, 31, 25, 25, 54, 29, 26, 54, 33, 34, 27, 42, 30, 32, 23, 37, 45, 25, 27, 20, 28, 34, 41, 21, 68, 24, 29, 25, 27, 24, 38, 39, 31, 39, 39, 35, 22, 23, 37, 31, 20, 26, 27, 24, 37, 23, 29, 25, 25, 34, 24, 40, 33, 19, 26, 35, 35, 35, 20, 41, 40, 28, 28, 24, 31, 32, 3, 34, 31, 35, 25, 30, 26, 46, 27, 29, 37, 38, 28, 23, 33, 38, 26, 38, 32, 27, 29, 34, 33, 31, 27, 27, 23, 27, 35, 3, 40, 27, 24, 30, 31, 32, 30, 35, 31, 40, 18, 41, 23, 36, 14, 34, 21, 37, 28, 32, 35, 27, 31, 34, 29, 29, 20, 41, 34, 29, 31, 31, 26, 27, 35, 23, 26, 26, 32, 28, 45, 28, 38, 20, 15, 14, 28, 36, 29, 49, 33, 29, 32, 44, 34, 20, 28, 35, 22, 22, 36, 38, 21, 30, 20, 35, 22, 34, 34, 39, 34, 26, 33, 28, 23, 27, 38, 29, 25, 31, 20, 42, 35, 31, 23, 24, 26, 29, 32, 28, 23, 13, 20, 26, 29, 29, 39, 24, 15, 29, 32, 39, 30, 22, 33, 32, 34, 40, 31, 3, 33, 33, 34, 15, 38, 24, 32, 22, 28, 36, 28, 22, 28, 18, 28, 31, 26, 32, 30, 38, 46, 26, 23, 3, 32, 38, 33, 37, 31, 56, 24, 28, 26, 33, 28, 22, 23, 35, 28, 20, 43, 43, 31, 31, 43, 40, 3, 50, 26, 3, 39, 48, 28, 28, 33, 41, 3, 24, 22, 20, 22, 26, 27, 21, 25, 35, 33, 28, 26, 35, 16, 22, 25, 35, 23, 32, 17, 3, 36, 39, 35, 30, 25, 29, 19, 32, 33, 39, 39, 54, 31, 33, 22, 37, 30, 27, 3, 23, 21, 41, 32, 24, 31, 30, 28, 27, 29, 25, 30, 35, 38, 32, 42, 34, 34, 36, 29, 33, 38, 36, 32, 22, 39, 28, 17, 25, 45, 42, 21, 22, 38, 30, 29, 47, 30, 44, 33, 32, 68, 34, 29, 25, 35, 44, 27, 34, 30, 46, 31, 34, 27, 48, 39, 32, 32, 37, 24, 34, 34, 44, 25, 18, 19, 26, 33, 29, 29, 31, 21, 36, 27, 33, 25, 22, 20, 32, 32, 36, 35, 24, 53, 22, 29, 29, 27, 20, 39, 28, 28, 37, 20, 40, 37, 3, 29, 25, 30, 24, 60, 41, 29, 25, 38, 22, 49, 31, 37, 24, 20, 29, 39, 37, 21, 27, 38, 37, 30, 32, 36, 37, 27, 42, 19, 39, 21, 21, 15, 29, 25, 24, 33, 36, 37, 29, 27, 39, 25, 37, 27, 23, 24, 32, 33, 27, 21, 28, 45, 25, 44, 37, 37, 35, 34, 38, 29, 31, 25, 35, 34, 25, 38, 25, 30, 41, 20, 37, 27, 25, 54, 26, 32, 36, 3, 26, 15, 27, 29, 31, 28, 35, 30, 28, 49, 27, 23, 34, 20, 26, 21, 31, 29, 34, 27, 33, 46, 24, 21, 37, 34, 24, 33, 36, 30, 25, 29, 23, 39, 35, 15, 25, 34, 22, 23, 39, 23, 24, 31, 32, 21, 33, 31, 23, 32, 25, 33, 28, 30, 30, 32, 36, 42, 32, 32, 22, 48, 30, 21, 27, 27, 32, 26, 28, 29, 23, 25, 31, 37, 35, 30, 39, 41, 32, 27, 43, 19, 31, 25, 42, 54, 3, 25, 38, 3, 28, 30, 33, 32, 20, 28, 30, 25, 21, 27, 26, 29, 38, 30, 28, 27, 40, 33, 25, 3, 31, 31, 30, 35, 26, 22, 39, 33, 48, 33, 34, 26, 16, 31, 32, 43, 33, 30, 29, 26, 35, 16, 33, 3, 37, 26, 23, 40, 43, 35, 32, 27, 33, 46, 20, 35, 25, 30, 34, 32, 23, 35, 24, 49, 21, 29, 36, 35, 21, 19, 25, 33, 31, 20, 36, 30, 43, 28, 3, 40, 27, 39, 25, 30, 31, 55, 21, 25, 48, 44, 16, 25, 21, 16, 38, 46, 35, 45, 31, 35, 31, 28, 37, 25, 19, 42, 41, 40, 30, 21, 38, 34, 30, 27, 28, 33, 28, 26, 27, 35, 31, 32, 23, 24, 15, 36, 25, 35, 33, 45, 38, 20, 19, 25, 28, 28, 38, 31, 41, 26, 23, 37, 45, 29, 27, 23, 35, 37, 18, 36, 3, 15, 23, 37, 24, 26, 15, 30, 38, 33, 34, 3, 18, 34, 25, 33, 34, 26, 34, 37, 29, 35, 38, 22, 16, 42, 29, 34, 21, 43, 32, 34, 33, 37, 36, 26, 28, 3, 25, 40, 24, 34, 30, 26, 39, 26, 23, 42, 26, 21, 40, 31, 34, 26, 32, 23, 31, 37, 33, 31, 20, 37, 26, 26, 34, 32, 38, 26, 38, 30, 22, 43, 44, 32, 30, 3, 38, 30, 24, 31, 31, 26, 30, 29, 47, 27, 28, 38, 21, 36, 32, 29, 44, 26, 42, 27, 22, 20, 20, 24, 25, 28, 27, 37, 16, 30, 33, 41, 25, 29, 37, 29, 27, 34, 28, 37, 31, 23, 33, 30, 30, 33, 32, 19, 35, 15, 29, 3, 30, 26, 21, 40, 29, 27, 31, 35, 27, 37, 28, 32, 28, 35, 25, 30, 20, 26, 47, 39, 28, 20, 27, 15, 39, 36, 25, 29, 42, 24, 41, 39, 26, 29, 24, 25, 31, 25, 3, 29, 39, 26, 40, 37, 30, 27, 29, 35, 20, 28, 38, 29, 22, 38, 31, 25, 24, 24, 35, 29, 36, 18, 19, 24, 26, 26, 25, 25, 26, 29, 27, 27, 33, 23, 20, 27, 25, 39, 45, 33, 31, 22, 35, 25, 29, 47, 31, 25, 39, 32, 25, 25, 27, 35, 30, 30, 33, 26, 24, 32, 30, 41, 22, 27, 28, 44, 28, 20, 46, 30, 23, 37, 37, 36, 33, 38, 28, 47, 32, 45, 32, 28, 40, 50, 25, 33, 34, 36, 38, 23, 29, 18, 27, 36, 34, 26, 42, 28, 45, 33, 16, 31, 22, 33, 25, 31, 44, 25, 37, 29, 3, 38, 39, 37, 44, 29, 34, 25, 24, 26, 22, 23, 49, 35, 36, 35, 23, 33, 29, 36, 23, 27, 30, 36, 25, 30, 34, 15, 28, 27, 34, 31, 31, 26, 25, 31, 25, 35, 30, 26, 25, 20, 20, 33, 33, 24, 31, 32, 16, 30, 33, 37, 25, 25, 23, 30, 38, 25, 19, 38, 39, 44, 19, 44, 37, 43, 33, 35, 28, 51, 31, 21, 20, 43, 23, 31, 35, 28, 28, 37, 36, 29, 26, 52, 30, 44, 16, 30, 29, 23, 28, 16, 24, 26, 37, 28, 26, 15, 30, 33, 38, 33, 40, 39, 40, 26, 21, 31, 45, 32, 40, 26, 39, 39, 25, 35, 28, 35, 26, 16, 39, 21, 37, 14, 22, 31, 29, 29, 36, 25, 20, 31, 29, 21, 38, 32, 18, 33, 28, 36, 36, 19, 19, 39, 29, 20, 3, 26, 20, 23, 45, 20, 28, 38, 35, 23, 26, 18, 20, 15, 30, 12, 23, 26, 29, 23, 31, 17, 15, 44, 33, 15, 26, 29, 24, 17, 21, 20, 26, 36, 36, 20, 39, 40, 22, 31, 37, 30, 22, 24, 40, 36, 27, 21, 40, 36, 37, 46, 33, 18, 32, 30, 29, 22, 28, 30, 30, 27, 45, 37, 27, 44, 32, 30, 38, 45, 41, 32, 25, 43, 16, 28, 33, 36, 35, 22, 31, 27, 36, 32, 29, 31, 43, 33, 28, 24, 37, 31, 3, 33, 20, 21, 26, 44, 32, 27, 28, 43, 25, 22, 28, 38, 30, 33, 25, 22, 26, 39, 16, 30, 35, 34, 35, 23, 26, 30, 21, 21, 31, 35, 31, 34, 28, 29, 35, 27, 20, 3, 27, 34, 24, 22, 36, 21, 41, 22, 44, 25, 24, 15, 23, 20, 30, 38, 30, 40, 32, 15, 33, 34, 31, 28, 3, 32, 35, 35, 36, 40, 37, 3, 30, 25, 38, 41, 26, 28, 51, 23, 28, 35, 34, 32, 35, 40, 26, 45, 26, 40, 29, 23, 22, 38, 30, 20, 31, 22, 15, 32, 35, 35, 18, 22, 29, 25, 30, 33, 45, 22, 30, 19, 40, 29, 25, 42, 26, 26, 29, 32, 19, 36, 28, 20, 25, 25, 27, 3, 3, 21, 32, 34, 31, 23, 41, 31, 32, 27, 41, 30, 29, 26, 33, 26, 26, 50, 37, 39, 25, 32, 27, 50, 29, 33, 24, 29, 20, 28, 30, 22, 52, 32, 30, 36, 30, 23, 23, 37, 27, 37, 33, 42, 34, 38, 20, 31, 25, 35, 21, 34, 31, 31, 19, 33, 20, 40, 44, 29, 29, 15, 33, 31, 3, 24, 35, 45, 15, 22, 29, 26, 28, 30, 41, 42, 30, 39, 48, 30, 30, 24, 39, 25, 26, 32, 29, 22, 38, 35, 26, 30, 27, 31, 23, 39, 30, 28, 33, 33, 33, 38, 30, 36, 33, 39, 29, 30, 23, 23, 25, 30, 40, 28, 33, 39, 23, 32, 45, 3, 33, 32, 45, 31, 31, 30, 28, 29, 30, 28, 40, 39, 23, 24, 25, 39, 41, 38, 26, 23, 44, 30, 37, 23, 37, 35, 28, 28, 31, 50, 43, 27, 21, 35, 20, 20, 48, 22, 36, 20, 36, 29, 32, 45, 38, 28, 23, 22, 51, 24, 39, 16, 28, 26, 29, 35, 31, 32, 31, 33, 21, 35, 40, 26, 26, 24, 26, 3, 31, 28, 27, 25, 15, 35, 34, 39, 28, 39, 23, 35, 24, 46, 22, 33, 34, 32, 30, 20, 25, 25, 24, 24, 20, 28, 36, 27, 29, 31, 20, 22, 22, 28, 31, 33, 34, 28, 35, 30, 26, 27, 31, 51, 33, 18, 33, 31, 30, 35, 26, 29, 36, 26, 23, 19, 23, 37, 39, 24, 45, 37, 35, 21, 34, 36, 31, 33, 38, 30, 24, 25, 24, 20, 37, 30, 27, 30, 37, 38, 43, 44, 25, 31, 30, 3, 18, 31, 44, 25, 37, 25, 32, 28, 34, 16, 26, 32, 38, 26, 51, 40, 28, 37, 33, 25, 20, 21, 20, 23, 23, 34, 34, 15, 38, 41, 39, 37, 31, 34, 30, 25, 52, 27, 29, 42, 41, 31, 40, 33, 21, 23, 37, 20, 30, 28, 24, 22, 35, 36, 31, 29, 29, 35, 24, 15, 29, 36, 33, 28, 18, 34, 28, 44, 32, 35, 33, 22, 30, 32, 27, 45, 32, 34, 37, 28, 14, 40, 31, 28, 35, 36, 30, 38, 28, 30, 37, 29, 39, 27, 15, 39, 23, 39, 28, 19, 35, 28, 29, 31, 46, 32, 39, 30, 34, 26, 37, 34, 27, 37, 36, 20, 29, 29, 30, 30, 32, 15, 22, 27, 35, 28, 31, 29, 34, 32, 28, 22, 24, 32, 22, 31, 39, 24, 34, 26, 42, 34, 43, 26, 41, 26, 40, 28, 21, 28, 29, 25, 25, 32, 28, 18, 27, 37, 35, 46, 42, 15, 26, 48, 27, 40, 31, 34, 39, 39, 32, 25, 21, 23, 32, 35, 33, 36, 24, 31, 27, 27, 25, 19, 30, 31, 44, 21, 33, 19, 27, 40, 30, 29, 40, 31, 29, 41, 39, 35, 24, 22, 34, 36, 28, 45, 32, 33, 33, 31, 27, 27, 25, 40, 27, 23, 22, 32, 34, 18, 27, 33, 35, 15, 27, 23, 19, 30, 22, 24, 40, 32, 35, 48, 20, 28, 21, 31, 25, 18, 43, 29, 37, 33, 25, 37, 36, 20, 24, 37, 51, 3, 29, 25, 20, 34, 30, 27, 37, 35, 29, 37, 26, 43, 25, 28, 38, 36, 35, 26, 37, 41, 23, 28, 33, 38, 40, 35, 23, 39, 28, 32, 33, 34, 32, 36, 31, 28, 38, 3, 36, 30, 3, 24, 30, 25, 28, 33, 21, 3, 40, 21, 39, 27, 22, 29, 33, 26, 31, 31, 28, 36, 40, 25, 29, 30, 32, 23, 31, 36, 34, 27, 34, 39, 25, 32, 46, 29, 27, 36, 3, 46, 22, 33, 25, 41, 28, 22, 29, 42, 22, 25, 26, 41, 35, 27, 26, 28, 36, 30, 26, 29, 30, 45, 35, 32, 46, 34, 53, 30, 36, 20, 26, 42, 33, 33, 27, 33, 42, 28, 26, 34, 24, 45, 21, 32, 26, 25, 31, 25, 28, 26, 12, 29, 24, 35, 19, 51, 34, 35, 30, 29, 22, 34, 31, 20, 28, 30, 36, 32, 3, 19, 18, 39, 40, 35, 28, 20, 31, 25, 30, 26, 42, 26, 25, 31, 35, 35, 22, 3, 30, 30, 28, 25, 36, 15, 24, 22, 22, 38, 29, 26, 33, 30, 31, 39, 35, 23, 25, 44, 23, 36, 29, 26, 31, 25, 19, 30, 25, 29, 26, 27, 36, 30, 29, 32, 29, 32, 32, 33, 21, 37, 28, 29, 26, 45, 23, 3, 34, 30, 28, 27, 32, 27, 29, 26, 37, 37, 27, 28, 36, 23, 28, 29, 29, 35, 3, 26, 24, 26, 36, 40, 32, 25, 33, 30, 27, 23, 28, 34, 36, 28, 40, 25, 28, 26, 21, 23, 23, 21, 26, 25, 30, 33, 20, 44, 33, 43, 33, 30, 33, 43, 34, 35, 24, 20, 19, 25, 28, 50, 31, 31, 19, 27, 32, 35, 3, 30, 32, 24, 33, 29, 32, 41, 20, 31, 21, 19, 27, 25, 20, 16, 28, 49, 32, 32, 24, 23, 40, 37, 30, 27, 45, 26, 29, 33, 38, 28, 32, 36, 35, 47, 37, 27, 25, 23, 31, 31, 33, 24, 28, 36, 34, 43, 25, 32, 3, 34, 32, 31, 42, 22, 45, 34, 24, 30, 36, 29, 33, 26, 35, 41, 34, 29, 33, 35, 20, 24, 19, 57, 33, 32, 12, 25, 34, 48, 22, 23, 31, 24, 31, 35, 29, 27, 22, 23, 21, 21, 37, 28, 30, 19, 28, 40, 25, 47, 27, 39, 37, 35, 36, 31, 25, 24, 26, 28, 35, 30, 32, 46, 43, 29, 28, 32, 24, 25, 38, 34, 43, 31, 31, 33, 3, 23, 33, 44, 25, 10, 37, 35, 27, 46, 42, 21, 34, 34, 26, 3, 45, 22, 41, 29, 27, 49, 30, 25, 37, 41, 36, 26, 40, 24, 38, 28, 26, 34, 34, 19, 27, 30, 25, 26, 36, 25, 33, 22, 17, 30, 40, 34, 37, 34, 29, 51, 20, 25, 34, 27, 41, 30, 49, 24, 34, 3, 21, 29, 21, 24, 39, 37, 21, 38, 37, 25, 24, 35, 34, 37, 40, 21, 32, 20, 24, 29, 55, 29, 34, 31, 20, 31, 27, 30, 27, 32, 21, 32, 20, 29, 22, 32, 30, 42, 31, 35, 25, 33, 3, 27, 37, 40, 29, 43, 46, 30, 40, 45, 37, 40, 20, 28, 3, 35, 32, 31, 27, 52, 23, 42, 27, 25, 34, 23, 3, 23, 26, 33, 35, 15, 32, 39, 15, 31, 39, 20, 24, 25, 42, 28, 3, 34, 32, 28, 48, 24, 28, 40, 43, 44, 32, 25, 49, 29, 24, 34, 27, 35, 20, 30, 32, 36, 26, 30, 20, 46, 27, 21, 36, 35, 21, 23, 22, 26, 28, 3, 30, 39, 39, 25, 19, 22, 36, 35, 30, 31, 43, 43, 46, 33, 43, 21, 21, 37, 26, 3, 20, 28, 44, 30, 29, 40, 41, 23, 34, 31, 51, 22, 37, 40, 29, 52, 37, 32, 17, 28, 15, 45, 28, 33, 15, 33, 50, 36, 40, 24, 20, 25, 23, 25, 37, 36, 36, 22, 36, 29, 33, 31, 29, 35, 26, 29, 33, 39, 19, 31, 24, 28, 25, 28, 27, 24, 29, 26, 38, 21, 26, 35, 35, 20, 28, 27, 31, 35, 26, 39, 31, 43, 26, 35, 31, 25, 30, 21, 39, 30, 51, 37, 37, 30, 19, 15, 31, 38, 38, 31, 38, 21, 36, 42, 29, 27, 23, 21, 27, 42, 34, 32, 26, 25, 33, 27, 45, 33, 29, 39, 39, 29, 39, 32, 37, 32, 31, 30, 24, 36, 34, 37, 37, 20, 35, 26, 20, 19, 20, 26, 22, 42, 32, 28, 36, 35, 42, 32, 34, 25, 39, 25, 19, 26, 33, 28, 33, 34, 29, 28, 37, 38, 37, 26, 29, 23, 3, 27, 37, 31, 36, 30, 25, 40, 3, 24, 32, 22, 19, 31, 28, 33, 50, 35, 36, 26, 31, 21, 27, 38, 3, 33, 25, 35, 34, 34, 30, 32, 34, 38, 16, 25, 28, 25, 25, 31, 31, 20, 33, 26, 32, 21, 26, 31, 37, 30, 27, 34, 40, 32, 21, 31, 22, 3, 29, 31, 16, 33, 33, 41, 34, 37, 33, 34, 24, 36, 24, 39, 26, 29, 3, 24, 31, 37, 27, 30, 32, 25, 27, 23, 33, 33, 15, 35, 3, 22, 32, 32, 49, 30, 44, 27, 30, 34, 35, 38, 29, 27, 36, 30, 23, 30, 28, 38, 22, 31, 31, 38, 36, 29, 26, 43, 15, 25, 32, 27, 21, 24, 24, 31, 33, 43, 32, 21, 24, 17, 23, 37, 39, 41, 38, 33, 15, 26, 25, 34, 19, 40, 36, 24, 21, 51, 32, 21, 33, 33, 3, 24, 37, 28, 24, 31, 26, 32, 38, 33, 19, 25, 30, 36, 29, 41, 37, 27, 28, 37, 15, 26, 62, 22, 41, 30, 20, 29, 32, 29, 40, 40, 30, 33, 27, 36, 38, 39, 19, 30, 34, 35, 29, 26, 24, 20, 26, 40, 35, 28, 21, 27, 41, 31, 31, 23, 15, 36, 18, 38, 32, 35, 38, 21, 23, 30, 39, 25, 28, 42, 38, 22, 34, 18, 29, 42, 38, 36, 36, 29, 31, 31, 38, 28, 39, 30, 25, 23, 26, 35, 23, 39, 28, 30, 24, 36, 27, 25, 28, 45, 19, 25, 29, 20, 36, 22, 19, 27, 42, 25, 32, 26, 32, 3, 26, 23, 15, 31, 23, 40, 20, 29, 29, 20, 32, 31, 45, 29, 18, 29, 24, 29, 3, 35, 37, 34, 40, 33, 28, 45, 17, 29, 25, 34, 19, 29, 25, 29, 27, 22, 27, 27, 47, 24, 32, 29, 41, 32, 37, 31, 36, 36, 29, 43, 16, 28, 22, 40, 21, 37, 27, 30, 29, 35, 3, 3, 38, 40, 25, 29, 32, 29, 41, 27, 31, 34, 45, 27, 33, 32, 24, 27, 35, 24, 28, 23, 44, 41, 38, 38, 37, 27, 28, 40, 35, 29, 26, 26, 30, 25, 26, 29, 34, 28, 37, 26, 21, 29, 32, 33, 43, 39, 37, 31, 35, 26, 24, 32, 32, 29, 31, 33, 32, 35, 31, 34, 32, 24, 33, 33, 25, 37, 35, 50, 3, 30, 36, 44, 23, 24, 36, 28, 38, 37, 39, 23, 34, 30, 34, 30, 24, 24, 22, 40, 32, 34, 41, 28, 32, 21, 29, 37, 47, 34, 28, 25, 3, 25, 23, 45, 29, 38, 3, 23, 28, 34, 37, 26, 39, 35, 15, 29, 22, 21, 46, 26, 27, 27, 37, 26, 25, 37, 29, 28, 21, 21, 40, 29, 23, 37, 26, 20, 15, 41, 24, 20, 36, 32, 45, 23, 20, 30, 39, 35, 26, 39, 29, 30, 29, 40, 36, 24, 27, 23, 31, 32, 28, 35, 37, 41, 42, 36, 21, 41, 21, 26, 34, 36, 27, 28, 24, 22, 43, 23, 35, 26, 15, 41, 15, 39, 32, 15, 41, 19, 27, 28, 28, 32, 32, 27, 27, 31, 24, 29, 49, 27, 27, 31, 26, 34, 23, 21, 15, 41, 29, 25, 22, 34, 25, 39, 31, 24, 32, 15, 26, 21, 16, 27, 34, 25, 32, 37, 29, 17, 31, 30, 30, 3, 31, 27, 26, 38, 3, 40, 24, 35, 34, 20, 30, 26, 54, 30, 30, 29, 33, 32, 26, 45, 45, 30, 32, 28, 27, 27, 38, 39, 33, 27, 21, 22, 25, 40, 30, 32, 39, 33, 24, 31, 43, 35, 3, 31, 46, 28, 34, 30, 30, 22, 30, 39, 20, 30, 33, 19, 28, 28, 29, 35, 17, 42, 44, 16, 51, 29, 22, 25, 22, 27, 42, 28, 21, 25, 42, 40, 53, 33, 31, 33, 22, 29, 24, 34, 27, 29, 24, 26, 42, 27, 16, 19, 15, 35, 55, 34, 35, 44, 42, 27, 3, 21, 28, 38, 40, 37, 40, 38, 27, 25, 27, 21, 34, 29, 30, 31, 20, 28, 37, 27, 20, 29, 27, 35, 20, 36, 3, 22, 26, 29, 28, 28, 29, 42, 26, 26, 29, 31, 25, 21, 31, 22, 32, 35, 16, 18, 34, 30, 26, 20, 35, 26, 32, 34, 40, 30, 39, 30, 29, 37, 25, 31, 32, 31, 26, 28, 29, 37, 43, 36, 22, 35, 26, 26, 30, 39, 19, 27, 26, 39, 20, 17, 35, 3, 28, 38, 3, 36, 39, 32, 28, 27, 35, 28, 39, 46, 35, 38, 29, 3, 31, 29, 30, 20, 32, 23, 39, 20, 25, 3, 28, 30, 29, 3, 31, 31, 31, 25, 34, 28, 37, 16, 25, 16, 26, 50, 26, 29, 37, 46, 33, 28, 22, 21, 37, 39, 22, 21, 30, 32, 3, 43, 27, 34, 28, 34, 46, 36, 30, 31, 31, 33, 30, 29, 29, 15, 27, 24, 30, 29, 21, 34, 27, 20, 31, 33, 31, 38, 36, 41, 26, 26, 41, 40, 31, 34, 35, 30, 25, 38, 24, 37, 18, 25, 26, 25, 22, 45, 28, 16, 35, 28, 31, 25, 23, 32, 37, 32, 36, 37, 41, 30, 25, 29, 27, 28, 25, 27, 29, 27, 26, 50, 26, 35, 33, 21, 15, 19, 43, 33, 27, 37, 24, 35, 28, 42, 27, 50, 40, 15, 29, 35, 37, 24, 15, 31, 33, 28, 32, 30, 26, 22, 30, 22, 37, 33, 27, 20, 31, 30, 40, 34, 31, 34, 34, 28, 38, 52, 29, 43, 37, 22, 33, 34, 24, 33, 34, 35, 27, 32, 28, 19, 28, 29, 24, 23, 33, 24, 25, 15, 35, 22, 33, 37, 21, 40, 33, 31, 40, 29, 40, 29, 28, 36, 38, 35, 37, 29, 40, 44, 30, 34, 30, 29, 26, 39, 24, 41, 46, 25, 33, 30, 32, 22, 22, 23, 27, 31, 15, 31, 28, 41, 20, 24, 22, 31, 35, 37, 18, 34, 37, 35, 43, 17, 34, 25, 42, 28, 33, 34, 31, 19, 36, 37, 35, 30, 3, 43, 31, 22, 15, 23, 19, 22, 40, 28, 19, 29, 24, 47, 29, 25, 24, 38, 21, 42, 29, 24, 46, 23, 32, 26, 27, 18, 16, 34, 27, 38, 27, 31, 33, 24, 39, 33, 29, 27, 48, 24, 33, 29, 43, 34, 38, 31, 51, 40, 34, 40, 24, 19, 21, 33, 42, 26, 27, 40, 29, 40, 32, 15, 41, 3, 50, 28, 32, 33, 22, 33, 24, 29, 3, 30, 25, 30, 21, 30, 20, 31, 27, 38, 24, 26, 35, 28, 36, 43, 27, 44, 37, 28, 17, 38, 39, 35, 37, 31, 19, 23, 27, 30, 27, 19, 35, 22, 28, 22, 21, 31, 33, 36, 42, 48, 35, 15, 35, 39, 18, 27, 34, 27, 33, 31, 29, 18, 27, 26, 33, 27, 52, 50, 24, 22, 3, 28, 31, 28, 31, 35, 31, 21, 26, 15, 36, 22, 15, 27, 25, 23, 23, 28, 27, 23, 19, 26, 19, 23, 35, 28, 32, 25, 37, 18, 29, 26, 22, 29, 24, 45, 45, 31, 27, 34, 17, 37, 20, 21, 20, 32, 23, 31, 46, 27, 35, 40, 3, 24, 37, 39, 36, 27, 33, 27, 21, 26, 32, 35, 3, 27, 15, 41, 45, 31, 42, 31, 30, 3, 24, 33, 28, 49, 3, 26, 38, 38, 20, 33, 41, 38, 26, 36, 35, 31, 36, 20, 36, 43, 38, 26, 36, 27, 31, 25, 29, 25, 29, 29, 33, 22, 30, 31, 33, 34, 28, 27, 43, 32, 36, 20, 26, 33, 40, 30, 29, 34, 37, 38, 29, 3, 34, 30, 30, 30, 41, 29, 43, 17, 35, 23, 18, 29, 25, 27, 33, 19, 28, 29, 38, 33, 43, 34, 16, 3, 33, 21, 35, 24, 41, 25, 27, 54, 34, 27, 28, 32, 30, 25, 24, 3, 34, 33, 31, 32, 28, 25, 32, 30, 22, 30, 3, 33, 35, 26, 44, 30, 29, 21, 26, 51, 28, 36, 29, 28, 21, 31, 33, 29, 31, 26, 36, 39, 40, 42, 27, 19, 3, 27, 38, 52, 36, 47, 15, 27, 34, 39, 32, 23, 22, 29, 26, 21, 24, 32, 29, 41, 28, 27, 15, 36, 19, 30, 26, 31, 27, 30, 34, 29, 23, 25, 22, 25, 3, 19, 20, 39, 30, 16, 45, 31, 39, 47, 33, 3, 43, 37, 3, 3, 29, 37, 19, 27, 24, 28, 26, 32, 26, 34, 22, 28, 36, 27, 39, 33, 32, 27, 29, 22, 27, 40, 37, 34, 35, 26, 31, 46, 28, 30, 35, 27, 29, 32, 22, 42, 21, 20, 35, 36, 33, 29, 34, 23, 32, 45, 36, 19, 28, 34, 19, 30, 28, 23, 21, 29, 16, 24, 34, 27, 35, 30, 27, 33, 34, 38, 31, 32, 24, 38, 26, 35, 48, 30, 24, 28, 24, 21, 32, 29, 41, 46, 35, 30, 22, 20, 25, 16, 37, 31, 32, 28, 23, 12, 31, 39, 35, 29, 38, 35, 32, 28, 41, 30, 23, 31, 22, 27, 3, 34, 28, 28, 24, 37, 25, 22, 31, 30, 15, 30, 33, 29, 37, 40, 31, 38, 25, 44, 18, 34, 21, 36, 28, 33, 34, 28, 38, 28, 24, 27, 29, 51, 40, 3, 34, 40, 29, 21, 26, 29, 36, 20, 15, 30, 15, 23, 35, 27, 32, 32, 20, 21, 34, 32, 24, 34, 19, 27, 35, 25, 3, 28, 29, 22, 36, 26, 42, 43, 39, 27, 29, 32, 27, 37, 27, 30, 27, 16, 33, 25, 35, 29, 29, 39, 31, 30, 33, 27, 22, 30, 35, 32, 31, 26, 23, 24, 15, 30, 33, 39, 43, 22, 32, 28, 27, 3, 31, 34, 39, 18, 25, 20, 43, 37, 3, 26, 32, 37, 31, 28, 37, 28, 3, 3, 35, 25, 23, 29, 22, 23, 25, 34, 3, 29, 28, 24, 27, 32, 32, 29, 31, 3, 35, 23, 3, 28, 38, 36, 36, 22, 19, 35, 23, 41, 34, 42, 3, 22, 23, 35, 35, 45, 39, 24, 29, 21, 39, 37, 30, 23, 15, 26, 16, 26, 24, 28, 31, 34, 23, 41, 27, 23, 30, 27, 21, 30, 23, 35, 23, 30, 38, 48, 29, 40, 40, 31, 22, 23, 29, 26, 30, 18, 32, 30, 22, 27, 38, 29, 30, 38, 23, 33, 33, 28, 52, 30, 33, 33, 39, 42, 20, 3, 27, 39, 22, 21, 18, 31, 33, 25, 25, 49, 50, 24, 30, 36, 27, 28, 37, 21, 33, 32, 30, 20, 25, 20, 27, 24, 32, 15, 27, 55, 30, 22, 35, 37, 22, 42, 19, 27, 28, 47, 37, 30, 30, 50, 22, 15, 39, 36, 33, 16, 34, 26, 23, 44, 36, 28, 27, 48, 31, 23, 42, 29, 41, 31, 27, 38, 33, 27, 3, 29, 33, 27, 45, 30, 39, 30, 33, 27, 19, 32, 19, 23, 33, 35, 36, 38, 21, 20, 36, 31, 30, 20, 33, 43, 23, 36, 42, 29, 21, 37, 32, 29, 36, 27, 15, 25, 18, 33, 23, 30, 38, 28, 33, 32, 28, 38, 47, 28, 25, 37, 40, 30, 31, 16, 3, 23, 38, 20, 41, 37, 17, 22, 24, 34, 21, 24, 39, 26, 32, 40, 25, 38, 42, 42, 38, 34, 30, 25, 41, 24, 25, 40, 30, 31, 36, 30, 32, 33, 38, 32, 31, 36, 35, 35, 34, 23, 33, 34, 45, 30, 19, 28, 31, 20, 33, 27, 24, 29, 32, 42, 27, 32, 27, 42, 27, 34, 30, 24, 20, 18, 20, 37, 32, 37, 38, 34, 24, 30, 31, 36, 39, 30, 35, 38, 31, 32, 37, 26, 47, 39, 30, 28, 50, 31, 41, 25, 32, 43, 39, 31, 22, 27, 26, 42, 30, 30, 55, 32, 31, 28, 23, 15, 37, 24, 31, 30, 30, 37, 41, 37, 27, 29, 34, 22, 26, 28, 23, 24, 28, 53, 23, 27, 3, 29, 31, 26, 21, 28, 34, 18, 30, 18, 30, 32, 22, 22, 25, 22, 37, 39, 37, 36, 47, 17, 41, 34, 40, 28, 21, 26, 26, 18, 26, 19, 20, 32, 33, 26, 36, 45, 21, 40, 32, 24, 27, 15, 29, 29, 29, 35, 23, 23, 30, 30, 30, 36, 26, 31, 24, 23, 21, 25, 15, 27, 34, 26, 37, 3, 27, 21, 32, 29, 26, 28, 25, 18, 35, 22, 38, 20, 45, 29, 36, 29, 31, 39, 29, 26, 34, 24, 30, 29, 40, 38, 37, 24, 37, 29, 30, 41, 33, 26, 31, 41, 21, 21, 33, 35, 20, 42, 24, 42, 24, 35, 26, 25, 34, 33, 33, 28, 26, 37, 26, 37, 21, 43, 24, 35, 41, 20, 29, 24, 34, 35, 26, 45, 39, 29, 33, 27, 45, 34, 35, 33, 38, 32, 47, 3, 23, 33, 20, 3, 31, 38, 39, 28, 26, 48, 39, 31, 3, 26, 31, 32, 31, 34, 43, 48, 30, 27, 42, 31, 30, 21, 34, 26, 36, 33, 42, 40, 37, 37, 30, 33, 27, 27, 35, 28, 25, 36, 24, 21, 31, 22, 24, 31, 34, 34, 40, 3, 30, 32, 41, 34, 26, 35, 26, 26, 37, 27, 37, 36, 26, 24, 23, 30, 32, 35, 15, 22, 19, 27, 37, 37, 45, 23, 33, 39, 32, 41, 30, 22, 35, 24, 53, 35, 19, 36, 27, 33, 25, 21, 31, 47, 35, 18, 34, 32, 30, 32, 31, 36, 27, 36, 28, 45, 24, 25, 30, 21, 40, 27, 35, 37, 29, 43, 32, 3, 43, 23, 24, 30, 38, 35, 35, 34, 33, 27, 25, 31, 38, 25, 40, 52, 29, 22, 32, 32, 40, 26, 41, 31, 31, 32, 33, 38, 33, 26, 24, 20, 24, 28, 25, 19, 28, 27, 30, 35, 21, 26, 30, 32, 30, 29, 22, 26, 30, 26, 34, 26, 32, 33, 28, 16, 39, 37, 25, 3, 16, 34, 40, 34, 21, 33, 29, 25, 32, 26, 43, 30, 40, 25, 29, 26, 31, 29, 29, 18, 24, 38, 35, 24, 28, 28, 23, 18, 40, 25, 26, 26, 19, 28, 20, 28, 28, 34, 34, 18, 30, 29, 32, 47, 30, 39, 19, 35, 26, 21, 21, 38, 49, 37, 28, 33, 23, 30, 40, 44, 23, 36, 30, 30, 26, 33, 3, 21, 27, 35, 29, 38, 45, 41, 40, 34, 31, 30, 42, 36, 28, 44, 47, 21, 28, 46, 24, 31, 35, 15, 23, 43, 41, 30, 36, 24, 29, 34, 3, 32, 28, 41, 26, 33, 36, 29, 34, 15, 37, 26, 24, 23, 36, 31, 32, 29, 27, 38, 28, 29, 24, 15, 24, 20, 33, 45, 24, 40, 45, 37, 44, 30, 24, 35, 30, 26, 3, 36, 20, 16, 28, 28, 35, 34, 41, 26, 32, 31, 20, 29, 31, 24, 28, 32, 39, 23, 44, 45, 30, 40, 55, 29, 33, 23, 33, 30, 29, 36, 20, 3, 26, 23, 24, 33, 28, 38, 35, 28, 21, 33, 36, 30, 40, 27, 49, 32, 21, 30, 28, 32, 28, 30, 41, 31, 27, 24, 22, 26, 43, 42, 15, 36, 51, 15, 29, 32, 42, 22, 18, 37, 38, 30, 43, 35, 20, 25, 38, 35, 37, 23, 27, 30, 29, 29, 26, 26, 20, 29, 30, 19, 35, 26, 3, 23, 37, 32, 34, 43, 31, 35, 15, 26, 25, 27, 30, 36, 26, 30, 21, 29, 35, 34, 36, 24, 29, 31, 42, 23, 63, 28, 36, 41, 24, 28, 33, 28, 30, 29, 50, 42, 22, 37, 25, 32, 31, 23, 34, 15, 36, 32, 12, 28, 36, 35, 33, 28, 26, 34, 20, 24, 32, 36, 15, 39, 45, 32, 25, 20, 43, 20, 26, 32, 35, 28, 48, 24, 22, 35, 19, 31, 37, 30, 28, 30, 25, 25, 47, 31, 15, 32, 45, 25, 36, 39, 27, 3, 26, 45, 23, 15, 24, 38, 42, 41, 26, 33, 33, 41, 31, 26, 35, 45, 28, 26, 27, 41, 35, 39, 31, 20, 22, 27, 3, 32, 3, 35, 35, 22, 38, 39, 27, 37, 3, 22, 30, 32, 28, 32, 35, 32, 37, 31, 25, 33, 37, 35, 24, 25, 35, 31, 20, 33, 21, 25, 26, 49, 28, 24, 33, 35, 27, 19, 29, 36, 37, 29, 20, 21, 31, 29, 47, 41, 28, 38, 33, 29, 30, 37, 38, 25, 32, 27, 26, 30, 28, 32, 23, 23, 34, 27, 24, 33, 30, 15, 27, 31, 32, 38, 50, 27, 25, 29, 40, 36, 24, 27, 32, 19, 33, 31, 28, 34, 33, 22, 26, 48, 29, 29, 32, 26, 33, 27, 28, 44, 28, 28, 42, 30, 22, 3, 33, 23, 30, 29, 37, 24, 34, 26, 26, 37, 20, 27, 22, 39, 40, 39, 32, 42, 35, 29, 19, 25, 18, 26, 42, 23, 37, 18, 39, 28, 38, 37, 31, 29, 23, 41, 27, 36, 44, 28, 26, 38, 19, 33, 25, 18, 22, 27, 15, 28, 21, 37, 25, 20, 39, 33, 40, 25, 26, 24, 28, 19, 28, 22, 32, 27, 40, 30, 32, 22, 32, 34, 40, 19, 28, 37, 24, 24, 3, 31, 27, 40, 34, 38, 28, 35, 33, 21, 31, 24, 30, 23, 41, 19, 27, 29, 28, 35, 34, 39, 35, 20, 26, 15, 35, 24, 30, 26, 42, 23, 33, 34, 20, 35, 29, 22, 15, 28, 30, 29, 33, 28, 36, 37, 25, 41, 28, 30, 42, 29, 33, 27, 25, 24, 3, 36, 43, 22, 32, 28, 26, 23, 35, 27, 39, 26, 25, 33, 33, 32, 31, 31, 16, 27, 27, 35, 15, 25, 36, 26, 24, 23, 27, 29, 34, 25, 33, 34, 28, 22, 34, 38, 36, 38, 32, 24, 28, 36, 28, 35, 26, 44, 19, 37, 30, 28, 21, 31, 3, 23, 28, 26, 15, 45, 15, 18, 32, 26, 15, 27, 20, 29, 33, 38, 40, 3, 28, 34, 26, 35, 33, 20, 28, 29, 28, 25, 27, 43, 23, 26, 20, 38, 33, 36, 29, 3, 36, 39, 36, 20, 55, 24, 28, 32, 31, 22, 29, 29, 23, 35, 39, 26, 26, 32, 43, 22, 29, 33, 20, 26, 22, 38, 42, 36, 40, 37, 21, 31, 24, 31, 31, 40, 33, 3, 46, 22, 39, 42, 26, 48, 32, 20, 25, 33, 21, 31, 33, 34, 28, 30, 33, 23, 22, 42, 19, 30, 34, 27, 31, 30, 29, 22, 25, 33, 26, 27, 15, 36, 30, 24, 31, 36, 30, 28, 25, 35, 24, 3, 34, 27, 39, 24, 40, 22, 29, 32, 26, 42, 26, 29, 30, 28, 3, 32, 40, 30, 26, 33, 38, 34, 43, 31, 27, 40, 32, 35, 29, 33, 27, 27, 28, 25, 35, 25, 30, 26, 37, 31, 40, 26, 35, 23, 18, 27, 43, 38, 24, 40, 38, 27, 25, 36, 46, 21, 38, 18, 31, 33, 37, 27, 28, 41, 20, 38, 42, 30, 31, 28, 25, 29, 16, 51, 38, 35, 38, 23, 26, 22, 20, 24, 22, 22, 17, 19, 40, 30, 30, 33, 22, 26, 38, 43, 28, 23, 12, 58, 30, 32, 31, 21, 33, 22, 32, 25, 3, 38, 16, 34, 31, 36, 30, 30, 24, 25, 29, 32, 44, 22, 33, 29, 37, 43, 30, 36, 26, 33, 17, 31, 24, 28, 22, 31, 22, 38, 25, 35, 44, 42, 50, 33, 28, 33, 43, 33, 29, 29, 50, 25, 26, 36, 24, 27, 31, 39, 24, 35, 30, 35, 36, 3, 40, 26, 36, 27, 26, 38, 30, 43, 39, 32, 30, 43, 17, 27, 42, 31, 29, 35, 34, 31, 20, 27, 31, 25, 35, 37, 29, 38, 3, 34, 33, 37, 22, 41, 37, 33, 3, 29, 22, 3, 35, 28, 36, 32, 28, 36, 29, 70, 3, 34, 28, 31, 31, 46, 15, 24, 43, 31, 24, 28, 31, 21, 25, 24, 44, 43, 33, 28, 34, 20, 21, 35, 32, 28, 18, 31, 39, 34, 25, 33, 28, 29, 29, 29, 29, 31, 24, 20, 29, 26, 42, 29, 34, 28, 31, 40, 3, 35, 21, 44, 25, 29, 30, 29, 38, 41, 31, 28, 24, 37, 29, 36, 23, 29, 28, 36, 15, 25, 13, 24, 34, 33, 32, 23, 30, 30, 42, 30, 30, 51, 32, 40, 28, 39, 20, 31, 26, 49, 34, 34, 21, 34, 23, 38, 40, 32, 27, 33, 30, 38, 29, 35, 33, 35, 20, 33, 27, 38, 15, 36, 27, 29, 34, 3, 21, 27, 25, 34, 3, 21, 3, 31, 25, 32, 31, 38, 44, 29, 25, 39, 33, 26, 37, 15, 23, 25, 29, 33, 36, 3, 38, 33, 26, 27, 20, 29, 33, 26, 31, 30, 37, 30, 18, 27, 26, 41, 28, 32, 35, 37, 30, 48, 33, 51, 35, 35, 22, 37, 31, 3, 35, 30, 30, 31, 3, 29, 30, 28, 32, 35, 33, 30, 18, 25, 29, 34, 44, 36, 31, 3, 28, 28, 22, 38, 30, 38, 37, 42, 25, 23, 40, 34, 31, 33, 31, 30, 35, 24, 44, 45, 28, 25, 35, 35, 30, 31, 48, 39, 29, 35, 35, 25, 44, 16, 34, 33, 36, 21, 40, 42, 26, 34, 41, 24, 29, 26, 28, 41, 17, 32, 23, 34, 32, 25, 27, 34, 39, 29, 30, 29, 15, 35, 26, 36, 40, 20, 37, 38, 25, 23, 34, 28, 33, 22, 30, 37, 22, 31, 38, 26, 21, 38, 26, 27, 32, 30, 27, 27, 19, 21, 36, 32, 31, 22, 37, 43, 32, 43, 32, 30, 23, 22, 47, 18, 24, 39, 15, 34, 22, 31, 32, 27, 33, 35, 41, 29, 39, 30, 34, 30, 21, 35, 30, 36, 28, 15, 40, 39, 29, 27, 47, 21, 25, 33, 28, 43, 38, 35, 27, 38, 41, 32, 35, 25, 31, 15, 37, 35, 22, 35, 34, 28, 25, 21, 43, 31, 21, 50, 21, 25, 29, 25, 25, 23, 29, 38, 36, 33, 30, 39, 40, 29, 25, 24, 30, 41, 37, 32, 24, 20, 26, 25, 22, 28, 31, 27, 21, 29, 17, 28, 36, 24, 23, 23, 36, 35, 29, 35, 26, 18, 34, 42, 34, 26, 26, 33, 36, 29, 22, 30, 43, 29, 32, 38, 15, 39, 28, 32, 35, 30, 22, 32, 20, 55, 44, 32, 26, 39, 40, 39, 38, 29, 39, 38, 27, 16, 30, 25, 38, 29, 39, 25, 45, 40, 24, 29, 29, 16, 38, 21, 53, 31, 23, 26, 29, 34, 42, 38, 32, 27, 23, 33, 23, 24, 26, 40, 22, 31, 27, 30, 44, 41, 25, 32, 29, 29, 22, 45, 33, 28, 39, 15, 31, 34, 30, 45, 44, 36, 35, 43, 24, 33, 27, 26, 37, 31, 30, 36, 40, 37, 21, 26, 31, 43, 45, 33, 25, 24, 37, 28, 22, 39, 37, 19, 20, 33, 30, 33, 3, 22, 36, 40, 28, 20, 44, 26, 33, 36, 37, 32, 44, 22, 26, 41, 27, 43, 34, 30, 26, 26, 37, 33, 32, 31, 37, 40, 26, 47, 33, 31, 36, 21, 29, 23, 31, 28, 38, 25, 27, 26, 33, 44, 37, 38, 23, 31, 32, 29, 27, 29, 51, 33, 26, 30, 51, 32, 30, 23, 30, 3, 24, 30, 31, 29, 45, 38, 36, 21, 16, 19, 39, 34, 28, 25, 38, 29, 30, 17, 32, 27, 3, 31, 27, 26, 30, 34, 29, 21, 34, 29, 34, 37, 33, 37, 28, 48, 30, 25, 38, 3, 36, 22, 24, 28, 36, 30, 37, 37, 39, 22, 27, 30, 34, 28, 32, 39, 25, 43, 27, 27, 32, 29, 35, 35, 15, 36, 30, 44, 27, 42, 29, 28, 28, 33, 24, 43, 33, 39, 54, 26, 25, 41, 23, 42, 27, 35, 37, 28, 44, 29, 37, 28, 35, 27, 38, 31, 22, 35, 27, 30, 39, 45, 43, 40, 26, 21, 17, 32, 34, 40, 31, 20, 50, 27, 44, 35, 24, 21, 27, 31, 20, 40, 33, 31, 27, 26, 29, 31, 22, 30, 3, 29, 35, 22, 33, 33, 24, 56, 39, 26, 18, 24, 23, 30, 26, 26, 32, 32, 31, 25, 3, 31, 26, 51, 36, 33, 32, 29, 30, 31, 29, 36, 19, 19, 28, 32, 29, 26, 33, 32, 21, 3, 54, 33, 30, 35, 27, 41, 44, 33, 29, 35, 31, 15, 59, 20, 35, 27, 46, 34, 32, 31, 44, 18, 27, 36, 31, 3, 26, 35, 42, 22, 40, 20, 33, 22, 30, 17, 23, 27, 29, 24, 36, 38, 3, 28, 34, 28, 43, 37, 46, 37, 35, 22, 27, 29, 30, 25, 31, 35, 33, 34, 24, 30, 20, 22, 27, 19, 16, 23, 24, 40, 28, 32, 34, 31, 36, 38, 28, 29, 24, 21, 27, 35, 33, 40, 39, 31, 26, 21, 33, 22, 30, 23, 45, 27, 31, 3, 29, 29, 15, 46, 31, 24, 30, 26, 42, 26, 40, 35, 38, 32, 32, 21, 39, 33, 39, 24, 31, 16, 32, 29, 34, 34, 24, 37, 25, 34, 23, 41, 33, 28, 30, 36, 46, 28, 32, 25, 28, 36, 30, 37, 36, 24, 25, 17, 45, 24, 36, 32, 30, 20, 28, 31, 17, 33, 37, 32, 37, 35, 25, 29, 36, 31, 34, 25, 27, 36, 21, 22, 13, 22, 37, 30, 43, 19, 30, 27, 29, 29, 38, 28, 39, 34, 33, 31, 41, 45, 50, 31, 38, 29, 33, 41, 21, 24, 24, 21, 22, 23, 22, 29, 37, 38, 28, 22, 42, 25, 41, 25, 36, 31, 25, 37, 29, 28, 36, 26, 30, 39, 32, 26, 25, 21, 22, 26, 40, 21, 29, 22, 20, 21, 26, 27, 24, 38, 33, 34, 32, 39, 45, 30, 33, 24, 29, 44, 19, 30, 21, 37, 32, 20, 24, 25, 3, 31, 40, 38, 28, 31, 24, 19, 3, 28, 41, 31, 23, 31, 35, 27, 34, 33, 28, 28, 37, 32, 29, 31, 34, 25, 3, 26, 39, 32, 33, 24, 3, 46, 33, 44, 27, 32, 39, 26, 28, 32, 3, 33, 19, 23, 22, 37, 22, 33, 29, 41, 20, 34, 34, 23, 32, 15, 3, 34, 30, 30, 27, 29, 20, 29, 26, 29, 35, 50, 44, 38, 23, 39, 30, 26, 25, 48, 32, 22, 23, 17, 38, 35, 24, 35, 18, 30, 38, 38, 20, 21, 24, 31, 44, 32, 21, 30, 28, 3, 16, 36, 34, 26, 21, 42, 36, 45, 42, 37, 22, 27, 37, 29, 21, 28, 27, 37, 31, 31, 36, 37, 27, 40, 40, 29, 38, 31, 47, 59, 32, 42, 28, 29, 25, 15, 22, 45, 30, 15, 23, 35, 26, 22, 28, 34, 27, 29, 25, 23, 30, 28, 50, 3, 3, 28, 26, 24, 32, 23, 33, 3, 28, 28, 30, 25, 20, 42, 23, 41, 19, 37, 27, 39, 29, 42, 26, 25, 20, 28, 25, 35, 32, 38, 36, 33, 36, 40, 30, 29, 51, 34, 31, 28, 29, 22, 27, 27, 36, 28, 30, 39, 25, 22, 22, 39, 30, 31, 29, 34, 29, 23, 26, 30, 25, 25, 29, 29, 26, 32, 30, 54, 18, 41, 27, 21, 34, 43, 31, 34, 30, 23, 29, 27, 19, 28, 33, 28, 32, 28, 32, 26, 34, 19, 22, 32, 23, 36, 3, 23, 24, 36, 36, 31, 34, 31, 20, 29, 29, 23, 32, 35, 20, 28, 24, 20, 44, 45, 33, 29, 31, 27, 46, 16, 34, 23, 31, 25, 27, 47, 28, 38, 42, 37, 34, 32, 3, 15, 40, 25, 33, 31, 31, 39, 44, 3, 34, 32, 33, 34, 24, 36, 26, 27, 37, 22, 29, 29, 32, 19, 31, 40, 43, 27, 33, 27, 35, 46, 36, 40, 27, 26, 33, 38, 34, 29, 15, 22, 34, 48, 31, 37, 31, 30, 34, 32, 40, 32, 31, 19, 28, 27, 19, 22, 22, 31, 29, 34, 25, 35, 35, 36, 3, 32, 21, 21, 26, 36, 27, 20, 30, 37, 24, 28, 21, 34, 33, 35, 32, 24, 22, 29, 3, 33, 28, 29, 26, 25, 28, 28, 29, 23, 23, 32, 32, 48, 35, 24, 45, 34, 33, 33, 27, 31, 45, 37, 35, 35, 22, 25, 3, 30, 28, 34, 44, 32, 28, 30, 26, 24, 32, 37, 30, 43, 27, 26, 36, 35, 27, 22, 37, 29, 41, 27, 30, 22, 20, 39, 32, 39, 27, 38, 35, 48, 22, 32, 24, 22, 43, 30, 16, 24, 29, 36, 41, 30, 30, 35, 31, 24, 31, 31, 39, 25, 23, 27, 31, 53, 36, 32, 15, 44, 32, 30, 33, 21, 26, 29, 46, 47, 41, 3, 30, 28, 25, 19, 41, 20, 24, 24, 27, 22, 36, 24, 34, 25, 26, 29, 29, 31, 32, 31, 36, 22, 3, 18, 30, 41, 27, 42, 24, 31, 38, 25, 31, 23, 31, 51, 27, 3, 37, 45, 42, 26, 30, 28, 36, 29, 41, 30, 41, 29, 38, 44, 28, 25, 31, 27, 29, 36, 24, 22, 24, 30, 26, 33, 35, 32, 15, 19, 21, 35, 24, 23, 28, 17, 41, 23, 24, 42, 33, 30, 27, 15, 28, 42, 29, 32, 41, 33, 26, 23, 18, 15, 31, 29, 26, 42, 27, 39, 39, 35, 37, 32, 3, 35, 22, 41, 16, 26, 34, 31, 23, 43, 55, 32, 17, 32, 32, 46, 31, 17, 28, 3, 45, 21, 30, 28, 33, 3, 37, 38, 36, 20, 25, 25, 25, 20, 27, 31, 27, 21, 34, 3, 33, 52, 27, 51, 42, 32, 48, 34, 34, 31, 3, 26, 15, 31, 51, 31, 41, 31, 29, 22, 28, 43, 30, 27, 28, 36, 40, 37, 39, 24, 31, 28, 28, 15, 29, 32, 21, 41, 49, 41, 44, 20, 34, 28, 29, 24, 3, 16, 20, 44, 31, 29, 22, 21, 23, 26, 41, 49, 19, 31, 40, 26, 23, 31, 17, 27, 48, 23, 29, 27, 27, 17, 30, 22, 18, 38, 31, 34, 26, 38, 34, 28, 36, 39, 37, 27, 22, 19, 27, 36, 29, 30, 26, 28, 44, 36, 26, 32, 29, 3, 25, 27, 24, 25, 37, 32, 32, 34, 27, 35, 31, 41, 26, 22, 43, 15, 32, 32, 25, 47, 30, 35, 29, 22, 45, 29, 28, 33, 30, 29, 18, 31, 31, 33, 26, 36, 17, 27, 35, 25, 30, 32, 29, 36, 24, 37, 45, 23, 23, 41, 30, 27, 31, 49, 22, 43, 37, 21, 28, 27, 28, 33, 28, 42, 27, 23, 43, 44, 37, 15, 21, 28, 39, 21, 27, 31, 20, 26, 42, 38, 20, 29, 45, 32, 30, 31, 32, 24, 34, 36, 26, 27, 38, 59, 28, 32, 3, 31, 26, 42, 23, 35, 19, 28, 28, 26, 26, 33, 41, 40, 23, 29, 19, 20, 36, 30, 30, 29, 37, 25, 31, 43, 36, 11, 3, 30, 31, 28, 21, 34, 22, 41, 36, 28, 44, 20, 28, 36, 22, 20, 41, 45, 33, 22, 33, 24, 38, 21, 29, 40, 34, 30, 28, 34, 32, 35, 38, 20, 34, 30, 24, 32, 27, 31, 23, 37, 22, 31, 34, 25, 41, 53, 33, 32, 38, 44, 28, 40, 24, 32, 34, 29, 32, 35, 23, 28, 47, 32, 41, 32, 44, 31, 27, 21, 23, 31, 37, 35, 25, 32, 25, 29, 26, 25, 43, 34, 26, 3, 36, 28, 27, 42, 36, 33, 3, 27, 33, 26, 33, 33, 27, 34, 25, 27, 44, 33, 23, 41, 34, 40, 46, 32, 32, 3, 38, 28, 53, 26, 25, 39, 34, 23, 27, 37, 31, 23, 29, 40, 16, 18, 37, 26, 34, 33, 36, 34, 29, 30, 22, 29, 25, 32, 27, 46, 24, 36, 26, 26, 37, 37, 23, 40, 41, 30, 28, 31, 25, 39, 24, 36, 32, 21, 28, 40, 24, 29, 16, 26, 20, 33, 29, 29, 31, 37, 34, 33, 20, 27, 24, 35, 35, 31, 39, 24, 37, 31, 31, 48, 56, 28, 30, 28, 43, 44, 29, 30, 39, 29, 36, 24, 21, 51, 28, 27, 25, 26, 35, 35, 20, 15, 11, 34, 35, 24, 33, 32, 33, 31, 32, 30, 19, 22, 35, 51, 24, 23, 29, 31, 25, 24, 30, 22, 22, 39, 37, 31, 39, 22, 22, 28, 32, 23, 30, 20, 39, 27, 25, 29, 39, 37, 29, 43, 27, 36, 15, 35, 25, 34, 23, 26, 15, 33, 29, 26, 30, 49, 31, 43, 20, 46, 35, 21, 23, 29, 19, 26, 33, 24, 25, 29, 26, 26, 21, 45, 25, 25, 30, 28, 33, 23, 35, 3, 28, 27, 20, 19, 25, 29, 38, 35, 32, 31, 25, 3, 31, 27, 37, 31, 21, 22, 31, 20, 25, 34, 33, 37, 31, 40, 22, 40, 26, 33, 31, 39, 25, 30, 25, 31, 16, 22, 47, 33, 35, 33, 49, 30, 36, 36, 27, 15, 28, 40, 35, 20, 23, 15, 33, 34, 28, 27, 26, 32, 26, 37, 17, 23, 29, 24, 33, 33, 28, 19, 31, 45, 45, 29, 36, 32, 34, 38, 39, 32, 41, 27, 31, 37, 38, 44, 28, 34, 42, 40, 20, 41, 27, 15, 25, 33, 31, 26, 39, 42, 41, 20, 36, 30, 30, 18, 39, 29, 29, 29, 28, 39, 32, 41, 27, 28, 31, 29, 17, 31, 32, 38, 33, 31, 25, 33, 27, 15, 16, 41, 29, 40, 25, 22, 15, 26, 28, 24, 29, 28, 34, 24, 38, 29, 23, 46, 31, 38, 22, 27, 32, 23, 26, 29, 25, 19, 37, 39, 38, 30, 35, 41, 34, 30, 29, 24, 34, 21, 22, 34, 38, 33, 34, 23, 36, 39, 40, 43, 31, 41, 33, 29, 18, 46, 28, 26, 31, 24, 28, 24, 28, 32, 50, 27, 14, 35, 32, 31, 32, 33, 23, 16, 38, 31, 37, 24, 20, 30, 19, 34, 33, 37, 22, 35, 35, 41, 44, 3, 35, 33, 34, 32, 41, 33, 33, 28, 36, 32, 25, 36, 46, 25, 31, 3, 22, 29, 34, 30, 30, 17, 21, 27, 32, 35, 3, 27, 36, 24, 19, 31, 37, 41, 39, 25, 34, 34, 23, 40, 34, 23, 24, 27, 32, 35, 34, 29, 30, 23, 57, 22, 42, 20, 16, 30, 21, 29, 17, 33, 34, 35, 33, 29, 31, 30, 20, 40, 28, 35, 43, 29, 15, 40, 15, 40, 30, 20, 32, 37, 29, 51, 34, 15, 38, 34, 39, 25, 35, 32, 31, 27, 32, 42, 22, 29, 40, 28, 27, 32, 30, 35, 36, 40, 20, 31, 33, 36, 31, 24, 3, 26, 24, 40, 24, 19, 28, 25, 30, 19, 29, 31, 32, 29, 30, 26, 3, 25, 25, 26, 42, 37, 32, 41, 33, 20, 37, 29, 21, 28, 31, 41, 32, 25, 35, 26, 25, 36, 22, 3, 25, 32, 15, 29, 30, 36, 29, 34, 25, 40, 32, 37, 28, 3, 35, 25, 34, 41, 38, 35, 20, 37, 30, 32, 46, 35, 22, 27, 42, 37, 31, 34, 24, 28, 35, 19, 29, 24, 25, 26, 32, 29, 27, 19, 28, 30, 24, 37, 48, 3, 26, 35, 43, 36, 34, 45, 24, 36, 28, 30, 28, 27, 22, 29, 30, 34, 33, 33, 28, 29, 31, 32, 33, 32, 24, 25, 32, 31, 32, 36, 24, 30, 29, 33, 33, 38, 32, 54, 38, 28, 40, 36, 30, 28, 43, 26, 29, 36, 39, 26, 33, 35, 33, 24, 30, 22, 34, 29, 43, 34, 30, 26, 30, 29, 54, 39, 37, 25, 29, 28, 19, 26, 36, 21, 15, 33, 35, 27, 36, 28, 38, 32, 35, 40, 32, 35, 22, 20, 36, 30, 23, 34, 26, 46, 32, 21, 44, 34, 24, 30, 38, 29, 37, 3, 32, 33, 33, 40, 27, 38, 24, 18, 32, 28, 22, 27, 31, 18, 28, 31, 20, 33, 20, 25, 27, 23, 35, 29, 31, 25, 49, 31, 31, 21, 30, 43, 40, 47, 18, 42, 33, 32, 27, 36, 25, 25, 42, 26, 29, 28, 27, 38, 17, 38, 45, 15, 33, 27, 33, 17, 32, 33, 47, 30, 37, 31, 25, 23, 23, 34, 34, 35, 35, 35, 32, 3, 20, 26, 3, 37, 20, 30, 35, 25, 36, 29, 31, 23, 38, 26, 28, 52, 46, 17, 27, 38, 25, 33, 38, 22, 20, 29, 32, 29, 20, 32, 40, 36, 32, 42, 29, 31, 43, 27, 32, 34, 30, 31, 22, 33, 41, 28, 29, 33, 27, 35, 34, 23, 26, 25, 43, 3, 16, 37, 26, 41, 28, 49, 30, 31, 21, 34, 39, 3, 33, 30, 20, 29, 16, 32, 33, 24, 40, 36, 22, 17, 39, 37, 29, 35, 31, 32, 34, 30, 30, 30, 43, 21, 42, 32, 38, 23, 37, 30, 29, 24, 36, 29, 24, 30, 49, 24, 38, 25, 29, 15, 27, 28, 24, 30, 36, 32, 27, 27, 27, 22, 39, 33, 19, 30, 32, 29, 17, 35, 24, 26, 32, 37, 39, 18, 30, 32, 23, 38, 27, 23, 24, 26, 36, 23, 22, 22, 29, 29, 26, 28, 32, 29, 21, 26, 17, 42, 25, 36, 20, 19, 40, 25, 34, 40, 30, 15, 34, 31, 30, 29, 32, 23, 30, 33, 26, 33, 28, 3, 30, 20, 23, 35, 23, 40, 27, 30, 43, 36, 24, 24, 30, 35, 37, 27, 27, 27, 32, 11, 30, 23, 41, 29, 26, 23, 29, 51, 27, 26, 25, 30, 43, 22, 29, 31, 33, 3, 23, 3, 28, 23, 26, 21, 29, 32, 35, 32, 28, 23, 24, 30, 28, 25, 27, 19, 27, 34, 31, 36, 35, 30, 30, 41, 33, 51, 33, 37, 3, 26, 16, 40, 33, 28, 38, 19, 31, 22, 25, 24, 37, 29, 29, 30, 27, 31, 24, 31, 29, 24, 28, 38, 26, 3, 43, 36, 30, 26, 19, 34, 42, 17, 36, 26, 31, 15, 31, 25, 25, 22, 49, 39, 34, 25, 29, 29, 30, 36, 26, 32, 28, 35, 28, 39, 27, 35, 32, 26, 37, 48, 32, 15, 3, 32, 26, 40, 25, 30, 59, 22, 28, 33, 39, 25, 28, 36, 32, 39, 40, 38, 34, 24, 26, 39, 49, 20, 26, 29, 34, 24, 35, 39, 23, 37, 33, 39, 29, 44, 31, 41, 34, 53, 30, 21, 41, 27, 23, 23, 25, 19, 20, 24, 31, 25, 36, 30, 30, 29, 27, 34, 3, 34, 40, 20, 44, 40, 29, 34, 37, 30, 38, 42, 30, 31, 25, 35, 31, 40, 30, 33, 39, 41, 27, 35, 23, 41, 32, 30, 33, 20, 25, 30, 29, 33, 28, 22, 36, 39, 38, 34, 20, 23, 35, 20, 22, 20, 32, 22, 33, 43, 38, 27, 27, 29, 21, 46, 24, 24, 28, 35, 36, 25, 36, 32, 32, 37, 15, 21, 33, 41, 29, 27, 38, 25, 27, 30, 27, 24, 26, 27, 28, 26, 3, 21, 29, 25, 15, 25, 30, 30, 39, 30, 29, 26, 27, 43, 22, 25, 42, 30, 22, 47, 33, 29, 25, 27, 35, 20, 37, 39, 31, 34, 29, 25, 3, 29, 24, 18, 21, 26, 29, 34, 32, 35, 38, 35, 31, 31, 33, 38, 38, 13, 24, 34, 39, 31, 24, 29, 42, 32, 21, 31, 30, 27, 3, 29, 15, 31, 31, 35, 42, 27, 20, 45, 36, 33, 21, 37, 22, 43, 31, 26, 29, 28, 21, 25, 33, 16, 36, 40, 32, 26, 23, 28, 36, 31, 29, 32, 35, 28, 27, 17, 25, 33, 3, 26, 35, 25, 36, 28, 37, 34, 20, 29, 41, 27, 32, 35, 31, 36, 30, 28, 30, 30, 38, 41, 24, 35, 18, 19, 23, 26, 38, 40, 28, 30, 39, 16, 23, 50, 27, 42, 33, 32, 28, 31, 30, 29, 40, 24, 36, 31, 32, 29, 23, 40, 24, 24, 34, 34, 27, 33, 34, 32, 39, 24, 33, 37, 3, 36, 21, 30, 27, 37, 25, 23, 28, 51, 16, 32, 33, 27, 29, 25, 52, 27, 15, 40, 28, 27, 28, 55, 29, 45, 30, 39, 34, 25, 25, 22, 40, 29, 35, 20, 25, 35, 38, 35, 33, 41, 31, 32, 29, 28, 33, 27, 39, 30, 30, 30, 37, 3, 38, 50, 27, 30, 26, 31, 35, 26, 41, 26, 24, 22, 27, 34, 30, 34, 38, 34, 27, 46, 41, 25, 29, 30, 39, 18, 23, 29, 22, 43, 33, 41, 38, 28, 26, 22, 31, 25, 3, 23, 32, 21, 46, 22, 36, 23, 28, 43, 33, 29, 33, 25, 30, 22, 40, 38, 38, 20, 32, 29, 39, 20, 28, 31, 26, 42, 28, 31, 15, 35, 30, 36, 27, 23, 32, 33, 23, 43, 38, 36, 32, 34, 31, 42, 41, 18, 23, 26, 30, 3, 21, 31, 25, 32, 42, 27, 46, 14, 26, 24, 35, 26, 26, 39, 23, 35, 27, 47, 45, 29, 38, 22, 27, 40, 31, 28, 28, 23, 23, 29, 35, 33, 26, 33, 32, 31, 25, 26, 51, 36, 29, 29, 29, 33, 33, 32, 34, 32, 40, 31, 34, 25, 18, 30, 35, 22, 25, 35, 28, 33, 20, 32, 24, 23, 31, 37, 16, 26, 21, 41, 31, 17, 23, 60, 15, 28, 29, 21, 44, 27, 35, 33, 30, 31, 37, 21, 38, 44, 26, 30, 20, 27, 32, 3, 28, 36, 29, 28, 34, 40, 20, 30, 21, 27, 27, 24, 25, 27, 39, 44, 22, 39, 30, 39, 24, 17, 3, 28, 36, 35, 17, 20, 31, 31, 33, 31, 36, 31, 25, 24, 30, 48, 16, 26, 27, 35, 25, 25, 26, 41, 28, 34, 41, 37, 44, 23, 35, 47, 29, 27, 33, 25, 28, 32, 26, 22, 33, 30, 21, 36, 29, 39, 40, 39, 19, 31, 3, 27, 24, 39, 28, 23, 32, 27, 3, 31, 37, 16, 28, 35, 39, 7, 27, 20, 27, 35, 33, 40, 32, 26, 37, 22, 42, 48, 24, 37, 43, 38, 31, 41, 28, 33, 20, 26, 20, 33, 33, 23, 21, 34, 28, 25, 35, 23, 42, 25, 37, 30, 38, 28, 52, 30, 30, 26, 31, 32, 40, 35, 20, 24, 33, 26, 20, 30, 35, 37, 37, 29, 31, 20, 25, 24, 27, 24, 25, 30, 26, 21, 36, 29, 32, 28, 40, 35, 23, 31, 30, 41, 31, 27, 38, 38, 30, 42, 31, 19, 31, 27, 29, 21, 23, 25, 28, 30, 36, 21, 31, 29, 3, 28, 28, 21, 22, 28, 19, 21, 26, 33, 26, 31, 50, 32, 31, 31, 24, 30, 22, 28, 32, 27, 30, 36, 35, 44, 45, 31, 34, 45, 33, 23, 33, 38, 30, 25, 19, 3, 33, 42, 28, 20, 32, 32, 45, 23, 32, 19, 32, 26, 39, 19, 34, 56, 25, 25, 24, 25, 39, 31, 30, 29, 17, 25, 37, 30, 23, 32, 34, 22, 38, 19, 25, 31, 19, 50, 42, 29, 21, 41, 37, 24, 25, 36, 27, 30, 47, 33, 34, 24, 25, 22, 26, 28, 23, 17, 28, 21, 31, 23, 41, 29, 35, 20, 18, 21, 29, 28, 42, 34, 34, 28, 3, 30, 20, 16, 27, 22, 34, 35, 26, 23, 34, 36, 20, 33, 23, 3, 30, 28, 35, 29, 31, 21, 25, 28, 36, 24, 24, 25, 28, 25, 30, 3, 32, 26, 40, 28, 33, 28, 22, 35, 29, 30, 27, 33, 52, 35, 26, 42, 25, 27, 47, 25, 35, 31, 25, 40, 33, 27, 37, 25, 43, 37, 27, 19, 37, 34, 37, 38, 17, 37, 33, 32, 41, 47, 36, 44, 11, 31, 29, 29, 57, 28, 38, 35, 28, 50, 31, 24, 32, 33, 40, 43, 30, 32, 28, 25, 15, 19, 21, 24, 20, 36, 32, 38, 21, 23, 30, 37, 27, 37, 32, 37, 38, 19, 36, 33, 40, 27, 54, 29, 30, 31, 33, 25, 31, 32, 34, 21, 35, 24, 41, 24, 23, 29, 33, 35, 23, 18, 34, 32, 24, 28, 36, 25, 24, 28, 20, 38, 30, 20, 36, 37, 21, 39, 23, 25, 35, 26, 24, 24, 31, 16, 30, 23, 41, 42, 3, 37, 25, 35, 37, 38, 21, 23, 26, 28, 47, 31, 46, 37, 49, 22, 31, 32, 35, 21, 22, 44, 45, 22, 44, 27, 24, 31, 33, 28, 32, 29, 22, 32, 29, 27, 34, 36, 39, 20, 30, 32, 35, 42, 27, 27, 29, 40, 51, 21, 35, 30, 34, 30, 33, 36, 29, 30, 33, 26, 23, 29, 34, 19, 24, 27, 37, 34, 27, 19, 25, 30, 26, 34, 18, 28, 38, 19, 45, 25, 20, 23, 32, 27, 3, 30, 35, 24, 46, 23, 27, 30, 30, 35, 26, 36, 26, 27, 31, 27, 29, 42, 27, 30, 25, 23, 38, 31, 27, 32, 34, 33, 34, 21, 35, 24, 46, 30, 28, 28, 36, 41, 25, 32, 64, 38, 40, 36, 53, 30, 28, 36, 22, 35, 29, 33, 33, 29, 30, 25, 28, 37, 30, 29, 28, 32, 35, 30, 31, 35, 29, 34, 22, 32, 21, 22, 27, 40, 37, 15, 32, 32, 24, 50, 24, 22, 37, 24, 37, 35, 28, 20, 25, 41, 32, 39, 37, 24, 39, 33, 34, 32, 29, 28, 23, 20, 29, 30, 27, 32, 24, 25, 22, 31, 36, 29, 26, 29, 34, 46, 29, 28, 26, 37, 23, 25, 25, 28, 37, 27, 48, 26, 35, 21, 26, 53, 17, 29, 44, 38, 24, 25, 22, 26, 47, 34, 24, 40, 21, 28, 25, 25, 34, 29, 30, 30, 30, 29, 32, 29, 35, 27, 28, 40, 26, 29, 35, 12, 43, 26, 25, 27, 50, 45, 27, 30, 44, 20, 20, 34, 19, 22, 35, 33, 20, 28, 31, 40, 39, 14, 47, 29, 39, 32, 28, 23, 37, 32, 32, 27, 36, 15, 15, 49, 43, 39, 23, 33, 36, 32, 25, 43, 38, 38, 30, 24, 23, 33, 15, 34, 28, 38, 27, 42, 45, 33, 25, 31, 27, 40, 21, 27, 23, 38, 22, 25, 34, 29, 26, 31, 23, 20, 35, 26, 33, 39, 31, 30, 21, 26, 30, 34, 41, 29, 29, 31, 34, 39, 31, 40, 42, 33, 23, 21, 20, 37, 32, 20, 34, 40, 47, 21, 32, 25, 31, 31, 23, 37, 23, 39, 33, 25, 35, 23, 31, 24, 44, 37, 27, 36, 24, 30, 13, 23, 31, 24, 28, 25, 38, 38, 30, 32, 36, 29, 30, 22, 29, 17, 33, 21, 25, 27, 27, 33, 40, 29, 36, 34, 38, 33, 36, 38, 22, 31, 37, 3, 23, 40, 15, 30, 24, 28, 37, 29, 23, 24, 31, 32, 32, 31, 21, 33, 27, 20, 27, 37, 26, 29, 36, 26, 37, 39, 30, 22, 30, 31, 34, 19, 25, 28, 38, 33, 36, 36, 28, 23, 30, 41, 29, 27, 28, 34, 23, 32, 24, 31, 24, 23, 31, 22, 41, 3, 22, 34, 45, 39, 34, 39, 32, 39, 53, 31, 29, 3, 29, 22, 20, 20, 3, 27, 44, 31, 24, 30, 30, 29, 30, 15, 21, 41, 40, 26, 21, 40, 22, 23, 24, 25, 20, 43, 26, 37, 27, 17, 36, 38, 40, 28, 25, 26, 49, 33, 27, 41, 28, 25, 29, 20, 22, 37, 33, 18, 37, 24, 18, 24, 25, 22, 20, 19, 23, 44, 33, 26, 34, 21, 30, 33, 28, 42, 32, 35, 32, 29, 21, 34, 29, 26, 38, 17, 37, 36, 30, 35, 32, 38, 28, 23, 37, 38, 27, 30, 31, 28, 18, 33, 31, 27, 33, 41, 38, 28, 21, 31, 28, 37, 24, 30, 30, 20, 27, 39, 31, 25, 24, 28, 25, 30, 29, 24, 39, 28, 29, 43, 22, 36, 34, 28, 42, 35, 37, 21, 36, 34, 34, 24, 33, 36, 35, 41, 27, 22, 30, 39, 37, 21, 20, 23, 38, 29, 23, 31, 29, 21, 31, 28, 31, 35, 15, 41, 23, 31, 43, 22, 26, 20, 39, 34, 35, 38, 29, 35, 33, 26, 23, 30, 24, 27, 20, 27, 24, 35, 21, 42, 38, 36, 28, 40, 34, 39, 35, 18, 20, 39, 20, 3, 43, 31, 25, 32, 36, 33, 23, 15, 28, 46, 20, 20, 37, 21, 17, 38, 20, 39, 26, 25, 22, 24, 29, 27, 45, 30, 28, 34, 38, 21, 22, 19, 37, 25, 17, 23, 27, 22, 34, 26, 25, 36, 39, 39, 29, 42, 20, 23, 30, 31, 35, 33, 49, 30, 21, 22, 41, 33, 28, 23, 39, 33, 26, 21, 52, 36, 20, 23, 29, 34, 28, 41, 22, 39, 24, 3, 18, 29, 3, 24, 36, 24, 25, 22, 36, 25, 20, 30, 22, 31, 38, 33, 3, 32, 35, 21, 27, 30, 27, 19, 40, 25, 39, 3, 23, 35, 25, 27, 34, 19, 23, 27, 3, 41, 23, 32, 27, 3, 25, 23, 17, 25, 30, 20, 25, 13, 26, 33, 24, 45, 23, 32, 31, 34, 27, 30, 33, 24, 42, 29, 42, 33, 26, 32, 23, 20, 35, 25, 28, 33, 31, 23, 44, 38, 40, 17, 35, 25, 39, 43, 27, 3, 33, 22, 29, 31, 30, 23, 3, 35, 30, 22, 32, 24, 26, 22, 43, 16, 44, 31, 3, 32, 25, 21, 37, 36, 26, 20, 39, 25, 28, 23, 42, 29, 26, 18, 37, 51, 33, 33, 22, 26, 41, 28, 34, 25, 21, 25, 35, 31, 30, 22, 34, 23, 31, 34, 39, 24, 20, 20, 37, 21, 35, 22, 27, 38, 3, 41, 33, 28, 27, 26, 23, 23, 32, 29, 34, 45, 19, 22, 26, 34, 49, 31, 32, 34, 27, 22, 25, 21, 30, 29, 32, 32, 27, 28, 37, 27, 20, 34, 31, 31, 28, 29, 29, 45, 30, 32, 34, 22, 36, 28, 35, 37, 37, 27, 22, 20, 48, 46, 38, 36, 30, 15, 29, 27, 34, 26, 38, 36, 41, 28, 46, 24, 25, 30, 49, 27, 3, 35, 3, 29, 35, 36, 27, 28, 33, 31, 23, 36, 31, 26, 26, 26, 28, 43, 30, 25, 22, 34, 32, 36, 21, 39, 43, 24, 22, 41, 38, 25, 40, 23, 32, 38, 28, 27, 19, 34, 44, 28, 3, 47, 44, 31, 27, 37, 34, 25, 33, 27, 30, 36, 21, 26, 25, 32, 38, 31, 38, 28, 31, 32, 38, 26, 35, 37, 34, 25, 33, 29, 30, 32, 35, 26, 44, 34, 20, 37, 49, 30, 36, 25, 33, 22, 15, 38, 25, 27, 27, 28, 28, 20, 46, 36, 32, 40, 39, 36, 36, 22, 39, 3, 3, 26, 23, 34, 33, 27, 27, 38, 29, 31, 22, 23, 39, 52, 31, 24, 22, 27, 32, 25, 31, 30, 31, 51, 36, 24, 30, 34, 39, 44, 40, 20, 35, 34, 23, 28, 38, 15, 31, 29, 34, 24, 30, 29, 22, 31, 43, 43, 24, 21, 11, 16, 14, 35, 3, 38, 25, 32, 28, 25, 18, 33, 19, 37, 25, 29, 29, 37, 35, 38, 37, 25, 26, 33, 31, 29, 37, 33, 36, 35, 50, 23, 19, 30, 27, 27, 29, 18, 23, 25, 42, 19, 42, 17, 29, 44, 28, 21, 37, 31, 21, 41, 25, 20, 22, 25, 51, 3, 27, 36, 38, 43, 27, 45, 34, 24, 30, 34, 3, 16, 36, 36, 33, 35, 42, 28, 24, 21, 31, 41, 31, 39, 34, 36, 30, 21, 22, 40, 21, 38, 22, 26, 29, 24, 36, 24, 35, 24, 24, 44, 24, 38, 25, 35, 29, 31, 25, 19, 28, 26, 32, 26, 36, 31, 31, 30, 36, 20, 29, 43, 29, 28, 25, 25, 22, 26, 23, 20, 29, 38, 31, 32, 37, 20, 25, 27, 33, 21, 30, 25, 27, 32, 24, 27, 34, 34, 25, 33, 39, 27, 27, 35, 29, 28, 40, 23, 43, 28, 26, 24, 41, 29, 32, 34, 24, 20, 33, 20, 35, 32, 20, 19, 15, 33, 43, 34, 40, 38, 38, 37, 33, 3, 28, 35, 27, 37, 25, 33, 27, 35, 27, 21, 47, 19, 38, 34, 33, 34, 37, 28, 40, 24, 37, 22, 24, 26, 26, 29, 32, 31, 26, 29, 3, 3, 27, 31, 29, 31, 32, 51, 22, 27, 23, 29, 22, 34, 30, 34, 23, 35, 26, 28, 21, 38, 40, 26, 29, 30, 3, 52, 23, 35, 31, 33, 27, 3, 34, 31, 35, 18, 27, 40, 20, 47, 31, 26, 36, 25, 20, 20, 25, 35, 29, 34, 36, 40, 24, 26, 30, 25, 30, 34, 27, 26, 25, 27, 24, 48, 33, 21, 26, 30, 23, 15, 29, 31, 37, 31, 28, 46, 15, 3, 30, 37, 33, 15, 25, 32, 28, 20, 25, 26, 30, 23, 42, 27, 29, 15, 22, 28, 42, 25, 26, 37, 35, 26, 40, 28, 31, 33, 3, 31, 38, 20, 28, 36, 17, 54, 36, 43, 28, 44, 32, 33, 23, 21, 28, 18, 3, 30, 29, 35, 26, 25, 21, 37, 26, 36, 36, 41, 22, 40, 24, 44, 40, 22, 38, 3, 30, 34, 15, 29, 31, 28, 18, 20, 36, 35, 26, 32, 3, 36, 45, 32, 18, 25, 26, 27, 22, 29, 21, 24, 25, 24, 28, 33, 25, 22, 23, 29, 30, 44, 20, 49, 23, 40, 45, 37, 34, 43, 40, 37, 24, 19, 35, 28, 28, 34, 37, 33, 30, 40, 21, 19, 30, 53, 28, 34, 19, 29, 26, 35, 21, 33, 25, 25, 39, 41, 38, 40, 33, 33, 29, 39, 31, 20, 25, 22, 36, 25, 45, 32, 25, 34, 46, 31, 37, 3, 36, 22, 37, 26, 41, 33, 26, 23, 34, 24, 36, 23, 42, 35, 42, 22, 31, 30, 20, 29, 30, 23, 32, 15, 21, 38, 34, 31, 36, 30, 31, 32, 31, 30, 25, 37, 40, 27, 26, 24, 38, 30, 29, 27, 39, 31, 37, 26, 34, 27, 33, 30, 33, 32, 32, 36, 31, 20, 49, 33, 28, 16, 35, 3, 25, 33, 24, 26, 28, 39, 28, 20, 26, 29, 12, 33, 28, 22, 25, 24, 31, 24, 21, 20, 26, 39, 22, 27, 3, 25, 34, 31, 3, 27, 29, 35, 38, 15, 34, 31, 47, 29, 27, 32, 31, 28, 36, 32, 3, 35, 39, 34, 43, 38, 44, 31, 32, 16, 26, 45, 22, 29, 27, 29, 30, 27, 28, 15, 3, 28, 28, 24, 33, 28, 34, 3, 26, 25, 24, 24, 28, 36, 28, 31, 30, 26, 33, 29, 33, 40, 31, 22, 39, 23, 31, 30, 38, 35, 31, 33, 25, 41, 22, 41, 37, 28, 26, 22, 31, 37, 26, 28, 29, 33, 35, 37, 29, 29, 34, 24, 28, 31, 35, 35, 50, 27, 32, 42, 37, 34, 30, 31, 27, 44, 29, 41, 24, 26, 23, 36, 29, 49, 24, 22, 28, 25, 24, 23, 19, 37, 31, 31, 29, 31, 34, 27, 33, 35, 29, 61, 22, 32, 29, 21, 37, 32, 43, 30, 26, 3, 28, 42, 28, 33, 28, 27, 35, 27, 39, 35, 16, 29, 31, 30, 37, 22, 39, 3, 27, 32, 32, 21, 33, 31, 29, 29, 23, 35, 24, 40, 31, 30, 25, 19, 36, 28, 19, 20, 43, 20, 27, 32, 22, 23, 21, 22, 38, 31, 34, 17, 31, 41, 28, 32, 29, 23, 32, 35, 40, 28, 34, 27, 35, 40, 25, 24, 29, 54, 30, 26, 38, 34, 36, 27, 36, 31, 30, 23, 37, 28, 47, 29, 38, 31, 23, 28, 35, 37, 35, 32, 30, 25, 32, 26, 29, 20, 21, 21, 39, 3, 20, 33, 51, 23, 43, 36, 15, 3, 26, 26, 34, 32, 28, 23, 24, 25, 47, 23, 31, 21, 45, 20, 30, 42, 47, 38, 32, 32, 39, 29, 38, 19, 30, 28, 33, 49, 3, 24, 26, 22, 36, 20, 28, 20, 34, 26, 25, 41, 29, 26, 28, 40, 28, 12, 31, 26, 24, 30, 30, 31, 27, 23, 32, 15, 32, 42, 37, 50, 38, 32, 31, 45, 26, 39, 37, 38, 29, 24, 19, 32, 21, 33, 30, 30, 31, 33, 32, 16, 33, 36, 31, 21, 27, 29, 24, 23, 3, 27, 34, 24, 43, 22, 42, 38, 30, 22, 31, 38, 33, 33, 38, 28, 34, 38, 25, 31, 39, 30, 25, 37, 27, 39, 24, 31, 23, 33, 31, 31, 33, 22, 30, 33, 34, 41, 24, 27, 38, 21, 39, 19, 31, 30, 21, 29, 28, 35, 47, 28, 20, 36, 25, 34, 52, 28, 27, 45, 31, 43, 29, 39, 33, 38, 26, 16, 35, 34, 27, 28, 29, 22, 27, 28, 28, 34, 40, 22, 39, 31, 27, 38, 33, 46, 25, 31, 26, 27, 31, 32, 30, 30, 32, 34, 16, 51, 25, 35, 23, 27, 25, 36, 32, 26, 36, 22, 35, 43, 28, 21, 22, 34, 38, 39, 16, 37, 3, 27, 25, 40, 21, 38, 28, 34, 36, 25, 20, 32, 31, 36, 3, 25, 31, 28, 27, 34, 29, 35, 44, 28, 29, 35, 28, 30, 33, 3, 44, 26, 46, 33, 26, 32, 37, 31, 37, 37, 31, 36, 35, 21, 24, 35, 34, 20, 27, 33, 17, 20, 33, 28, 34, 35, 38, 26, 32, 28, 35, 28, 35, 23, 20, 35, 30, 3, 45, 32, 32, 39, 32, 3, 32, 23, 43, 36, 24, 56, 31, 32, 38, 45, 23, 31, 30, 35, 31, 31, 39, 34, 20, 36, 39, 29, 25, 23, 29, 37, 43, 25, 24, 36, 18, 26, 23, 39, 29, 34, 32, 23, 29, 30, 37, 45, 27, 18, 26, 30, 27, 35, 25, 42, 34, 33, 25, 34, 33, 22, 40, 24, 24, 44, 30, 28, 21, 3, 26, 29, 39, 33, 16, 23, 37, 22, 55, 32, 39, 35, 25, 32, 35, 29, 21, 25, 39, 26, 33, 25, 34, 35, 34, 39, 28, 33, 28, 26, 31, 37, 25, 15, 41, 34, 19, 36, 34, 44, 16, 20, 22, 31, 27, 21, 39, 25, 29, 30, 22, 20, 30, 22, 38, 19, 34, 25, 37, 29, 30, 25, 24, 29, 3, 21, 33, 44, 39, 31, 25, 20, 37, 27, 43, 34, 34, 33, 28, 51, 34, 26, 34, 21, 22, 29, 27, 33, 55, 45, 37, 29, 34, 40, 40, 30, 35, 15, 38, 29, 43, 33, 25, 36, 29, 23, 15, 35, 23, 35, 34, 41, 31, 23, 25, 34, 32, 3, 31, 30, 28, 15, 29, 36, 34, 25, 22, 34, 30, 46, 27, 38, 41, 40, 40, 27, 39, 33, 33, 29, 53, 45, 42, 34, 23, 47, 15, 28, 40, 29, 25, 15, 43, 35, 24, 37, 26, 39, 26, 41, 25, 42, 43, 40, 29, 31, 40, 24, 27, 31, 20, 41, 22, 23, 35, 16, 36, 24, 27, 36, 25, 24, 33, 30, 55, 28, 30, 28, 30, 20, 27, 36, 28, 27, 19, 40, 29, 27, 22, 37, 28, 37, 29, 40, 35, 22, 22, 32, 30, 28, 33, 29, 22, 23, 33, 27, 33, 15, 31, 27, 30, 32, 15, 20, 26, 25, 22, 44, 33, 3, 33, 19, 27, 33, 31, 32, 33, 28, 48, 37, 22, 24, 24, 52, 40, 32, 40, 28, 28, 31, 34, 32, 32, 41, 33, 34, 22, 25, 42, 35, 37, 20, 21, 38, 27, 36, 3, 3, 27, 22, 29, 31, 44, 21, 22, 42, 34, 31, 34, 31, 29, 34, 16, 22, 28, 41, 38, 42, 26, 26, 27, 33, 35, 24, 26, 29, 3, 28, 28, 30, 32, 19, 42, 21, 30, 30, 15, 35, 29, 33, 33, 25, 39, 25, 30, 28, 34, 28, 36, 28, 29, 3, 25, 38, 26, 16, 28, 21, 27, 39, 27, 55, 32, 20, 3, 29, 20, 38, 25, 26, 35, 20, 35, 35, 29, 38, 32, 42, 30, 18, 28, 15, 35, 30, 52, 3, 25, 32, 24, 36, 31, 20, 34, 37, 28, 34, 22, 24, 40, 30, 25, 31, 47, 47, 25, 39, 24, 21, 26, 13, 30, 38, 23, 28, 36, 43, 34, 34, 30, 30, 28, 22, 15, 38, 45, 20, 25, 31, 26, 32, 31, 28, 10, 27, 20, 33, 16, 27, 24, 30, 26, 32, 30, 30, 33, 32, 43, 52, 40, 35, 34, 19, 30, 33, 25, 28, 32, 35, 35, 44, 3, 33, 30, 46, 33, 38, 42, 40, 19, 35, 31, 34, 27, 3, 36, 31, 33, 51, 34, 27, 25, 44, 31, 28, 40, 42, 33, 39, 35, 33, 22, 34, 24, 33, 35, 36, 31, 15, 41, 29, 31, 31, 32, 44, 27, 23, 26, 34, 23, 39, 34, 32, 28, 23, 53, 41, 25, 35, 44, 33, 28, 20, 38, 30, 24, 20, 3, 28, 27, 38, 31, 21, 27, 23, 32, 26, 33, 37, 34, 29, 35, 61, 19, 33, 46, 25, 21, 31, 28, 26, 32, 44, 36, 33, 30, 46, 20, 39, 3, 32, 25, 29, 25, 23, 34, 19, 32, 25, 26, 3, 26, 23, 22, 34, 29, 24, 25, 28, 28, 31, 36, 32, 31, 41, 32, 34, 3, 48, 28, 32, 31, 23, 33, 16, 31, 46, 31, 18, 31, 35, 36, 33, 48, 34, 41, 41, 35, 26, 26, 33, 30, 27, 35, 28, 26, 29, 21, 26, 35, 26, 22, 33, 19, 34, 37, 25, 36, 29, 36, 22, 50, 34, 3, 39, 30, 37, 29, 40, 26, 27, 37, 23, 34, 33, 34, 29, 29, 3, 24, 40, 22, 42, 19, 27, 39, 41, 28, 44, 39, 38, 51, 3, 38, 20, 26, 48, 29, 31, 38, 38, 38, 26, 32, 49, 23, 32, 30, 3, 37, 15, 35, 33, 22, 20, 26, 36, 21, 22, 33, 36, 24, 30, 25, 3, 37, 16, 41, 33, 32, 36, 34, 23, 26, 25, 43, 20, 37, 18, 28, 24, 27, 40, 22, 21, 26, 28, 54, 32, 22, 18, 26, 15, 20, 27, 37, 23, 22, 31, 35, 26, 34, 21, 37, 39, 26, 21, 38, 37, 36, 27, 37, 42, 38, 34, 20, 30, 36, 32, 27, 25, 32, 30, 3, 39, 37, 34, 22, 29, 37, 28, 48, 36, 15, 35, 41, 30, 30, 36, 21, 41, 26, 31, 29, 36, 33, 15, 24, 26, 35, 22, 30, 22, 25, 31, 29, 26, 32, 26, 28, 44, 32, 35, 26, 31, 20, 40, 22, 30, 43, 28, 27, 37, 39, 31, 29, 35, 39, 40, 30, 34, 54, 15, 38, 42, 16, 36, 18, 22, 49, 34, 23, 25, 31, 19, 39, 38, 27, 30, 28, 37, 22, 31, 35, 24, 25, 15, 29, 45, 39, 21, 29, 26, 15, 28, 27, 28, 25, 40, 34, 20, 36, 34, 34, 33, 28, 31, 25, 31, 28, 32, 19, 19, 26, 43, 36, 41, 35, 24, 33, 27, 40, 31, 28, 36, 40, 26, 32, 36, 34, 36, 34, 29, 31, 41, 40, 36, 42, 32, 43, 19, 26, 34, 29, 25, 21, 35, 28, 34, 31, 34, 41, 32, 28, 23, 31, 29, 34, 37, 32, 64, 26, 15, 33, 38, 20, 36, 36, 34, 43, 37, 26, 17, 15, 15, 44, 19, 20, 23, 22, 45, 42, 24, 26, 33, 38, 27, 42, 35, 20, 29, 23, 32, 36, 33, 36, 24, 31, 32, 36, 38, 45, 25, 41, 27, 17, 30, 18, 40, 30, 25, 19, 25, 32, 35, 3, 53, 20, 30, 24, 22, 32, 25, 22, 31, 3, 3, 29, 50, 32, 29, 38, 41, 35, 43, 35, 24, 3, 37, 21, 25, 35, 34, 28, 30, 24, 31, 36, 3, 27, 29, 43, 34, 27, 37, 31, 22, 23, 25, 32, 34, 43, 31, 31, 35, 26, 32, 23, 26, 31, 35, 26, 35, 37, 32, 51, 37, 42, 36, 36, 29, 38, 29, 17, 29, 37, 21, 25, 36, 31, 29, 40, 20, 38, 21, 34, 33, 3, 24, 42, 32, 41, 30, 22, 47, 22, 26, 29, 19, 34, 40, 19, 40, 41, 27, 35, 26, 44, 31, 23, 23, 23, 33, 35, 33, 16, 40, 3, 28, 40, 25, 36, 24, 26, 41, 36, 45, 36, 31, 24, 35, 32, 33, 45, 36, 37, 41, 33, 33, 30, 24, 23, 22, 33, 28, 27, 30, 37, 41, 46, 22, 29, 24, 29, 30, 29, 31, 25, 28, 28, 26, 33, 37, 33, 26, 28, 48, 21, 34, 30, 20, 3, 31, 28, 28, 32, 34, 37, 38, 44, 20, 25, 22, 40, 42, 22, 33, 35, 26, 26, 25, 28, 41, 31, 30, 35, 24, 35, 20, 30, 38, 29, 37, 44, 40, 30, 29, 35, 28, 29, 38, 34, 26, 36, 26, 24, 54, 27, 38, 33, 54, 30, 31, 25, 29, 16, 29, 26, 24, 26, 40, 32, 42, 27, 23, 32, 30, 32, 3, 26, 30, 40, 16, 35, 40, 29, 34, 37, 35, 37, 44, 26, 30, 33, 35, 24, 26, 36, 28, 24, 27, 38, 31, 31, 29, 42, 33, 29, 33, 24, 23, 24, 36, 28, 41, 42, 31, 26, 31, 36, 31, 23, 31, 25, 32, 23, 21, 16, 30, 29, 31, 49, 30, 35, 3, 31, 28, 22, 33, 29, 30, 30, 3, 34, 26, 46, 42, 27, 33, 39, 31, 38, 23, 25, 47, 36, 38, 33, 37, 29, 38, 28, 31, 27, 46, 21, 26, 35, 27, 17, 37, 31, 32, 23, 35, 29, 26, 30, 39, 27, 28, 24, 27, 33, 29, 27, 20, 23, 41, 21, 30, 25, 22, 24, 27, 33, 32, 53, 32, 28, 31, 35, 31, 31, 27, 20, 21, 27, 34, 19, 37, 24, 24, 39, 30, 23, 33, 29, 27, 29, 29, 27, 34, 30, 30, 40, 28, 42, 18, 23, 37, 36, 36, 34, 31, 37, 21, 21, 40, 42, 37, 3, 16, 24, 53, 40, 32, 42, 37, 3, 32, 50, 40, 43, 16, 39, 22, 32, 23, 23, 24, 27, 44, 29, 30, 30, 3, 29, 42, 33, 40, 38, 33, 48, 23, 40, 25, 58, 20, 38, 27, 26, 38, 3, 39, 39, 27, 21, 23, 42, 15, 48, 24, 19, 23, 16, 34, 40, 20, 31, 31, 33, 29, 20, 3, 41, 35, 41, 26, 31, 33, 42, 37, 15, 36, 43, 29, 32, 27, 40, 29, 32, 42, 33, 25, 33, 27, 18, 21, 26, 27, 37, 29, 29, 32, 31, 30, 26, 27, 25, 42, 37, 30, 29, 36, 30, 29, 35, 39, 30, 33, 26, 26, 23, 23, 31, 27, 24, 21, 18, 36, 29, 51, 27, 30, 40, 29, 33, 30, 19, 35, 42, 30, 23, 34, 42, 32, 28, 29, 38, 22, 27, 40, 34, 25, 31, 32, 20, 39, 27, 29, 35, 24, 28, 28, 24, 23, 27, 33, 23, 35, 34, 44, 21, 28, 35, 26, 31, 33, 44, 22, 33, 35, 47, 28, 28, 33, 27, 36, 24, 22, 37, 20, 17, 40, 27, 24, 38, 24, 31, 23, 29, 38, 26, 28, 27, 24, 23, 30, 41, 47, 31, 30, 22, 29, 50, 26, 20, 34, 17, 43, 3, 38, 29, 42, 52, 25, 40, 49, 44, 22, 37, 27, 32, 37, 31, 39, 21, 31, 30, 27, 29, 36, 46, 24, 34, 29, 28, 21, 32, 30, 29, 34, 15, 26, 21, 34, 34, 31, 38, 31, 30, 40, 36, 33, 25, 29, 40, 23, 40, 22, 30, 34, 20, 39, 31, 38, 30, 38, 33, 3, 34, 33, 29, 26, 24, 38, 41, 26, 41, 3, 37, 33, 24, 33, 30, 31, 34, 36, 24, 24, 32, 43, 3, 25, 26, 37, 34, 15, 34, 29, 25, 30, 20, 35, 47, 39, 31, 39, 3, 33, 3, 22, 27, 28, 24, 25, 34, 43, 36, 25, 40, 28, 41, 16, 27, 40, 24, 24, 21, 42, 24, 31, 30, 34, 35, 37, 30, 33, 3, 21, 47, 24, 23, 23, 27, 29, 27, 24, 3, 24, 27, 19, 32, 37, 27, 30, 36, 27, 36, 23, 30, 24, 22, 42, 22, 38, 26, 47, 50, 30, 33, 31, 26, 30, 33, 40, 23, 32, 22, 19, 25, 34, 16, 38, 31, 31, 18, 40, 25, 31, 39, 31, 22, 39, 26, 37, 33, 37, 27, 39, 24, 24, 22, 52, 27, 36, 20, 25, 40, 48, 27, 37, 37, 32, 31, 26, 35, 44, 27, 47, 25, 17, 15, 31, 38, 26, 18, 27, 25, 32, 38, 42, 34, 23, 41, 31, 29, 25, 29, 23, 28, 29, 33, 20, 27, 35, 38, 35, 31, 32, 49, 30, 18, 34, 21, 3, 22, 43, 36, 31, 29, 33, 46, 29, 37, 20, 32, 33, 35, 31, 36, 37, 45, 30, 33, 45, 36, 32, 28, 32, 36, 26, 33, 39, 25, 30, 39, 35, 21, 40, 35, 35, 25, 33, 19, 26, 27, 20, 41, 32, 18, 34, 15, 33, 39, 26, 30, 37, 29, 28, 31, 40, 31, 34, 30, 23, 34, 36, 26, 35, 31, 42, 32, 41, 27, 3, 24, 36, 34, 35, 32, 33, 33, 17, 51, 36, 29, 31, 39, 28, 23, 30, 28, 28, 39, 33, 16, 24, 20, 28, 44, 38, 25, 32, 37, 43, 32, 38, 28, 44, 29, 15, 36, 38, 17, 24, 34, 34, 20, 31, 36, 29, 37, 40, 35, 41, 28, 31, 25, 35, 32, 32, 28, 31, 24, 39, 36, 22, 25, 45, 32, 27, 34, 42, 28, 33, 44, 35, 28, 43, 24, 30, 32, 31, 33, 36, 31, 33, 35, 35, 24, 34, 38, 39, 24, 28, 26, 23, 39, 36, 33, 42, 30, 24, 41, 50, 28, 20, 26, 26, 32, 27, 31, 15, 35, 33, 34, 28, 35, 25, 40, 26, 24, 42, 35, 28, 39, 25, 35, 38, 28, 29, 21, 29, 25, 29, 25, 27, 27, 31, 34, 35, 24, 27, 37, 39, 34, 43, 27, 38, 30, 31, 36, 31, 26, 29, 22, 32, 37, 45, 34, 23, 27, 25, 25, 48, 22, 30, 30, 30, 37, 24, 35, 32, 26, 35, 24, 40, 21, 25, 21, 33, 31, 41, 31, 23, 30, 27, 27, 32, 39, 27, 45, 25, 32, 20, 28, 24, 29, 38, 29, 30, 28, 43, 32, 50, 41, 30, 29, 22, 31, 22, 20, 3, 29, 24, 35, 32, 24, 31, 15, 31, 33, 47, 31, 33, 43, 28, 30, 26, 33, 30, 24, 31, 13, 39, 28, 20, 25, 24, 31, 35, 19, 25, 30, 29, 17, 29, 42, 40, 30, 33, 35, 15, 39, 28, 28, 25, 22, 39, 30, 29, 30, 27, 26, 39, 31, 39, 29, 32, 29, 35, 33, 29, 51, 28, 25, 33, 38, 35, 38, 21, 9, 26, 37, 20, 42, 34, 32, 41, 40, 34, 49, 22, 30, 3, 22, 31, 20, 26, 22, 24, 33, 20, 30, 32, 32, 23, 26, 29, 37, 22, 41, 29, 30, 23, 32, 19, 30, 35, 26, 29, 34, 24, 30, 25, 47, 38, 34, 31, 35, 21, 32, 37, 31, 33, 36, 40, 34, 34, 37, 28, 24, 25, 38, 31, 35, 20, 28, 3, 31, 24, 33, 30, 28, 33, 26, 27, 31, 27, 41, 40, 25, 32, 39, 24, 34, 41, 29, 38, 32, 28, 42, 29, 31, 27, 31, 33, 37, 24, 42, 38, 18, 37, 33, 26, 29, 26, 39, 29, 30, 28, 32, 27, 26, 40, 30, 35, 31, 39, 38, 36, 21, 25, 26, 27, 34, 27, 33, 39, 19, 30, 46, 31, 28, 35, 23, 35, 41, 40, 45, 24, 41, 40, 20, 33, 30, 35, 32, 38, 43, 22, 29, 37, 20, 32, 50, 3, 32, 21, 38, 32, 38, 37, 35, 15, 28, 54, 3, 36, 25, 27, 42, 28, 25, 30, 30, 33, 20, 23, 33, 41, 33, 29, 32, 29, 20, 18, 26, 37, 32, 40, 29, 22, 30, 22, 34, 34, 28, 27, 36, 20, 27, 35, 32, 35, 29, 24, 24, 34, 26, 38, 24, 33, 30, 23, 28, 24, 32, 31, 24, 28, 30, 3, 34, 45, 34, 47, 29, 26, 24, 45, 25, 38, 39, 41, 33, 3, 40, 36, 33, 20, 27, 31, 41, 20, 23, 32, 31, 39, 29, 28, 41, 23, 30, 20, 22, 32, 34, 42, 27, 41, 27, 36, 28, 36, 51, 27, 23, 35, 30, 44, 44, 28, 23, 3, 30, 31, 34, 26, 16, 42, 23, 25, 22, 26, 30, 38, 22, 22, 27, 16, 33, 15, 33, 24, 24, 35, 30, 34, 27, 37, 34, 25, 23, 27, 39, 34, 31, 20, 38, 44, 42, 28, 44, 16, 28, 30, 20, 44, 36, 32, 39, 30, 33, 26, 23, 33, 38, 44, 33, 22, 31, 53, 19, 32, 27, 37, 32, 25, 22, 27, 44, 38, 29, 35, 27, 31, 26, 30, 35, 15, 22, 23, 22, 37, 38, 34, 25, 37, 23, 28, 24, 23, 43, 22, 18, 26, 35, 19, 30, 31, 21, 41, 43, 22, 31, 22, 26, 32, 33, 31, 26, 22, 27, 28, 3, 25, 26, 25, 39, 15, 28, 25, 23, 22, 3, 22, 46, 30, 28, 34, 34, 33, 39, 31, 27, 34, 34, 27, 35, 22, 21, 35, 33, 42, 34, 37, 3, 27, 27, 19, 32, 23, 27, 14, 24, 34, 32, 31, 36, 30, 46, 36, 22, 26, 31, 3, 25, 25, 23, 52, 46, 29, 39, 32, 39, 36, 30, 25, 36, 42, 25, 27, 37, 23, 41, 30, 15, 21, 21, 41, 31, 27, 23, 27, 45, 22, 41, 32, 31, 35, 36, 29, 37, 40, 41, 3, 32, 26, 45, 23, 25, 30, 37, 32, 20, 35, 28, 37, 24, 32, 30, 38, 47, 19, 38, 35, 31, 53, 25, 28, 33, 35, 53, 43, 28, 42, 25, 41, 31, 34, 26, 29, 23, 20, 26, 27, 26, 44, 28, 27, 3, 26, 29, 30, 26, 41, 30, 35, 40, 35, 29, 35, 26, 24, 30, 29, 28, 22, 42, 28, 28, 31, 31, 22, 22, 29, 34, 25, 37, 22, 29, 18, 28, 28, 24, 37, 20, 61, 26, 29, 30, 22, 44, 27, 27, 22, 27, 24, 33, 20, 32, 23, 24, 34, 34, 31, 27, 31, 34, 42, 45, 30, 30, 35, 34, 27, 33, 30, 25, 3, 22, 24, 20, 22, 30, 31, 26, 26, 48, 37, 28, 29, 32, 27, 28, 33, 31, 33, 50, 26, 34, 30, 25, 23, 34, 26, 27, 36, 24, 23, 31, 25, 38, 36, 35, 25, 3, 29, 21, 42, 33, 42, 30, 31, 19, 41, 45, 21, 30, 34, 29, 34, 35, 37, 29, 31, 30, 31, 37, 19, 3, 30, 35, 54, 37, 22, 21, 29, 35, 40, 21, 18, 44, 37, 32, 20, 21, 34, 22, 47, 17, 35, 3, 32, 36, 37, 16, 29, 35, 26, 36, 35, 29, 45, 25, 9, 20, 3, 34, 32, 30, 21, 32, 41, 30, 32, 40, 32, 43, 35, 31, 33, 25, 35, 27, 40, 39, 29, 28, 36, 20, 38, 33, 24, 3, 22, 35, 33, 35, 30, 34, 39, 19, 28, 21, 30, 28, 31, 35, 25, 26, 16, 25, 19, 32, 30, 29, 28, 34, 28, 40, 38, 30, 32, 29, 32, 20, 30, 33, 27, 26, 28, 41, 39, 43, 41, 29, 21, 24, 41, 25, 24, 31, 28, 20, 40, 35, 26, 28, 22, 26, 27, 57, 36, 45, 27, 31, 25, 34, 39, 24, 40, 28, 22, 29, 19, 28, 21, 20, 30, 44, 25, 36, 54, 35, 40, 31, 30, 35, 33, 25, 3, 24, 27, 27, 23, 32, 40, 35, 25, 42, 20, 27, 33, 32, 20, 32, 40, 37, 36, 21, 16, 23, 41, 32, 30, 32, 40, 32, 40, 3, 25, 35, 35, 20, 28, 30, 38, 22, 29, 20, 35, 29, 48, 25, 44, 31, 27, 24, 49, 26, 3, 37, 14, 15, 28, 20, 36, 31, 36, 46, 40, 39, 31, 27, 39, 28, 38, 24, 25, 33, 31, 20, 34, 33, 3, 26, 44, 28, 29, 37, 30, 27, 36, 3, 30, 22, 32, 28, 32, 32, 28, 29, 34, 28, 39, 38, 24, 25, 44, 26, 31, 32, 39, 22, 31, 22, 24, 39, 19, 20, 31, 24, 19, 24, 30, 32, 44, 23, 26, 39, 35, 43, 29, 25, 30, 42, 28, 25, 37, 15, 41, 29, 26, 30, 31, 23, 40, 28, 22, 45, 33, 20, 26, 20, 26, 21, 20, 24, 31, 28, 23, 38, 43, 39, 30, 25, 29, 28, 26, 44, 28, 29, 21, 25, 30, 27, 30, 35, 23, 20, 22, 20, 30, 35, 44, 32, 37, 31, 30, 17, 38, 22, 29, 30, 31, 39, 25, 23, 43, 19, 37, 21, 21, 29, 32, 28, 27, 38, 31, 28, 29, 22, 33, 34, 40, 27, 25, 16, 38, 37, 35, 40, 21, 3, 46, 26, 27, 26, 24, 34, 32, 44, 38, 24, 34, 25, 42, 32, 27, 29, 39, 23, 31, 24, 38, 22, 36, 28, 38, 25, 29, 25, 25, 40, 57, 26, 33, 25, 32, 29, 26, 45, 28, 31, 26, 35, 26, 41, 33, 29, 39, 19, 19, 33, 35, 28, 29, 31, 45, 35, 37, 24, 28, 21, 40, 30, 34, 37, 41, 33, 20, 25, 25, 22, 23, 18, 28, 23, 26, 31, 41, 24, 24, 30, 34, 39, 27, 29, 29, 39, 35, 26, 29, 30, 24, 26, 28, 40, 15, 29, 28, 35, 39, 39, 38, 35, 26, 30, 22, 26, 15, 32, 38, 44, 35, 25, 25, 34, 15, 27, 32, 35, 34, 35, 3, 17, 20, 35, 24, 40, 37, 27, 56, 33, 30, 27, 31, 34, 40, 25, 28, 21, 39, 40, 20, 30, 46, 44, 19, 34, 26, 34, 31, 24, 31, 30, 17, 19, 21, 26, 36, 36, 45, 36, 25, 27, 34, 24, 31, 21, 38, 54, 46, 39, 42, 40, 23, 33, 26, 43, 21, 3, 21, 38, 29, 18, 27, 22, 24, 31, 31, 35, 57, 28, 21, 16, 16, 32, 23, 30, 35, 35, 26, 37, 26, 32, 37, 35, 24, 34, 30, 21, 30, 22, 23, 23, 30, 27, 33, 46, 28, 30, 21, 21, 29, 38, 29, 40, 31, 30, 31, 24, 28, 32, 33, 40, 20, 31, 37, 20, 34, 35, 32, 20, 27, 25, 42, 39, 23, 20, 36, 29, 23, 56, 28, 22, 24, 35, 30, 3, 28, 3, 22, 33, 25, 25, 35, 25, 28, 27, 32, 41, 39, 44, 48, 24, 31, 31, 23, 28, 33, 26, 38, 34, 34, 26, 30, 20, 34, 38, 29, 52, 29, 28, 26, 21, 24, 35, 43, 29, 29, 37, 20, 40, 24, 24, 33, 27, 29, 56, 29, 28, 34, 36, 15, 33, 29, 32, 29, 22, 38, 36, 33, 21, 24, 40, 37, 40, 43, 39, 3, 38, 33, 32, 30, 48, 31, 32, 25, 34, 29, 28, 35, 25, 40, 3, 34, 3, 24, 35, 25, 23, 20, 20, 43, 36, 36, 37, 38, 29, 37, 22, 24, 37, 43, 24, 35, 25, 29, 35, 28, 39, 29, 33, 32, 29, 28, 21, 35, 30, 30, 25, 3, 35, 27, 44, 36, 34, 44, 27, 26, 36, 36, 52, 3, 27, 29, 41, 28, 35, 24, 39, 19, 22, 26, 39, 34, 29, 27, 27, 15, 23, 34, 25, 37, 28, 33, 23, 32, 30, 38, 30, 28, 29, 38, 29, 20, 33, 28, 29, 33, 18, 24, 32, 37, 27, 37, 19, 30, 26, 46, 25, 47, 33, 31, 37, 41, 34, 36, 17, 32, 24, 32, 24, 27, 28, 21, 41, 20, 27, 21, 30, 35, 35, 20, 27, 47, 21, 31, 21, 30, 15, 44, 30, 34, 23, 26, 30, 21, 20, 19, 48, 39, 29, 37, 23, 32, 18, 25, 38, 27, 3, 24, 24, 39, 39, 33, 35, 25, 29, 28, 36, 20, 30, 30, 35, 28, 29, 28, 21, 26, 35, 29, 24, 38, 24, 21, 20, 40, 34, 20, 24, 31, 27, 33, 39, 26, 38, 47, 32, 31, 38, 15, 38, 21, 26, 33, 45, 37, 36, 29, 39, 29, 18, 34, 38, 30, 25, 29, 27, 35, 28, 33, 25, 44, 47, 23, 37, 21, 31, 35, 34, 29, 44, 26, 25, 26, 44, 34, 34, 29, 30, 32, 43, 33, 3, 16, 34, 25, 29, 24, 32, 33, 21, 39, 44, 56, 28, 41, 37, 21, 3, 30, 43, 28, 20, 29, 40, 27, 37, 24, 33, 24, 35, 30, 27, 34, 36, 34, 23, 24, 30, 21, 20, 36, 32, 36, 33, 32, 29, 3, 31, 25, 33, 29, 33, 25, 41, 40, 16, 19, 22, 3, 32, 33, 41, 24, 25, 31, 21, 3, 50, 38, 19, 27, 47, 30, 24, 30, 40, 36, 3, 27, 43, 40, 45, 34, 32, 50, 33, 15, 32, 29, 27, 18, 35, 35, 33, 33, 34, 15, 26, 34, 21, 31, 26, 24, 22, 22, 20, 29, 24, 34, 22, 21, 33, 40, 32, 41, 35, 20, 38, 21, 32, 3, 35, 3, 15, 31, 22, 29, 40, 31, 26, 34, 21, 31, 22, 23, 35, 29, 34, 29, 24, 38, 31, 30, 36, 23, 25, 38, 38, 26, 25, 19, 28, 32, 27, 33, 24, 30, 29, 35, 31, 32, 30, 42, 30, 3, 25, 23, 28, 27, 35, 34, 25, 34, 37, 27, 28, 34, 27, 30, 39, 34, 26, 26, 19, 15, 30, 39, 47, 33, 43, 21, 34, 21, 31, 30, 23, 36, 32, 33, 17, 20, 32, 23, 34, 47, 41, 35, 23, 41, 22, 42, 20, 39, 33, 39, 48, 22, 33, 37, 27, 26, 37, 32, 47, 26, 41, 32, 37, 20, 48, 34, 27, 3, 34, 20, 25, 43, 23, 3, 21, 21, 3, 20, 33, 29, 27, 36, 19, 41, 33, 15, 45, 31, 16, 40, 41, 23, 3, 22, 37, 31, 31, 25, 36, 33, 27, 27, 15, 26, 26, 32, 22, 25, 28, 24, 43, 38, 24, 39, 20, 33, 26, 30, 38, 24, 30, 20, 30, 25, 27, 28, 25, 20, 40, 35, 35, 29, 34, 28, 26, 37, 29, 28, 30, 28, 24, 42, 31, 40, 41, 31, 32, 32, 40, 23, 20, 3, 19, 52, 30, 32, 36, 30, 26, 34, 22, 25, 44, 38, 15, 28, 34, 20, 23, 37, 26, 39, 20, 3, 33, 29, 34, 30, 20, 31, 30, 42, 37, 31, 27, 30, 49, 25, 47, 29, 31, 20, 26, 37, 23, 28, 44, 26, 36, 20, 29, 31, 30, 24, 22, 29, 25, 30, 15, 29, 26, 30, 25, 28, 29, 32, 25, 25, 20, 38, 31, 33, 21, 29, 32, 44, 43, 26, 43, 22, 36, 24, 38, 38, 33, 28, 35, 15, 29, 24, 26, 35, 36, 22, 36, 30, 31, 28, 28, 40, 34, 36, 21, 33, 31, 20, 33, 24, 33, 30, 31, 25, 21, 20, 27, 27, 34, 25, 24, 28, 25, 28, 33, 28, 31, 21, 28, 3, 37, 23, 23, 30, 34, 31, 38, 32, 34, 29, 33, 41, 35, 23, 44, 35, 30, 31, 25, 19, 34, 40, 35, 41, 24, 29, 27, 46, 30, 27, 23, 23, 28, 32, 31, 35, 31, 27, 38, 22, 33, 19, 35, 28, 25, 16, 27, 15, 3, 43, 28, 35, 44, 30, 33, 32, 41, 22, 16, 32, 36, 36, 39, 15, 27, 30, 33, 33, 31, 40, 29, 32, 32, 44, 21, 31, 22, 28, 33, 18, 25, 29, 28, 36, 42, 37, 53, 22, 31, 20, 29, 29, 34, 23, 24, 35, 29, 30, 37, 31, 29, 30, 31, 46, 31, 27, 21, 37, 15, 24, 40, 28, 36, 30, 25, 29, 30, 27, 17, 29, 31, 36, 30, 24, 38, 3, 34, 29, 33, 28, 24, 39, 37, 31, 44, 28, 28, 31, 26, 21, 34, 45, 34, 39, 23, 48, 29, 36, 34, 32, 26, 25, 28, 31, 35, 27, 33, 26, 38, 21, 34, 31, 3, 29, 16, 37, 38, 37, 28, 37, 27, 28, 42, 41, 27, 34, 23, 35, 40, 23, 36, 30, 30, 40, 29, 43, 25, 34, 32, 36, 26, 20, 20, 20, 37, 26, 29, 31, 40, 24, 48, 37, 53, 26, 50, 33, 29, 37, 25, 37, 26, 30, 3, 3, 30, 31, 49, 21, 47, 22, 35, 31, 30, 27, 37, 39, 29, 30, 22, 44, 30, 20, 21, 20, 35, 36, 32, 25, 24, 35, 24, 37, 3, 40, 43, 25, 23, 28, 22, 22, 39, 16, 29, 34, 29, 18, 27, 32, 26, 33, 27, 26, 18, 33, 35, 31, 34, 23, 27, 23, 40, 22, 33, 24, 29, 43, 24, 20, 35, 20, 28, 33, 33, 26, 33, 31, 23, 24, 41, 42, 37, 22, 39, 34, 15, 24, 23, 28, 31, 38, 41, 24, 24, 30, 27, 36, 15, 3, 34, 49, 27, 25, 3, 27, 34, 20, 37, 36, 33, 30, 28, 36, 31, 25, 30, 33, 31, 29, 31, 37, 25, 35, 38, 36, 29, 33, 31, 47, 25, 31, 35, 32, 40, 23, 37, 37, 43, 46, 29, 32, 33, 30, 36, 28, 38, 36, 22, 39, 28, 34, 19, 38, 37, 44, 26, 33, 30, 32, 30, 33, 35, 44, 22, 27, 25, 30, 25, 35, 15, 33, 33, 18, 35, 46, 43, 38, 25, 35, 24, 29, 37, 24, 25, 21, 44, 36, 30, 42, 21, 28, 3, 28, 15, 49, 20, 35, 31, 24, 42, 34, 35, 45, 30, 38, 21, 26, 32, 30, 25, 48, 24, 27, 29, 46, 47, 36, 19, 26, 31, 20, 20, 48, 25, 22, 35, 26, 29, 18, 40, 16, 30, 31, 18, 38, 25, 40, 29, 40, 24, 19, 32, 36, 26, 19, 35, 29, 24, 48, 22, 3, 33, 38, 28, 23, 36, 30, 25, 32, 38, 38, 24, 39, 31, 27, 37, 34, 28, 26, 29, 34, 32, 43, 25, 28, 38, 28, 24, 37, 26, 28, 25, 3, 19, 22, 38, 28, 52, 21, 27, 21, 34, 30, 27, 31, 27, 27, 22, 26, 37, 32, 15, 21, 34, 43, 24, 35, 28, 28, 29, 31, 17, 35, 38, 19, 22, 39, 23, 26, 25, 16, 25, 39, 20, 22, 23, 32, 35, 43, 33, 25, 38, 3, 52, 19, 23, 29, 30, 20, 29, 36, 24, 50, 32, 21, 32, 34, 15, 45, 41, 24, 27, 24, 16, 32, 23, 40, 32, 21, 31, 37, 34, 23, 26, 25, 45, 25, 31, 30, 30, 31, 43, 32, 30, 32, 36, 34, 29, 23, 24, 15, 32, 3, 28, 25, 25, 32, 30, 47, 23, 31, 33, 41, 30, 30, 40, 46, 29, 28, 33, 35, 39, 23, 32, 27, 19, 28, 20, 19, 31, 46, 44, 39, 24, 35, 32, 36, 34, 54, 21, 48, 41, 15, 52, 40, 26, 23, 35, 23, 26, 32, 44, 24, 27, 29, 31, 43, 35, 28, 32, 27, 39, 34, 47, 30, 20, 35, 29, 37, 33, 24, 30, 40, 34, 28, 20, 26, 37, 41, 44, 3, 38, 27, 27, 28, 23, 35, 31, 39, 40, 36, 39, 30, 37, 25, 21, 26, 35, 24, 31, 37, 25, 46, 17, 39, 45, 39, 39, 32, 40, 28, 38, 38, 30, 22, 32, 51, 26, 25, 40, 28, 34, 34, 32, 31, 38, 28, 41, 20, 44, 22, 17, 41, 29, 39, 26, 26, 38, 21, 26, 24, 30, 34, 36, 40, 30, 38, 33, 18, 28, 48, 37, 25, 37, 35, 42, 23, 20, 37, 33, 37, 33, 22, 46, 32, 23, 32, 34, 30, 40, 37, 44, 22, 32, 18, 29, 32, 33, 35, 45, 32, 32, 3, 37, 36, 37, 30, 32, 28, 24, 22, 26, 38, 21, 28, 35, 22, 26, 31, 30, 35, 26, 47, 26, 32, 37, 25, 36, 36, 28, 32, 16, 44, 27, 25, 33, 30, 28, 29, 3, 21, 24, 50, 33, 50, 33, 36, 28, 31, 43, 29, 40, 35, 21, 35, 30, 30, 18, 18, 23, 25, 28, 22, 23, 22, 14, 31, 21, 30, 25, 30, 34, 3, 20, 35, 41, 28, 30, 34, 29, 30, 39, 38, 26, 27, 21, 25, 31, 29, 32, 32, 29, 41, 39, 20, 28, 43, 38, 23, 24, 30, 31, 20, 18, 36, 37, 28, 32, 28, 33, 37, 33, 20, 3, 33, 15, 37, 39, 37, 29, 37, 38, 24, 23, 27, 28, 32, 26, 15, 29, 27, 50, 41, 58, 34, 48, 26, 20, 24, 33, 28, 23, 38, 32, 43, 23, 32, 30, 21, 24, 29, 42, 24, 15, 38, 16, 29, 26, 47, 27, 41, 23, 20, 21, 22, 30, 30, 36, 28, 32, 23, 30, 37, 28, 41, 27, 26, 38, 25, 42, 23, 23, 44, 23, 15, 37, 31, 17, 20, 28, 30, 30, 28, 40, 26, 23, 31, 39, 40, 31, 21, 33, 25, 17, 3, 36, 44, 31, 22, 45, 44, 25, 33, 17, 40, 34, 24, 43, 28, 35, 31, 30, 44, 39, 23, 21, 32, 17, 35, 31, 42, 44, 15, 30, 31, 27, 24, 49, 27, 21, 27, 27, 32, 50, 31, 31, 27, 37, 38, 24, 34, 33, 44, 29, 30, 22, 26, 23, 28, 35, 30, 32, 37, 35, 33, 29, 30, 26, 30, 33, 22, 33, 49, 29, 33, 33, 39, 27, 28, 34, 31, 32, 25, 20, 31, 32, 39, 34, 27, 25, 36, 43, 34, 19, 26, 36, 30, 21, 31, 35, 25, 26, 38, 24, 25, 40, 29, 23, 38, 16, 24, 25, 38, 33, 16, 38, 32, 35, 19, 48, 36, 30, 28, 25, 25, 35, 25, 29, 20, 3, 30, 34, 25, 24, 34, 32, 32, 23, 36, 31, 27, 34, 36, 21, 24, 23, 28, 29, 27, 39, 35, 34, 26, 34, 3, 23, 29, 29, 25, 27, 33, 37, 32, 17, 32, 20, 29, 30, 21, 32, 21, 40, 28, 20, 21, 28, 27, 25, 30, 18, 41, 29, 33, 37, 36, 27, 34, 33, 23, 33, 42, 26, 26, 35, 31, 27, 26, 24, 31, 26, 15, 27, 42, 24, 3, 38, 39, 45, 30, 31, 20, 28, 32, 38, 22, 33, 31, 3, 34, 22, 37, 39, 30, 34, 34, 24, 38, 36, 22, 34, 25, 55, 38, 41, 40, 22, 26, 21, 22, 29, 27, 33, 29, 28, 22, 36, 37, 18, 28, 24, 34, 37, 34, 32, 30, 22, 40, 32, 35, 28, 28, 34, 25, 29, 43, 15, 21, 33, 35, 25, 3, 33, 20, 17, 25, 25, 25, 20, 29, 30, 27, 41, 29, 30, 42, 42, 25, 36, 47, 25, 25, 46, 43, 33, 27, 3, 35, 27, 30, 26, 38, 20, 34, 38, 24, 22, 22, 27, 39, 31, 31, 23, 28, 35, 32, 37, 47, 35, 22, 41, 28, 26, 29, 33, 41, 28, 24, 26, 38, 44, 23, 33, 3, 34, 37, 26, 34, 35, 44, 34, 32, 29, 23, 25, 25, 23, 21, 30, 30, 41, 43, 34, 24, 27, 33, 35, 23, 27, 28, 29, 32, 17, 36, 3, 21, 21, 25, 35, 40, 28, 33, 34, 28, 35, 28, 15, 27, 28, 34, 26, 29, 39, 25, 38, 49, 28, 46, 26, 48, 34, 19, 35, 26, 36, 31, 28, 25, 20, 39, 35, 29, 56, 33, 35, 27, 30, 25, 38, 31, 25, 28, 38, 37, 3, 31, 34, 3, 35, 24, 40, 20, 38, 51, 70, 23, 45, 24, 25, 31, 19, 22, 23, 41, 24, 23, 21, 25, 22, 30, 32, 29, 37, 35, 32, 29, 29, 19, 31, 48, 33, 3, 28, 20, 26, 38, 10, 24, 27, 20, 15, 32, 32, 39, 32, 26, 30, 26, 46, 21, 25, 45, 25, 37, 47, 30, 30, 27, 31, 31, 37, 32, 39, 29, 27, 36, 29, 38, 39, 23, 40, 26, 29, 37, 23, 44, 42, 39, 28, 34, 32, 51, 31, 27, 31, 20, 36, 25, 42, 28, 44, 31, 32, 3, 33, 39, 33, 35, 35, 27, 24, 34, 35, 26, 28, 24, 43, 47, 22, 37, 34, 14, 26, 43, 34, 17, 22, 3, 31, 40, 43, 21, 20, 35, 22, 39, 24, 15, 24, 41, 38, 30, 29, 30, 39, 27, 20, 28, 19, 33, 26, 36, 39, 33, 17, 28, 45, 32, 23, 42, 25, 32, 22, 33, 28, 27, 35, 37, 36, 27, 20, 22, 43, 27, 33, 37, 33, 33, 38, 32, 42, 35, 40, 27, 28, 35, 34, 27, 3, 31, 17, 29, 29, 35, 31, 37, 38, 49, 34, 39, 36, 38, 3, 41, 3, 25, 37, 32, 31, 25, 24, 44, 27, 27, 17, 20, 34, 21, 32, 35, 26, 31, 27, 22, 18, 16, 22, 36, 21, 27, 29, 24, 26, 3, 33, 27, 23, 41, 37, 42, 38, 29, 42, 30, 28, 23, 45, 47, 25, 36, 35, 31, 23, 47, 37, 25, 29, 27, 34, 46, 47, 27, 34, 20, 26, 33, 35, 49, 29, 35, 34, 15, 34, 28, 33, 37, 28, 36, 36, 46, 43, 23, 42, 26, 38, 34, 38, 30, 29, 3, 30, 28, 34, 29, 30, 35, 24, 50, 41, 22, 15, 33, 33, 39, 34, 32, 26, 24, 21, 45, 40, 34, 24, 29, 29, 38, 32, 21, 22, 33, 3, 28, 28, 34, 28, 23, 31, 41, 36, 23, 36, 16, 46, 51, 30, 40, 44, 46, 27, 31, 28, 27, 3, 30, 56, 19, 34, 24, 16, 35, 34, 27, 24, 20, 17, 31, 35, 31, 29, 30, 29, 34, 41, 34, 3, 25, 29, 24, 23, 39, 27, 35, 31, 27, 47, 18, 31, 30, 34, 30, 37, 31, 40, 35, 38, 32, 32, 30, 24, 23, 29, 22, 20, 30, 32, 26, 30, 24, 36, 35, 38, 47, 45, 31, 47, 31, 32, 29, 20, 32, 22, 31, 44, 29, 22, 34, 25, 28, 30, 32, 23, 29, 37, 38, 32, 30, 23, 23, 37, 22, 25, 30, 25, 28, 35, 22, 42, 28, 23, 25, 35, 37, 45, 36, 44, 40, 24, 47, 25, 31, 14, 32, 42, 34, 25, 35, 21, 38, 40, 33, 22, 27, 28, 35, 21, 27, 30, 24, 30, 34, 36, 28, 37, 29, 21, 32, 27, 30, 22, 24, 19, 11, 36, 21, 26, 37, 27, 36, 37, 21, 55, 29, 30, 37, 29, 43, 28, 29, 31, 36, 31, 40, 20, 31, 32, 31, 34, 32, 31, 33, 27, 33, 34, 30, 34, 27, 21, 45, 32, 53, 45, 28, 29, 29, 3, 33, 26, 24, 42, 37, 36, 29, 42, 32, 20, 27, 34, 23, 40, 25, 33, 30, 31, 32, 38, 23, 24, 20, 23, 32, 31, 28, 30, 23, 36, 33, 38, 29, 29, 42, 27, 24, 40, 24, 20, 23, 49, 35, 26, 44, 22, 38, 27, 31, 45, 30, 34, 40, 32, 28, 27, 56, 15, 28, 44, 29, 26, 26, 40, 37, 29, 34, 40, 46, 23, 45, 33, 17, 29, 27, 30, 35, 40, 20, 31, 20, 27, 32, 23, 42, 28, 29, 41, 19, 30, 29, 33, 26, 31, 41, 39, 26, 29, 25, 37, 23, 24, 30, 30, 54, 28, 27, 3, 30, 58, 29, 38, 29, 29, 25, 15, 21, 29, 25, 20, 22, 44, 37, 31, 37, 28, 17, 24, 25, 33, 20, 33, 37, 29, 3, 28, 35, 30, 36, 37, 21, 28, 24, 26, 32, 30, 24, 41, 25, 33, 30, 20, 26, 33, 32, 20, 3, 30, 39, 35, 26, 26, 3, 47, 32, 42, 27, 23, 31, 26, 24, 34, 30, 33, 3, 29, 36, 37, 25, 30, 33, 50, 24, 40, 43, 43, 48, 30, 30, 45, 30, 33, 21, 29, 22, 24, 23, 29, 25, 30, 29, 26, 25, 27, 28, 17, 34, 31, 3, 23, 27, 26, 43, 30, 36, 37, 35, 17, 24, 34, 22, 31, 15, 20, 26, 28, 38, 29, 21, 51, 33, 36, 25, 28, 46, 33, 53, 26, 27, 21, 32, 36, 32, 15, 34, 42, 3, 51, 31, 29, 28, 28, 27, 9, 42, 34, 25, 3, 28, 30, 32, 17, 31, 35, 28, 40, 27, 23, 26, 35, 26, 29, 21, 35, 35, 35, 31, 39, 29, 24, 40, 35, 29, 21, 28, 34, 28, 26, 30, 56, 28, 32, 25, 30, 29, 23, 34, 22, 39, 30, 44, 36, 18, 29, 23, 38, 36, 24, 27, 41, 38, 41, 40, 40, 30, 46, 26, 22, 33, 21, 23, 29, 49, 25, 3, 20, 39, 33, 32, 32, 3, 30, 35, 31, 16, 44, 30, 37, 35, 37, 24, 31, 30, 34, 38, 24, 28, 28, 41, 42, 23, 26, 23, 33, 34, 25, 34, 40, 35, 33, 34, 29, 31, 33, 38, 33, 21, 32, 30, 26, 25, 29, 33, 28, 34, 45, 31, 33, 30, 36, 45, 26, 32, 38, 27, 36, 27, 37, 38, 41, 30, 41, 31, 37, 15, 21, 28, 26, 28, 19, 23, 28, 31, 30, 29, 34, 24, 29, 31, 21, 3, 21, 22, 27, 21, 20, 24, 42, 27, 29, 49, 34, 26, 24, 32, 38, 32, 26, 36, 22, 25, 39, 35, 30, 22, 39, 22, 28, 3, 29, 35, 28, 22, 36, 46, 32, 24, 46, 32, 29, 31, 25, 31, 48, 20, 35, 22, 29, 25, 27, 25, 35, 38, 28, 29, 38, 30, 21, 21, 31, 35, 34, 31, 21, 25, 32, 25, 29, 26, 36, 21, 26, 30, 19, 25, 29, 25, 42, 33, 24, 31, 15, 35, 23, 26, 33, 31, 40, 33, 33, 41, 37, 30, 12, 19, 31, 20, 35, 27, 33, 57, 15, 22, 25, 30, 22, 40, 43, 34, 34, 41, 3, 38, 29, 26, 57, 33, 27, 29, 35, 40, 43, 46, 32, 46, 3, 24, 42, 25, 26, 27, 28, 27, 41, 24, 38, 41, 28, 37, 15, 29, 33, 22, 38, 22, 31, 36, 31, 24, 33, 32, 29, 34, 33, 33, 26, 32, 3, 20, 32, 27, 19, 27, 26, 28, 17, 21, 35, 41, 34, 31, 20, 35, 46, 33, 32, 37, 40, 36, 30, 23, 31, 36, 26, 26, 32, 26, 34, 28, 33, 28, 25, 22, 24, 27, 27, 29, 32, 48, 36, 16, 32, 41, 32, 23, 29, 24, 33, 20, 39, 37, 27, 32, 30, 35, 34, 42, 23, 30, 43, 28, 3, 3, 24, 31, 23, 23, 31, 23, 33, 22, 31, 26, 36, 25, 29, 34, 30, 39, 44, 34, 22, 38, 41, 36, 36, 3, 15, 35, 21, 41, 20, 35, 38, 32, 26, 34, 39, 37, 25, 29, 29, 40, 42, 26, 33, 32, 40, 24, 24, 21, 30, 32, 30, 31, 26, 27, 30, 25, 26, 37, 47, 42, 40, 33, 26, 27, 37, 37, 30, 32, 37, 45, 26, 28, 25, 38, 36, 27, 23, 32, 36, 27, 17, 32, 32, 31, 33, 35, 43, 35, 32, 47, 23, 33, 22, 41, 33, 21, 22, 3, 31, 33, 39, 29, 35, 32, 36, 22, 38, 20, 30, 35, 22, 37, 34, 41, 30, 31, 27, 23, 38, 31, 28, 25, 39, 16, 38, 3, 56, 26, 18, 19, 33, 29, 27, 30, 30, 34, 30, 19, 35, 25, 25, 39, 28, 21, 33, 27, 35, 36, 29, 21, 22, 44, 28, 35, 29, 36, 28, 18, 25, 3, 40, 22, 29, 20, 35, 28, 28, 30, 30, 27, 34, 30, 34, 23, 27, 29, 34, 48, 37, 44, 35, 41, 41, 42, 42, 3, 30, 26, 19, 34, 54, 29, 46, 30, 31, 47, 15, 29, 38, 31, 30, 30, 23, 19, 38, 41, 20, 22, 31, 27, 33, 33, 40, 31, 25, 24, 16, 40, 26, 22, 38, 19, 33, 20, 29, 31, 23, 32, 3, 20, 40, 50, 31, 33, 52, 28, 48, 24, 34, 59, 30, 22, 39, 45, 26, 28, 41, 32, 26, 34, 38, 28, 29, 22, 31, 30, 32, 25, 28, 25, 28, 33, 39, 28, 18, 21, 34, 31, 38, 23, 30, 20, 22, 20, 31, 63, 32, 44, 26, 20, 32, 54, 29, 34, 40, 43, 18, 39, 19, 26, 35, 41, 35, 28, 3, 26, 39, 30, 31, 26, 27, 32, 32, 23, 36, 40, 18, 43, 31, 35, 26, 32, 25, 31, 20, 22, 38, 39, 28, 29, 27, 27, 36, 28, 30, 36, 35, 30, 27, 24, 36, 33, 29, 32, 25, 35, 46, 52, 31, 37, 24, 30, 15, 26, 34, 30, 32, 23, 35, 36, 30, 38, 35, 31, 32, 25, 33, 17, 29, 27, 32, 22, 45, 33, 35, 29, 35, 33, 36, 23, 34, 24, 25, 28, 24, 34, 43, 28, 34, 32, 16, 3, 28, 36, 23, 37, 32, 27, 14, 28, 30, 27, 42, 38, 33, 35, 25, 27, 25, 24, 44, 23, 25, 22, 29, 28, 24, 35, 34, 33, 35, 30, 27, 34, 39, 32, 31, 30, 32, 24, 26, 26, 35, 36, 30, 28, 33, 32, 18, 25, 40, 33, 30, 26, 25, 37, 23, 24, 22, 37, 23, 27, 26, 17, 36, 30, 21, 44, 35, 33, 41, 29, 38, 37, 29, 31, 28, 41, 36, 28, 48, 27, 49, 34, 24, 20, 23, 27, 31, 23, 32, 32, 29, 33, 21, 31, 28, 32, 24, 39, 15, 33, 32, 32, 21, 36, 31, 25, 29, 36, 30, 29, 38, 46, 26, 3, 40, 21, 31, 29, 23, 35, 33, 22, 31, 30, 35, 22, 40, 39, 31, 32, 33, 33, 19, 28, 37, 34, 43, 41, 37, 31, 31, 20, 20, 39, 35, 22, 24, 30, 28, 28, 28, 31, 24, 21, 22, 19, 20, 28, 3, 29, 37, 30, 29, 35, 34, 29, 28, 28, 24, 33, 22, 19, 32, 36, 30, 21, 28, 27, 36, 23, 25, 3, 26, 28, 28, 20, 20, 40, 33, 29, 49, 38, 29, 38, 27, 32, 23, 41, 21, 27, 42, 42, 26, 21, 25, 47, 36, 26, 30, 31, 29, 21, 39, 44, 37, 37, 31, 31, 30, 24, 21, 24, 42, 34, 25, 29, 32, 30, 45, 20, 33, 49, 27, 31, 36, 26, 28, 20, 20, 33, 36, 30, 35, 34, 22, 31, 31, 27, 23, 26, 30, 28, 38, 23, 30, 22, 28, 33, 31, 37, 33, 51, 3, 30, 43, 28, 28, 38, 18, 42, 26, 34, 25, 23, 20, 22, 30, 36, 38, 29, 33, 29, 30, 42, 36, 42, 21, 28, 27, 26, 37, 41, 28, 27, 23, 22, 27, 26, 32, 32, 29, 32, 37, 24, 26, 28, 29, 27, 28, 38, 39, 33, 24, 40, 41, 30, 34, 33, 41, 51, 25, 30, 34, 20, 20, 23, 34, 47, 33, 27, 30, 36, 26, 24, 30, 37, 29, 46, 31, 18, 22, 33, 24, 37, 24, 17, 23, 32, 35, 40, 33, 24, 29, 33, 25, 22, 22, 28, 46, 3, 35, 31, 21, 35, 40, 21, 34, 26, 15, 36, 26, 27, 51, 32, 25, 25, 34, 24, 32, 20, 37, 23, 23, 20, 10, 36, 29, 27, 23, 31, 28, 37, 30, 33, 33, 40, 20, 32, 18, 21, 20, 36, 29, 38, 29, 33, 25, 25, 41, 25, 22, 27, 30, 28, 30, 30, 30, 29, 3, 31, 29, 39, 33, 38, 28, 36, 32, 30, 39, 39, 3, 32, 19, 31, 60, 28, 36, 24, 38, 42, 30, 15, 25, 29, 36, 32, 33, 26, 33, 22, 49, 30, 39, 29, 27, 31, 33, 21, 22, 20, 31, 43, 38, 31, 38, 41, 37, 36, 26, 27, 27, 38, 36, 34, 15, 44, 38, 37, 41, 28, 43, 37, 28, 3, 32, 22, 27, 24, 38, 36, 23, 27, 25, 23, 28, 32, 30, 32, 37, 34, 45, 40, 41, 23, 24, 29, 32, 34, 35, 3, 16, 29, 29, 28, 32, 34, 25, 23, 30, 37, 44, 33, 31, 21, 3, 38, 19, 38, 28, 27, 35, 24, 43, 20, 18, 24, 28, 29, 16, 28, 34, 26, 32, 38, 3, 38, 30, 27, 33, 31, 34, 32, 57, 31, 29, 33, 27, 42, 23, 24, 39, 44, 24, 24, 41, 23, 40, 44, 26, 21, 19, 25, 27, 38, 30, 34, 37, 23, 32, 27, 20, 23, 22, 33, 35, 32, 28, 28, 34, 30, 34, 26, 22, 27, 34, 42, 30, 35, 20, 24, 27, 34, 38, 32, 25, 16, 30, 33, 41, 28, 15, 31, 26, 31, 25, 22, 29, 22, 45, 27, 42, 36, 31, 32, 41, 40, 59, 35, 46, 36, 30, 37, 16, 30, 3, 41, 31, 19, 22, 31, 31, 32, 49, 43, 23, 31, 21, 38, 31, 32, 43, 23, 32, 26, 26, 48, 22, 39, 32, 48, 35, 33, 35, 28, 17, 37, 36, 28, 16, 26, 23, 29, 26, 25, 34, 36, 38, 24, 37, 29, 29, 33, 33, 25, 28, 30, 27, 34, 28, 29, 33, 3, 26, 34, 33, 27, 37, 36, 35, 33, 33, 30, 45, 27, 33, 36, 30, 45, 33, 33, 36, 38, 39, 49, 20, 34, 31, 31, 29, 37, 26, 30, 30, 22, 32, 30, 42, 21, 20, 20, 3, 28, 31, 32, 43, 27, 28, 28, 35, 27, 35, 41, 28, 23, 34, 25, 34, 38, 20, 27, 21, 18, 20, 49, 33, 27, 31, 28, 3, 43, 34, 30, 27, 21, 30, 37, 27, 47, 44, 27, 34, 15, 3, 36, 35, 28, 31, 28, 30, 25, 27, 25, 19, 31, 30, 44, 22, 27, 30, 29, 32, 25, 3, 24, 39, 35, 39, 28, 23, 22, 29, 26, 33, 30, 24, 35, 28, 29, 37, 33, 3, 31, 41, 41, 31, 42, 37, 15, 37, 26, 19, 31, 35, 29, 30, 15, 15, 31, 24, 27, 37, 29, 36, 36, 30, 33, 24, 35, 34, 28, 38, 23, 51, 46, 32, 35, 23, 34, 31, 27, 31, 33, 27, 22, 21, 24, 39, 40, 39, 33, 24, 15, 32, 34, 20, 33, 29, 32, 31, 43, 15, 39, 35, 25, 28, 33, 27, 40, 30, 23, 38, 3, 25, 31, 28, 17, 20, 46, 38, 22, 22, 26, 31, 24, 27, 19, 34, 37, 22, 43, 25, 44, 42, 20, 35, 25, 24, 30, 25, 16, 24, 20, 35, 30, 38, 3, 23, 38, 28, 27, 21, 3, 30, 36, 34, 28, 36, 40, 12, 41, 31, 20, 27, 33, 45, 36, 20, 25, 48, 26, 17, 35, 21, 33, 35, 29, 47, 31, 31, 52, 35, 18, 30, 24, 35, 24, 26, 3, 32, 29, 31, 37, 34, 21, 18, 42, 23, 38, 43, 46, 27, 35, 26, 20, 43, 41, 39, 40, 25, 34, 37, 24, 34, 35, 29, 25, 47, 33, 24, 39, 26, 32, 22, 3, 30, 34, 31, 25, 27, 25, 29, 25, 25, 27, 30, 34, 31, 32, 29, 36, 3, 31, 25, 38, 24, 24, 39, 38, 32, 20, 28, 26, 28, 26, 31, 53, 35, 32, 25, 24, 34, 50, 27, 26, 3, 32, 42, 37, 32, 28, 34, 3, 20, 33, 29, 41, 29, 32, 21, 40, 20, 26, 41, 33, 20, 36, 36, 30, 22, 36, 37, 37, 33, 41, 25, 21, 27, 30, 25, 37, 31, 38, 48, 38, 34, 34, 29, 22, 30, 27, 43, 37, 48, 34, 30, 17, 26, 30, 39, 33, 25, 39, 31, 20, 43, 22, 32, 29, 29, 37, 22, 36, 28, 28, 48, 36, 42, 42, 32, 31, 15, 36, 24, 3, 33, 38, 34, 23, 42, 21, 28, 35, 28, 31, 32, 32, 19, 35, 26, 42, 25, 44, 46, 29, 31, 19, 22, 31, 21, 36, 35, 26, 23, 30, 15, 32, 24, 32, 39, 17, 38, 34, 26, 39, 31, 43, 21, 28, 41, 38, 35, 36, 39, 38, 22, 38, 44, 37, 29, 15, 24, 35, 29, 31, 34, 25, 27, 23, 35, 27, 26, 29, 21, 30, 44, 26, 26, 32, 28, 28, 28, 31, 22, 30, 3, 3, 37, 42, 41, 30, 38, 37, 23, 29, 21, 42, 3, 24, 37, 31, 40, 40, 16, 43, 27, 32, 33, 22, 39, 35, 37, 27, 23, 50, 23, 20, 33, 28, 18, 3, 37, 34, 26, 39, 43, 34, 33, 42, 37, 48, 30, 28, 25, 40, 36, 22, 28, 22, 21, 23, 31, 25, 38, 38, 44, 22, 25, 38, 30, 36, 20, 24, 27, 26, 40, 37, 21, 30, 32, 39, 44, 41, 29, 29, 23, 34, 27, 30, 27, 24, 27, 26, 29, 33, 28, 26, 29, 18, 21, 24, 41, 34, 52, 26, 32, 28, 24, 25, 25, 26, 35, 31, 20, 39, 38, 32, 33, 35, 24, 19, 23, 16, 40, 28, 49, 23, 24, 23, 23, 20, 36, 34, 30, 31, 33, 23, 27, 24, 15, 42, 23, 3, 23, 15, 29, 33, 23, 35, 32, 35, 42, 37, 25, 34, 26, 51, 3, 24, 38, 15, 34, 16, 28, 26, 42, 24, 24, 25, 18, 33, 25, 39, 26, 35, 26, 35, 38, 47, 29, 19, 28, 33, 41, 39, 36, 37, 27, 26, 42, 33, 22, 36, 39, 33, 23, 42, 28, 42, 29, 28, 23, 29, 28, 19, 31, 21, 35, 34, 34, 37, 40, 28, 27, 18, 23, 49, 38, 21, 26, 38, 51, 23, 31, 28, 37, 25, 30, 28, 50, 35, 29, 34, 36, 24, 28, 37, 33, 23, 36, 34, 34, 35, 32, 35, 24, 35, 20, 19, 41, 37, 42, 24, 21, 34, 29, 25, 17, 37, 27, 26, 25, 34, 15, 36, 21, 26, 45, 24, 24, 25, 41, 38, 22, 24, 44, 36, 39, 22, 22, 26, 42, 26, 29, 34, 29, 39, 33, 28, 20, 26, 25, 3, 31, 15, 30, 50, 27, 37, 17, 31, 22, 15, 24, 26, 35, 42, 23, 18, 42, 28, 28, 29, 37, 30, 33, 27, 28, 21, 30, 42, 22, 20, 38, 41, 25, 29, 26, 52, 38, 21, 3, 25, 29, 29, 26, 39, 34, 32, 37, 30, 23, 20, 20, 35, 19, 33, 27, 31, 24, 3, 37, 31, 48, 24, 26, 43, 42, 38, 15, 29, 27, 37, 26, 40, 46, 31, 20, 34, 37, 32, 23, 46, 39, 26, 28, 45, 22, 22, 53, 42, 24, 29, 22, 24, 39, 37, 38, 32, 32, 31, 32, 15, 25, 37, 35, 31, 25, 34, 38, 31, 31, 34, 27, 18, 31, 22, 21, 33, 41, 27, 31, 35, 18, 36, 33, 28, 27, 34, 27, 19, 37, 39, 49, 26, 21, 24, 21, 33, 23, 26, 47, 37, 44, 24, 3, 31, 29, 20, 26, 32, 40, 32, 23, 31, 32, 28, 32, 24, 42, 30, 26, 19, 29, 27, 26, 31, 42, 37, 37, 25, 55, 26, 40, 19, 41, 30, 51, 3, 27, 23, 32, 31, 20, 30, 26, 27, 38, 36, 30, 22, 43, 23, 44, 38, 30, 24, 38, 48, 34, 18, 28, 26, 30, 29, 15, 37, 27, 3, 34, 25, 23, 18, 28, 37, 31, 25, 22, 23, 35, 23, 31, 27, 33, 26, 30, 23, 36, 20, 30, 30, 26, 28, 3, 31, 38, 36, 3, 40, 48, 26, 19, 44, 23, 35, 39, 32, 28, 30, 39, 23, 28, 29, 16, 26, 38, 18, 33, 32, 33, 3, 31, 30, 22, 26, 30, 24, 43, 23, 29, 31, 35, 49, 36, 33, 35, 27, 22, 28, 35, 40, 39, 33, 20, 33, 35, 27, 32, 25, 29, 42, 20, 28, 33, 24, 22, 36, 26, 21, 19, 28, 37, 36, 34, 49, 26, 21, 45, 19, 48, 39, 27, 30, 30, 31, 41, 27, 29, 45, 34, 23, 39, 28, 37, 35, 37, 33, 23, 29, 41, 39, 42, 31, 49, 36, 33, 28, 16, 34, 53, 32, 37, 34, 21, 30, 23, 17, 26, 35, 27, 25, 34, 43, 31, 35, 42, 26, 29, 29, 39, 19, 32, 19, 26, 27, 22, 26, 36, 40, 35, 3, 20, 28, 34, 44, 32, 28, 18, 39, 36, 32, 42, 38, 35, 24, 18, 46, 39, 15, 20, 37, 28, 28, 39, 28, 3, 20, 24, 32, 39, 24, 49, 22, 25, 35, 34, 25, 30, 26, 34, 44, 37, 40, 22, 33, 45, 32, 25, 36, 33, 53, 39, 23, 23, 40, 29, 34, 35, 23, 44, 25, 40, 23, 29, 32, 31, 38, 44, 26, 35, 27, 41, 24, 33, 21, 35, 34, 24, 31, 29, 15, 20, 23, 32, 26, 50, 33, 35, 32, 20, 42, 31, 39, 46, 22, 34, 27, 38, 19, 29, 46, 24, 27, 30, 26, 32, 28, 25, 15, 24, 25, 17, 30, 20, 35, 33, 30, 25, 25, 26, 25, 32, 40, 29, 26, 34, 30, 25, 24, 29, 37, 32, 31, 23, 20, 25, 15, 29, 21, 29, 25, 32, 15, 21, 23, 28, 18, 25, 21, 27, 38, 25, 26, 31, 31, 38, 32, 24, 29, 44, 31, 37, 20, 26, 31, 39, 29, 22, 33, 23, 26, 23, 25, 15, 16, 30, 30, 34, 20, 41, 38, 21, 25, 26, 23, 27, 3, 40, 31, 17, 30, 39, 30, 37, 34, 34, 25, 24, 29, 31, 31, 23, 25, 31, 17, 38, 25, 3, 33, 27, 26, 26, 33, 15, 31, 22, 25, 23, 28, 22, 31, 36, 16, 46, 3, 37, 22, 20, 26, 35, 23, 20, 23, 27, 32, 32, 32, 41, 33, 22, 22, 27, 35, 27, 28, 37, 47, 32, 37, 30, 23, 38, 34, 28, 27, 15, 23, 40, 44, 50, 44, 25, 31, 39, 25, 26, 26, 29, 32, 19, 21, 27, 30, 27, 26, 30, 27, 32, 3, 48, 31, 26, 25, 25, 27, 33, 38, 39, 31, 27, 34, 21, 33, 33, 29, 43, 30, 19, 27, 19, 26, 29, 27, 22, 37, 30, 30, 35, 34, 30, 31, 39, 32, 34, 28, 34, 34, 31, 33, 27, 22, 39, 40, 29, 25, 26, 27, 30, 20, 42, 3, 33, 28, 27, 42, 27, 41, 21, 20, 40, 39, 20, 24, 24, 27, 27, 33, 17, 35, 20, 28, 26, 31, 26, 26, 20, 37, 34, 31, 25, 40, 16, 31, 31, 48, 32, 42, 24, 32, 34, 26, 41, 28, 25, 20, 35, 29, 26, 31, 32, 28, 38, 23, 27, 30, 23, 40, 26, 31, 37, 26, 25, 22, 15, 32, 31, 22, 33, 35, 3, 49, 35, 27, 29, 23, 22, 15, 42, 31, 33, 29, 21, 33, 26, 37, 21, 38, 31, 18, 40, 32, 30, 29, 33, 34, 26, 41, 27, 30, 3, 34, 28, 33, 36, 33, 34, 22, 32, 30, 38, 36, 37, 31, 54, 24, 34, 35, 24, 37, 33, 27, 51, 38, 21, 30, 3, 25, 26, 29, 17, 28, 16, 20, 28, 25, 25, 29, 27, 3, 40, 46, 47, 39, 29, 30, 37, 32, 29, 30, 27, 31, 36, 27, 35, 25, 22, 22, 20, 45, 33, 29, 34, 29, 27, 37, 25, 3, 42, 32, 27, 38, 37, 27, 23, 34, 31, 30, 34, 37, 41, 19, 27, 36, 47, 42, 32, 34, 47, 36, 42, 14, 30, 22, 40, 29, 20, 19, 36, 36, 24, 30, 22, 27, 21, 34, 37, 33, 3, 27, 21, 37, 37, 35, 23, 29, 33, 43, 43, 38, 21, 32, 25, 30, 25, 28, 27, 42, 33, 27, 27, 39, 16, 46, 25, 21, 27, 38, 32, 23, 32, 26, 21, 49, 24, 35, 36, 33, 26, 25, 28, 30, 20, 28, 21, 35, 33, 23, 39, 32, 39, 25, 23, 37, 27, 20, 27, 26, 23, 34, 28, 31, 26, 20, 22, 29, 28, 29, 42, 23, 45, 40, 30, 29, 36, 40, 44, 26, 39, 30, 29, 34, 23, 36, 25, 27, 28, 29, 19, 40, 25, 3, 51, 20, 40, 36, 17, 28, 25, 29, 30, 23, 35, 22, 38, 38, 15, 31, 28, 29, 20, 27, 21, 25, 22, 29, 24, 30, 33, 35, 23, 21, 23, 36, 29, 33, 30, 39, 25, 29, 24, 21, 32, 30, 40, 23, 41, 25, 31, 22, 39, 42, 28, 33, 46, 43, 29, 25, 24, 19, 33, 24, 15, 25, 3, 28, 31, 31, 34, 41, 26, 24, 39, 46, 3, 27, 31, 34, 24, 39, 34, 28, 37, 56, 32, 30, 34, 29, 28, 15, 33, 27, 45, 38, 20, 24, 31, 37, 20, 36, 28, 19, 35, 37, 35, 22, 29, 32, 26, 25, 36, 29, 25, 27, 38, 41, 25, 30, 38, 28, 34, 24, 27, 31, 27, 27, 38, 35, 37, 32, 28, 24, 34, 38, 28, 31, 30, 30, 24, 28, 31, 26, 28, 26, 34, 31, 40, 40, 17, 20, 24, 33, 3, 38, 17, 26, 23, 36, 27, 42, 38, 44, 27, 30, 30, 33, 31, 39, 42, 28, 25, 24, 37, 45, 28, 28, 44, 32, 23, 28, 32, 26, 12, 28, 31, 26, 26, 33, 28, 25, 3, 34, 22, 27, 39, 28, 21, 28, 35, 40, 26, 31, 32, 15, 29, 27, 27, 23, 15, 34, 23, 40, 38, 43, 33, 29, 29, 21, 34, 41, 28, 21, 35, 23, 33, 21, 36, 37, 30, 44, 37, 23, 29, 15, 37, 32, 48, 52, 31, 21, 42, 25, 51, 42, 33, 3, 46, 44, 29, 35, 3, 24, 29, 26, 40, 39, 34, 31, 26, 32, 41, 26, 31, 24, 39, 37, 44, 33, 33, 40, 27, 28, 19, 35, 34, 22, 26, 25, 34, 25, 32, 45, 3, 37, 29, 27, 26, 41, 36, 28, 38, 27, 40, 29, 24, 27, 31, 27, 23, 31, 34, 26, 29, 29, 33, 33, 29, 36, 35, 28, 30, 35, 36, 45, 15, 32, 33, 34, 23, 29, 30, 18, 25, 32, 22, 40, 39, 31, 26, 28, 29, 28, 21, 38, 22, 29, 26, 32, 16, 23, 30, 34, 18, 24, 18, 33, 32, 28, 24, 39, 24, 36, 47, 44, 34, 15, 31, 36, 26, 33, 39, 30, 41, 26, 34, 27, 29, 25, 40, 38, 35, 29, 33, 34, 25, 31, 32, 50, 34, 37, 22, 30, 21, 21, 32, 18, 28, 30, 32, 35, 45, 27, 28, 28, 42, 25, 24, 44, 34, 26, 3, 34, 32, 27, 31, 26, 23, 33, 33, 3, 21, 26, 33, 38, 33, 26, 42, 27, 20, 33, 37, 39, 20, 22, 38, 3, 20, 19, 30, 38, 32, 50, 27, 30, 40, 31, 15, 37, 32, 28, 15, 34, 34, 24, 40, 26, 29, 33, 30, 29, 21, 29, 20, 53, 26, 35, 26, 30, 45, 44, 30, 31, 30, 22, 34, 29, 44, 28, 30, 47, 29, 22, 25, 26, 24, 15, 23, 40, 20, 32, 38, 30, 29, 31, 44, 38, 31, 37, 18, 20, 29, 29, 39, 40, 38, 21, 34, 20, 15, 34, 34, 29, 43, 27, 34, 25, 32, 39, 37, 33, 3, 33, 32, 31, 38, 30, 41, 30, 28, 21, 21, 38, 38, 28, 24, 26, 26, 28, 36, 34, 24, 26, 27, 50, 25, 34, 23, 36, 33, 37, 34, 41, 42, 50, 46, 34, 30, 17, 29, 27, 17, 27, 52, 26, 38, 36, 30, 24, 27, 31, 22, 30, 23, 3, 25, 31, 22, 23, 21, 27, 35, 28, 28, 28, 32, 21, 20, 27, 50, 33, 31, 25, 30, 3, 40, 18, 27, 27, 20, 26, 20, 50, 23, 36, 28, 18, 28, 37, 22, 36, 18, 34, 34, 30, 42, 28, 35, 26, 41, 45, 27, 32, 27, 31, 25, 13, 25, 3, 26, 15, 25, 40, 36, 28, 37, 40, 31, 26, 25, 29, 31, 18, 27, 28, 32, 29, 28, 23, 31, 35, 28, 29, 32, 27, 33, 22, 29, 31, 41, 32, 28, 29, 42, 33, 22, 36, 32, 47, 32, 28, 25, 27, 27, 41, 25, 33, 35, 37, 35, 31, 37, 33, 33, 26, 32, 38, 31, 31, 35, 47, 40, 19, 25, 40, 20, 34, 23, 31, 31, 20, 38, 34, 41, 40, 32, 23, 32, 23, 29, 34, 25, 19, 41, 3, 22, 22, 31, 46, 20, 24, 34, 3, 28, 41, 29, 28, 35, 31, 37, 21, 32, 42, 24, 20, 34, 38, 24, 25, 32, 23, 29, 32, 26, 38, 33, 25, 30, 33, 35, 27, 36, 28, 31, 34, 32, 3, 35, 38, 43, 23, 39, 35, 26, 37, 15, 47, 28, 19, 25, 34, 31, 30, 24, 29, 34, 33, 29, 3, 32, 22, 27, 36, 39, 25, 38, 35, 38, 24, 38, 27, 22, 35, 32, 40, 24, 32, 24, 22, 31, 30, 30, 29, 30, 14, 32, 26, 3, 25, 30, 37, 15, 34, 31, 21, 16, 27, 17, 22, 17, 35, 25, 24, 36, 26, 50, 36, 33, 34, 38, 41, 45, 31, 22, 36, 31, 24, 31, 21, 3, 52, 21, 29, 40, 21, 22, 29, 25, 26, 31, 30, 30, 23, 15, 39, 25, 27, 22, 32, 37, 32, 35, 27, 45, 36, 29, 22, 22, 18, 22, 31, 25, 28, 40, 32, 20, 35, 26, 27, 27, 51, 21, 23, 37, 28, 20, 37, 24, 25, 32, 3, 20, 23, 34, 43, 34, 31, 32, 28, 28, 26, 31, 33, 18, 27, 20, 29, 40, 19, 32, 25, 40, 50, 32, 33, 30, 27, 22, 33, 23, 35, 28, 20, 24, 41, 32, 34, 21, 28, 28, 37, 48, 25, 30, 38, 20, 32, 33, 42, 32, 28, 21, 30, 34, 40, 17, 39, 32, 31, 33, 28, 23, 39, 37, 32, 30, 36, 37, 21, 30, 34, 25, 41, 33, 19, 29, 25, 29, 12, 3, 28, 44, 31, 31, 37, 29, 43, 21, 23, 27, 26, 21, 37, 23, 30, 22, 35, 35, 27, 21, 26, 28, 29, 33, 32, 28, 27, 35, 28, 15, 37, 45, 28, 38, 23, 34, 36, 33, 36, 33, 30, 21, 29, 28, 27, 34, 22, 14, 32, 34, 38, 27, 30, 28, 3, 33, 24, 27, 30, 23, 36, 30, 38, 34, 20, 21, 25, 33, 43, 35, 37, 40, 26, 25, 35, 22, 35, 35, 33, 38, 26, 37, 37, 36, 26, 22, 23, 27, 27, 37, 29, 31, 34, 15, 25, 30, 32, 3, 47, 43, 24, 39, 20, 24, 31, 25, 44, 31, 30, 27, 40, 43, 30, 47, 38, 26, 38, 28, 3, 32, 32, 35, 29, 38, 31, 34, 21, 32, 29, 29, 29, 36, 3, 28, 33, 19, 15, 23, 43, 42, 33, 30, 34, 39, 22, 78, 20, 26, 39, 32, 61, 45, 39, 35, 15, 41, 36, 27, 38, 41, 35, 35, 50, 30, 36, 26, 23, 35, 33, 29, 38, 21, 40, 31, 34, 26, 26, 36, 29, 17, 35, 17, 37, 37, 25, 31, 44, 39, 31, 28, 24, 33, 32, 22, 31, 41, 54, 31, 35, 30, 21, 25, 26, 34, 20, 31, 33, 33, 16, 20, 24, 35, 25, 28, 35, 16, 39, 35, 26, 26, 33, 26, 24, 20, 33, 35, 34, 34, 26, 30, 25, 38, 30, 36, 31, 29, 34, 27, 35, 40, 23, 36, 23, 38, 31, 25, 36, 34, 31, 27, 44, 3, 26, 38, 31, 31, 41, 31, 33, 35, 19, 22, 25, 40, 26, 28, 15, 41, 22, 22, 36, 29, 31, 21, 40, 38, 26, 35, 3, 38, 26, 34, 26, 34, 31, 35, 37, 39, 48, 43, 28, 25, 32, 30, 36, 40, 31, 20, 29, 22, 46, 21, 36, 43, 37, 38, 37, 15, 28, 54, 32, 32, 49, 38, 24, 37, 23, 37, 23, 25, 37, 32, 40, 41, 30, 18, 28, 31, 36, 31, 29, 31, 42, 30, 34, 31, 25, 40, 31, 36, 57, 21, 32, 32, 28, 18, 25, 30, 22, 34, 23, 44, 33, 30, 25, 50, 38, 30, 23, 20, 21, 38, 38, 27, 28, 40, 31, 32, 3, 26, 24, 26, 28, 32, 25, 24, 43, 43, 30, 30, 47, 35, 44, 35, 29, 28, 31, 44, 35, 36, 24, 30, 20, 47, 38, 22, 27, 20, 20, 30, 28, 40, 28, 29, 32, 26, 53, 27, 24, 20, 3, 36, 37, 23, 25, 29, 33, 28, 30, 28, 38, 29, 24, 36, 31, 36, 27, 32, 23, 38, 34, 29, 41, 3, 27, 42, 28, 29, 34, 23, 23, 29, 39, 32, 31, 28, 45, 38, 48, 29, 32, 25, 21, 36, 24, 25, 35, 28, 31, 29, 20, 33, 38, 46, 14, 31, 39, 23, 26, 29, 30, 33, 25, 31, 26, 34, 22, 33, 25, 31, 27, 49, 20, 29, 37, 42, 20, 26, 30, 26, 27, 24, 21, 27, 25, 29, 24, 38, 25, 21, 31, 22, 26, 36, 32, 39, 14, 28, 23, 27, 36, 3, 28, 35, 21, 25, 37, 42, 23, 25, 30, 26, 26, 30, 36, 3, 29, 31, 23, 34, 27, 22, 27, 41, 34, 25, 28, 31, 33, 3, 28, 28, 27, 41, 22, 20, 43, 34, 26, 30, 25, 24, 43, 26, 32, 46, 39, 28, 26, 21, 34, 29, 27, 19, 26, 30, 34, 26, 24, 43, 15, 45, 20, 29, 34, 3, 25, 18, 36, 20, 28, 29, 35, 28, 21, 34, 19, 30, 28, 26, 34, 36, 30, 35, 21, 37, 36, 27, 18, 26, 24, 23, 30, 37, 26, 3, 26, 35, 40, 53, 27, 37, 23, 20, 39, 32, 31, 27, 17, 28, 32, 31, 39, 31, 25, 20, 48, 33, 26, 33, 21, 35, 27, 39, 22, 31, 30, 42, 32, 46, 25, 3, 31, 37, 30, 27, 20, 24, 28, 51, 19, 33, 28, 20, 34, 29, 27, 44, 37, 34, 18, 29, 28, 31, 27, 53, 30, 26, 27, 28, 25, 50, 39, 24, 36, 29, 36, 24, 38, 20, 29, 42, 40, 21, 30, 21, 31, 30, 33, 41, 3, 41, 24, 34, 35, 26, 32, 33, 36, 33, 46, 44, 26, 37, 24, 33, 28, 24, 52, 24, 35, 3, 35, 46, 32, 20, 3, 25, 28, 24, 26, 27, 25, 29, 23, 15, 32, 37, 41, 33, 33, 19, 34, 16, 39, 20, 32, 31, 42, 27, 46, 15, 42, 3, 41, 18, 24, 47, 35, 28, 33, 49, 41, 36, 27, 32, 18, 37, 24, 38, 38, 25, 34, 36, 38, 42, 39, 20, 25, 33, 26, 34, 31, 30, 29, 22, 25, 29, 33, 34, 35, 19, 31, 3, 30, 25, 34, 43, 26, 40, 33, 20, 32, 33, 26, 42, 39, 35, 28, 23, 38, 19, 32, 24, 21, 3, 41, 30, 30, 25, 20, 31, 26, 39, 27, 27, 37, 20, 47, 40, 22, 21, 35, 40, 30, 26, 33, 39, 35, 35, 20, 33, 28, 37, 23, 22, 39, 24, 45, 33, 36, 50, 39, 15, 31, 30, 24, 33, 47, 35, 14, 30, 39, 31, 45, 36, 28, 23, 28, 3, 21, 15, 34, 33, 32, 32, 46, 33, 18, 22, 32, 30, 29, 46, 25, 29, 33, 27, 33, 30, 29, 32, 32, 35, 37, 31, 39, 27, 35, 34, 36, 26, 37, 37, 39, 31, 30, 32, 21, 38, 36, 27, 15, 3, 30, 24, 45, 17, 42, 30, 31, 23, 37, 15, 33, 33, 35, 30, 52, 32, 48, 3, 24, 33, 29, 29, 24, 3, 24, 50, 22, 26, 34, 28, 42, 35, 22, 40, 22, 26, 35, 36, 25, 24, 23, 41, 30, 34, 29, 30, 42, 21, 42, 28, 33, 27, 24, 27, 22, 23, 34, 42, 28, 21, 33, 40, 28, 21, 35, 37, 27, 36, 35, 39, 41, 32, 37, 22, 30, 28, 41, 15, 35, 26, 13, 34, 37, 33, 44, 27, 24, 33, 44, 22, 20, 26, 35, 32, 29, 22, 39, 23, 28, 35, 42, 47, 40, 23, 30, 37, 38, 25, 32, 28, 19, 20, 35, 36, 30, 20, 19, 30, 41, 28, 38, 31, 21, 23, 30, 30, 40, 25, 28, 26, 45, 15, 3, 26, 31, 25, 41, 27, 37, 22, 44, 20, 28, 25, 33, 28, 30, 39, 33, 28, 21, 33, 20, 32, 46, 55, 37, 28, 23, 32, 29, 15, 38, 26, 27, 34, 30, 32, 27, 27, 21, 34, 20, 24, 30, 36, 40, 26, 20, 27, 42, 24, 29, 22, 34, 28, 27, 26, 34, 36, 34, 37, 26, 26, 40, 37, 21, 31, 23, 37, 32, 40, 3, 37, 34, 36, 34, 50, 33, 36, 34, 21, 36, 42, 34, 50, 22, 46, 3, 39, 26, 32, 28, 33, 40, 24, 22, 36, 22, 34, 38, 25, 29, 41, 58, 37, 33, 30, 16, 26, 33, 33, 3, 23, 35, 20, 21, 16, 43, 27, 23, 36, 21, 25, 34, 39, 23, 36, 34, 36, 21, 20, 29, 33, 26, 31, 31, 35, 57, 31, 42, 23, 47, 16, 38, 32, 38, 27, 18, 31, 28, 32, 26, 15, 30, 28, 30, 29, 29, 23, 25, 29, 29, 27, 28, 35, 15, 32, 27, 32, 27, 35, 20, 33, 35, 30, 36, 30, 43, 30, 23, 26, 21, 20, 36, 30, 24, 31, 36, 37, 32, 39, 29, 26, 26, 35, 37, 18, 30, 37, 27, 34, 33, 38, 29, 30, 29, 46, 29, 26, 22, 28, 30, 23, 28, 26, 26, 35, 31, 25, 22, 29, 27, 28, 31, 43, 34, 30, 33, 35, 40, 22, 34, 38, 35, 24, 37, 34, 28, 35, 29, 23, 31, 26, 24, 25, 45, 34, 33, 34, 29, 37, 43, 24, 32, 25, 40, 37, 32, 40, 34, 21, 27, 37, 3, 25, 23, 26, 28, 29, 28, 3, 34, 26, 40, 24, 31, 48, 23, 26, 37, 25, 33, 29, 35, 27, 28, 42, 32, 35, 45, 41, 37, 44, 47, 33, 26, 24, 29, 30, 37, 27, 32, 28, 28, 26, 25, 31, 33, 33, 39, 25, 33, 31, 21, 43, 16, 26, 22, 20, 29, 37, 31, 34, 26, 26, 30, 30, 26, 28, 27, 45, 28, 27, 49, 41, 36, 26, 44, 36, 36, 48, 40, 38, 25, 30, 20, 27, 36, 28, 30, 46, 24, 37, 33, 30, 32, 39, 22, 21, 27, 32, 15, 39, 3, 28, 20, 42, 38, 28, 35, 39, 25, 20, 24, 43, 24, 19, 23, 35, 37, 33, 35, 32, 26, 27, 30, 34, 22, 43, 28, 23, 3, 33, 27, 37, 27, 30, 26, 37, 37, 18, 49, 22, 38, 25, 30, 41, 34, 34, 29, 30, 27, 30, 3, 39, 26, 18, 32, 31, 19, 22, 35, 34, 30, 27, 27, 19, 30, 23, 26, 30, 38, 34, 36, 30, 31, 36, 30, 23, 23, 41, 23, 36, 29, 36, 49, 40, 43, 26, 34, 36, 21, 24, 31, 21, 42, 32, 45, 22, 19, 38, 47, 53, 29, 3, 40, 35, 31, 36, 31, 34, 66, 23, 36, 34, 27, 3, 37, 44, 54, 29, 34, 32, 29, 28, 20, 25, 35, 34, 32, 33, 43, 31, 29, 30, 35, 3, 32, 32, 27, 24, 41, 30, 25, 29, 31, 38, 27, 37, 21, 32, 29, 30, 35, 21, 25, 27, 3, 41, 19, 29, 41, 34, 41, 38, 15, 20, 36, 39, 37, 40, 32, 3, 41, 22, 41, 39, 30, 21, 30, 40, 22, 28, 40, 32, 47, 21, 3, 16, 34, 26, 32, 28, 36, 34, 32, 44, 20, 34, 34, 30, 28, 37, 26, 3, 33, 24, 29, 23, 53, 29, 21, 28, 37, 42, 36, 24, 23, 26, 23, 43, 24, 28, 32, 35, 22, 21, 37, 27, 35, 23, 34, 27, 43, 28, 28, 27, 43, 23, 31, 35, 38, 38, 33, 31, 21, 32, 24, 24, 18, 23, 31, 36, 34, 31, 27, 29, 3, 30, 31, 38, 22, 31, 26, 28, 3, 48, 31, 25, 25, 16, 41, 36, 29, 44, 38, 21, 29, 26, 32, 29, 42, 24, 23, 38, 27, 27, 36, 42, 33, 30, 32, 29, 31, 25, 36, 21, 26, 33, 29, 33, 21, 51, 25, 23, 34, 22, 30, 31, 35, 29, 35, 20, 21, 20, 29, 36, 42, 37, 32, 37, 30, 34, 24, 28, 31, 35, 17, 22, 15, 20, 31, 31, 28, 33, 25, 36, 36, 50, 28, 37, 27, 33, 24, 49, 33, 15, 29, 22, 30, 37, 35, 33, 32, 33, 15, 23, 26, 25, 25, 3, 26, 15, 36, 20, 23, 36, 33, 30, 20, 29, 36, 27, 33, 34, 22, 46, 22, 38, 33, 37, 21, 3, 20, 51, 30, 34, 31, 43, 31, 19, 32, 21, 18, 29, 35, 39, 25, 40, 35, 28, 33, 25, 31, 26, 39, 30, 32, 24, 34, 20, 19, 20, 15, 36, 42, 25, 35, 16, 30, 24, 31, 21, 24, 31, 35, 26, 30, 36, 40, 26, 35, 34, 40, 3, 29, 20, 29, 18, 30, 38, 3, 27, 31, 49, 29, 24, 29, 39, 41, 30, 29, 39, 20, 32, 29, 30, 15, 31, 21, 51, 23, 43, 31, 33, 27, 43, 34, 24, 32, 29, 41, 30, 20, 31, 33, 42, 29, 33, 27, 25, 31, 21, 28, 52, 29, 37, 15, 40, 30, 22, 30, 43, 34, 22, 39, 35, 35, 32, 25, 31, 28, 3, 22, 22, 25, 36, 37, 31, 31, 32, 34, 33, 21, 31, 28, 27, 22, 28, 47, 25, 39, 23, 30, 45, 29, 21, 42, 36, 15, 25, 24, 47, 26, 21, 22, 29, 26, 15, 36, 25, 20, 24, 31, 30, 28, 40, 42, 23, 38, 24, 34, 43, 37, 3, 23, 36, 30, 33, 34, 24, 44, 30, 28, 37, 28, 28, 25, 33, 27, 25, 27, 29, 47, 32, 39, 24, 32, 47, 29, 27, 32, 28, 23, 42, 24, 31, 29, 29, 24, 25, 33, 33, 18, 40, 39, 39, 34, 35, 29, 23, 28, 38, 35, 25, 28, 23, 27, 30, 22, 31, 23, 30, 42, 24, 25, 29, 30, 25, 30, 36, 24, 39, 26, 25, 29, 31, 28, 28, 33, 42, 36, 27, 36, 31, 33, 25, 53, 27, 42, 25, 28, 34, 39, 38, 26, 24, 34, 46, 21, 25, 31, 30, 28, 27, 31, 38, 30, 26, 16, 53, 41, 33, 21, 44, 31, 36, 32, 35, 3, 22, 20, 33, 34, 41, 36, 24, 28, 35, 28, 24, 41, 37, 30, 30, 35, 23, 31, 21, 3, 32, 21, 28, 24, 37, 31, 28, 29, 37, 30, 31, 29, 45, 26, 31, 60, 39, 31, 19, 33, 41, 24, 33, 36, 32, 18, 20, 25, 20, 30, 48, 19, 49, 29, 27, 33, 26, 33, 27, 33, 35, 26, 33, 31, 29, 39, 26, 23, 16, 26, 37, 32, 20, 24, 35, 21, 20, 38, 31, 25, 35, 34, 31, 23, 43, 51, 15, 34, 29, 25, 29, 39, 34, 36, 35, 43, 22, 33, 35, 25, 27, 20, 28, 46, 48, 29, 26, 34, 28, 16, 33, 26, 28, 24, 33, 41, 35, 15, 36, 24, 17, 36, 33, 50, 22, 40, 35, 28, 27, 33, 34, 25, 31, 39, 3, 31, 18, 33, 28, 39, 33, 25, 31, 27, 38, 20, 29, 29, 34, 25, 32, 40, 55, 29, 28, 34, 37, 27, 33, 26, 25, 29, 20, 21, 37, 31, 24, 31, 38, 28, 36, 27, 28, 24, 24, 22, 30, 24, 43, 28, 28, 20, 32, 36, 25, 39, 18, 35, 25, 30, 28, 25, 36, 27, 21, 28, 28, 36, 38, 23, 38, 33, 43, 27, 24, 28, 26, 30, 37, 30, 25, 29, 37, 33, 33, 24, 25, 30, 42, 29, 29, 32, 24, 36, 27, 23, 35, 29, 34, 29, 36, 44, 25, 35, 38, 33, 25, 37, 20, 49, 32, 38, 37, 33, 28, 46, 24, 40, 15, 22, 25, 34, 30, 23, 21, 30, 26, 20, 37, 37, 34, 31, 27, 22, 32, 27, 23, 32, 38, 30, 26, 29, 37, 28, 30, 34, 26, 36, 33, 38, 36, 25, 33, 34, 28, 28, 50, 23, 3, 27, 31, 33, 34, 35, 42, 37, 18, 40, 26, 26, 34, 33, 44, 32, 13, 44, 29, 40, 28, 27, 36, 18, 56, 29, 27, 28, 3, 30, 34, 31, 37, 26, 30, 28, 28, 21, 50, 29, 16, 34, 42, 3, 32, 31, 25, 29, 23, 25, 29, 20, 38, 31, 33, 29, 23, 27, 33, 36, 37, 46, 22, 31, 41, 28, 25, 31, 50, 26, 33, 37, 31, 23, 34, 36, 28, 30, 43, 25, 3, 35, 26, 36, 46, 23, 26, 36, 3, 43, 51, 29, 37, 34, 29, 36, 30, 31, 26, 27, 32, 15, 39, 20, 36, 21, 30, 29, 36, 29, 22, 22, 43, 33, 26, 30, 34, 23, 40, 35, 35, 20, 25, 33, 26, 41, 19, 36, 42, 26, 37, 37, 43, 26, 30, 29, 15, 35, 22, 44, 30, 22, 35, 30, 15, 17, 29, 38, 40, 27, 22, 29, 44, 37, 34, 29, 24, 34, 31, 38, 34, 18, 35, 44, 42, 27, 43, 20, 58, 31, 29, 37, 47, 34, 15, 21, 38, 30, 28, 32, 37, 3, 16, 30, 38, 22, 33, 40, 23, 18, 20, 19, 31, 36, 41, 31, 48, 36, 46, 39, 20, 17, 31, 35, 24, 30, 32, 43, 36, 34, 35, 21, 15, 37, 31, 30, 49, 22, 23, 26, 36, 51, 49, 40, 21, 28, 25, 36, 50, 28, 27, 32, 32, 25, 33, 33, 25, 31, 31, 37, 26, 30, 25, 29, 27, 39, 35, 35, 35, 37, 16, 36, 34, 27, 33, 30, 37, 30, 26, 31, 38, 34, 41, 29, 33, 37, 30, 34, 27, 34, 28, 30, 40, 20, 46, 34, 41, 32, 39, 44, 52, 30, 31, 29, 16, 25, 28, 32, 32, 26, 26, 30, 21, 36, 22, 39, 26, 29, 27, 23, 28, 39, 27, 16, 3, 38, 31, 23, 25, 32, 27, 23, 40, 30, 41, 34, 30, 42, 3, 31, 33, 28, 23, 22, 40, 41, 30, 20, 23, 27, 3, 39, 49, 29, 31, 24, 43, 25, 38, 26, 30, 21, 19, 29, 29, 29, 23, 32, 40, 40, 40, 33, 37, 38, 25, 18, 28, 45, 29, 23, 23, 36, 22, 45, 37, 28, 28, 28, 19, 38, 37, 41, 28, 27, 36, 31, 40, 27, 23, 37, 18, 33, 35, 18, 36, 25, 18, 24, 30, 25, 38, 25, 31, 43, 23, 40, 41, 28, 31, 29, 37, 21, 27, 21, 31, 24, 24, 23, 27, 27, 26, 25, 32, 27, 25, 29, 34, 27, 3, 18, 45, 20, 25, 23, 27, 24, 38, 21, 42, 27, 27, 21, 25, 21, 37, 34, 46, 37, 43, 30, 25, 27, 23, 27, 24, 27, 28, 20, 16, 39, 30, 24, 36, 29, 26, 31, 26, 36, 25, 45, 43, 30, 21, 23, 29, 37, 31, 28, 38, 28, 36, 18, 31, 28, 37, 39, 37, 46, 32, 36, 15, 40, 39, 49, 22, 22, 35, 24, 34, 33, 23, 28, 43, 27, 15, 29, 27, 23, 24, 15, 28, 27, 29, 24, 39, 39, 31, 15, 18, 37, 34, 30, 49, 29, 31, 33, 25, 48, 37, 42, 28, 33, 34, 3, 27, 27, 28, 28, 42, 31, 29, 22, 23, 26, 20, 26, 25, 38, 28, 26, 30, 28, 25, 35, 35, 3, 20, 28, 38, 20, 35, 46, 27, 3, 29, 33, 26, 32, 41, 43, 35, 29, 25, 56, 20, 39, 29, 53, 37, 28, 23, 38, 41, 21, 34, 22, 31, 24, 41, 30, 3, 3, 31, 35, 28, 38, 27, 42, 20, 29, 45, 37, 30, 40, 30, 43, 26, 22, 30, 44, 28, 33, 43, 22, 28, 40, 31, 37, 28, 25, 29, 26, 42, 28, 34, 23, 34, 22, 40, 26, 27, 22, 39, 18, 36, 26, 41, 32, 31, 36, 31, 32, 36, 34, 22, 34, 20, 35, 25, 24, 20, 36, 27, 3, 20, 35, 31, 49, 40, 34, 28, 44, 28, 22, 29, 40, 37, 29, 41, 35, 32, 35, 21, 36, 23, 26, 43, 20, 43, 22, 29, 40, 28, 23, 21, 27, 25, 21, 42, 31, 37, 25, 40, 23, 30, 20, 20, 33, 34, 22, 23, 25, 36, 22, 23, 3, 22, 33, 29, 29, 18, 34, 30, 39, 24, 31, 22, 11, 28, 29, 34, 36, 37, 31, 31, 38, 20, 3, 39, 38, 31, 45, 34, 32, 32, 36, 32, 31, 40, 20, 32, 26, 27, 29, 24, 28, 31, 33, 15, 43, 40, 27, 23, 41, 24, 28, 26, 32, 3, 20, 20, 31, 3, 30, 39, 33, 35, 20, 33, 23, 20, 16, 37, 40, 32, 23, 26, 20, 31, 22, 27, 20, 46, 37, 19, 26, 35, 28, 55, 37, 29, 34, 41, 42, 28, 36, 36, 26, 19, 3, 40, 22, 36, 38, 42, 41, 31, 29, 34, 29, 31, 24, 22, 27, 32, 44, 25, 32, 50, 34, 25, 51, 25, 25, 30, 35, 29, 47, 31, 29, 28, 32, 3, 23, 22, 26, 27, 31, 27, 35, 32, 25, 31, 3, 31, 23, 22, 29, 30, 17, 30, 35, 29, 27, 34, 34, 27, 3, 39, 33, 25, 3, 3, 32, 23, 31, 22, 28, 47, 21, 28, 28, 34, 42, 30, 30, 21, 30, 21, 44, 31, 31, 19, 30, 36, 30, 40, 44, 21, 25, 25, 35, 31, 40, 26, 29, 26, 21, 20, 18, 32, 32, 30, 29, 22, 28, 32, 30, 19, 31, 15, 24, 49, 35, 25, 31, 26, 45, 23, 3, 25, 26, 44, 36, 21, 3, 29, 28, 15, 28, 20, 24, 40, 28, 35, 35, 15, 44, 31, 21, 34, 36, 32, 31, 38, 44, 37, 20, 22, 22, 37, 20, 21, 28, 26, 44, 3, 28, 33, 30, 33, 3, 41, 24, 22, 31, 47, 35, 26, 20, 35, 38, 38, 40, 25, 25, 35, 43, 31, 32, 35, 33, 33, 25, 41, 34, 31, 22, 21, 28, 24, 27, 44, 37, 3, 45, 3, 23, 26, 28, 34, 21, 34, 22, 28, 34, 32, 32, 3, 50, 3, 37, 25, 37, 26, 38, 33, 37, 27, 36, 25, 24, 33, 23, 25, 31, 33, 38, 38, 20, 35, 28, 32, 15, 27, 27, 42, 41, 36, 19, 27, 26, 31, 37, 3, 37, 3, 31, 38, 28, 36, 22, 16, 36, 32, 28, 31, 42, 50, 33, 34, 32, 51, 31, 29, 44, 36, 37, 29, 30, 38, 39, 22, 25, 26, 41, 29, 28, 47, 28, 29, 39, 33, 27, 18, 36, 28, 29, 26, 37, 27, 33, 33, 23, 34, 24, 30, 24, 30, 24, 32, 28, 32, 44, 30, 65, 26, 23, 43, 20, 31, 30, 24, 41, 26, 26, 30, 25, 42, 23, 39, 36, 28, 42, 36, 25, 23, 31, 27, 33, 30, 40, 32, 36, 27, 31, 39, 32, 30, 42, 34, 15, 41, 44, 29, 24, 28, 22, 37, 23, 22, 30, 37, 31, 36, 24, 32, 36, 31, 39, 25, 22, 20, 43, 34, 31, 29, 23, 31, 20, 28, 35, 29, 30, 35, 20, 23, 47, 33, 39, 27, 39, 32, 33, 32, 31, 17, 36, 29, 29, 13, 17, 15, 29, 47, 33, 32, 22, 32, 33, 26, 49, 12, 38, 25, 45, 35, 31, 39, 30, 22, 33, 20, 38, 27, 22, 27, 31, 40, 40, 35, 35, 39, 35, 20, 33, 34, 3, 22, 16, 30, 25, 27, 43, 42, 24, 36, 29, 32, 15, 32, 33, 15, 34, 27, 25, 28, 30, 42, 32, 34, 38, 24, 29, 39, 29, 28, 28, 24, 29, 26, 59, 27, 26, 37, 33, 35, 20, 44, 29, 15, 40, 34, 27, 34, 39, 39, 23, 28, 42, 40, 19, 31, 45, 37, 29, 20, 25, 42, 20, 3, 43, 26, 30, 32, 40, 26, 37, 47, 49, 29, 36, 29, 37, 3, 29, 33, 25, 20, 35, 23, 28, 56, 25, 46, 42, 27, 33, 23, 32, 34, 33, 23, 26, 32, 31, 33, 26, 39, 23, 29, 18, 27, 26, 39, 35, 3, 31, 28, 32, 21, 30, 30, 22, 34, 28, 36, 40, 44, 41, 32, 24, 28, 37, 19, 37, 50, 39, 20, 31, 17, 32, 46, 24, 29, 38, 20, 33, 27, 38, 27, 23, 28, 25, 32, 31, 28, 27, 29, 31, 29, 45, 52, 21, 34, 19, 28, 39, 37, 38, 31, 29, 31, 27, 27, 42, 29, 30, 33, 31, 37, 40, 16, 3, 29, 26, 34, 30, 15, 29, 28, 26, 23, 45, 34, 31, 33, 32, 39, 44, 3, 37, 28, 26, 21, 31, 18, 22, 38, 31, 26, 33, 22, 22, 31, 32, 39, 34, 51, 20, 28, 23, 21, 28, 46, 36, 42, 31, 45, 34, 38, 33, 34, 28, 32, 31, 33, 25, 41, 36, 20, 30, 27, 21, 18, 30, 37, 28, 26, 33, 42, 22, 28, 33, 53, 30, 40, 3, 31, 24, 28, 3, 20, 37, 43, 29, 28, 32, 32, 48, 27, 33, 26, 30, 25, 37, 27, 28, 33, 25, 42, 27, 26, 27, 3, 33, 27, 21, 18, 23, 35, 28, 24, 31, 29, 27, 27, 30, 33, 30, 31, 31, 26, 39, 24, 32, 22, 36, 39, 30, 29, 32, 25, 30, 32, 30, 28, 44, 30, 60, 32, 31, 37, 25, 33, 24, 41, 21, 24, 20, 27, 37, 41, 32, 23, 25, 35, 21, 30, 48, 34, 3, 36, 30, 44, 34, 22, 44, 33, 32, 22, 34, 3, 26, 24, 20, 47, 31, 37, 42, 33, 29, 18, 27, 3, 31, 34, 38, 37, 30, 41, 25, 23, 26, 40, 30, 28, 30, 25, 15, 26, 30, 36, 15, 30, 39, 33, 26, 26, 35, 33, 41, 30, 19, 25, 25, 33, 37, 3, 23, 41, 42, 51, 24, 30, 37, 31, 33, 28, 26, 42, 44, 32, 22, 36, 34, 41, 27, 37, 20, 27, 26, 35, 42, 33, 46, 34, 32, 20, 32, 20, 26, 32, 31, 25, 25, 30, 25, 47, 26, 31, 35, 48, 23, 35, 29, 46, 51, 31, 27, 31, 23, 36, 29, 20, 32, 35, 19, 38, 25, 29, 31, 42, 20, 35, 16, 37, 22, 38, 27, 3, 24, 24, 25, 32, 22, 26, 25, 49, 28, 25, 15, 30, 50, 40, 3, 20, 34, 26, 31, 31, 25, 30, 30, 29, 34, 34, 33, 39, 36, 21, 38, 36, 46, 26, 25, 40, 22, 28, 34, 38, 21, 27, 24, 38, 29, 28, 35, 35, 37, 25, 24, 21, 34, 31, 25, 20, 41, 49, 41, 29, 33, 30, 22, 49, 32, 39, 36, 29, 28, 24, 24, 36, 27, 25, 49, 40, 40, 29, 33, 30, 35, 39, 31, 40, 21, 21, 34, 36, 43, 27, 24, 27, 24, 37, 17, 25, 22, 34, 31, 29, 32, 21, 42, 41, 35, 28, 34, 35, 38, 24, 14, 36, 48, 26, 22, 24, 27, 28, 24, 34, 23, 21, 25, 26, 3, 22, 28, 35, 26, 18, 41, 3, 29, 29, 30, 40, 46, 40, 33, 29, 19, 21, 29, 21, 22, 27, 29, 33, 35, 32, 31, 35, 41, 3, 3, 20, 36, 27, 25, 34, 22, 45, 36, 36, 17, 22, 29, 24, 31, 40, 34, 3, 34, 36, 39, 27, 32, 28, 19, 26, 35, 20, 15, 36, 41, 26, 17, 24, 36, 44, 37, 21, 22, 34, 41, 27, 41, 29, 23, 28, 36, 22, 37, 32, 29, 34, 31, 19, 32, 20, 19, 24, 25, 31, 27, 33, 42, 30, 33, 20, 33, 33, 29, 23, 27, 29, 31, 26, 31, 24, 28, 33, 46, 34, 30, 20, 32, 29, 29, 15, 30, 37, 43, 22, 32, 30, 33, 43, 44, 20, 47, 36, 30, 34, 23, 31, 46, 40, 38, 20, 16, 30, 43, 32, 35, 21, 36, 33, 22, 28, 30, 21, 37, 48, 46, 21, 29, 25, 31, 40, 42, 26, 32, 31, 24, 26, 15, 34, 32, 34, 28, 27, 16, 21, 22, 3, 38, 36, 34, 27, 23, 26, 27, 29, 18, 27, 33, 22, 32, 33, 31, 28, 27, 16, 21, 29, 27, 30, 19, 37, 31, 23, 24, 33, 26, 28, 42, 27, 28, 48, 38, 32, 29, 35, 35, 21, 34, 27, 34, 22, 37, 35, 21, 26, 33, 34, 28, 36, 43, 16, 19, 38, 21, 27, 25, 3, 32, 22, 16, 49, 31, 32, 3, 3, 26, 34, 34, 24, 33, 16, 38, 29, 27, 54, 28, 29, 35, 41, 15, 21, 31, 42, 31, 28, 29, 28, 47, 33, 37, 15, 18, 40, 37, 33, 32, 25, 40, 29, 32, 32, 31, 29, 23, 31, 27, 29, 26, 42, 40, 36, 29, 31, 32, 3, 47, 28, 37, 33, 27, 24, 33, 21, 44, 27, 28, 30, 32, 41, 20, 51, 32, 27, 25, 40, 36, 31, 18, 29, 41, 32, 33, 20, 38, 24, 27, 33, 18, 38, 41, 48, 30, 31, 3, 47, 40, 32, 23, 39, 23, 24, 36, 28, 24, 41, 32, 32, 45, 26, 23, 22, 35, 26, 3, 34, 24, 27, 23, 40, 35, 30, 27, 39, 27, 3, 21, 25, 40, 33, 31, 23, 30, 38, 31, 27, 53, 27, 31, 16, 27, 42, 34, 16, 31, 39, 17, 36, 23, 22, 36, 24, 39, 28, 33, 36, 23, 35, 27, 28, 29, 25, 39, 31, 26, 35, 39, 40, 29, 43, 35, 46, 24, 31, 33, 21, 36, 35, 40, 20, 32, 25, 39, 45, 22, 23, 20, 31, 33, 28, 24, 32, 19, 21, 35, 35, 15, 33, 33, 26, 53, 44, 38, 43, 35, 33, 25, 24, 28, 28, 20, 28, 42, 24, 33, 41, 34, 27, 38, 25, 18, 29, 26, 16, 28, 38, 40, 23, 56, 3, 32, 53, 31, 23, 32, 33, 29, 22, 46, 25, 43, 26, 36, 39, 24, 25, 35, 26, 29, 30, 36, 20, 28, 34, 39, 25, 21, 41, 36, 33, 45, 30, 20, 30, 30, 24, 26, 28, 36, 27, 32, 22, 26, 24, 33, 31, 20, 48, 27, 3, 25, 33, 33, 39, 30, 28, 35, 27, 27, 28, 43, 41, 30, 26, 28, 33, 37, 31, 36, 37, 35, 26, 22, 37, 35, 40, 34, 25, 34, 22, 26, 43, 26, 39, 26, 20, 35, 25, 28, 41, 38, 20, 42, 40, 30, 19, 30, 35, 24, 28, 34, 28, 32, 27, 19, 25, 3, 37, 30, 27, 28, 33, 30, 28, 38, 35, 26, 40, 28, 37, 32, 31, 29, 20, 31, 24, 27, 31, 27, 28, 28, 24, 19, 25, 41, 38, 24, 26, 43, 3, 26, 24, 34, 20, 31, 36, 26, 30, 41, 34, 24, 33, 29, 38, 39, 25, 23, 29, 32, 48, 36, 32, 25, 33, 39, 23, 30, 33, 19, 21, 24, 35, 30, 24, 30, 20, 15, 38, 34, 26, 43, 29, 36, 34, 30, 25, 22, 37, 22, 27, 24, 41, 38, 36, 27, 25, 34, 31, 17, 28, 30, 41, 29, 31, 39, 22, 23, 23, 26, 29, 30, 33, 35, 30, 39, 52, 39, 31, 19, 30, 33, 13, 15, 29, 3, 3, 22, 33, 33, 43, 41, 33, 20, 3, 39, 30, 42, 24, 34, 39, 25, 31, 27, 22, 27, 48, 40, 27, 31, 22, 48, 40, 29, 25, 30, 28, 37, 38, 42, 29, 28, 15, 29, 36, 31, 36, 27, 29, 30, 43, 3, 34, 43, 34, 30, 32, 21, 36, 30, 47, 20, 30, 36, 27, 53, 15, 35, 27, 28, 31, 35, 16, 27, 22, 34, 24, 36, 34, 22, 29, 39, 22, 34, 16, 34, 38, 34, 26, 26, 46, 26, 25, 3, 32, 29, 28, 21, 32, 26, 23, 21, 26, 25, 27, 27, 29, 29, 34, 26, 35, 32, 25, 34, 31, 37, 22, 26, 28, 23, 44, 20, 31, 35, 38, 21, 29, 15, 32, 22, 32, 39, 24, 19, 39, 27, 22, 28, 22, 44, 41, 31, 41, 29, 25, 21, 39, 33, 30, 29, 36, 45, 30, 20, 21, 35, 52, 36, 20, 27, 38, 45, 38, 30, 32, 28, 40, 30, 26, 3, 30, 29, 43, 23, 31, 32, 24, 20, 32, 22, 29, 52, 28, 30, 25, 30, 52, 38, 34, 41, 27, 33, 31, 25, 40, 31, 27, 48, 28, 21, 25, 22, 29, 39, 23, 31, 35, 16, 19, 28, 33, 27, 32, 48, 28, 28, 25, 38, 16, 24, 3, 52, 35, 30, 40, 39, 32, 37, 28, 47, 28, 33, 38, 25, 23, 34, 34, 36, 47, 27, 28, 34, 27, 23, 36, 37, 27, 25, 37, 20, 25, 47, 33, 23, 26, 33, 43, 40, 27, 13, 24, 25, 25, 37, 31, 34, 30, 22, 36, 44, 27, 39, 23, 32, 32, 34, 32, 25, 20, 30, 25, 33, 23, 30, 20, 32, 32, 34, 38, 33, 41, 25, 29, 42, 30, 20, 3, 15, 25, 32, 32, 43, 33, 22, 22, 36, 28, 20, 36, 35, 37, 32, 31, 33, 31, 37, 33, 32, 20, 28, 36, 28, 26, 28, 36, 29, 28, 31, 22, 17, 37, 31, 24, 20, 36, 29, 39, 21, 24, 29, 19, 31, 35, 44, 30, 35, 29, 20, 21, 28, 38, 22, 32, 43, 26, 22, 26, 36, 25, 31, 37, 23, 20, 51, 9, 32, 26, 38, 37, 30, 28, 39, 23, 20, 3, 24, 25, 27, 29, 33, 24, 31, 3, 25, 34, 28, 25, 36, 16, 23, 23, 32, 48, 31, 39, 31, 14, 29, 23, 31, 29, 30, 33, 29, 33, 32, 16, 23, 26, 27, 30, 34, 37, 26, 36, 3, 30, 32, 30, 44, 35, 40, 37, 27, 15, 36, 33, 37, 33, 41, 29, 29, 40, 39, 30, 32, 29, 3, 35, 37, 43, 29, 33, 36, 30, 28, 22, 31, 21, 20, 34, 31, 42, 25, 41, 46, 27, 25, 25, 34, 36, 26, 31, 21, 28, 33, 21, 13, 23, 31, 15, 29, 35, 24, 29, 33, 40, 33, 29, 29, 20, 30, 24, 3, 43, 21, 15, 33, 29, 27, 35, 30, 21, 23, 33, 27, 28, 3, 27, 33, 35, 33, 31, 3, 29, 22, 36, 27, 26, 23, 29, 25, 21, 27, 32, 21, 23, 27, 19, 30, 20, 44, 37, 27, 24, 39, 35, 39, 21, 42, 26, 31, 45, 40, 22, 36, 38, 27, 21, 40, 52, 19, 35, 25, 28, 25, 36, 21, 31, 26, 30, 26, 20, 27, 22, 37, 33, 27, 25, 40, 41, 37, 28, 30, 35, 3, 24, 23, 34, 26, 36, 40, 33, 19, 30, 18, 26, 41, 36, 38, 20, 41, 39, 37, 23, 34, 30, 22, 31, 23, 27, 19, 20, 21, 41, 62, 42, 26, 29, 34, 24, 24, 37, 19, 29, 25, 22, 35, 50, 35, 32, 19, 39, 26, 31, 22, 27, 16, 32, 16, 39, 32, 21, 20, 29, 42, 21, 36, 35, 60, 39, 22, 36, 28, 36, 23, 30, 20, 34, 48, 34, 30, 26, 34, 23, 22, 31, 34, 33, 20, 36, 28, 3, 21, 26, 33, 23, 33, 34, 31, 33, 36, 41, 23, 13, 38, 15, 33, 26, 49, 39, 3, 20, 23, 40, 43, 32, 36, 35, 26, 29, 32, 22, 45, 33, 28, 24, 30, 23, 25, 30, 27, 25, 39, 40, 28, 39, 22, 34, 33, 35, 30, 3, 40, 48, 23, 47, 39, 55, 37, 30, 28, 40, 31, 39, 28, 33, 35, 24, 33, 46, 24, 38, 21, 23, 39, 32, 21, 49, 34, 3, 39, 38, 33, 44, 51, 40, 25, 36, 24, 37, 37, 33, 23, 25, 17, 25, 39, 39, 31, 37, 33, 41, 38, 26, 36, 29, 3, 32, 28, 37, 22, 22, 21, 26, 23, 33, 44, 40, 30, 29, 28, 32, 32, 26, 24, 64, 3, 34, 38, 27, 36, 43, 36, 30, 38, 24, 44, 35, 27, 36, 22, 18, 47, 35, 33, 36, 23, 25, 25, 26, 35, 31, 31, 18, 22, 41, 32, 32, 37, 31, 23, 37, 28, 34, 31, 3, 19, 40, 28, 35, 38, 26, 27, 20, 27, 40, 33, 36, 41, 37, 48, 26, 36, 22, 25, 37, 32, 39, 29, 35, 39, 22, 36, 24, 37, 49, 23, 30, 26, 27, 42, 26, 23, 31, 36, 40, 32, 24, 27, 22, 38, 29, 36, 40, 20, 39, 26, 35, 26, 30, 28, 30, 27, 3, 33, 35, 35, 31, 29, 36, 36, 31, 36, 36, 41, 33, 32, 20, 35, 31, 29, 31, 33, 23, 29, 25, 37, 32, 43, 15, 29, 29, 37, 34, 36, 37, 41, 32, 53, 19, 36, 38, 32, 43, 24, 30, 32, 40, 25, 30, 27, 38, 35, 40, 35, 21, 22, 37, 41, 55, 27, 22, 27, 37, 26, 37, 34, 27, 35, 28, 43, 37, 26, 48, 22, 36, 23, 39, 28, 36, 34, 21, 38, 20, 32, 37, 30, 26, 32, 22, 41, 35, 33, 42, 23, 27, 3, 43, 24, 38, 27, 38, 42, 26, 36, 25, 29, 15, 21, 30, 25, 3, 33, 44, 21, 23, 32, 31, 47, 35, 31, 30, 36, 36, 45, 27, 49, 23, 33, 37, 40, 30, 42, 22, 35, 34, 28, 37, 28, 38, 36, 30, 35, 39, 35, 24, 22, 26, 40, 36, 25, 30, 29, 24, 24, 34, 31, 37, 33, 41, 24, 18, 29, 25, 21, 29, 28, 43, 24, 17, 31, 25, 26, 27, 20, 22, 27, 42, 21, 22, 29, 27, 20, 24, 30, 44, 34, 34, 37, 40, 28, 27, 21, 39, 23, 29, 19, 21, 32, 30, 28, 24, 22, 39, 22, 3, 30, 40, 35, 30, 22, 24, 22, 19, 55, 18, 42, 20, 27, 38, 36, 23, 38, 20, 21, 19, 31, 56, 43, 26, 21, 36, 34, 35, 25, 38, 38, 31, 27, 3, 37, 33, 17, 40, 26, 28, 28, 35, 15, 27, 36, 15, 28, 45, 34, 33, 25, 26, 15, 24, 25, 26, 36, 29, 39, 32, 24, 24, 33, 33, 31, 18, 35, 40, 34, 29, 27, 32, 26, 32, 30, 25, 33, 24, 25, 21, 56, 26, 34, 31, 45, 29, 40, 22, 25, 29, 15, 33, 22, 28, 23, 49, 41, 3, 40, 30, 28, 33, 35, 26, 22, 34, 37, 23, 36, 42, 27, 25, 15, 24, 23, 39, 19, 44, 27, 47, 33, 24, 3, 37, 24, 52, 28, 43, 29, 25, 26, 40, 25, 23, 23, 27, 45, 37, 34, 32, 33, 31, 22, 20, 35, 32, 19, 32, 40, 35, 26, 24, 39, 18, 27, 24, 24, 29, 30, 24, 3, 37, 32, 3, 35, 27, 29, 44, 36, 22, 33, 38, 28, 26, 29, 22, 38, 37, 28, 26, 20, 25, 24, 27, 26, 29, 30, 35, 46, 27, 40, 3, 29, 41, 24, 23, 41, 34, 24, 54, 25, 23, 21, 32, 25, 27, 32, 20, 23, 33, 28, 23, 31, 46, 21, 3, 35, 3, 26, 23, 28, 26, 23, 31, 25, 28, 31, 41, 29, 22, 23, 39, 40, 33, 35, 31, 29, 29, 20, 32, 25, 39, 34, 30, 39, 28, 30, 30, 3, 31, 40, 28, 3, 19, 38, 29, 34, 32, 31, 35, 40, 33, 33, 33, 37, 33, 27, 29, 28, 31, 26, 24, 32, 35, 21, 23, 30, 28, 27, 31, 41, 19, 35, 3, 30, 30, 32, 44, 29, 25, 38, 43, 26, 30, 28, 27, 31, 24, 32, 31, 23, 26, 37, 41, 19, 39, 23, 14, 41, 29, 24, 36, 32, 39, 35, 31, 27, 32, 34, 23, 23, 21, 39, 22, 27, 28, 22, 36, 37, 37, 44, 29, 33, 30, 33, 40, 41, 30, 28, 19, 16, 36, 27, 35, 32, 22, 32, 39, 23, 45, 29, 41, 36, 37, 31, 32, 40, 56, 16, 25, 34, 48, 37, 26, 3, 24, 23, 23, 22, 25, 24, 23, 3, 37, 36, 37, 41, 25, 22, 39, 46, 3, 31, 36, 40, 34, 37, 27, 33, 67, 34, 37, 3, 3, 25, 38, 22, 29, 30, 33, 43, 28, 37, 26, 26, 21, 23, 26, 23, 40, 22, 22, 28, 26, 37, 46, 22, 28, 34, 31, 31, 33, 35, 24, 29, 27, 26, 25, 32, 32, 30, 25, 39, 28, 26, 37, 32, 27, 39, 29, 21, 25, 34, 39, 23, 31, 49, 28, 36, 34, 30, 31, 27, 24, 43, 23, 30, 3, 37, 34, 26, 30, 24, 28, 29, 26, 26, 34, 27, 31, 28, 29, 43, 32, 37, 24, 41, 36, 23, 25, 20, 30, 42, 30, 45, 30, 34, 31, 22, 23, 43, 47, 18, 42, 24, 23, 17, 40, 33, 34, 31, 15, 41, 27, 52, 35, 25, 30, 34, 39, 27, 24, 23, 45, 20, 32, 43, 30, 29, 38, 29, 23, 30, 32, 19, 38, 23, 35, 26, 20, 20, 36, 32, 24, 24, 24, 51, 34, 34, 51, 41, 25, 26, 28, 59, 28, 24, 22, 20, 38, 31, 28, 28, 58, 22, 15, 30, 29, 37, 34, 26, 43, 31, 30, 31, 34, 37, 31, 42, 38, 25, 41, 30, 46, 29, 41, 36, 38, 18, 32, 23, 38, 32, 30, 29, 3, 35, 23, 29, 29, 22, 24, 31, 33, 31, 31, 24, 33, 46, 33, 25, 30, 27, 28, 39, 43, 17, 36, 34, 31, 24, 27, 26, 24, 34, 27, 23, 37, 46, 38, 36, 33, 22, 28, 28, 24, 22, 24, 52, 25, 39, 25, 25, 32, 26, 33, 24, 39, 46, 15, 25, 39, 24, 31, 24, 27, 35, 31, 20, 31, 30, 45, 32, 42, 29, 40, 21, 41, 36, 44, 20, 29, 35, 33, 27, 28, 24, 38, 15, 24, 16, 27, 31, 30, 31, 29, 30, 15, 34, 47, 47, 25, 57, 19, 39, 28, 29, 26, 33, 35, 24, 38, 31, 28, 32, 32, 30, 29, 25, 26, 33, 29, 31, 39, 25, 16, 35, 21, 20, 41, 20, 36, 32, 31, 15, 37, 40, 32, 33, 41, 3, 40, 32, 43, 36, 15, 42, 20, 27, 24, 25, 36, 37, 23, 31, 42, 27, 18, 22, 33, 34, 41, 53, 33, 25, 37, 25, 37, 36, 39, 30, 31, 20, 36, 31, 30, 55, 27, 21, 21, 34, 25, 25, 39, 37, 30, 38, 33, 31, 40, 40, 33, 29, 24, 38, 27, 20, 25, 23, 27, 37, 18, 29, 34, 31, 37, 27, 22, 34, 20, 28, 25, 35, 26, 28, 31, 45, 28, 36, 37, 24, 33, 41, 30, 29, 3, 31, 25, 30, 18, 42, 35, 28, 33, 26, 26, 16, 26, 24, 29, 34, 15, 3, 36, 30, 29, 30, 37, 23, 38, 41, 36, 3, 29, 28, 29, 29, 26, 21, 24, 23, 27, 42, 36, 31, 34, 19, 27, 37, 30, 24, 31, 16, 24, 20, 23, 21, 28, 24, 38, 3, 27, 38, 23, 37, 26, 28, 31, 20, 20, 28, 35, 39, 26, 35, 31, 47, 20, 32, 29, 34, 32, 33, 40, 37, 26, 31, 40, 23, 33, 28, 28, 30, 22, 23, 30, 34, 60, 36, 40, 36, 23, 34, 32, 29, 27, 30, 33, 32, 25, 42, 35, 26, 36, 25, 28, 31, 28, 25, 28, 23, 38, 33, 28, 41, 27, 21, 32, 34, 3, 30, 19, 3, 29, 24, 21, 35, 35, 34, 30, 47, 24, 39, 30, 25, 23, 30, 20, 36, 21, 26, 23, 33, 26, 31, 24, 31, 28, 28, 43, 42, 28, 26, 26, 29, 21, 37, 39, 32, 18, 32, 26, 43, 26, 29, 47, 35, 18, 15, 33, 36, 21, 35, 33, 20, 27, 30, 40, 3, 22, 36, 33, 22, 31, 31, 39, 24, 40, 24, 14, 30, 65, 32, 27, 39, 29, 26, 21, 19, 41, 32, 36, 32, 34, 34, 42, 3, 26, 44, 24, 40, 32, 32, 33, 29, 28, 30, 34, 36, 38, 39, 20, 34, 39, 37, 45, 24, 34, 49, 32, 31, 42, 39, 27, 31, 22, 20, 33, 48, 42, 37, 36, 31, 30, 29, 29, 24, 24, 29, 26, 34, 38, 34, 25, 36, 30, 36, 22, 42, 25, 32, 36, 42, 21, 24, 32, 34, 31, 42, 21, 38, 37, 39, 40, 36, 54, 31, 22, 31, 16, 35, 33, 26, 37, 28, 37, 22, 15, 18, 31, 30, 30, 26, 25, 31, 31, 35, 25, 25, 32, 28, 34, 35, 38, 32, 39, 33, 20, 37, 31, 18, 30, 41, 21, 29, 22, 29, 43, 40, 40, 23, 32, 34, 33, 36, 23, 3, 28, 3, 34, 30, 34, 23, 51, 26, 44, 30, 23, 21, 40, 28, 26, 37, 3, 37, 35, 35, 22, 27, 29, 17, 21, 29, 19, 30, 30, 24, 41, 25, 19, 34, 24, 37, 38, 25, 31, 27, 33, 34, 34, 34, 31, 36, 38, 31, 15, 34, 33, 22, 45, 26, 21, 37, 34, 28, 35, 28, 30, 33, 31, 30, 28, 20, 31, 26, 28, 38, 35, 36, 20, 36, 23, 31, 21, 15, 26, 32, 26, 32, 28, 33, 28, 21, 22, 23, 27, 33, 31, 21, 33, 22, 24, 48, 38, 44, 38, 24, 34, 30, 31, 16, 31, 33, 27, 24, 37, 29, 29, 27, 15, 25, 27, 38, 40, 28, 30, 34, 33, 15, 22, 35, 35, 23, 35, 3, 15, 37, 36, 30, 44, 43, 44, 30, 26, 29, 25, 35, 34, 39, 31, 31, 23, 45, 29, 35, 25, 32, 43, 43, 20, 42, 26, 37, 27, 19, 26, 31, 44, 22, 51, 30, 19, 28, 31, 29, 34, 30, 41, 34, 29, 48, 23, 39, 37, 26, 3, 44, 30, 14, 24, 32, 29, 21, 29, 27, 31, 31, 24, 21, 29, 28, 29, 32, 24, 3, 33, 32, 33, 35, 36, 29, 23, 36, 29, 27, 3, 37, 27, 33, 29, 23, 34, 34, 45, 34, 32, 43, 31, 30, 27, 31, 22, 32, 27, 23, 16, 17, 22, 37, 32, 24, 35, 37, 27, 18, 27, 22, 41, 45, 33, 39, 29, 15, 29, 41, 38, 21, 27, 15, 32, 33, 22, 31, 31, 31, 37, 30, 36, 33, 3, 36, 38, 33, 26, 25, 53, 20, 31, 34, 37, 49, 40, 27, 38, 25, 18, 41, 44, 44, 23, 26, 20, 44, 29, 40, 44, 15, 15, 27, 33, 28, 20, 23, 30, 39, 22, 3, 36, 34, 33, 27, 41, 31, 31, 30, 27, 49, 39, 41, 29, 37, 22, 15, 32, 31, 33, 29, 32, 31, 24, 15, 22, 27, 46, 25, 38, 41, 44, 33, 38, 29, 31, 33, 32, 26, 34, 34, 41, 31, 29, 31, 29, 31, 35, 33, 26, 27, 35, 17, 21, 33, 29, 32, 38, 29, 34, 51, 27, 27, 31, 35, 30, 3, 33, 24, 48, 29, 48, 27, 26, 38, 36, 37, 40, 23, 31, 24, 31, 35, 23, 31, 26, 31, 32, 30, 34, 37, 27, 34, 35, 28, 20, 50, 36, 43, 18, 22, 20, 32, 32, 33, 31, 35, 23, 29, 43, 25, 44, 24, 28, 28, 35, 32, 23, 42, 25, 27, 22, 27, 25, 36, 32, 20, 31, 22, 21, 11, 17, 25, 27, 25, 19, 36, 23, 33, 41, 33, 25, 24, 34, 41, 39, 41, 25, 32, 53, 40, 34, 32, 33, 34, 35, 3, 3, 41, 45, 17, 42, 32, 29, 37, 33, 30, 33, 22, 25, 24, 3, 26, 34, 27, 18, 22, 3, 24, 27, 34, 28, 31, 19, 27, 31, 34, 36, 42, 30, 51, 3, 23, 37, 32, 29, 30, 32, 28, 27, 25, 48, 31, 34, 33, 53, 16, 27, 33, 28, 30, 23, 32, 34, 30, 23, 33, 19, 35, 25, 31, 42, 38, 31, 25, 28, 28, 18, 15, 50, 24, 41, 28, 29, 30, 27, 27, 35, 28, 20, 15, 34, 29, 34, 39, 37, 31, 21, 34, 28, 26, 22, 25, 37, 23, 38, 23, 28, 26, 40, 33, 32, 32, 3, 28, 42, 24, 30, 32, 43, 18, 28, 25, 24, 28, 37, 42, 50, 26, 38, 27, 35, 37, 48, 37, 30, 23, 37, 23, 34, 35, 23, 35, 28, 3, 23, 37, 22, 28, 30, 28, 31, 28, 35, 39, 30, 39, 43, 44, 30, 31, 34, 25, 31, 51, 25, 31, 36, 25, 36, 29, 37, 39, 22, 34, 33, 43, 30, 41, 27, 28, 32, 24, 39, 29, 19, 28, 25, 36, 29, 27, 31, 31, 28, 34, 26, 25, 37, 37, 41, 29, 26, 27, 22, 20, 20, 44, 20, 33, 30, 27, 23, 21, 33, 28, 36, 27, 29, 15, 24, 34, 39, 32, 31, 25, 26, 34, 22, 19, 24, 31, 29, 24, 23, 33, 41, 27, 27, 32, 27, 35, 35, 25, 42, 41, 20, 36, 43, 30, 25, 34, 25, 35, 33, 27, 25, 37, 40, 31, 21, 21, 37, 42, 23, 28, 33, 15, 30, 39, 42, 43, 31, 23, 30, 20, 41, 30, 22, 29, 30, 23, 31, 28, 38, 29, 22, 32, 30, 28, 37, 35, 57, 34, 33, 15, 18, 34, 47, 37, 49, 35, 23, 32, 26, 31, 37, 23, 31, 22, 25, 38, 36, 28, 37, 32, 27, 40, 23, 33, 31, 26, 24, 29, 53, 23, 34, 23, 20, 40, 31, 26, 26, 15, 22, 37, 35, 3, 23, 33, 26, 25, 40, 33, 28, 44, 47, 20, 26, 27, 34, 37, 28, 35, 38, 21, 37, 23, 34, 32, 23, 25, 30, 33, 35, 39, 45, 32, 26, 37, 38, 37, 27, 38, 35, 29, 44, 39, 26, 20, 46, 33, 17, 20, 26, 34, 33, 43, 25, 32, 36, 19, 32, 32, 3, 18, 20, 38, 3, 29, 21, 18, 29, 37, 51, 32, 33, 32, 37, 24, 20, 28, 30, 42, 35, 31, 30, 39, 29, 24, 15, 3, 32, 33, 33, 27, 26, 30, 27, 35, 36, 33, 20, 30, 16, 32, 23, 29, 31, 20, 27, 32, 24, 29, 31, 31, 38, 34, 29, 42, 3, 29, 20, 46, 31, 32, 38, 20, 36, 29, 44, 37, 35, 37, 23, 27, 47, 35, 32, 31, 15, 35, 45, 32, 45, 29, 31, 25, 31, 19, 24, 46, 29, 37, 40, 29, 33, 37, 25, 25, 31, 37, 29, 26, 32, 36, 31, 33, 47, 39, 29, 31, 30, 37, 33, 51, 30, 27, 42, 28, 28, 25, 39, 29, 43, 21, 23, 20, 31, 28, 30, 15, 28, 43, 28, 34, 35, 39, 41, 39, 20, 28, 35, 27, 30, 3, 40, 38, 35, 34, 32, 24, 38, 29, 28, 16, 25, 35, 45, 20, 24, 23, 32, 31, 25, 29, 28, 34, 34, 23, 25, 32, 29, 35, 19, 25, 27, 35, 32, 33, 33, 43, 29, 31, 41, 29, 15, 27, 32, 32, 32, 43, 46, 15, 36, 28, 24, 41, 35, 13, 49, 28, 37, 24, 41, 24, 39, 23, 31, 23, 17, 35, 26, 34, 24, 33, 36, 30, 31, 35, 34, 22, 38, 37, 30, 21, 39, 29, 36, 28, 38, 36, 36, 25, 29, 26, 24, 34, 15, 30, 28, 27, 43, 34, 24, 21, 30, 28, 29, 37, 40, 36, 29, 28, 39, 32, 15, 18, 21, 29, 24, 29, 40, 27, 25, 37, 17, 27, 3, 21, 27, 28, 28, 30, 32, 25, 42, 41, 42, 40, 15, 34, 39, 40, 33, 25, 50, 36, 3, 40, 21, 32, 35, 41, 29, 36, 34, 19, 32, 27, 20, 28, 20, 3, 20, 24, 38, 33, 23, 38, 29, 19, 32, 30, 32, 34, 38, 29, 18, 32, 41, 21, 30, 39, 25, 30, 24, 28, 28, 32, 21, 27, 41, 29, 32, 28, 45, 45, 29, 40, 38, 20, 16, 44, 48, 28, 33, 24, 25, 45, 34, 35, 40, 23, 34, 30, 26, 27, 28, 27, 41, 22, 31, 25, 33, 37, 35, 45, 35, 15, 23, 29, 25, 35, 24, 38, 39, 34, 21, 20, 28, 39, 23, 31, 37, 15, 30, 34, 22, 20, 36, 39, 22, 28, 43, 22, 3, 31, 27, 15, 36, 21, 31, 23, 16, 22, 40, 33, 28, 33, 34, 22, 36, 25, 36, 23, 57, 38, 29, 17, 40, 32, 29, 37, 25, 39, 28, 39, 23, 44, 31, 32, 39, 24, 35, 39, 32, 33, 17, 26, 21, 29, 17, 21, 30, 24, 38, 39, 35, 40, 38, 31, 19, 45, 24, 31, 45, 17, 29, 38, 30, 33, 29, 53, 21, 32, 37, 36, 26, 29, 26, 22, 21, 42, 31, 24, 15, 38, 30, 23, 40, 25, 36, 43, 36, 24, 29, 31, 29, 16, 40, 37, 39, 22, 25, 23, 46, 28, 29, 38, 29, 30, 33, 21, 20, 29, 28, 35, 30, 30, 27, 3, 3, 27, 37, 37, 19, 30, 30, 32, 38, 39, 34, 37, 33, 15, 25, 34, 22, 20, 26, 38, 39, 33, 32, 41, 24, 28, 29, 30, 34, 33, 36, 40, 31, 15, 38, 33, 24, 25, 21, 38, 25, 26, 26, 35, 30, 20, 25, 29, 31, 28, 38, 36, 37, 26, 28, 27, 31, 31, 35, 32, 29, 24, 28, 31, 29, 20, 17, 18, 38, 27, 35, 26, 27, 15, 25, 29, 18, 29, 31, 34, 28, 26, 36, 29, 45, 19, 19, 30, 36, 28, 48, 27, 25, 35, 14, 25, 24, 35, 16, 25, 21, 23, 35, 32, 35, 28, 43, 24, 20, 30, 34, 41, 22, 25, 26, 27, 42, 52, 28, 39, 28, 36, 21, 28, 34, 45, 22, 66, 30, 34, 42, 3, 27, 45, 24, 30, 21, 28, 23, 29, 34, 34, 38, 26, 39, 29, 33, 25, 31, 34, 20, 41, 33, 39, 33, 30, 29, 25, 30, 38, 26, 49, 32, 18, 34, 21, 49, 33, 28, 36, 40, 19, 29, 32, 21, 28, 27, 26, 31, 29, 30, 45, 28, 3, 28, 21, 33, 31, 31, 25, 35, 16, 42, 40, 27, 35, 33, 24, 28, 27, 26, 35, 32, 22, 32, 26, 30, 28, 36, 24, 31, 25, 34, 30, 32, 23, 54, 29, 26, 28, 25, 43, 22, 28, 28, 28, 28, 49, 22, 29, 33, 23, 40, 42, 18, 3, 50, 51, 3, 26, 35, 30, 32, 29, 23, 36, 32, 39, 26, 38, 26, 34, 34, 30, 39, 39, 3, 30, 37, 29, 25, 47, 31, 37, 36, 35, 41, 29, 20, 30, 21, 20, 23, 3, 30, 27, 27, 34, 25, 31, 27, 39, 33, 35, 38, 27, 37, 39, 33, 22, 36, 40, 27, 43, 33, 55, 22, 25, 25, 23, 25, 24, 28, 36, 30, 27, 31, 45, 28, 33, 28, 20, 22, 25, 41, 35, 30, 30, 30, 37, 32, 34, 20, 23, 40, 31, 25, 36, 26, 28, 31, 27, 3, 34, 28, 31, 21, 24, 36, 36, 40, 31, 38, 31, 40, 27, 3, 3, 27, 26, 27, 37, 27, 37, 42, 43, 31, 36, 23, 42, 14, 31, 33, 35, 29, 22, 21, 25, 29, 40, 42, 23, 22, 35, 21, 30, 34, 28, 40, 35, 38, 24, 24, 40, 20, 27, 31, 29, 29, 19, 33, 41, 30, 31, 30, 37, 35, 39, 38, 28, 32, 31, 3, 30, 26, 24, 32, 35, 28, 20, 34, 26, 27, 34, 28, 25, 34, 16, 20, 23, 35, 26, 31, 23, 30, 38, 35, 34, 28, 35, 31, 17, 24, 34, 39, 27, 44, 28, 24, 35, 36, 29, 25, 28, 27, 3, 27, 20, 43, 50, 35, 54, 35, 34, 32, 43, 31, 33, 23, 24, 20, 25, 18, 29, 34, 37, 32, 34, 20, 37, 22, 32, 31, 44, 37, 42, 25, 36, 27, 40, 32, 32, 32, 39, 23, 29, 24, 3, 24, 33, 39, 3, 29, 25, 27, 24, 38, 32, 33, 35, 17, 25, 36, 44, 25, 26, 29, 3, 40, 20, 29, 36, 15, 50, 30, 34, 35, 21, 22, 15, 46, 17, 23, 31, 40, 29, 32, 46, 41, 30, 34, 21, 24, 23, 31, 36, 27, 27, 27, 20, 27, 26, 39, 40, 38, 25, 27, 40, 38, 29, 32, 45, 33, 36, 24, 39, 26, 27, 30, 33, 37, 32, 32, 3, 29, 24, 22, 25, 20, 21, 37, 29, 28, 26, 38, 42, 36, 37, 30, 27, 25, 26, 26, 43, 25, 38, 21, 27, 30, 22, 33, 22, 19, 18, 33, 36, 37, 24, 25, 18, 27, 28, 23, 30, 40, 35, 29, 16, 35, 23, 27, 35, 21, 36, 34, 26, 27, 35, 20, 42, 27, 32, 28, 32, 28, 36, 23, 35, 36, 31, 30, 32, 23, 27, 37, 30, 38, 22, 21, 31, 34, 30, 30, 22, 20, 31, 30, 17, 26, 28, 29, 27, 34, 53, 38, 22, 37, 38, 28, 37, 39, 25, 20, 40, 34, 28, 31, 3, 30, 37, 40, 32, 38, 3, 30, 38, 41, 34, 31, 34, 35, 27, 20, 25, 29, 32, 20, 36, 28, 33, 40, 17, 63, 33, 32, 51, 22, 27, 35, 34, 15, 30, 34, 33, 28, 46, 30, 29, 24, 3, 31, 32, 3, 26, 31, 48, 44, 30, 26, 38, 30, 26, 21, 23, 32, 34, 19, 27, 23, 31, 20, 3, 39, 22, 28, 37, 44, 31, 24, 30, 26, 36, 46, 37, 39, 19, 20, 34, 36, 20, 37, 28, 44, 30, 48, 40, 48, 23, 37, 37, 31, 36, 35, 36, 28, 25, 27, 21, 54, 38, 35, 29, 34, 33, 28, 36, 27, 17, 22, 19, 39, 29, 27, 31, 44, 23, 42, 50, 41, 38, 27, 29, 26, 29, 34, 29, 20, 36, 34, 40, 36, 28, 22, 23, 31, 31, 31, 33, 20, 32, 39, 18, 23, 29, 46, 19, 27, 33, 31, 28, 25, 25, 36, 37, 29, 31, 44, 33, 28, 30, 33, 26, 26, 36, 28, 34, 37, 39, 22, 3, 31, 34, 18, 24, 32, 30, 31, 28, 20, 34, 35, 15, 20, 32, 27, 19, 34, 36, 29, 37, 28, 31, 22, 30, 25, 26, 37, 16, 37, 32, 35, 22, 39, 23, 39, 30, 21, 18, 27, 34, 34, 19, 21, 27, 34, 22, 38, 35, 28, 33, 30, 40, 37, 36, 32, 22, 27, 19, 33, 29, 30, 33, 25, 23, 30, 44, 30, 27, 30, 33, 38, 26, 27, 18, 25, 21, 37, 32, 36, 20, 29, 41, 42, 34, 28, 46, 25, 30, 32, 29, 36, 43, 32, 26, 3, 36, 39, 30, 38, 31, 27, 33, 33, 38, 49, 31, 41, 29, 30, 24, 32, 27, 36, 38, 22, 24, 26, 28, 3, 32, 31, 31, 29, 28, 27, 29, 27, 3, 29, 27, 31, 28, 21, 33, 34, 28, 33, 41, 26, 27, 30, 34, 44, 3, 26, 33, 44, 30, 24, 21, 29, 33, 20, 26, 26, 35, 31, 27, 31, 34, 35, 27, 43, 25, 28, 23, 30, 32, 27, 25, 23, 30, 36, 32, 28, 27, 30, 25, 15, 32, 28, 25, 38, 39, 40, 30, 33, 34, 25, 33, 35, 37, 24, 24, 33, 36, 30, 44, 34, 25, 40, 33, 41, 15, 29, 21, 28, 33, 26, 39, 21, 32, 31, 32, 18, 43, 29, 3, 35, 39, 27, 40, 28, 36, 32, 35, 34, 20, 34, 31, 31, 16, 38, 26, 33, 35, 25, 33, 24, 24, 22, 32, 28, 24, 54, 27, 35, 26, 24, 33, 31, 40, 26, 29, 37, 41, 29, 33, 35, 21, 24, 28, 35, 33, 38, 26, 24, 25, 39, 23, 50, 20, 34, 28, 29, 42, 26, 37, 23, 34, 45, 27, 34, 3, 20, 28, 17, 32, 23, 45, 33, 30, 24, 20, 24, 22, 24, 32, 31, 13, 43, 52, 28, 23, 35, 29, 21, 27, 31, 23, 32, 40, 29, 26, 16, 28, 22, 23, 24, 31, 30, 33, 31, 34, 21, 33, 33, 33, 39, 29, 27, 27, 45, 29, 39, 33, 37, 29, 24, 37, 28, 34, 20, 20, 33, 29, 31, 22, 45, 35, 37, 20, 28, 39, 26, 34, 32, 27, 28, 15, 22, 23, 34, 34, 25, 23, 20, 19, 31, 46, 35, 32, 18, 29, 23, 31, 29, 25, 42, 34, 39, 29, 23, 20, 35, 32, 34, 18, 22, 48, 32, 29, 26, 17, 38, 32, 32, 31, 37, 37, 40, 41, 37, 30, 26, 32, 26, 24, 30, 41, 47, 27, 26, 29, 25, 31, 30, 26, 42, 27, 33, 43, 19, 27, 11, 46, 17, 20, 30, 30, 37, 20, 30, 20, 32, 33, 26, 25, 33, 28, 21, 35, 48, 15, 29, 34, 42, 32, 29, 22, 16, 30, 27, 16, 24, 33, 39, 29, 33, 39, 27, 34, 39, 29, 29, 30, 21, 46, 32, 29, 35, 9, 29, 32, 23, 28, 20, 23, 36, 37, 30, 20, 27, 21, 35, 24, 23, 31, 27, 28, 49, 33, 30, 29, 22, 15, 40, 48, 32, 43, 23, 47, 20, 29, 21, 34, 45, 26, 36, 28, 41, 30, 28, 20, 18, 40, 22, 25, 57, 33, 35, 26, 22, 28, 15, 47, 31, 29, 30, 33, 26, 30, 31, 37, 27, 31, 35, 34, 32, 35, 19, 30, 27, 31, 21, 35, 51, 3, 24, 28, 25, 3, 34, 3, 28, 37, 41, 25, 22, 20, 33, 31, 25, 33, 25, 36, 24, 25, 48, 38, 36, 27, 35, 29, 28, 44, 30, 43, 35, 43, 26, 29, 38, 33, 32, 30, 22, 3, 41, 44, 34, 37, 35, 28, 25, 34, 36, 28, 27, 37, 35, 51, 36, 39, 35, 35, 34, 50, 48, 38, 37, 31, 31, 37, 21, 27, 40, 30, 12, 20, 22, 34, 28, 3, 38, 28, 30, 23, 3, 37, 32, 34, 34, 23, 34, 24, 37, 38, 32, 40, 27, 35, 30, 44, 35, 36, 26, 35, 41, 44, 3, 35, 22, 25, 31, 29, 23, 27, 27, 34, 34, 41, 26, 21, 29, 30, 30, 23, 28, 28, 20, 20, 29, 35, 16, 47, 37, 33, 27, 41, 43, 21, 29, 26, 35, 19, 28, 40, 32, 16, 15, 38, 44, 34, 22, 54, 15, 19, 35, 36, 32, 31, 29, 34, 15, 24, 16, 29, 38, 44, 33, 37, 30, 25, 15, 58, 32, 30, 17, 21, 42, 32, 50, 30, 32, 29, 23, 17, 45, 36, 38, 36, 27, 29, 28, 30, 28, 40, 26, 30, 24, 29, 23, 40, 33, 35, 22, 22, 21, 28, 35, 29, 19, 28, 34, 31, 31, 28, 32, 35, 33, 42, 26, 32, 35, 42, 27, 21, 42, 24, 32, 29, 15, 29, 28, 46, 3, 38, 28, 36, 25, 21, 27, 30, 47, 38, 41, 42, 25, 23, 18, 41, 25, 27, 38, 30, 34, 22, 20, 33, 20, 31, 30, 27, 18, 25, 27, 29, 23, 26, 23, 31, 22, 25, 30, 35, 40, 44, 27, 35, 32, 36, 27, 35, 40, 29, 25, 16, 24, 36, 23, 50, 37, 41, 25, 21, 20, 3, 36, 22, 31, 27, 23, 25, 25, 37, 39, 30, 29, 28, 28, 33, 24, 31, 34, 26, 33, 27, 29, 33, 31, 32, 37, 47, 37, 23, 31, 26, 15, 36, 25, 29, 29, 36, 29, 41, 24, 21, 46, 32, 27, 29, 23, 31, 29, 27, 54, 23, 32, 30, 29, 35, 27, 23, 25, 24, 28, 26, 33, 21, 27, 29, 40, 24, 35, 24, 22, 23, 39, 36, 29, 37, 36, 15, 39, 28, 34, 38, 3, 27, 26, 47, 27, 29, 24, 29, 22, 30, 30, 32, 29, 34, 36, 24, 24, 30, 26, 27, 45, 28, 29, 51, 37, 31, 27, 37, 25, 37, 32, 24, 37, 33, 24, 42, 34, 48, 37, 15, 31, 39, 20, 18, 26, 35, 32, 32, 33, 25, 39, 22, 32, 15, 30, 20, 32, 33, 35, 21, 24, 32, 26, 22, 28, 3, 26, 23, 39, 28, 27, 28, 31, 45, 23, 37, 38, 33, 26, 24, 43, 17, 43, 24, 33, 32, 51, 21, 23, 28, 23, 32, 38, 18, 27, 40, 30, 27, 19, 27, 28, 51, 26, 27, 32, 31, 27, 17, 22, 26, 26, 30, 25, 30, 26, 29, 23, 23, 38, 29, 31, 42, 39, 35, 15, 30, 37, 31, 20, 31, 29, 42, 52, 42, 27, 34, 26, 27, 27, 28, 41, 28, 35, 31, 36, 34, 23, 27, 38, 32, 32, 22, 24, 23, 36, 22, 38, 36, 37, 40, 22, 25, 30, 35, 28, 26, 29, 3, 35, 28, 39, 18, 30, 28, 26, 22, 36, 43, 3, 30, 31, 40, 28, 45, 30, 31, 36, 35, 31, 23, 35, 26, 35, 41, 37, 29, 43, 25, 29, 32, 40, 30, 32, 31, 30, 28, 3, 22, 40, 31, 3, 19, 32, 42, 32, 34, 36, 55, 15, 31, 3, 26, 31, 30, 47, 25, 31, 28, 29, 31, 26, 28, 33, 25, 46, 32, 27, 26, 21, 30, 28, 35, 3, 19, 26, 47, 26, 40, 18, 29, 58, 46, 25, 30, 24, 36, 31, 30, 48, 25, 34, 38, 26, 27, 34, 33, 21, 25, 62, 30, 29, 28, 29, 28, 31, 3, 43, 30, 24, 29, 26, 30, 31, 31, 30, 41, 26, 20, 46, 36, 29, 47, 26, 24, 40, 39, 26, 39, 36, 41, 25, 19, 37, 25, 25, 27, 27, 24, 32, 18, 19, 34, 28, 29, 26, 20, 31, 45, 36, 38, 27, 28, 34, 41, 36, 30, 29, 24, 25, 18, 28, 20, 20, 25, 29, 30, 36, 14, 30, 47, 42, 34, 33, 23, 15, 21, 42, 29, 18, 27, 25, 39, 23, 27, 36, 29, 38, 26, 40, 29, 27, 43, 20, 39, 37, 30, 26, 20, 38, 36, 26, 29, 19, 20, 28, 45, 31, 37, 35, 29, 25, 20, 26, 44, 23, 26, 23, 25, 42, 26, 32, 21, 34, 40, 28, 27, 43, 37, 19, 36, 20, 29, 31, 33, 36, 27, 34, 31, 40, 31, 20, 38, 33, 32, 18, 32, 20, 29, 33, 26, 35, 17, 30, 27, 30, 24, 29, 29, 21, 27, 35, 35, 30, 27, 35, 38, 30, 28, 31, 18, 41, 33, 3, 43, 27, 35, 28, 31, 29, 33, 35, 37, 32, 32, 28, 42, 25, 38, 30, 38, 20, 33, 20, 32, 3, 27, 35, 46, 37, 24, 33, 28, 41, 48, 37, 25, 36, 33, 19, 39, 31, 24, 33, 3, 40, 32, 9, 26, 33, 27, 28, 29, 26, 24, 39, 15, 32, 25, 25, 39, 36, 51, 26, 30, 34, 29, 41, 17, 26, 27, 30, 32, 22, 29, 29, 25, 24, 35, 34, 33, 27, 37, 29, 27, 24, 30, 18, 37, 34, 41, 25, 20, 43, 26, 39, 32, 34, 29, 44, 48, 34, 32, 44, 23, 28, 27, 29, 35, 39, 36, 34, 21, 19, 32, 42, 33, 32, 26, 36, 25, 38, 33, 22, 35, 50, 42, 28, 31, 28, 26, 30, 28, 32, 31, 16, 28, 28, 25, 26, 24, 32, 25, 30, 27, 36, 38, 33, 52, 32, 32, 44, 28, 24, 40, 30, 29, 21, 30, 38, 45, 42, 40, 40, 24, 26, 29, 40, 31, 45, 29, 27, 28, 26, 29, 23, 32, 26, 22, 34, 21, 40, 53, 30, 28, 37, 24, 27, 29, 27, 26, 18, 27, 29, 35, 40, 27, 29, 38, 33, 55, 29, 34, 3, 19, 39, 31, 20, 37, 31, 22, 21, 35, 30, 30, 35, 43, 28, 25, 18, 24, 27, 32, 34, 33, 34, 21, 26, 25, 40, 21, 31, 34, 36, 30, 36, 35, 35, 31, 33, 40, 25, 34, 44, 36, 21, 27, 23, 29, 37, 22, 19, 21, 37, 30, 48, 24, 34, 25, 33, 38, 15, 32, 29, 23, 36, 49, 27, 21, 30, 29, 21, 33, 21, 20, 22, 16, 32, 17, 40, 21, 35, 29, 3, 31, 33, 28, 45, 34, 31, 26, 42, 23, 22, 39, 36, 3, 28, 20, 25, 24, 34, 26, 27, 26, 22, 22, 3, 41, 32, 32, 15, 19, 51, 30, 26, 17, 29, 23, 27, 27, 22, 54, 29, 31, 20, 37, 28, 30, 26, 23, 27, 28, 25, 37, 45, 41, 23, 20, 18, 31, 35, 3, 39, 46, 34, 48, 31, 22, 29, 34, 31, 25, 32, 23, 47, 32, 28, 30, 35, 38, 24, 31, 20, 32, 44, 37, 34, 36, 3, 28, 40, 35, 24, 43, 28, 28, 40, 38, 3, 23, 36, 32, 35, 21, 34, 26, 36, 26, 28, 28, 22, 27, 26, 30, 27, 39, 36, 24, 3, 24, 40, 19, 26, 37, 42, 32, 21, 27, 40, 27, 30, 3, 23, 27, 26, 32, 28, 34, 38, 42, 46, 3, 41, 38, 35, 32, 37, 28, 35, 38, 28, 33, 28, 24, 25, 22, 3, 25, 27, 38, 31, 26, 31, 23, 28, 28, 35, 45, 13, 33, 23, 27, 27, 34, 34, 33, 47, 20, 20, 31, 30, 38, 20, 37, 44, 32, 23, 52, 50, 28, 37, 35, 22, 49, 36, 33, 21, 19, 22, 20, 28, 37, 38, 27, 36, 24, 32, 27, 31, 32, 32, 28, 36, 26, 26, 17, 16, 25, 53, 22, 40, 16, 24, 33, 38, 18, 24, 3, 32, 27, 48, 27, 41, 25, 37, 24, 26, 23, 22, 28, 28, 33, 22, 27, 46, 37, 37, 25, 27, 26, 41, 30, 28, 24, 35, 36, 27, 34, 3, 33, 39, 29, 17, 33, 39, 3, 37, 25, 32, 33, 33, 26, 39, 30, 24, 29, 31, 24, 32, 44, 25, 30, 35, 29, 29, 28, 31, 37, 31, 34, 30, 36, 28, 35, 22, 31, 28, 34, 27, 50, 23, 36, 23, 39, 33, 32, 24, 30, 17, 31, 26, 35, 33, 37, 28, 28, 26, 30, 29, 28, 30, 38, 31, 30, 40, 42, 20, 35, 29, 29, 39, 21, 18, 34, 30, 26, 40, 41, 32, 30, 32, 40, 28, 21, 21, 36, 20, 25, 31, 28, 27, 37, 23, 29, 32, 29, 3, 3, 37, 26, 30, 26, 20, 34, 41, 33, 24, 44, 29, 27, 43, 32, 28, 29, 31, 22, 44, 21, 30, 25, 37, 30, 38, 28, 28, 28, 29, 21, 21, 31, 34, 21, 31, 33, 3, 29, 3, 29, 28, 32, 3, 21, 43, 25, 50, 36, 24, 21, 22, 29, 33, 35, 37, 31, 40, 27, 3, 45, 39, 28, 43, 29, 16, 28, 44, 28, 23, 31, 20, 20, 20, 35, 31, 42, 32, 26, 31, 22, 39, 37, 41, 38, 26, 33, 30, 29, 20, 34, 30, 37, 26, 36, 35, 27, 36, 23, 35, 41, 34, 30, 34, 32, 43, 38, 29, 28, 34, 29, 30, 27, 29, 40, 20, 20, 28, 27, 29, 30, 37, 25, 20, 29, 26, 36, 30, 34, 44, 3, 27, 19, 28, 35, 22, 37, 20, 39, 36, 32, 19, 32, 32, 27, 24, 31, 3, 40, 38, 30, 37, 35, 26, 30, 41, 27, 26, 26, 52, 43, 33, 33, 20, 33, 27, 41, 32, 39, 3, 28, 30, 40, 26, 41, 34, 24, 3, 33, 23, 28, 37, 24, 26, 28, 34, 25, 33, 27, 32, 35, 30, 21, 30, 37, 31, 25, 25, 33, 27, 34, 27, 38, 19, 41, 20, 37, 34, 33, 22, 34, 35, 37, 28, 29, 27, 34, 32, 32, 41, 44, 25, 24, 27, 23, 29, 21, 22, 28, 24, 52, 25, 34, 23, 24, 34, 30, 29, 22, 42, 25, 26, 25, 20, 47, 35, 39, 21, 35, 36, 34, 27, 24, 31, 35, 29, 20, 3, 26, 26, 31, 25, 21, 23, 34, 34, 35, 28, 42, 15, 20, 30, 31, 32, 32, 32, 49, 29, 22, 40, 41, 20, 38, 29, 35, 21, 35, 36, 36, 44, 31, 34, 26, 30, 36, 25, 51, 22, 31, 38, 27, 36, 39, 45, 28, 27, 27, 33, 24, 16, 40, 31, 36, 32, 37, 24, 34, 39, 37, 20, 42, 32, 15, 34, 26, 31, 3, 38, 28, 22, 27, 31, 33, 20, 24, 38, 43, 33, 33, 36, 28, 26, 26, 28, 3, 30, 38, 35, 27, 29, 35, 32, 28, 29, 33, 22, 35, 23, 29, 27, 32, 32, 44, 41, 28, 34, 33, 23, 50, 25, 32, 33, 42, 47, 39, 17, 15, 26, 28, 44, 36, 31, 41, 39, 39, 26, 27, 3, 34, 20, 24, 21, 31, 21, 33, 49, 38, 40, 40, 21, 26, 29, 37, 35, 33, 32, 19, 36, 32, 43, 34, 26, 43, 25, 29, 23, 23, 51, 33, 25, 28, 18, 19, 35, 35, 25, 32, 34, 30, 31, 20, 15, 31, 3, 32, 30, 26, 19, 37, 24, 33, 34, 29, 45, 26, 31, 27, 43, 41, 34, 3, 31, 31, 32, 29, 22, 40, 43, 33, 25, 34, 29, 36, 28, 21, 42, 40, 42, 30, 21, 31, 40, 17, 41, 24, 27, 36, 28, 42, 25, 31, 21, 27, 35, 35, 33, 32, 41, 23, 33, 37, 23, 36, 15, 24, 25, 36, 34, 32, 33, 37, 37, 31, 30, 46, 34, 22, 25, 22, 23, 3, 25, 41, 37, 29, 3, 19, 28, 31, 30, 53, 13, 35, 42, 20, 54, 26, 27, 30, 30, 40, 46, 27, 27, 29, 22, 36, 45, 33, 27, 28, 28, 32, 30, 24, 22, 16, 15, 22, 33, 46, 21, 22, 32, 23, 35, 31, 36, 30, 20, 49, 30, 28, 31, 36, 24, 37, 23, 28, 48, 28, 28, 44, 29, 31, 31, 31, 29, 33, 25, 27, 22, 27, 16, 20, 16, 36, 24, 42, 23, 43, 31, 24, 21, 30, 40, 29, 30, 26, 23, 26, 29, 31, 33, 3, 41, 27, 25, 39, 29, 22, 31, 40, 30, 41, 30, 3, 38, 35, 14, 24, 36, 28, 26, 26, 45, 33, 28, 22, 35, 20, 36, 33, 32, 33, 40, 30, 46, 34, 20, 44, 42, 21, 37, 41, 37, 29, 36, 34, 35, 44, 19, 30, 25, 30, 27, 32, 34, 26, 35, 31, 36, 28, 22, 27, 16, 28, 15, 30, 26, 34, 31, 23, 30, 30, 37, 23, 31, 46, 32, 27, 25, 15, 41, 28, 35, 21, 27, 24, 3, 29, 24, 29, 23, 24, 25, 37, 34, 34, 23, 39, 23, 29, 23, 28, 24, 45, 31, 45, 29, 26, 32, 39, 29, 40, 25, 44, 39, 15, 38, 34, 26, 41, 25, 36, 28, 26, 38, 30, 30, 18, 23, 34, 34, 32, 29, 17, 3, 20, 17, 34, 46, 50, 32, 23, 26, 28, 39, 36, 20, 39, 26, 36, 49, 20, 37, 35, 20, 36, 21, 34, 26, 31, 46, 30, 28, 35, 46, 28, 22, 26, 28, 30, 11, 23, 37, 20, 34, 28, 46, 28, 41, 31, 20, 32, 19, 31, 27, 29, 16, 44, 31, 30, 22, 40, 28, 34, 33, 32, 26, 47, 27, 25, 23, 36, 28, 36, 45, 22, 36, 35, 23, 33, 24, 22, 43, 25, 35, 27, 28, 35, 37, 34, 41, 32, 34, 30, 23, 28, 25, 50, 36, 32, 40, 20, 25, 39, 31, 35, 29, 40, 21, 33, 43, 34, 29, 27, 30, 27, 39, 37, 32, 35, 32, 23, 28, 24, 31, 30, 44, 35, 40, 30, 32, 46, 27, 28, 34, 37, 19, 36, 28, 29, 27, 27, 60, 26, 47, 30, 35, 39, 29, 42, 26, 26, 25, 17, 33, 32, 23, 26, 29, 30, 32, 32, 36, 24, 15, 35, 28, 50, 23, 21, 29, 30, 31, 30, 27, 37, 34, 23, 24, 36, 17, 27, 31, 31, 20, 30, 25, 21, 15, 31, 20, 21, 23, 20, 42, 43, 3, 23, 37, 27, 25, 45, 46, 43, 35, 33, 31, 23, 26, 33, 29, 40, 22, 35, 33, 44, 42, 38, 34, 25, 22, 26, 24, 21, 29, 31, 26, 24, 34, 20, 36, 23, 28, 28, 33, 24, 33, 33, 36, 32, 27, 20, 26, 33, 3, 20, 36, 37, 21, 25, 36, 32, 33, 32, 24, 34, 36, 24, 25, 29, 33, 42, 25, 30, 34, 30, 20, 31, 19, 37, 36, 43, 29, 28, 16, 34, 40, 19, 32, 48, 45, 30, 22, 20, 36, 18, 35, 21, 41, 3, 29, 21, 43, 38, 46, 44, 48, 27, 35, 31, 25, 45, 40, 33, 26, 26, 20, 37, 24, 20, 31, 25, 25, 34, 24, 38, 27, 28, 26, 46, 16, 3, 20, 19, 53, 28, 37, 26, 26, 38, 37, 29, 41, 18, 55, 20, 21, 25, 39, 21, 33, 42, 25, 41, 57, 24, 23, 34, 31, 29, 37, 39, 30, 23, 20, 29, 21, 24, 36, 24, 28, 37, 22, 41, 15, 22, 29, 28, 24, 43, 33, 37, 32, 36, 20, 25, 30, 23, 31, 32, 32, 27, 33, 47, 25, 22, 27, 25, 36, 41, 34, 25, 22, 31, 22, 26, 50, 38, 28, 20, 37, 28, 45, 25, 28, 30, 36, 32, 31, 38, 22, 33, 30, 34, 42, 33, 36, 32, 20, 28, 29, 30, 38, 41, 26, 31, 26, 24, 30, 27, 24, 36, 26, 3, 36, 31, 34, 21, 30, 32, 37, 16, 24, 21, 23, 29, 30, 27, 38, 48, 33, 34, 38, 26, 32, 39, 48, 29, 39, 24, 33, 30, 45, 26, 40, 23, 37, 28, 29, 46, 42, 31, 31, 37, 25, 39, 20, 31, 38, 35, 33, 28, 29, 27, 25, 32, 16, 28, 27, 34, 37, 33, 40, 36, 32, 3, 26, 35, 22, 38, 33, 26, 40, 23, 33, 27, 27, 31, 15, 28, 35, 37, 37, 32, 33, 44, 21, 31, 35, 29, 47, 30, 35, 41, 37, 21, 42, 33, 31, 44, 37, 32, 16, 34, 36, 34, 65, 31, 26, 37, 31, 34, 37, 32, 37, 33, 23, 28, 29, 28, 27, 36, 19, 26, 38, 26, 39, 26, 36, 27, 13, 24, 22, 23, 27, 19, 34, 41, 38, 22, 29, 39, 31, 39, 39, 28, 29, 30, 25, 28, 21, 30, 20, 30, 17, 34, 24, 48, 42, 31, 37, 21, 39, 30, 25, 24, 38, 26, 37, 53, 30, 39, 19, 36, 25, 29, 3, 33, 30, 52, 24, 25, 32, 32, 21, 39, 46, 25, 34, 36, 34, 26, 45, 31, 47, 35, 28, 21, 34, 3, 28, 20, 28, 30, 27, 33, 29, 33, 18, 3, 24, 18, 3, 41, 33, 32, 27, 21, 31, 30, 27, 32, 21, 22, 31, 32, 3, 24, 33, 31, 24, 35, 21, 33, 39, 25, 32, 24, 43, 25, 22, 28, 36, 35, 25, 28, 30, 28, 33, 24, 35, 28, 29, 41, 33, 24, 39, 30, 27, 44, 31, 25, 33, 30, 28, 37, 43, 20, 25, 26, 3, 28, 29, 23, 28, 21, 21, 15, 33, 23, 31, 3, 33, 21, 25, 26, 38, 27, 26, 36, 36, 29, 37, 33, 35, 27, 29, 39, 34, 34, 35, 23, 24, 31, 28, 34, 25, 27, 15, 25, 40, 21, 35, 24, 36, 42, 23, 36, 20, 33, 28, 34, 33, 25, 31, 33, 33, 25, 23, 3, 26, 3, 26, 15, 22, 32, 28, 41, 23, 31, 32, 24, 37, 32, 25, 33, 42, 28, 31, 33, 3, 41, 37, 36, 35, 29, 26, 43, 26, 33, 29, 33, 25, 35, 23, 23, 29, 26, 30, 38, 35, 31, 35, 32, 27, 37, 20, 3, 20, 15, 39, 36, 27, 25, 25, 28, 26, 36, 29, 27, 26, 36, 32, 22, 32, 41, 42, 23, 39, 28, 40, 22, 36, 30, 32, 28, 20, 42, 36, 37, 22, 31, 17, 35, 25, 51, 34, 28, 29, 43, 28, 38, 35, 23, 28, 31, 21, 36, 41, 31, 34, 32, 37, 34, 25, 25, 28, 24, 35, 27, 29, 25, 19, 38, 33, 30, 24, 27, 25, 21, 34, 31, 15, 28, 20, 40, 46, 27, 45, 28, 38, 27, 22, 41, 33, 27, 21, 30, 23, 30, 30, 20, 36, 23, 37, 22, 41, 57, 44, 33, 33, 29, 23, 34, 33, 30, 41, 27, 20, 26, 24, 32, 24, 38, 15, 41, 28, 66, 29, 34, 23, 25, 35, 47, 15, 23, 29, 36, 22, 34, 37, 28, 22, 31, 40, 34, 28, 31, 42, 19, 25, 3, 38, 45, 33, 35, 27, 26, 35, 25, 42, 23, 30, 33, 26, 3, 43, 24, 33, 24, 35, 32, 27, 14, 33, 28, 25, 47, 36, 33, 3, 22, 31, 35, 25, 29, 40, 32, 25, 29, 37, 26, 33, 33, 32, 27, 39, 29, 34, 30, 29, 24, 28, 23, 43, 34, 31, 21, 3, 35, 35, 35, 35, 23, 40, 31, 27, 16, 31, 15, 41, 35, 19, 22, 27, 31, 28, 29, 22, 41, 33, 21, 40, 36, 42, 27, 20, 28, 21, 35, 28, 26, 30, 29, 21, 15, 21, 27, 28, 35, 22, 29, 20, 38, 50, 38, 25, 35, 36, 25, 34, 35, 30, 24, 16, 34, 32, 30, 36, 26, 37, 27, 21, 26, 24, 22, 37, 25, 36, 40, 34, 38, 19, 18, 36, 3, 39, 24, 18, 3, 15, 26, 31, 36, 34, 49, 29, 40, 27, 35, 36, 39, 45, 38, 45, 21, 30, 34, 34, 32, 27, 20, 15, 42, 25, 29, 37, 28, 43, 24, 32, 41, 27, 38, 22, 49, 29, 36, 29, 35, 36, 35, 36, 20, 27, 23, 35, 26, 41, 3, 32, 43, 37, 38, 46, 26, 33, 31, 28, 47, 50, 31, 40, 29, 38, 39, 26, 36, 26, 30, 29, 40, 36, 3, 15, 34, 27, 3, 28, 34, 21, 37, 15, 32, 40, 33, 25, 37, 29, 39, 40, 36, 15, 41, 3, 18, 26, 22, 19, 34, 27, 26, 25, 20, 42, 3, 33, 26, 46, 33, 32, 42, 20, 33, 36, 31, 29, 25, 36, 35, 3, 24, 15, 33, 33, 16, 30, 37, 37, 37, 22, 29, 30, 47, 29, 32, 33, 23, 40, 32, 36, 33, 34, 22, 29, 38, 30, 23, 42, 46, 37, 23, 25, 30, 26, 16, 29, 28, 27, 43, 28, 37, 39, 24, 35, 36, 30, 20, 21, 37, 33, 32, 37, 31, 33, 25, 31, 37, 24, 24, 23, 24, 47, 45, 20, 34, 42, 24, 33, 30, 23, 20, 27, 38, 39, 24, 38, 20, 23, 34, 28, 37, 20, 29, 24, 35, 3, 41, 34, 34, 25, 37, 26, 28, 39, 40, 24, 38, 23, 20, 39, 38, 33, 37, 24, 23, 30, 37, 36, 27, 42, 33, 33, 38, 15, 34, 31, 25, 33, 21, 19, 31, 29, 28, 38, 29, 44, 39, 35, 34, 43, 19, 32, 38, 22, 35, 33, 25, 19, 28, 24, 22, 33, 31, 23, 32, 32, 34, 33, 23, 33, 33, 22, 28, 36, 24, 39, 27, 11, 21, 23, 31, 39, 3, 30, 32, 32, 31, 48, 32, 27, 37, 26, 28, 32, 42, 25, 41, 26, 30, 26, 30, 31, 31, 19, 31, 30, 33, 28, 3, 31, 43, 23, 31, 38, 21, 40, 27, 23, 24, 24, 33, 33, 18, 29, 27, 33, 26, 29, 25, 34, 33, 33, 19, 22, 28, 24, 31, 38, 20, 36, 26, 28, 31, 30, 26, 33, 40, 25, 31, 32, 18, 27, 31, 25, 23, 3, 30, 26, 51, 22, 39, 22, 35, 24, 27, 36, 26, 26, 25, 32, 20, 31, 34, 27, 46, 31, 41, 38, 24, 31, 22, 34, 26, 36, 20, 50, 38, 29, 15, 30, 24, 37, 16, 37, 25, 21, 31, 37, 34, 36, 36, 43, 39, 15, 32, 22, 44, 33, 27, 31, 34, 35, 30, 34, 25, 33, 39, 38, 32, 15, 33, 53, 23, 25, 44, 32, 33, 17, 25, 41, 23, 20, 31, 28, 3, 26, 20, 20, 33, 37, 38, 26, 30, 27, 22, 32, 20, 43, 26, 27, 16, 30, 35, 28, 27, 35, 30, 26, 34, 19, 37, 20, 50, 22, 29, 30, 41, 15, 37, 23, 18, 32, 23, 32, 22, 43, 23, 25, 31, 27, 31, 31, 35, 35, 24, 28, 25, 28, 27, 21, 48, 25, 40, 24, 36, 26, 45, 52, 38, 33, 34, 27, 49, 38, 25, 24, 40, 34, 28, 33, 40, 25, 31, 27, 25, 27, 26, 3, 26, 26, 32, 3, 39, 26, 24, 26, 43, 23, 35, 43, 23, 37, 15, 26, 18, 32, 20, 25, 32, 35, 29, 20, 32, 28, 23, 32, 41, 31, 45, 20, 22, 24, 33, 42, 15, 39, 37, 33, 21, 26, 15, 30, 31, 25, 19, 21, 37, 3, 42, 22, 25, 3, 37, 34, 23, 33, 31, 34, 33, 41, 47, 32, 33, 23, 22, 32, 36, 33, 29, 23, 44, 34, 41, 30, 32, 39, 43, 29, 29, 24, 33, 31, 29, 28, 30, 22, 28, 24, 16, 31, 40, 34, 35, 32, 38, 25, 39, 37, 24, 3, 43, 32, 29, 24, 20, 23, 26, 21, 20, 30, 40, 28, 25, 15, 29, 28, 26, 37, 29, 29, 36, 31, 44, 28, 27, 22, 34, 31, 35, 34, 29, 30, 29, 26, 26, 38, 32, 37, 45, 28, 39, 20, 29, 23, 31, 20, 26, 48, 43, 27, 39, 34, 39, 36, 36, 32, 29, 17, 34, 39, 26, 27, 28, 28, 32, 52, 39, 34, 30, 32, 26, 20, 46, 45, 17, 25, 3, 28, 23, 31, 31, 40, 31, 31, 31, 22, 29, 31, 24, 13, 21, 39, 32, 38, 24, 42, 34, 15, 36, 38, 47, 25, 24, 17, 38, 21, 26, 30, 36, 25, 41, 3, 29, 21, 22, 43, 24, 34, 45, 32, 24, 32, 43, 31, 26, 35, 34, 45, 36, 32, 34, 41, 16, 24, 27, 32, 28, 16, 27, 26, 20, 22, 25, 21, 30, 53, 34, 35, 25, 35, 42, 32, 31, 33, 36, 27, 26, 20, 3, 32, 39, 16, 15, 21, 25, 42, 26, 39, 29, 33, 28, 29, 35, 46, 15, 25, 33, 15, 39, 3, 29, 32, 29, 28, 40, 42, 16, 42, 22, 36, 32, 20, 29, 34, 26, 35, 20, 23, 33, 26, 30, 37, 36, 28, 19, 30, 21, 39, 33, 30, 21, 29, 33, 27, 35, 25, 34, 36, 24, 32, 29, 3, 18, 29, 31, 45, 38, 26, 28, 37, 38, 26, 31, 29, 15, 24, 29, 46, 20, 25, 26, 33, 32, 36, 31, 29, 31, 15, 3, 32, 28, 33, 39, 27, 23, 16, 28, 31, 22, 29, 39, 46, 30, 17, 31, 29, 15, 31, 40, 33, 20, 38, 34, 51, 15, 28, 29, 27, 31, 35, 38, 26, 21, 40, 37, 27, 36, 22, 25, 20, 34, 34, 32, 23, 30, 32, 34, 35, 38, 18, 29, 37, 33, 31, 30, 42, 35, 27, 30, 38, 3, 30, 32, 33, 29, 28, 31, 27, 35, 21, 37, 29, 44, 24, 35, 37, 48, 38, 33, 47, 20, 15, 50, 23, 32, 31, 36, 26, 29, 37, 41, 18, 38, 30, 25, 39, 38, 33, 45, 34, 39, 30, 26, 31, 33, 46, 25, 30, 22, 48, 27, 44, 37, 37, 30, 25, 40, 23, 25, 32, 31, 31, 27, 25, 31, 33, 26, 49, 22, 26, 25, 36, 33, 27, 38, 18, 25, 30, 36, 27, 44, 42, 42, 20, 45, 36, 18, 31, 29, 30, 40, 51, 24, 38, 30, 34, 20, 40, 43, 20, 23, 23, 34, 24, 28, 28, 32, 29, 16, 15, 27, 30, 31, 31, 27, 32, 27, 22, 29, 35, 30, 34, 19, 34, 32, 22, 27, 27, 28, 24, 21, 35, 28, 37, 29, 25, 38, 30, 44, 19, 36, 20, 32, 33, 29, 22, 15, 29, 41, 15, 29, 23, 35, 29, 26, 22, 27, 28, 22, 27, 26, 37, 29, 39, 38, 3, 24, 14, 18, 31, 37, 26, 35, 42, 30, 21, 34, 28, 47, 28, 20, 23, 36, 3, 27, 23, 26, 21, 31, 37, 39, 32, 21, 29, 38, 30, 30, 35, 24, 33, 42, 33, 35, 39, 21, 44, 28, 3, 29, 30, 27, 45, 22, 27, 34, 27, 27, 38, 3, 27, 36, 29, 40, 32, 32, 31, 28, 31, 41, 38, 31, 30, 41, 39, 29, 41, 20, 32, 30, 38, 38, 45, 31, 29, 33, 23, 37, 27, 28, 33, 27, 37, 22, 33, 22, 24, 27, 25, 25, 30, 34, 41, 16, 33, 29, 33, 24, 26, 32, 18, 32, 33, 33, 39, 26, 3, 40, 28, 37, 34, 26, 32, 38, 49, 25, 25, 33, 27, 22, 26, 32, 40, 35, 29, 22, 19, 27, 30, 32, 40, 27, 39, 28, 21, 29, 37, 42, 33, 31, 23, 24, 40, 21, 27, 27, 43, 21, 42, 36, 22, 30, 21, 30, 34, 27, 27, 31, 21, 45, 19, 25, 29, 31, 31, 31, 28, 27, 39, 37, 29, 29, 32, 35, 32, 24, 31, 25, 25, 68, 41, 23, 31, 29, 35, 27, 30, 28, 33, 36, 38, 15, 16, 26, 28, 27, 3, 20, 40, 30, 28, 29, 19, 24, 28, 32, 37, 33, 30, 33, 25, 33, 27, 42, 23, 23, 47, 34, 36, 15, 46, 25, 31, 45, 22, 40, 25, 33, 27, 25, 24, 27, 3, 32, 24, 35, 30, 22, 37, 21, 60, 42, 40, 27, 16, 34, 31, 53, 37, 22, 37, 30, 24, 3, 22, 44, 37, 29, 25, 43, 27, 27, 23, 29, 19, 24, 27, 20, 32, 3, 49, 26, 40, 18, 34, 30, 30, 22, 26, 33, 29, 28, 36, 39, 33, 21, 34, 36, 31, 23, 48, 23, 27, 27, 29, 23, 29, 28, 25, 26, 28, 30, 37, 3, 29, 29, 41, 42, 31, 29, 25, 22, 35, 47, 29, 31, 30, 31, 32, 37, 32, 32, 38, 21, 15, 25, 29, 30, 28, 20, 42, 31, 31, 23, 28, 32, 22, 22, 28, 43, 35, 38, 39, 20, 28, 31, 36, 22, 25, 32, 29, 23, 44, 38, 26, 28, 25, 42, 36, 34, 31, 21, 30, 34, 31, 3, 20, 35, 42, 22, 20, 36, 36, 32, 36, 38, 21, 36, 35, 37, 29, 36, 34, 27, 31, 38, 45, 30, 39, 41, 32, 28, 40, 38, 28, 31, 19, 34, 37, 25, 23, 35, 49, 28, 22, 37, 34, 28, 33, 35, 31, 29, 30, 29, 38, 46, 32, 34, 23, 24, 15, 43, 25, 28, 32, 33, 3, 39, 49, 21, 27, 39, 33, 27, 27, 37, 32, 33, 33, 36, 33, 35, 37, 29, 25, 39, 23, 32, 51, 33, 36, 50, 44, 32, 32, 33, 37, 37, 34, 27, 39, 36, 24, 37, 33, 27, 30, 30, 28, 47, 20, 33, 31, 27, 31, 27, 31, 23, 38, 36, 38, 23, 34, 34, 30, 23, 26, 35, 32, 47, 26, 33, 26, 3, 27, 28, 21, 23, 36, 31, 34, 41, 29, 32, 32, 41, 43, 39, 39, 36, 28, 31, 26, 22, 20, 42, 27, 22, 33, 26, 21, 27, 39, 30, 29, 26, 27, 42, 35, 35, 39, 23, 22, 25, 42, 38, 35, 40, 33, 23, 34, 31, 35, 20, 21, 19, 26, 37, 24, 28, 28, 3, 39, 24, 22, 31, 17, 35, 33, 26, 30, 19, 22, 44, 33, 27, 20, 27, 41, 32, 23, 29, 32, 36, 21, 39, 30, 33, 41, 15, 20, 21, 30, 31, 21, 3, 30, 25, 31, 31, 23, 31, 30, 16, 20, 31, 30, 37, 33, 33, 46, 23, 40, 32, 25, 24, 35, 37, 35, 32, 20, 30, 29, 23, 21, 28, 30, 40, 33, 38, 20, 37, 25, 28, 33, 34, 27, 23, 27, 26, 46, 32, 31, 39, 39, 34, 31, 42, 31, 32, 40, 23, 26, 40, 38, 20, 3, 28, 15, 43, 46, 34, 23, 44, 38, 32, 38, 16, 38, 28, 38, 22, 35, 29, 31, 40, 3, 31, 37, 27, 23, 37, 29, 35, 34, 34, 19, 45, 27, 36, 25, 29, 25, 31, 33, 29, 26, 25, 17, 27, 37, 34, 35, 35, 28, 32, 22, 33, 23, 17, 29, 30, 19, 34, 20, 26, 24, 39, 26, 23, 31, 36, 27, 26, 41, 47, 32, 35, 27, 3, 25, 39, 32, 31, 44, 37, 22, 30, 30, 30, 29, 39, 37, 35, 28, 16, 21, 28, 49, 40, 35, 25, 30, 30, 26, 35, 15, 23, 31, 25, 30, 16, 51, 34, 26, 24, 24, 20, 30, 43, 49, 40, 15, 24, 44, 21, 20, 48, 27, 18, 22, 35, 19, 28, 44, 34, 38, 35, 38, 32, 25, 21, 50, 22, 32, 39, 23, 35, 26, 34, 28, 39, 37, 31, 33, 28, 35, 27, 30, 28, 25, 30, 25, 20, 34, 32, 34, 15, 32, 27, 26, 32, 33, 25, 34, 31, 56, 49, 29, 41, 30, 37, 35, 20, 47, 38, 47, 34, 31, 33, 31, 36, 28, 36, 45, 34, 34, 46, 26, 29, 24, 37, 3, 25, 24, 23, 30, 40, 34, 22, 45, 26, 30, 41, 34, 34, 29, 19, 28, 33, 35, 33, 34, 33, 35, 3, 35, 33, 26, 35, 32, 40, 34, 32, 38, 22, 44, 33, 15, 16, 23, 30, 21, 34, 29, 38, 26, 27, 28, 35, 29, 32, 32, 28, 33, 52, 30, 32, 22, 30, 33, 38, 27, 28, 38, 28, 34, 23, 42, 32, 35, 38, 25, 3, 20, 21, 35, 35, 38, 32, 33, 23, 34, 29, 21, 3, 23, 44, 27, 30, 38, 32, 26, 24, 25, 17, 32, 28, 30, 37, 24, 25, 49, 35, 31, 25, 39, 34, 42, 33, 30, 23, 34, 28, 28, 43, 28, 29, 29, 39, 32, 43, 34, 32, 44, 16, 35, 35, 27, 35, 25, 17, 3, 35, 25, 38, 38, 35, 32, 43, 27, 26, 24, 24, 22, 30, 32, 27, 31, 22, 30, 30, 21, 32, 35, 20, 35, 33, 31, 22, 25, 36, 23, 22, 35, 42, 34, 30, 40, 23, 21, 37, 29, 26, 35, 22, 34, 39, 35, 32, 35, 29, 33, 38, 13, 30, 24, 30, 30, 36, 26, 46, 31, 19, 23, 33, 37, 33, 36, 35, 3, 26, 24, 28, 30, 39, 18, 30, 34, 27, 37, 17, 45, 20, 25, 40, 30, 42, 28, 27, 22, 25, 19, 39, 30, 25, 20, 35, 33, 24, 34, 32, 20, 33, 29, 34, 3, 29, 3, 20, 35, 24, 38, 37, 26, 20, 36, 37, 36, 46, 36, 31, 21, 30, 39, 31, 39, 39, 23, 26, 40, 32, 48, 29, 27, 21, 29, 18, 29, 37, 39, 38, 3, 34, 46, 22, 33, 26, 20, 29, 45, 45, 36, 36, 21, 37, 25, 22, 29, 32, 24, 29, 29, 35, 3, 33, 21, 25, 32, 32, 3, 44, 31, 15, 32, 3, 41, 20, 39, 41, 33, 38, 24, 16, 21, 33, 27, 31, 31, 32, 30, 27, 40, 25, 42, 34, 21, 3, 39, 21, 29, 33, 16, 38, 36, 29, 19, 27, 36, 36, 27, 21, 26, 21, 37, 35, 31, 35, 32, 42, 40, 43, 21, 30, 3, 41, 32, 34, 32, 22, 33, 21, 25, 32, 30, 36, 28, 31, 31, 24, 40, 25, 18, 39, 37, 27, 33, 29, 29, 3, 35, 32, 28, 33, 31, 31, 39, 15, 27, 20, 34, 18, 30, 29, 20, 31, 34, 23, 25, 17, 28, 25, 25, 26, 26, 22, 20, 36, 34, 40, 26, 41, 37, 23, 30, 27, 17, 28, 35, 31, 21, 27, 42, 46, 37, 28, 24, 33, 27, 34, 39, 30, 31, 30, 37, 39, 37, 26, 23, 29, 36, 23, 23, 25, 14, 29, 21, 26, 20, 45, 23, 38, 36, 35, 3, 30, 27, 25, 37, 30, 47, 25, 27, 3, 26, 26, 20, 39, 36, 28, 27, 23, 38, 27, 29, 27, 31, 32, 29, 36, 31, 27, 19, 35, 31, 34, 41, 27, 25, 38, 31, 39, 31, 25, 39, 37, 14, 43, 22, 3, 34, 35, 32, 25, 30, 31, 31, 32, 30, 27, 36, 24, 23, 22, 38, 34, 32, 34, 23, 38, 41, 30, 16, 29, 29, 51, 34, 40, 24, 40, 37, 28, 31, 33, 33, 28, 35, 27, 15, 31, 47, 38, 29, 36, 22, 39, 47, 34, 32, 38, 37, 25, 49, 25, 28, 20, 36, 21, 21, 24, 42, 27, 26, 38, 16, 20, 33, 34, 40, 24, 22, 21, 33, 25, 19, 3, 22, 29, 34, 31, 28, 35, 24, 27, 28, 36, 17, 36, 25, 35, 33, 34, 29, 3, 41, 36, 22, 19, 28, 28, 31, 28, 19, 31, 44, 44, 28, 38, 34, 31, 30, 26, 27, 34, 3, 37, 34, 29, 34, 33, 37, 27, 33, 17, 19, 28, 42, 18, 20, 30, 26, 30, 20, 23, 15, 36, 54, 27, 43, 32, 26, 32, 18, 34, 16, 49, 18, 21, 38, 20, 36, 20, 25, 32, 32, 39, 36, 36, 17, 42, 31, 32, 24, 30, 43, 16, 24, 33, 32, 3, 41, 37, 21, 3, 28, 33, 26, 33, 35, 47, 45, 21, 32, 29, 32, 3, 36, 42, 30, 29, 42, 35, 31, 22, 27, 44, 30, 15, 32, 36, 33, 32, 49, 27, 33, 31, 25, 38, 34, 19, 16, 26, 30, 41, 27, 30, 33, 49, 37, 28, 25, 30, 30, 36, 30, 26, 3, 29, 33, 22, 39, 28, 39, 31, 27, 24, 39, 23, 22, 30, 34, 50, 32, 38, 24, 26, 41, 27, 29, 27, 16, 33, 33, 30, 28, 31, 29, 32, 31, 25, 33, 31, 38, 29, 3, 23, 35, 22, 32, 23, 26, 38, 36, 28, 34, 3, 33, 24, 23, 32, 36, 27, 19, 26, 23, 21, 29, 35, 30, 36, 31, 41, 22, 31, 22, 24, 30, 30, 24, 35, 31, 29, 30, 42, 45, 34, 23, 30, 24, 35, 40, 38, 36, 31, 29, 34, 30, 33, 28, 38, 30, 33, 22, 32, 37, 20, 37, 21, 30, 36, 34, 26, 54, 32, 36, 32, 28, 30, 39, 25, 39, 27, 22, 32, 37, 43, 38, 33, 20, 29, 34, 21, 27, 33, 25, 24, 30, 21, 35, 24, 30, 16, 28, 26, 47, 52, 26, 32, 26, 35, 27, 21, 35, 26, 22, 38, 35, 43, 26, 41, 30, 43, 20, 29, 34, 30, 36, 38, 45, 20, 25, 43, 29, 53, 34, 3, 40, 40, 37, 40, 30, 25, 41, 33, 36, 28, 31, 30, 34, 32, 3, 49, 33, 29, 27, 37, 29, 23, 33, 53, 40, 40, 35, 23, 33, 33, 32, 29, 39, 29, 35, 26, 24, 41, 25, 32, 20, 34, 62, 33, 27, 23, 47, 24, 29, 43, 27, 27, 31, 22, 43, 31, 31, 36, 28, 37, 29, 35, 40, 36, 40, 25, 28, 23, 32, 37, 28, 43, 28, 22, 27, 3, 41, 35, 34, 34, 26, 22, 22, 29, 3, 38, 24, 24, 27, 41, 30, 20, 24, 25, 34, 40, 29, 28, 29, 28, 16, 21, 32, 40, 33, 21, 32, 22, 25, 22, 25, 34, 30, 29, 36, 25, 43, 32, 35, 33, 34, 29, 31, 21, 35, 33, 39, 28, 28, 25, 21, 43, 32, 32, 33, 21, 27, 23, 40, 30, 17, 37, 22, 22, 16, 27, 26, 29, 32, 37, 19, 56, 22, 48, 38, 38, 28, 25, 27, 31, 29, 34, 46, 40, 35, 39, 32, 27, 27, 31, 26, 38, 25, 22, 25, 38, 27, 28, 22, 30, 23, 30, 24, 32, 21, 21, 41, 23, 43, 33, 26, 32, 38, 29, 26, 26, 28, 43, 33, 35, 16, 24, 18, 28, 39, 28, 26, 20, 27, 27, 30, 27, 31, 28, 48, 22, 36, 26, 28, 24, 41, 20, 34, 19, 28, 37, 15, 3, 37, 22, 28, 17, 26, 23, 40, 27, 34, 45, 27, 20, 34, 29, 23, 26, 19, 44, 26, 29, 27, 34, 26, 40, 27, 20, 3, 15, 22, 33, 25, 30, 38, 22, 3, 23, 33, 3, 3, 33, 26, 17, 26, 32, 39, 31, 15, 24, 26, 39, 27, 30, 28, 24, 30, 31, 28, 36, 36, 52, 29, 45, 23, 24, 30, 25, 22, 26, 27, 19, 36, 21, 29, 32, 41, 23, 27, 28, 36, 34, 20, 44, 39, 25, 36, 30, 32, 28, 15, 29, 35, 36, 42, 26, 23, 40, 32, 22, 21, 36, 38, 46, 22, 31, 33, 22, 36, 31, 22, 29, 50, 3, 34, 20, 37, 39, 20, 24, 3, 30, 29, 20, 28, 24, 36, 22, 22, 31, 22, 46, 29, 21, 36, 35, 42, 29, 30, 36, 30, 16, 49, 29, 30, 21, 34, 29, 22, 30, 32, 22, 18, 27, 25, 23, 22, 40, 40, 27, 20, 50, 18, 36, 29, 39, 23, 14, 28, 38, 30, 29, 41, 40, 22, 25, 18, 46, 26, 33, 25, 27, 29, 19, 33, 31, 36, 24, 33, 17, 28, 31, 30, 24, 30, 31, 26, 26, 35, 34, 33, 40, 30, 29, 57, 3, 28, 25, 36, 43, 40, 30, 24, 31, 38, 28, 25, 31, 31, 28, 21, 36, 27, 36, 38, 31, 26, 28, 42, 37, 37, 30, 34, 29, 34, 39, 27, 29, 29, 29, 27, 28, 42, 31, 15, 3, 35, 25, 23, 29, 28, 24, 29, 36, 26, 29, 31, 36, 33, 22, 29, 42, 18, 30, 26, 36, 35, 35, 33, 32, 27, 42, 32, 42, 21, 3, 42, 25, 36, 32, 39, 31, 44, 39, 34, 45, 37, 27, 20, 29, 31, 37, 3, 30, 36, 32, 27, 34, 34, 36, 29, 38, 26, 18, 29, 37, 25, 24, 48, 20, 27, 24, 30, 26, 24, 28, 15, 55, 29, 20, 39, 34, 32, 27, 32, 35, 41, 20, 21, 25, 39, 36, 30, 35, 29, 46, 26, 29, 16, 34, 30, 34, 50, 35, 34, 42, 43, 27, 31, 25, 20, 30, 24, 25, 27, 16, 31, 22, 28, 38, 28, 46, 29, 27, 31, 25, 42, 34, 23, 46, 30, 22, 28, 27, 24, 30, 22, 32, 36, 32, 17, 28, 28, 25, 31, 37, 24, 20, 21, 51, 34, 32, 21, 15, 38, 28, 39, 45, 31, 32, 30, 25, 32, 33, 24, 25, 34, 23, 22, 25, 28, 31, 30, 34, 3, 31, 28, 35, 20, 28, 24, 45, 29, 31, 29, 45, 27, 37, 38, 32, 33, 37, 32, 39, 32, 33, 26, 28, 22, 22, 29, 38, 39, 32, 27, 38, 34, 31, 26, 45, 25, 22, 29, 36, 23, 28, 28, 22, 32, 40, 31, 15, 22, 3, 30, 51, 25, 25, 28, 30, 38, 37, 23, 22, 40, 32, 46, 41, 20, 3, 38, 28, 37, 33, 25, 22, 27, 45, 36, 41, 26, 37, 51, 35, 37, 16, 28, 32, 38, 32, 37, 29, 42, 24, 19, 49, 43, 17, 22, 44, 35, 42, 33, 34, 27, 45, 31, 28, 33, 36, 29, 38, 23, 24, 31, 29, 39, 29, 27, 16, 35, 30, 23, 40, 24, 33, 37, 35, 41, 31, 29, 37, 31, 35, 34, 24, 20, 23, 27, 28, 44, 38, 21, 32, 28, 33, 39, 44, 32, 26, 23, 33, 33, 24, 23, 41, 30, 39, 44, 32, 27, 38, 35, 28, 27, 36, 30, 3, 23, 28, 30, 23, 37, 3, 27, 34, 32, 24, 34, 28, 28, 41, 32, 32, 34, 17, 3, 35, 22, 35, 38, 20, 45, 46, 21, 3, 24, 40, 27, 36, 29, 15, 30, 35, 38, 30, 29, 24, 23, 27, 34, 20, 22, 23, 3, 27, 34, 27, 20, 27, 30, 20, 24, 20, 22, 32, 23, 21, 35, 3, 42, 32, 31, 30, 26, 38, 27, 31, 24, 29, 23, 32, 32, 25, 29, 53, 26, 24, 34, 39, 33, 21, 35, 33, 30, 31, 24, 38, 33, 36, 34, 31, 29, 40, 31, 15, 39, 30, 40, 25, 27, 27, 21, 32, 35, 32, 32, 35, 33, 29, 31, 26, 27, 3, 29, 28, 26, 36, 23, 30, 33, 23, 34, 24, 22, 33, 32, 36, 20, 23, 28, 39, 29, 28, 21, 25, 39, 20, 31, 41, 26, 3, 23, 48, 3, 28, 3, 27, 33, 34, 36, 3, 44, 27, 23, 24, 25, 23, 27, 41, 37, 31, 33, 28, 31, 32, 31, 30, 15, 28, 41, 35, 26, 33, 34, 32, 35, 30, 33, 32, 23, 25, 32, 22, 32, 20, 40, 30, 3, 50, 31, 28, 39, 26, 36, 32, 20, 26, 19, 21, 35, 33, 31, 32, 33, 36, 43, 33, 30, 33, 3, 28, 35, 26, 24, 37, 19, 23, 33, 30, 40, 44, 28, 36, 40, 27, 39, 31, 25, 23, 34, 47, 27, 40, 22, 31, 37, 27, 35, 25, 20, 32, 31, 33, 31, 24, 25, 47, 27, 26, 48, 40, 37, 18, 15, 28, 24, 19, 28, 32, 38, 29, 32, 28, 28, 3, 43, 30, 24, 40, 30, 38, 22, 25, 28, 36, 31, 22, 28, 26, 30, 26, 20, 34, 22, 46, 42, 20, 34, 24, 33, 34, 26, 38, 34, 46, 31, 33, 25, 27, 37, 29, 27, 25, 34, 33, 30, 25, 28, 33, 26, 40, 20, 33, 35, 27, 34, 34, 37, 22, 22, 23, 18, 25, 25, 30, 30, 26, 34, 23, 18, 23, 41, 45, 35, 28, 21, 22, 22, 22, 34, 36, 56, 28, 24, 30, 31, 15, 27, 29, 26, 36, 29, 32, 34, 31, 17, 40, 30, 28, 30, 27, 31, 15, 23, 46, 30, 36, 40, 35, 28, 36, 22, 33, 47, 32, 16, 29, 38, 35, 28, 27, 37, 15, 35, 34, 29, 31, 30, 22, 41, 23, 33, 23, 36, 45, 31, 28, 31, 33, 30, 42, 21, 34, 26, 31, 22, 57, 24, 34, 34, 39, 30, 16, 33, 31, 22, 25, 27, 32, 35, 20, 36, 22, 26, 39, 32, 34, 20, 33, 37, 36, 39, 19, 28, 39, 38, 26, 42, 32, 36, 3, 33, 40, 43, 27, 35, 24, 29, 33, 37, 35, 43, 34, 49, 26, 21, 3, 26, 30, 29, 34, 35, 35, 28, 31, 28, 38, 29, 28, 25, 21, 36, 33, 20, 32, 29, 40, 15, 26, 28, 39, 42, 42, 43, 26, 37, 28, 21, 23, 32, 22, 21, 29, 47, 36, 21, 39, 36, 33, 33, 27, 36, 28, 31, 26, 31, 35, 32, 41, 27, 24, 21, 37, 36, 27, 37, 30, 36, 37, 51, 40, 24, 27, 35, 15, 29, 23, 34, 38, 28, 33, 27, 28, 43, 39, 20, 22, 34, 21, 26, 26, 19, 41, 36, 20, 32, 22, 34, 31, 48, 29, 44, 33, 38, 31, 35, 31, 14, 38, 26, 39, 29, 37, 24, 30, 41, 48, 37, 33, 38, 41, 37, 28, 29, 22, 27, 51, 29, 25, 42, 27, 34, 21, 40, 15, 23, 20, 27, 3, 23, 16, 26, 39, 20, 23, 38, 20, 36, 20, 36, 3, 29, 27, 36, 48, 26, 28, 37, 28, 40, 35, 22, 37, 25, 40, 33, 19, 33, 28, 25, 26, 20, 27, 26, 41, 51, 31, 26, 20, 26, 33, 21, 20, 34, 34, 27, 31, 42, 46, 35, 28, 44, 42, 33, 25, 39, 39, 32, 27, 29, 23, 33, 31, 25, 42, 39, 32, 26, 32, 30, 38, 28, 27, 36, 37, 28, 21, 37, 24, 31, 49, 33, 23, 18, 31, 25, 21, 32, 43, 3, 20, 27, 34, 33, 27, 23, 3, 25, 37, 40, 36, 36, 37, 24, 20, 34, 35, 35, 24, 29, 24, 39, 18, 23, 38, 21, 38, 28, 29, 24, 22, 28, 22, 32, 31, 41, 3, 36, 38, 36, 28, 21, 31, 20, 35, 44, 35, 45, 17, 35, 45, 45, 23, 28, 31, 35, 15, 19, 27, 33, 38, 23, 28, 23, 29, 19, 32, 26, 38, 28, 32, 26, 28, 33, 30, 39, 33, 41, 25, 34, 28, 36, 30, 37, 42, 47, 32, 28, 27, 45, 32, 31, 27, 26, 41, 30, 28, 30, 28, 24, 39, 25, 24, 36, 24, 25, 21, 20, 26, 33, 36, 37, 29, 15, 20, 29, 32, 20, 26, 20, 29, 35, 30, 29, 22, 43, 24, 29, 32, 23, 33, 23, 40, 30, 3, 38, 3, 36, 34, 24, 42, 38, 27, 34, 25, 25, 31, 25, 33, 23, 26, 43, 28, 30, 38, 34, 34, 36, 21, 35, 17, 26, 30, 31, 35, 25, 33, 24, 29, 31, 29, 3, 34, 24, 32, 31, 33, 30, 26, 53, 25, 35, 38, 35, 35, 25, 32, 15, 27, 45, 44, 36, 30, 39, 23, 33, 32, 38, 24, 33, 32, 22, 23, 35, 25, 35, 3, 28, 37, 35, 21, 38, 20, 29, 23, 24, 30, 29, 36, 28, 24, 31, 31, 26, 31, 30, 18, 36, 30, 39, 43, 35, 32, 25, 20, 20, 38, 36, 27, 39, 28, 26, 24, 21, 39, 35, 20, 28, 32, 44, 40, 43, 28, 35, 33, 27, 41, 27, 25, 38, 44, 27, 23, 34, 24, 29, 36, 43, 41, 37, 34, 22, 38, 28, 28, 37, 41, 35, 38, 43, 27, 3, 31, 26, 48, 26, 30, 35, 28, 33, 34, 27, 39, 32, 38, 30, 28, 44, 20, 24, 34, 36, 24, 25, 32, 47, 33, 32, 24, 26, 31, 30, 28, 34, 35, 42, 26, 36, 16, 28, 22, 40, 33, 15, 36, 30, 26, 33, 34, 26, 26, 35, 34, 36, 39, 28, 45, 25, 26, 38, 21, 32, 30, 28, 29, 38, 34, 31, 32, 25, 28, 37, 37, 22, 27, 41, 27, 3, 30, 25, 33, 31, 20, 20, 28, 36, 33, 30, 29, 34, 32, 39, 24, 33, 27, 26, 19, 27, 33, 26, 36, 23, 15, 20, 34, 37, 41, 43, 33, 18, 25, 31, 21, 34, 42, 25, 43, 39, 25, 29, 30, 20, 26, 28, 24, 33, 39, 28, 46, 38, 32, 31, 22, 18, 35, 22, 29, 29, 22, 30, 21, 24, 28, 28, 26, 15, 24, 26, 32, 30, 36, 30, 35, 25, 23, 45, 31, 40, 25, 56, 28, 30, 31, 38, 23, 20, 37, 41, 29, 32, 41, 22, 14, 40, 34, 35, 41, 36, 43, 37, 31, 43, 3, 28, 37, 31, 30, 32, 32, 27, 32, 41, 25, 31, 43, 29, 15, 24, 24, 34, 30, 28, 32, 36, 44, 38, 32, 20, 29, 34, 24, 21, 20, 26, 32, 16, 34, 38, 41, 33, 28, 36, 26, 16, 29, 32, 37, 41, 38, 25, 31, 20, 35, 33, 21, 46, 29, 34, 25, 32, 32, 31, 39, 25, 25, 39, 29, 26, 27, 31, 20, 37, 44, 18, 20, 30, 46, 15, 3, 3, 31, 22, 28, 37, 41, 28, 39, 34, 18, 32, 32, 32, 31, 37, 32, 33, 23, 38, 28, 22, 35, 39, 62, 26, 18, 42, 27, 25, 43, 32, 45, 28, 46, 25, 24, 47, 37, 22, 32, 34, 28, 3, 43, 26, 39, 33, 29, 39, 25, 35, 25, 27, 36, 33, 30, 31, 36, 28, 25, 32, 40, 41, 24, 41, 28, 21, 3, 32, 29, 41, 20, 31, 39, 21, 37, 38, 33, 36, 18, 37, 40, 25, 39, 39, 34, 31, 27, 38, 34, 26, 24, 35, 34, 29, 28, 26, 25, 32, 20, 24, 25, 28, 29, 21, 33, 23, 40, 20, 30, 30, 17, 36, 33, 28, 16, 34, 17, 47, 41, 41, 25, 32, 26, 32, 36, 31, 35, 24, 25, 26, 26, 51, 31, 40, 26, 29, 30, 18, 31, 15, 29, 19, 26, 27, 26, 40, 29, 26, 33, 26, 47, 15, 15, 36, 39, 28, 33, 26, 24, 16, 34, 17, 22, 23, 36, 33, 31, 27, 27, 33, 42, 26, 31, 28, 22, 25, 38, 32, 27, 24, 34, 22, 37, 24, 38, 24, 26, 32, 29, 18, 24, 25, 26, 3, 37, 32, 27, 30, 29, 18, 40, 33, 31, 32, 20, 30, 43, 30, 26, 21, 29, 19, 28, 39, 27, 16, 26, 30, 38, 54, 21, 38, 40, 36, 27, 22, 3, 26, 33, 3, 20, 27, 42, 31, 41, 39, 40, 20, 25, 27, 40, 24, 35, 26, 31, 17, 26, 37, 25, 31, 21, 33, 25, 35, 35, 24, 3, 15, 23, 21, 47, 15, 13, 32, 26, 29, 28, 31, 25, 39, 22, 15, 22, 25, 41, 41, 19, 15, 22, 32, 34, 36, 44, 23, 39, 39, 28, 29, 27, 24, 3, 40, 33, 29, 31, 37, 36, 21, 37, 27, 25, 42, 30, 35, 25, 52, 38, 28, 32, 35, 28, 17, 40, 30, 32, 31, 37, 30, 23, 24, 25, 22, 26, 29, 17, 43, 33, 31, 3, 26, 35, 30, 39, 24, 21, 30, 31, 15, 43, 35, 25, 33, 38, 33, 25, 36, 36, 35, 28, 27, 25, 36, 22, 39, 35, 36, 27, 24, 39, 50, 30, 16, 30, 21, 15, 35, 23, 36, 27, 33, 29, 21, 31, 33, 23, 25, 32, 16, 35, 39, 27, 41, 39, 27, 15, 26, 27, 25, 31, 26, 3, 23, 27, 35, 28, 36, 36, 32, 24, 31, 35, 25, 25, 36, 29, 35, 41, 28, 28, 24, 45, 24, 46, 3, 42, 33, 34, 34, 39, 40, 21, 38, 33, 45, 39, 23, 31, 34, 15, 34, 22, 24, 29, 27, 38, 21, 26, 33, 39, 15, 26, 32, 26, 22, 43, 29, 37, 38, 32, 23, 25, 36, 20, 33, 3, 33, 33, 29, 21, 19, 26, 25, 45, 32, 19, 27, 3, 37, 45, 29, 30, 31, 43, 35, 36, 47, 29, 20, 45, 58, 39, 23, 26, 28, 32, 23, 20, 26, 31, 32, 20, 34, 33, 30, 36, 32, 23, 22, 30, 38, 23, 32, 44, 41, 20, 31, 36, 24, 21, 31, 37, 30, 42, 23, 27, 24, 22, 34, 40, 33, 35, 35, 37, 24, 33, 30, 39, 43, 22, 31, 32, 39, 38, 23, 38, 36, 39, 21, 31, 37, 34, 40, 29, 15, 26, 36, 20, 33, 26, 46, 32, 34, 34, 25, 31, 38, 26, 31, 33, 37, 28, 40, 29, 39, 27, 31, 23, 27, 16, 28, 28, 36, 27, 27, 32, 18, 28, 50, 32, 39, 28, 39, 46, 28, 29, 29, 29, 30, 31, 20, 31, 23, 24, 39, 24, 24, 26, 20, 36, 28, 23, 24, 29, 32, 31, 25, 41, 32, 21, 40, 15, 23, 15, 35, 25, 19, 22, 37, 38, 33, 36, 26, 29, 19, 25, 39, 32, 34, 38, 26, 45, 27, 31, 38, 44, 32, 46, 17, 35, 20, 26, 35, 34, 35, 22, 35, 17, 27, 37, 34, 40, 21, 25, 36, 21, 29, 32, 30, 32, 22, 40, 3, 28, 33, 28, 27, 36, 42, 39, 42, 56, 27, 22, 55, 25, 30, 29, 33, 35, 41, 29, 33, 21, 17, 18, 3, 34, 42, 27, 35, 28, 25, 25, 21, 37, 27, 28, 44, 27, 31, 36, 27, 37, 33, 27, 42, 15, 42, 42, 35, 22, 34, 18, 34, 22, 16, 36, 29, 19, 35, 25, 25, 15, 40, 16, 37, 43, 3, 34, 29, 35, 32, 22, 35, 35, 33, 26, 25, 27, 29, 31, 37, 30, 36, 28, 22, 35, 21, 24, 36, 36, 32, 42, 27, 24, 41, 47, 24, 21, 42, 20, 30, 23, 26, 44, 29, 33, 36, 25, 31, 28, 24, 50, 35, 26, 34, 33, 33, 39, 31, 22, 42, 33, 25, 36, 20, 20, 31, 38, 33, 38, 22, 24, 35, 40, 17, 27, 30, 29, 29, 38, 48, 24, 30, 22, 48, 28, 51, 36, 23, 33, 26, 42, 20, 41, 29, 47, 27, 29, 37, 27, 40, 44, 30, 32, 23, 43, 45, 40, 17, 32, 31, 30, 31, 29, 34, 33, 23, 30, 34, 29, 30, 58, 44, 16, 31, 29, 34, 27, 21, 34, 24, 22, 29, 31, 28, 31, 29, 24, 21, 36, 41, 35, 27, 33, 48, 35, 21, 15, 32, 35, 41, 32, 15, 32, 36, 32, 36, 40, 42, 39, 3, 24, 45, 30, 42, 25, 40, 28, 28, 27, 38, 35, 26, 32, 25, 36, 27, 22, 21, 37, 33, 24, 38, 32, 16, 44, 29, 30, 36, 35, 40, 33, 24, 23, 31, 15, 32, 37, 45, 23, 34, 28, 18, 34, 21, 35, 25, 29, 26, 19, 41, 28, 3, 33, 31, 44, 40, 24, 24, 20, 39, 25, 29, 36, 29, 37, 40, 30, 37, 24, 25, 31, 20, 26, 29, 42, 23, 32, 26, 35, 22, 17, 38, 24, 37, 31, 15, 21, 15, 38, 43, 35, 26, 25, 29, 43, 28, 36, 30, 36, 35, 35, 28, 40, 25, 35, 3, 27, 32, 34, 32, 33, 26, 36, 21, 25, 20, 42, 22, 24, 31, 31, 37, 18, 27, 23, 24, 30, 20, 45, 39, 29, 33, 37, 39, 22, 31, 22, 26, 41, 30, 29, 34, 27, 21, 25, 53, 39, 22, 32, 42, 35, 27, 34, 39, 27, 24, 32, 44, 23, 30, 17, 24, 37, 27, 27, 32, 50, 33, 22, 33, 27, 37, 41, 24, 26, 33, 21, 38, 41, 23, 39, 41, 41, 25, 27, 51, 41, 27, 35, 3, 20, 47, 29, 33, 37, 34, 17, 40, 42, 33, 37, 37, 23, 31, 21, 30, 29, 22, 31, 3, 25, 35, 33, 33, 27, 23, 48, 35, 35, 28, 39, 23, 41, 41, 34, 23, 29, 37, 22, 21, 33, 44, 20, 33, 32, 28, 22, 26, 26, 40, 28, 16, 28, 25, 23, 55, 46, 35, 16, 35, 34, 36, 31, 35, 45, 33, 23, 27, 3, 37, 24, 21, 33, 36, 31, 30, 24, 35, 29, 41, 30, 31, 40, 27, 31, 28, 31, 43, 30, 45, 31, 36, 39, 29, 44, 41, 39, 34, 33, 18, 15, 22, 36, 29, 27, 27, 24, 21, 18, 36, 28, 33, 24, 25, 32, 30, 33, 44, 31, 45, 3, 21, 37, 42, 35, 27, 21, 34, 23, 26, 21, 35, 26, 56, 33, 25, 24, 31, 31, 31, 23, 41, 33, 23, 22, 25, 29, 36, 33, 27, 44, 30, 32, 24, 29, 24, 23, 29, 20, 27, 23, 28, 35, 22, 24, 29, 20, 24, 39, 18, 27, 21, 38, 33, 29, 22, 41, 30, 38, 26, 32, 37, 30, 33, 24, 34, 36, 23, 38, 27, 35, 28, 49, 3, 41, 24, 35, 23, 33, 30, 28, 29, 23, 31, 32, 30, 31, 15, 27, 28, 28, 19, 33, 38, 36, 3, 29, 27, 29, 39, 28, 35, 29, 41, 26, 30, 31, 40, 16, 36, 33, 41, 29, 34, 20, 32, 33, 31, 37, 17, 24, 27, 24, 34, 23, 23, 18, 26, 26, 30, 35, 36, 26, 36, 36, 46, 34, 35, 29, 28, 46, 25, 30, 46, 36, 20, 35, 38, 36, 36, 32, 28, 34, 37, 21, 3, 23, 34, 20, 36, 31, 29, 33, 38, 28, 38, 27, 41, 36, 37, 29, 37, 32, 19, 28, 32, 35, 33, 35, 26, 15, 27, 33, 32, 16, 28, 27, 36, 32, 30, 39, 31, 32, 23, 28, 51, 28, 43, 16, 42, 38, 30, 33, 26, 26, 3, 22, 57, 30, 25, 36, 22, 30, 39, 3, 34, 30, 30, 33, 23, 31, 32, 39, 33, 38, 54, 34, 20, 25, 25, 31, 30, 34, 41, 21, 37, 45, 21, 29, 32, 26, 35, 34, 42, 28, 51, 25, 28, 37, 29, 41, 30, 23, 24, 37, 37, 27, 40, 21, 34, 19, 25, 34, 29, 36, 33, 29, 34, 30, 34, 29, 30, 16, 31, 29, 29, 25, 35, 24, 35, 23, 51, 31, 32, 38, 3, 42, 31, 30, 27, 32, 22, 21, 24, 51, 34, 34, 26, 26, 34, 28, 30, 33, 43, 40, 20, 26, 27, 37, 37, 40, 27, 16, 28, 33, 34, 34, 30, 34, 27, 29, 26, 48, 34, 39, 22, 26, 3, 49, 47, 36, 23, 26, 35, 16, 34, 31, 35, 35, 34, 36, 37, 28, 20, 22, 39, 33, 31, 24, 22, 44, 28, 20, 43, 27, 33, 39, 23, 25, 49, 39, 28, 32, 37, 32, 30, 27, 41, 25, 23, 38, 29, 41, 33, 42, 23, 30, 29, 37, 36, 31, 29, 22, 46, 22, 37, 20, 27, 27, 27, 29, 29, 25, 47, 24, 35, 19, 29, 44, 27, 37, 24, 35, 33, 36, 21, 28, 33, 34, 34, 29, 44, 43, 29, 40, 22, 30, 21, 24, 42, 37, 40, 28, 38, 29, 23, 20, 22, 37, 36, 35, 35, 50, 39, 28, 32, 24, 30, 51, 43, 52, 30, 23, 35, 25, 38, 44, 23, 43, 28, 30, 26, 37, 34, 27, 25, 35, 15, 20, 38, 37, 34, 33, 30, 36, 31, 38, 29, 36, 21, 34, 37, 44, 30, 29, 41, 16, 38, 35, 35, 38, 24, 50, 17, 16, 27, 39, 25, 37, 44, 37, 15, 43, 23, 36, 25, 41, 32, 31, 31, 36, 32, 26, 45, 43, 34, 32, 39, 23, 36, 20, 24, 33, 37, 36, 23, 40, 22, 36, 27, 34, 3, 29, 38, 39, 30, 32, 26, 24, 3, 29, 3, 21, 28, 41, 31, 22, 25, 36, 27, 28, 30, 39, 36, 35, 20, 25, 38, 39, 45, 28, 26, 22, 29, 27, 21, 42, 31, 24, 34, 30, 22, 23, 34, 28, 21, 16, 39, 30, 24, 50, 36, 32, 21, 34, 29, 3, 52, 39, 16, 20, 34, 23, 22, 45, 29, 36, 23, 15, 24, 36, 48, 22, 30, 3, 27, 27, 29, 27, 30, 26, 34, 32, 33, 76, 30, 31, 28, 30, 36, 29, 36, 30, 21, 25, 36, 3, 42, 27, 41, 34, 26, 37, 38, 38, 23, 30, 38, 32, 29, 20, 30, 3, 33, 27, 29, 31, 37, 33, 34, 32, 20, 28, 30, 3, 33, 50, 21, 26, 34, 43, 33, 34, 28, 23, 35, 39, 31, 26, 35, 21, 34, 36, 37, 28, 28, 18, 40, 36, 27, 22, 39, 25, 27, 21, 37, 23, 16, 31, 40, 38, 20, 34, 34, 30, 31, 25, 18, 29, 26, 28, 30, 27, 31, 35, 30, 22, 35, 26, 31, 26, 23, 15, 26, 36, 42, 38, 32, 31, 40, 34, 30, 26, 27, 26, 23, 40, 27, 25, 31, 28, 50, 31, 26, 10, 30, 27, 36, 31, 22, 31, 33, 49, 41, 44, 36, 45, 29, 35, 25, 15, 42, 22, 27, 31, 37, 48, 27, 43, 34, 35, 38, 25, 31, 33, 36, 33, 41, 16, 30, 32, 31, 34, 21, 34, 46, 26, 51, 45, 24, 33, 29, 35, 35, 19, 37, 23, 20, 27, 21, 29, 26, 43, 34, 33, 33, 37, 36, 30, 40, 24, 19, 31, 33, 36, 21, 35, 31, 30, 43, 29, 35, 25, 36, 31, 33, 33, 37, 26, 19, 24, 40, 30, 29, 38, 28, 28, 27, 29, 34, 47, 33, 42, 37, 38, 30, 49, 26, 23, 36, 21, 29, 29, 30, 26, 53, 26, 24, 26, 41, 33, 33, 36, 48, 35, 32, 30, 37, 28, 31, 42, 30, 33, 32, 26, 44, 32, 37, 33, 26, 18, 30, 19, 27, 31, 27, 22, 30, 53, 25, 35, 30, 26, 18, 27, 26, 29, 29, 26, 34, 32, 29, 18, 34, 39, 25, 30, 31, 40, 27, 29, 16, 22, 16, 50, 33, 34, 36, 26, 28, 25, 41, 28, 22, 16, 29, 19, 43, 33, 34, 31, 27, 37, 25, 34, 32, 24, 35, 43, 36, 3, 26, 45, 21, 26, 33, 3, 27, 35, 36, 30, 30, 31, 32, 24, 28, 22, 36, 26, 29, 32, 37, 28, 45, 22, 45, 20, 52, 25, 49, 18, 36, 37, 25, 28, 29, 30, 31, 23, 24, 40, 29, 26, 34, 28, 33, 26, 32, 30, 28, 17, 27, 30, 27, 24, 42, 32, 36, 26, 47, 42, 24, 36, 26, 28, 27, 27, 39, 35, 29, 32, 26, 36, 38, 32, 47, 25, 35, 44, 32, 21, 33, 30, 25, 40, 45, 29, 25, 29, 40, 30, 29, 33, 35, 35, 40, 31, 28, 33, 21, 31, 36, 31, 26, 22, 24, 30, 26, 25, 38, 36, 21, 30, 41, 31, 32, 38, 29, 32, 24, 40, 22, 24, 32, 24, 39, 22, 30, 36, 23, 32, 37, 30, 27, 28, 29, 31, 15, 26, 33, 49, 39, 26, 35, 32, 34, 37, 34, 32, 21, 22, 45, 39, 34, 29, 33, 38, 3, 38, 26, 30, 3, 33, 30, 25, 28, 27, 32, 33, 34, 26, 28, 40, 37, 35, 27, 29, 36, 21, 26, 28, 45, 30, 26, 26, 39, 26, 30, 30, 47, 34, 35, 35, 21, 18, 44, 23, 23, 15, 28, 26, 43, 29, 23, 39, 26, 18, 27, 25, 29, 29, 28, 26, 51, 31, 21, 35, 21, 54, 27, 26, 31, 28, 38, 37, 38, 30, 40, 3, 20, 47, 25, 35, 29, 39, 27, 27, 15, 38, 34, 37, 31, 30, 53, 22, 30, 31, 39, 35, 43, 37, 33, 27, 24, 23, 29, 30, 21, 20, 39, 38, 24, 38, 29, 21, 26, 22, 28, 24, 25, 44, 41, 33, 35, 36, 23, 31, 24, 32, 16, 32, 32, 14, 32, 24, 28, 32, 37, 22, 42, 30, 42, 23, 30, 31, 49, 28, 44, 26, 25, 43, 20, 38, 34, 30, 34, 44, 29, 46, 32, 34, 3, 22, 26, 35, 33, 3, 21, 34, 35, 28, 31, 42, 21, 27, 30, 25, 37, 33, 34, 31, 38, 31, 32, 36, 28, 24, 30, 35, 32, 23, 27, 30, 28, 33, 24, 20, 34, 23, 19, 35, 21, 34, 23, 33, 35, 34, 39, 34, 25, 24, 22, 21, 30, 29, 26, 36, 38, 39, 19, 17, 31, 30, 43, 45, 32, 30, 33, 27, 27, 28, 15, 18, 33, 46, 28, 31, 25, 36, 32, 35, 27, 26, 30, 40, 24, 34, 43, 30, 32, 32, 22, 49, 3, 20, 34, 39, 20, 25, 44, 17, 32, 20, 38, 33, 30, 35, 32, 27, 26, 30, 36, 34, 26, 35, 33, 40, 37, 26, 16, 42, 25, 25, 33, 15, 28, 45, 43, 24, 28, 34, 33, 32, 26, 31, 44, 32, 28, 15, 20, 38, 17, 36, 29, 44, 33, 28, 23, 24, 24, 29, 24, 29, 36, 40, 29, 34, 19, 29, 30, 24, 33, 36, 28, 31, 40, 35, 49, 34, 37, 26, 36, 26, 42, 50, 45, 25, 26, 20, 26, 25, 21, 20, 15, 31, 33, 24, 22, 30, 26, 26, 27, 31, 32, 22, 26, 30, 20, 24, 35, 30, 38, 34, 30, 39, 3, 32, 37, 27, 26, 15, 33, 27, 34, 31, 28, 27, 40, 20, 31, 24, 33, 36, 27, 27, 3, 27, 36, 27, 28, 36, 23, 33, 38, 27, 37, 27, 43, 42, 49, 27, 44, 34, 27, 40, 26, 20, 23, 24, 21, 35, 41, 46, 28, 27, 37, 26, 27, 28, 38, 31, 27, 59, 32, 26, 32, 35, 52, 38, 29, 55, 26, 51, 24, 42, 38, 49, 27, 36, 27, 40, 39, 36, 31, 26, 24, 20, 26, 21, 25, 33, 26, 3, 27, 27, 35, 31, 39, 23, 42, 34, 27, 20, 51, 32, 31, 28, 25, 22, 35, 22, 40, 30, 39, 3, 29, 27, 26, 43, 30, 33, 27, 27, 31, 3, 32, 39, 24, 29, 32, 32, 15, 24, 17, 42, 29, 39, 40, 38, 29, 24, 42, 35, 25, 20, 28, 44, 24, 15, 23, 40, 28, 35, 33, 38, 34, 37, 36, 27, 26, 33, 27, 29, 30, 15, 49, 40, 20, 37, 24, 15, 33, 33, 28, 35, 37, 29, 34, 34, 45, 39, 43, 23, 31, 37, 27, 30, 21, 46, 32, 34, 26, 40, 30, 20, 26, 26, 27, 21, 38, 31, 22, 36, 36, 38, 36, 43, 31, 31, 32, 24, 30, 27, 32, 29, 24, 29, 28, 29, 25, 32, 38, 28, 34, 36, 38, 22, 30, 15, 35, 33, 28, 34, 25, 33, 38, 31, 41, 29, 43, 32, 28, 26, 23, 34, 27, 30, 31, 56, 23, 39, 36, 40, 18, 32, 36, 30, 25, 31, 35, 25, 47, 31, 40, 25, 34, 15, 46, 35, 3, 41, 27, 36, 24, 21, 30, 39, 22, 32, 28, 29, 27, 28, 32, 22, 29, 31, 21, 31, 41, 33, 33, 31, 20, 28, 51, 35, 29, 38, 37, 27, 16, 27, 28, 29, 38, 35, 47, 41, 32, 45, 33, 31, 33, 33, 34, 35, 26, 40, 30, 30, 41, 39, 28, 39, 37, 33, 30, 34, 27, 32, 20, 22, 3, 43, 33, 23, 26, 29, 33, 34, 23, 32, 38, 3, 36, 16, 23, 51, 39, 35, 30, 34, 31, 23, 37, 18, 30, 15, 23, 21, 25, 44, 38, 33, 42, 36, 16, 31, 20, 26, 17, 31, 42, 19, 28, 33, 23, 27, 28, 42, 28, 9, 24, 33, 26, 24, 30, 27, 33, 30, 30, 18, 29, 30, 26, 32, 34, 42, 31, 25, 24, 35, 39, 22, 36, 50, 36, 23, 17, 34, 32, 31, 42, 19, 31, 25, 37, 35, 34, 25, 21, 39, 29, 45, 46, 27, 26, 39, 32, 27, 48, 3, 36, 50, 32, 25, 28, 30, 28, 45, 23, 17, 35, 28, 16, 32, 27, 27, 23, 31, 10, 20, 22, 31, 29, 33, 31, 28, 40, 40, 42, 31, 20, 30, 33, 27, 24, 20, 25, 34, 41, 27, 25, 30, 29, 42, 35, 44, 25, 32, 26, 25, 32, 24, 3, 15, 35, 35, 38, 3, 24, 30, 39, 29, 3, 31, 36, 32, 39, 26, 17, 27, 22, 26, 28, 36, 19, 16, 15, 24, 25, 24, 25, 28, 29, 26, 30, 33, 43, 16, 31, 52, 26, 37, 39, 21, 41, 38, 23, 37, 22, 34, 28, 35, 31, 51, 36, 34, 37, 35, 42, 30, 21, 26, 28, 30, 30, 18, 39, 25, 26, 25, 28, 37, 42, 27, 45, 32, 55, 35, 24, 24]\n"
     ]
    }
   ],
   "source": [
    "# Obtaining array of game length for a density curve. \n",
    "# Density Curve of game length done in R\n",
    "# The density curve will be included in the report\n",
    "GameDurationList=df1[\"Game Duration\"].tolist()\n",
    "GameDurationListMinutes= [x / 60 for x in GameDurationList]\n",
    "GameDurationListMinutesInt = [ int(x) for x in GameDurationListMinutes ]\n",
    "print(GameDurationListMinutesInt)"
   ]
  },
  {
   "cell_type": "code",
   "execution_count": 33,
   "metadata": {},
   "outputs": [
    {
     "data": {
      "text/plain": [
       "blue team    26077\n",
       "red team     25413\n",
       "Name: Winner, dtype: int64"
      ]
     },
     "execution_count": 33,
     "metadata": {},
     "output_type": "execute_result"
    }
   ],
   "source": [
    "# How many games have blue team and red team won\n",
    "df1['Winner'].value_counts()"
   ]
  },
  {
   "cell_type": "code",
   "execution_count": 34,
   "metadata": {},
   "outputs": [
    {
     "data": {
      "text/plain": [
       "blue team    18320\n",
       "red team      7129\n",
       "no one         628\n",
       "Name: First Tower, dtype: int64"
      ]
     },
     "execution_count": 34,
     "metadata": {},
     "output_type": "execute_result"
    }
   ],
   "source": [
    "# Select only the games where blue team wins and get correspondig values for the First Tower column\n",
    "df2=df1[df1['Winner']==\"blue team\"]['First Tower']\n",
    "df2.value_counts()"
   ]
  },
  {
   "cell_type": "code",
   "execution_count": 35,
   "metadata": {},
   "outputs": [
    {
     "data": {
      "text/plain": [
       "red team     17287\n",
       "blue team     7541\n",
       "no one         585\n",
       "Name: First Tower, dtype: int64"
      ]
     },
     "execution_count": 35,
     "metadata": {},
     "output_type": "execute_result"
    }
   ],
   "source": [
    "# Select only the games where red team wins and get correspondig values for the First Tower column\n",
    "df3=df1[df1['Winner']==\"red team\"]['First Tower']\n",
    "df3.value_counts()"
   ]
  },
  {
   "cell_type": "code",
   "execution_count": 95,
   "metadata": {},
   "outputs": [
    {
     "data": {
      "image/png": "[encoded data removed]",
      "text/plain": [
       "<matplotlib.figure.Figure at 0x7f59cdef8630>"
      ]
     },
     "metadata": {},
     "output_type": "display_data"
    }
   ],
   "source": [
    "# Side By Side Bar Graphs when blue team wins:\n",
    "\n",
    "Sex = (\"Blue Team First Tower\", \"Red Team First Tower\")\n",
    "\n",
    "class_one = [18320,7129]\n",
    "\n",
    "\n",
    "# Bar Graph:\n",
    " \n",
    "fig, ax = plt.subplots()\n",
    "y_position = np.arange(len(Sex))\n",
    "bar_width = 0.2\n",
    " \n",
    "bar1 = plt.bar(y_position, class_one, bar_width , color = \"blue\",\n",
    "        label = \"Blue Team Wins\")\n",
    "        \n",
    "\n",
    "# Labels And Title:\n",
    " \n",
    "plt.xlabel(\"\\n \")\n",
    "plt.ylabel(\"Number of Games \\n\")\n",
    " \n",
    "csfont = {'fontname':'DejaVu Sans'}\n",
    "\n",
    " \n",
    "plt.xticks(y_position + bar_width, Sex)\n",
    "plt.legend(loc = \"upper right\")\n",
    " \n",
    "axes = plt.gca()\n",
    "axes.set_ylim([0, 20000])\n",
    " \n",
    " \n",
    "plt.show()"
   ]
  },
  {
   "cell_type": "code",
   "execution_count": 94,
   "metadata": {},
   "outputs": [
    {
     "data": {
      "image/png": "[encoded data removed]",
      "text/plain": [
       "<matplotlib.figure.Figure at 0x7f59d016e7b8>"
      ]
     },
     "metadata": {},
     "output_type": "display_data"
    }
   ],
   "source": [
    "# Side By Side Bar Graphs when red team wins:\n",
    "\n",
    "Sex = (\"Red Team First Tower\", \"Blue Team First Tower\")\n",
    "\n",
    "class_one = [17287,7541]\n",
    "\n",
    "\n",
    "# Bar Graph:\n",
    " \n",
    "fig, ax = plt.subplots()\n",
    "y_position = np.arange(len(Sex))\n",
    "bar_width = 0.2\n",
    " \n",
    "bar1 = plt.bar(y_position, class_one, bar_width , color = \"red\",\n",
    "        label = \"Red Team Wins\")\n",
    "        \n",
    "\n",
    "# Labels And Title:\n",
    " \n",
    "plt.xlabel(\"\\n \")\n",
    "plt.ylabel(\"Number of Games \\n\")\n",
    " \n",
    "csfont = {'fontname':'DejaVu Sans'}\n",
    "\n",
    " \n",
    "plt.xticks(y_position + bar_width, Sex)\n",
    "plt.legend(loc = \"upper right\")\n",
    " \n",
    "axes = plt.gca()\n",
    "axes.set_ylim([0, 20000])\n",
    " \n",
    " \n",
    "plt.show()"
   ]
  },
  {
   "cell_type": "code",
   "execution_count": 38,
   "metadata": {},
   "outputs": [
    {
     "data": {
      "text/plain": [
       "Flash       14280\n",
       "Teleport     2508\n",
       "Smite        2386\n",
       "Heal         2304\n",
       "Ignite       1942\n",
       "Exhaust      1843\n",
       "Ghost         376\n",
       "Barrier       355\n",
       "Cleanse        83\n",
       "Name: Team 1 Champ 1 Sum 1, dtype: int64"
      ]
     },
     "execution_count": 38,
     "metadata": {},
     "output_type": "execute_result"
    }
   ],
   "source": [
    "# Select only the games where blue team wins and count how many \n",
    "# flashes are in the blue team\n",
    "# do this for each summoner of each player\n",
    "df4=df1[df1['Winner']==\"blue team\"]['Team 1 Champ 1 Sum 1']\n",
    "df4.value_counts()"
   ]
  },
  {
   "cell_type": "code",
   "execution_count": 39,
   "metadata": {},
   "outputs": [
    {
     "data": {
      "text/plain": [
       "Flash       11260\n",
       "Teleport     3250\n",
       "Heal         2960\n",
       "Smite        2829\n",
       "Ignite       2590\n",
       "Exhaust      2189\n",
       "Barrier       483\n",
       "Ghost         409\n",
       "Cleanse       107\n",
       "Name: Team 1 Champ 1 Sum 2, dtype: int64"
      ]
     },
     "execution_count": 39,
     "metadata": {},
     "output_type": "execute_result"
    }
   ],
   "source": [
    "df5=df1[df1['Winner']==\"blue team\"]['Team 1 Champ 1 Sum 2']\n",
    "df5.value_counts()"
   ]
  },
  {
   "cell_type": "code",
   "execution_count": 40,
   "metadata": {},
   "outputs": [
    {
     "data": {
      "text/plain": [
       "Flash       14176\n",
       "Heal         2467\n",
       "Smite        2375\n",
       "Teleport     2299\n",
       "Exhaust      2017\n",
       "Ignite       1994\n",
       "Ghost         362\n",
       "Barrier       313\n",
       "Cleanse        74\n",
       "Name: Team 1 Champ 2 Sum 1, dtype: int64"
      ]
     },
     "execution_count": 40,
     "metadata": {},
     "output_type": "execute_result"
    }
   ],
   "source": [
    "df6=df1[df1['Winner']==\"blue team\"]['Team 1 Champ 2 Sum 1']\n",
    "df6.value_counts()"
   ]
  },
  {
   "cell_type": "code",
   "execution_count": 41,
   "metadata": {},
   "outputs": [
    {
     "data": {
      "text/plain": [
       "Flash       11386\n",
       "Heal         3170\n",
       "Teleport     3044\n",
       "Smite        2788\n",
       "Ignite       2473\n",
       "Exhaust      2336\n",
       "Barrier       452\n",
       "Ghost         352\n",
       "Cleanse        76\n",
       "Name: Team 1 Champ 2 Sum 2, dtype: int64"
      ]
     },
     "execution_count": 41,
     "metadata": {},
     "output_type": "execute_result"
    }
   ],
   "source": [
    "df7=df1[df1['Winner']==\"blue team\"]['Team 1 Champ 2 Sum 2']\n",
    "df7.value_counts()"
   ]
  },
  {
   "cell_type": "code",
   "execution_count": 42,
   "metadata": {},
   "outputs": [
    {
     "data": {
      "text/plain": [
       "Flash       14193\n",
       "Heal         2466\n",
       "Smite        2464\n",
       "Teleport     2309\n",
       "Exhaust      2000\n",
       "Ignite       1930\n",
       "Ghost         326\n",
       "Barrier       323\n",
       "Cleanse        66\n",
       "Name: Team 1 Champ 3 Sum 1, dtype: int64"
      ]
     },
     "execution_count": 42,
     "metadata": {},
     "output_type": "execute_result"
    }
   ],
   "source": [
    "df8=df1[df1['Winner']==\"blue team\"]['Team 1 Champ 3 Sum 1']\n",
    "df8.value_counts()"
   ]
  },
  {
   "cell_type": "code",
   "execution_count": 43,
   "metadata": {},
   "outputs": [
    {
     "data": {
      "text/plain": [
       "Flash       11312\n",
       "Heal         3177\n",
       "Teleport     2988\n",
       "Smite        2765\n",
       "Ignite       2567\n",
       "Exhaust      2355\n",
       "Barrier       422\n",
       "Ghost         405\n",
       "Cleanse        86\n",
       "Name: Team 1 Champ 3 Sum 2, dtype: int64"
      ]
     },
     "execution_count": 43,
     "metadata": {},
     "output_type": "execute_result"
    }
   ],
   "source": [
    "df9=df1[df1['Winner']==\"blue team\"]['Team 1 Champ 3 Sum 2']\n",
    "df9.value_counts()"
   ]
  },
  {
   "cell_type": "code",
   "execution_count": 44,
   "metadata": {},
   "outputs": [
    {
     "data": {
      "text/plain": [
       "Flash       14089\n",
       "Heal         2563\n",
       "Smite        2399\n",
       "Teleport     2325\n",
       "Exhaust      2050\n",
       "Ignite       1887\n",
       "Ghost         356\n",
       "Barrier       330\n",
       "Cleanse        78\n",
       "Name: Team 1 Champ 4 Sum 1, dtype: int64"
      ]
     },
     "execution_count": 44,
     "metadata": {},
     "output_type": "execute_result"
    }
   ],
   "source": [
    "df10=df1[df1['Winner']==\"blue team\"]['Team 1 Champ 4 Sum 1']\n",
    "df10.value_counts()"
   ]
  },
  {
   "cell_type": "code",
   "execution_count": 45,
   "metadata": {},
   "outputs": [
    {
     "data": {
      "text/plain": [
       "Flash       11437\n",
       "Heal         3131\n",
       "Teleport     3005\n",
       "Smite        2780\n",
       "Ignite       2541\n",
       "Exhaust      2346\n",
       "Barrier       447\n",
       "Ghost         326\n",
       "Cleanse        64\n",
       "Name: Team 1 Champ 4 Sum 2, dtype: int64"
      ]
     },
     "execution_count": 45,
     "metadata": {},
     "output_type": "execute_result"
    }
   ],
   "source": [
    "df11=df1[df1['Winner']==\"blue team\"]['Team 1 Champ 4 Sum 2']\n",
    "df11.value_counts()"
   ]
  },
  {
   "cell_type": "code",
   "execution_count": 46,
   "metadata": {},
   "outputs": [
    {
     "data": {
      "text/plain": [
       "Flash       14160\n",
       "Teleport     2640\n",
       "Smite        2402\n",
       "Heal         2216\n",
       "Ignite       1985\n",
       "Exhaust      1917\n",
       "Ghost         367\n",
       "Barrier       322\n",
       "Cleanse        68\n",
       "Name: Team 1 Champ 5 Sum 1, dtype: int64"
      ]
     },
     "execution_count": 46,
     "metadata": {},
     "output_type": "execute_result"
    }
   ],
   "source": [
    "df12=df1[df1['Winner']==\"blue team\"]['Team 1 Champ 5 Sum 1']\n",
    "df12.value_counts()"
   ]
  },
  {
   "cell_type": "code",
   "execution_count": 47,
   "metadata": {},
   "outputs": [
    {
     "data": {
      "text/plain": [
       "Flash       11327\n",
       "Teleport     3143\n",
       "Heal         2932\n",
       "Smite        2929\n",
       "Ignite       2584\n",
       "Exhaust      2301\n",
       "Ghost         393\n",
       "Barrier       392\n",
       "Cleanse        76\n",
       "Name: Team 1 Champ 5 Sum 2, dtype: int64"
      ]
     },
     "execution_count": 47,
     "metadata": {},
     "output_type": "execute_result"
    }
   ],
   "source": [
    "df13=df1[df1['Winner']==\"blue team\"]['Team 1 Champ 5 Sum 2']\n",
    "df13.value_counts()"
   ]
  },
  {
   "cell_type": "code",
   "execution_count": 48,
   "metadata": {},
   "outputs": [],
   "source": [
    "# Do the same for red team"
   ]
  },
  {
   "cell_type": "code",
   "execution_count": 49,
   "metadata": {},
   "outputs": [
    {
     "data": {
      "text/plain": [
       "Flash       13884\n",
       "Teleport     2460\n",
       "Smite        2325\n",
       "Heal         2277\n",
       "Ignite       1878\n",
       "Exhaust      1797\n",
       "Ghost         368\n",
       "Barrier       347\n",
       "Cleanse        77\n",
       "Name: Team 1 Champ 1 Sum 1, dtype: int64"
      ]
     },
     "execution_count": 49,
     "metadata": {},
     "output_type": "execute_result"
    }
   ],
   "source": [
    "df14=df1[df1['Winner']==\"red team\"]['Team 1 Champ 1 Sum 1']\n",
    "df14.value_counts()"
   ]
  },
  {
   "cell_type": "code",
   "execution_count": 50,
   "metadata": {},
   "outputs": [
    {
     "data": {
      "text/plain": [
       "Flash       10956\n",
       "Teleport     3145\n",
       "Smite        2806\n",
       "Heal         2798\n",
       "Ignite       2615\n",
       "Exhaust      2205\n",
       "Barrier       407\n",
       "Ghost         389\n",
       "Cleanse        92\n",
       "Name: Team 1 Champ 1 Sum 2, dtype: int64"
      ]
     },
     "execution_count": 50,
     "metadata": {},
     "output_type": "execute_result"
    }
   ],
   "source": [
    "df15=df1[df1['Winner']==\"red team\"]['Team 1 Champ 1 Sum 2']\n",
    "df15.value_counts()"
   ]
  },
  {
   "cell_type": "code",
   "execution_count": 51,
   "metadata": {},
   "outputs": [
    {
     "data": {
      "text/plain": [
       "Flash       13822\n",
       "Heal         2455\n",
       "Smite        2405\n",
       "Teleport     2277\n",
       "Exhaust      1887\n",
       "Ignite       1838\n",
       "Barrier       336\n",
       "Ghost         316\n",
       "Cleanse        77\n",
       "Name: Team 1 Champ 2 Sum 1, dtype: int64"
      ]
     },
     "execution_count": 51,
     "metadata": {},
     "output_type": "execute_result"
    }
   ],
   "source": [
    "df16=df1[df1['Winner']==\"red team\"]['Team 1 Champ 2 Sum 1']\n",
    "df16.value_counts()"
   ]
  },
  {
   "cell_type": "code",
   "execution_count": 52,
   "metadata": {},
   "outputs": [
    {
     "data": {
      "text/plain": [
       "Flash       11104\n",
       "Heal         3139\n",
       "Teleport     2910\n",
       "Smite        2732\n",
       "Ignite       2457\n",
       "Exhaust      2278\n",
       "Barrier       362\n",
       "Ghost         354\n",
       "Cleanse        77\n",
       "Name: Team 1 Champ 2 Sum 2, dtype: int64"
      ]
     },
     "execution_count": 52,
     "metadata": {},
     "output_type": "execute_result"
    }
   ],
   "source": [
    "df17=df1[df1['Winner']==\"red team\"]['Team 1 Champ 2 Sum 2']\n",
    "df17.value_counts()"
   ]
  },
  {
   "cell_type": "code",
   "execution_count": 53,
   "metadata": {},
   "outputs": [
    {
     "data": {
      "text/plain": [
       "Flash       13826\n",
       "Heal         2436\n",
       "Teleport     2355\n",
       "Smite        2325\n",
       "Exhaust      1928\n",
       "Ignite       1856\n",
       "Ghost         321\n",
       "Barrier       297\n",
       "Cleanse        69\n",
       "Name: Team 1 Champ 3 Sum 1, dtype: int64"
      ]
     },
     "execution_count": 53,
     "metadata": {},
     "output_type": "execute_result"
    }
   ],
   "source": [
    "df18=df1[df1['Winner']==\"red team\"]['Team 1 Champ 3 Sum 1']\n",
    "df18.value_counts()"
   ]
  },
  {
   "cell_type": "code",
   "execution_count": 54,
   "metadata": {},
   "outputs": [
    {
     "data": {
      "text/plain": [
       "Flash       11085\n",
       "Teleport     3012\n",
       "Heal         3003\n",
       "Smite        2746\n",
       "Exhaust      2383\n",
       "Ignite       2327\n",
       "Barrier       430\n",
       "Ghost         345\n",
       "Cleanse        82\n",
       "Name: Team 1 Champ 3 Sum 2, dtype: int64"
      ]
     },
     "execution_count": 54,
     "metadata": {},
     "output_type": "execute_result"
    }
   ],
   "source": [
    "df19=df1[df1['Winner']==\"red team\"]['Team 1 Champ 3 Sum 2']\n",
    "df19.value_counts()"
   ]
  },
  {
   "cell_type": "code",
   "execution_count": 55,
   "metadata": {},
   "outputs": [
    {
     "data": {
      "text/plain": [
       "Flash       13899\n",
       "Heal         2408\n",
       "Teleport     2326\n",
       "Smite        2282\n",
       "Exhaust      1942\n",
       "Ignite       1890\n",
       "Ghost         308\n",
       "Barrier       300\n",
       "Cleanse        58\n",
       "Name: Team 1 Champ 4 Sum 1, dtype: int64"
      ]
     },
     "execution_count": 55,
     "metadata": {},
     "output_type": "execute_result"
    }
   ],
   "source": [
    "df20=df1[df1['Winner']==\"red team\"]['Team 1 Champ 4 Sum 1']\n",
    "df20.value_counts()"
   ]
  },
  {
   "cell_type": "code",
   "execution_count": 56,
   "metadata": {},
   "outputs": [
    {
     "data": {
      "text/plain": [
       "Flash       10956\n",
       "Teleport     3015\n",
       "Heal         3005\n",
       "Smite        2799\n",
       "Ignite       2441\n",
       "Exhaust      2377\n",
       "Barrier       387\n",
       "Ghost         363\n",
       "Cleanse        70\n",
       "Name: Team 1 Champ 4 Sum 2, dtype: int64"
      ]
     },
     "execution_count": 56,
     "metadata": {},
     "output_type": "execute_result"
    }
   ],
   "source": [
    "df21=df1[df1['Winner']==\"red team\"]['Team 1 Champ 4 Sum 2']\n",
    "df21.value_counts()"
   ]
  },
  {
   "cell_type": "code",
   "execution_count": 57,
   "metadata": {},
   "outputs": [
    {
     "data": {
      "text/plain": [
       "Flash       13806\n",
       "Teleport     2443\n",
       "Smite        2366\n",
       "Heal         2284\n",
       "Ignite       1932\n",
       "Exhaust      1846\n",
       "Ghost         353\n",
       "Barrier       326\n",
       "Cleanse        57\n",
       "Name: Team 1 Champ 5 Sum 1, dtype: int64"
      ]
     },
     "execution_count": 57,
     "metadata": {},
     "output_type": "execute_result"
    }
   ],
   "source": [
    "df23=df1[df1['Winner']==\"red team\"]['Team 1 Champ 5 Sum 1']\n",
    "df23.value_counts()"
   ]
  },
  {
   "cell_type": "code",
   "execution_count": 58,
   "metadata": {},
   "outputs": [
    {
     "data": {
      "text/plain": [
       "Flash       11050\n",
       "Teleport     3148\n",
       "Heal         2894\n",
       "Smite        2621\n",
       "Ignite       2509\n",
       "Exhaust      2256\n",
       "Barrier       422\n",
       "Ghost         407\n",
       "Cleanse       106\n",
       "Name: Team 1 Champ 5 Sum 2, dtype: int64"
      ]
     },
     "execution_count": 58,
     "metadata": {},
     "output_type": "execute_result"
    }
   ],
   "source": [
    "df24=df1[df1['Winner']==\"red team\"]['Team 1 Champ 5 Sum 2']\n",
    "df24.value_counts()"
   ]
  },
  {
   "cell_type": "code",
   "execution_count": 59,
   "metadata": {},
   "outputs": [],
   "source": [
    "# Total number of flashes in blue winning team = 127620\n",
    "# Total number of flashes in blue losing team = 124388"
   ]
  },
  {
   "cell_type": "code",
   "execution_count": 60,
   "metadata": {},
   "outputs": [
    {
     "data": {
      "text/plain": [
       "Flash       14216\n",
       "Teleport     2571\n",
       "Smite        2329\n",
       "Heal         2324\n",
       "Ignite       1930\n",
       "Exhaust      1893\n",
       "Ghost         378\n",
       "Barrier       359\n",
       "Cleanse        77\n",
       "Name: Team 2 Champ 1 Sum 1, dtype: int64"
      ]
     },
     "execution_count": 60,
     "metadata": {},
     "output_type": "execute_result"
    }
   ],
   "source": [
    "# Select only the games where blue team wins and count how many \n",
    "# flashes are in the red team this time\n",
    "# do this for each summoner of each player\n",
    "df25=df1[df1['Winner']==\"blue team\"]['Team 2 Champ 1 Sum 1']\n",
    "df25.value_counts()"
   ]
  },
  {
   "cell_type": "code",
   "execution_count": 61,
   "metadata": {},
   "outputs": [
    {
     "data": {
      "text/plain": [
       "Flash       11301\n",
       "Teleport     3246\n",
       "Heal         2965\n",
       "Smite        2872\n",
       "Ignite       2545\n",
       "Exhaust      2238\n",
       "Barrier       430\n",
       "Ghost         384\n",
       "Cleanse        96\n",
       "Name: Team 2 Champ 1 Sum 2, dtype: int64"
      ]
     },
     "execution_count": 61,
     "metadata": {},
     "output_type": "execute_result"
    }
   ],
   "source": [
    "df25=df1[df1['Winner']==\"blue team\"]['Team 2 Champ 1 Sum 2']\n",
    "df25.value_counts()"
   ]
  },
  {
   "cell_type": "code",
   "execution_count": 62,
   "metadata": {},
   "outputs": [
    {
     "data": {
      "text/plain": [
       "Flash       14196\n",
       "Heal         2495\n",
       "Smite        2365\n",
       "Teleport     2322\n",
       "Exhaust      1997\n",
       "Ignite       1944\n",
       "Ghost         354\n",
       "Barrier       330\n",
       "Cleanse        74\n",
       "Name: Team 2 Champ 2 Sum 1, dtype: int64"
      ]
     },
     "execution_count": 62,
     "metadata": {},
     "output_type": "execute_result"
    }
   ],
   "source": [
    "df26=df1[df1['Winner']==\"blue team\"]['Team 2 Champ 2 Sum 1']\n",
    "df26.value_counts()"
   ]
  },
  {
   "cell_type": "code",
   "execution_count": 63,
   "metadata": {},
   "outputs": [
    {
     "data": {
      "text/plain": [
       "Flash       11360\n",
       "Heal         3182\n",
       "Teleport     3095\n",
       "Smite        2792\n",
       "Ignite       2442\n",
       "Exhaust      2342\n",
       "Barrier       433\n",
       "Ghost         360\n",
       "Cleanse        71\n",
       "Name: Team 2 Champ 2 Sum 2, dtype: int64"
      ]
     },
     "execution_count": 63,
     "metadata": {},
     "output_type": "execute_result"
    }
   ],
   "source": [
    "df27=df1[df1['Winner']==\"blue team\"]['Team 2 Champ 2 Sum 2']\n",
    "df27.value_counts()"
   ]
  },
  {
   "cell_type": "code",
   "execution_count": 64,
   "metadata": {},
   "outputs": [
    {
     "data": {
      "text/plain": [
       "Flash       14328\n",
       "Teleport     2451\n",
       "Heal         2412\n",
       "Smite        2269\n",
       "Exhaust      1990\n",
       "Ignite       1910\n",
       "Ghost         351\n",
       "Barrier       289\n",
       "Cleanse        77\n",
       "Name: Team 2 Champ 3 Sum 1, dtype: int64"
      ]
     },
     "execution_count": 64,
     "metadata": {},
     "output_type": "execute_result"
    }
   ],
   "source": [
    "df28=df1[df1['Winner']==\"blue team\"]['Team 2 Champ 3 Sum 1']\n",
    "df28.value_counts()"
   ]
  },
  {
   "cell_type": "code",
   "execution_count": 65,
   "metadata": {},
   "outputs": [
    {
     "data": {
      "text/plain": [
       "Flash       11204\n",
       "Heal         3172\n",
       "Teleport     3110\n",
       "Smite        2801\n",
       "Ignite       2512\n",
       "Exhaust      2392\n",
       "Barrier       438\n",
       "Ghost         364\n",
       "Cleanse        84\n",
       "Name: Team 2 Champ 3 Sum 2, dtype: int64"
      ]
     },
     "execution_count": 65,
     "metadata": {},
     "output_type": "execute_result"
    }
   ],
   "source": [
    "df29=df1[df1['Winner']==\"blue team\"]['Team 2 Champ 3 Sum 2']\n",
    "df29.value_counts()"
   ]
  },
  {
   "cell_type": "code",
   "execution_count": 66,
   "metadata": {},
   "outputs": [
    {
     "data": {
      "text/plain": [
       "Flash       14152\n",
       "Smite        2476\n",
       "Heal         2441\n",
       "Teleport     2392\n",
       "Exhaust      2024\n",
       "Ignite       1874\n",
       "Ghost         334\n",
       "Barrier       300\n",
       "Cleanse        84\n",
       "Name: Team 2 Champ 4 Sum 1, dtype: int64"
      ]
     },
     "execution_count": 66,
     "metadata": {},
     "output_type": "execute_result"
    }
   ],
   "source": [
    "df30=df1[df1['Winner']==\"blue team\"]['Team 2 Champ 4 Sum 1']\n",
    "df30.value_counts()"
   ]
  },
  {
   "cell_type": "code",
   "execution_count": 67,
   "metadata": {},
   "outputs": [
    {
     "data": {
      "text/plain": [
       "Flash       11385\n",
       "Heal         3143\n",
       "Teleport     2940\n",
       "Smite        2849\n",
       "Ignite       2501\n",
       "Exhaust      2359\n",
       "Barrier       422\n",
       "Ghost         379\n",
       "Cleanse        99\n",
       "Name: Team 2 Champ 4 Sum 2, dtype: int64"
      ]
     },
     "execution_count": 67,
     "metadata": {},
     "output_type": "execute_result"
    }
   ],
   "source": [
    "df31=df1[df1['Winner']==\"blue team\"]['Team 2 Champ 4 Sum 2']\n",
    "df31.value_counts()"
   ]
  },
  {
   "cell_type": "code",
   "execution_count": 68,
   "metadata": {},
   "outputs": [
    {
     "data": {
      "text/plain": [
       "Flash       14036\n",
       "Teleport     2521\n",
       "Smite        2485\n",
       "Heal         2350\n",
       "Ignite       2002\n",
       "Exhaust      1956\n",
       "Barrier       326\n",
       "Ghost         316\n",
       "Cleanse        85\n",
       "Name: Team 2 Champ 5 Sum 1, dtype: int64"
      ]
     },
     "execution_count": 68,
     "metadata": {},
     "output_type": "execute_result"
    }
   ],
   "source": [
    "df32=df1[df1['Winner']==\"blue team\"]['Team 2 Champ 5 Sum 1']\n",
    "df32.value_counts()"
   ]
  },
  {
   "cell_type": "code",
   "execution_count": 69,
   "metadata": {},
   "outputs": [
    {
     "data": {
      "text/plain": [
       "Flash       11499\n",
       "Teleport     3213\n",
       "Smite        2847\n",
       "Heal         2845\n",
       "Ignite       2521\n",
       "Exhaust      2295\n",
       "Barrier       389\n",
       "Ghost         378\n",
       "Cleanse        90\n",
       "Name: Team 2 Champ 5 Sum 2, dtype: int64"
      ]
     },
     "execution_count": 69,
     "metadata": {},
     "output_type": "execute_result"
    }
   ],
   "source": [
    "df33=df1[df1['Winner']==\"blue team\"]['Team 2 Champ 5 Sum 2']\n",
    "df33.value_counts()"
   ]
  },
  {
   "cell_type": "code",
   "execution_count": 70,
   "metadata": {},
   "outputs": [],
   "source": [
    "# Do the same for the other team"
   ]
  },
  {
   "cell_type": "code",
   "execution_count": 71,
   "metadata": {},
   "outputs": [
    {
     "data": {
      "text/plain": [
       "Flash       13966\n",
       "Teleport     2408\n",
       "Smite        2262\n",
       "Heal         2153\n",
       "Ignite       2007\n",
       "Exhaust      1863\n",
       "Ghost         362\n",
       "Barrier       322\n",
       "Cleanse        70\n",
       "Name: Team 2 Champ 1 Sum 1, dtype: int64"
      ]
     },
     "execution_count": 71,
     "metadata": {},
     "output_type": "execute_result"
    }
   ],
   "source": [
    "df34=df1[df1['Winner']==\"red team\"]['Team 2 Champ 1 Sum 1']\n",
    "df34.value_counts()"
   ]
  },
  {
   "cell_type": "code",
   "execution_count": 72,
   "metadata": {},
   "outputs": [
    {
     "data": {
      "text/plain": [
       "Flash       10903\n",
       "Teleport     3112\n",
       "Heal         2969\n",
       "Smite        2784\n",
       "Ignite       2502\n",
       "Exhaust      2221\n",
       "Barrier       451\n",
       "Ghost         377\n",
       "Cleanse        94\n",
       "Name: Team 2 Champ 1 Sum 2, dtype: int64"
      ]
     },
     "execution_count": 72,
     "metadata": {},
     "output_type": "execute_result"
    }
   ],
   "source": [
    "df35=df1[df1['Winner']==\"red team\"]['Team 2 Champ 1 Sum 2']\n",
    "df35.value_counts()"
   ]
  },
  {
   "cell_type": "code",
   "execution_count": 73,
   "metadata": {},
   "outputs": [
    {
     "data": {
      "text/plain": [
       "Flash       13841\n",
       "Teleport     2371\n",
       "Heal         2359\n",
       "Smite        2325\n",
       "Exhaust      1915\n",
       "Ignite       1879\n",
       "Ghost         361\n",
       "Barrier       307\n",
       "Cleanse        55\n",
       "Name: Team 2 Champ 2 Sum 1, dtype: int64"
      ]
     },
     "execution_count": 73,
     "metadata": {},
     "output_type": "execute_result"
    }
   ],
   "source": [
    "df36=df1[df1['Winner']==\"red team\"]['Team 2 Champ 2 Sum 1']\n",
    "df36.value_counts()"
   ]
  },
  {
   "cell_type": "code",
   "execution_count": 74,
   "metadata": {},
   "outputs": [
    {
     "data": {
      "text/plain": [
       "Flash       11067\n",
       "Heal         3015\n",
       "Teleport     2990\n",
       "Smite        2766\n",
       "Ignite       2433\n",
       "Exhaust      2254\n",
       "Barrier       454\n",
       "Ghost         346\n",
       "Cleanse        88\n",
       "Name: Team 2 Champ 2 Sum 2, dtype: int64"
      ]
     },
     "execution_count": 74,
     "metadata": {},
     "output_type": "execute_result"
    }
   ],
   "source": [
    "df37=df1[df1['Winner']==\"red team\"]['Team 2 Champ 2 Sum 2']\n",
    "df37.value_counts()"
   ]
  },
  {
   "cell_type": "code",
   "execution_count": 75,
   "metadata": {},
   "outputs": [
    {
     "data": {
      "text/plain": [
       "Flash       13842\n",
       "Heal         2422\n",
       "Smite        2352\n",
       "Teleport     2285\n",
       "Exhaust      1938\n",
       "Ignite       1848\n",
       "Ghost         339\n",
       "Barrier       328\n",
       "Cleanse        59\n",
       "Name: Team 2 Champ 3 Sum 1, dtype: int64"
      ]
     },
     "execution_count": 75,
     "metadata": {},
     "output_type": "execute_result"
    }
   ],
   "source": [
    "df38=df1[df1['Winner']==\"red team\"]['Team 2 Champ 3 Sum 1']\n",
    "df38.value_counts()"
   ]
  },
  {
   "cell_type": "code",
   "execution_count": 76,
   "metadata": {},
   "outputs": [
    {
     "data": {
      "text/plain": [
       "Flash       11051\n",
       "Heal         3001\n",
       "Teleport     2957\n",
       "Smite        2793\n",
       "Ignite       2468\n",
       "Exhaust      2312\n",
       "Barrier       385\n",
       "Ghost         348\n",
       "Cleanse        98\n",
       "Name: Team 2 Champ 3 Sum 2, dtype: int64"
      ]
     },
     "execution_count": 76,
     "metadata": {},
     "output_type": "execute_result"
    }
   ],
   "source": [
    "df39=df1[df1['Winner']==\"red team\"]['Team 2 Champ 3 Sum 2']\n",
    "df39.value_counts()"
   ]
  },
  {
   "cell_type": "code",
   "execution_count": 77,
   "metadata": {},
   "outputs": [
    {
     "data": {
      "text/plain": [
       "Flash       13937\n",
       "Heal         2455\n",
       "Smite        2418\n",
       "Teleport     2189\n",
       "Ignite       1841\n",
       "Exhaust      1831\n",
       "Ghost         338\n",
       "Barrier       334\n",
       "Cleanse        70\n",
       "Name: Team 2 Champ 4 Sum 1, dtype: int64"
      ]
     },
     "execution_count": 77,
     "metadata": {},
     "output_type": "execute_result"
    }
   ],
   "source": [
    "df40=df1[df1['Winner']==\"red team\"]['Team 2 Champ 4 Sum 1']\n",
    "df40.value_counts()"
   ]
  },
  {
   "cell_type": "code",
   "execution_count": 78,
   "metadata": {},
   "outputs": [
    {
     "data": {
      "text/plain": [
       "Flash       10937\n",
       "Heal         3133\n",
       "Teleport     2986\n",
       "Smite        2745\n",
       "Ignite       2398\n",
       "Exhaust      2358\n",
       "Barrier       416\n",
       "Ghost         358\n",
       "Cleanse        82\n",
       "Name: Team 2 Champ 4 Sum 2, dtype: int64"
      ]
     },
     "execution_count": 78,
     "metadata": {},
     "output_type": "execute_result"
    }
   ],
   "source": [
    "df41=df1[df1['Winner']==\"red team\"]['Team 2 Champ 4 Sum 2']\n",
    "df41.value_counts()"
   ]
  },
  {
   "cell_type": "code",
   "execution_count": 79,
   "metadata": {},
   "outputs": [
    {
     "data": {
      "text/plain": [
       "Flash       13802\n",
       "Teleport     2503\n",
       "Smite        2292\n",
       "Heal         2221\n",
       "Ignite       1954\n",
       "Exhaust      1929\n",
       "Ghost         349\n",
       "Barrier       299\n",
       "Cleanse        64\n",
       "Name: Team 2 Champ 5 Sum 1, dtype: int64"
      ]
     },
     "execution_count": 79,
     "metadata": {},
     "output_type": "execute_result"
    }
   ],
   "source": [
    "df42=df1[df1['Winner']==\"red team\"]['Team 2 Champ 5 Sum 1']\n",
    "df42.value_counts()"
   ]
  },
  {
   "cell_type": "code",
   "execution_count": 80,
   "metadata": {},
   "outputs": [
    {
     "data": {
      "text/plain": [
       "Flash       11090\n",
       "Teleport     3137\n",
       "Heal         2901\n",
       "Smite        2716\n",
       "Ignite       2511\n",
       "Exhaust      2216\n",
       "Barrier       415\n",
       "Ghost         333\n",
       "Cleanse        94\n",
       "Name: Team 2 Champ 5 Sum 2, dtype: int64"
      ]
     },
     "execution_count": 80,
     "metadata": {},
     "output_type": "execute_result"
    }
   ],
   "source": [
    "df43=df1[df1['Winner']==\"red team\"]['Team 2 Champ 5 Sum 2']\n",
    "df43.value_counts()"
   ]
  },
  {
   "cell_type": "code",
   "execution_count": 81,
   "metadata": {},
   "outputs": [],
   "source": [
    "# Total number of flashes in red winning team = 127677\n",
    "# Total number of flashes in red losing team = 113499"
   ]
  },
  {
   "cell_type": "code",
   "execution_count": 82,
   "metadata": {},
   "outputs": [
    {
     "data": {
      "text/plain": [
       "0    12853\n",
       "1    11305\n",
       "2     1808\n",
       "3      103\n",
       "4        8\n",
       "Name: Team 1 Baron Kills, dtype: int64"
      ]
     },
     "execution_count": 82,
     "metadata": {},
     "output_type": "execute_result"
    }
   ],
   "source": [
    "# How many barons the winning team kills baron (blue)\n",
    "df44=df1[df1['Winner']==\"blue team\"]['Team 1 Baron Kills']\n",
    "df44.value_counts()"
   ]
  },
  {
   "cell_type": "code",
   "execution_count": 83,
   "metadata": {},
   "outputs": [
    {
     "data": {
      "text/plain": [
       "15262"
      ]
     },
     "execution_count": 83,
     "metadata": {},
     "output_type": "execute_result"
    }
   ],
   "source": [
    "#Total blue team baron kills, blue team winning\n",
    "11305+(1808*2)+(103*3)+(8*4)"
   ]
  },
  {
   "cell_type": "code",
   "execution_count": 84,
   "metadata": {},
   "outputs": [
    {
     "data": {
      "text/plain": [
       "1    11990\n",
       "0    11070\n",
       "2     2216\n",
       "3      127\n",
       "4       10\n",
       "Name: Team 2 Baron Kills, dtype: int64"
      ]
     },
     "execution_count": 84,
     "metadata": {},
     "output_type": "execute_result"
    }
   ],
   "source": [
    "# How many barons the winning teamkills baron (red)\n",
    "df45=df1[df1['Winner']==\"red team\"]['Team 2 Baron Kills']\n",
    "df45.value_counts()"
   ]
  },
  {
   "cell_type": "code",
   "execution_count": 85,
   "metadata": {},
   "outputs": [
    {
     "data": {
      "text/plain": [
       "16843"
      ]
     },
     "execution_count": 85,
     "metadata": {},
     "output_type": "execute_result"
    }
   ],
   "source": [
    "#Total red team baron kills, red team winning \n",
    "11990+(2*2216)+(3*127)+(10*4)"
   ]
  },
  {
   "cell_type": "code",
   "execution_count": 86,
   "metadata": {},
   "outputs": [
    {
     "data": {
      "text/plain": [
       "0    22277\n",
       "1     3183\n",
       "2      538\n",
       "3       73\n",
       "4        6\n",
       "Name: Team 2 Baron Kills, dtype: int64"
      ]
     },
     "execution_count": 86,
     "metadata": {},
     "output_type": "execute_result"
    }
   ],
   "source": [
    "# How many barons the losing team kills baron (blue)\n",
    "df46=df1[df1['Winner']==\"blue team\"]['Team 2 Baron Kills']\n",
    "df46.value_counts()"
   ]
  },
  {
   "cell_type": "code",
   "execution_count": 87,
   "metadata": {},
   "outputs": [
    {
     "data": {
      "text/plain": [
       "4502"
      ]
     },
     "execution_count": 87,
     "metadata": {},
     "output_type": "execute_result"
    }
   ],
   "source": [
    "#Total red team baron kills, blue team winning \n",
    "3183+(538*2)+(73*3)+(6*4)"
   ]
  },
  {
   "cell_type": "code",
   "execution_count": 88,
   "metadata": {},
   "outputs": [
    {
     "data": {
      "text/plain": [
       "0    22048\n",
       "1     2874\n",
       "2      443\n",
       "3       46\n",
       "5        1\n",
       "4        1\n",
       "Name: Team 1 Baron Kills, dtype: int64"
      ]
     },
     "execution_count": 88,
     "metadata": {},
     "output_type": "execute_result"
    }
   ],
   "source": [
    "# How many barons the losing team kills baron (red)\n",
    "df47=df1[df1['Winner']==\"red team\"]['Team 1 Baron Kills']\n",
    "df47.value_counts()"
   ]
  },
  {
   "cell_type": "code",
   "execution_count": 89,
   "metadata": {},
   "outputs": [
    {
     "data": {
      "text/plain": [
       "3913"
      ]
     },
     "execution_count": 89,
     "metadata": {},
     "output_type": "execute_result"
    }
   ],
   "source": [
    "#Total blue team baron kills, red team winning \n",
    "2874+(443*2)+(46*3)+(10*1)+(5*1)"
   ]
  },
  {
   "cell_type": "code",
   "execution_count": 93,
   "metadata": {},
   "outputs": [
    {
     "data": {
      "image/png": "[encoded data removed]",
      "text/plain": [
       "<matplotlib.figure.Figure at 0x7f59cdef5470>"
      ]
     },
     "metadata": {},
     "output_type": "display_data"
    }
   ],
   "source": [
    "# Side By Side Bar Graphs when blue team wins:\n",
    "\n",
    "Sex = (\"Blue Team Barons\", \"Red Team Barons\")\n",
    "\n",
    "class_one = [15262,4502]\n",
    "\n",
    "\n",
    "# Bar Graph:\n",
    " \n",
    "fig, ax = plt.subplots()\n",
    "y_position = np.arange(len(Sex))\n",
    "bar_width = 0.2\n",
    " \n",
    "bar1 = plt.bar(y_position, class_one, bar_width , color = \"blue\",\n",
    "        label = \"Blue Team Wins\")\n",
    "        \n",
    "\n",
    "# Labels And Title:\n",
    " \n",
    "plt.xlabel(\"\\n \")\n",
    "plt.ylabel(\"Number of Barons \\n\")\n",
    " \n",
    "csfont = {'fontname':'DejaVu Sans'}\n",
    "\n",
    " \n",
    "plt.xticks(y_position + bar_width, Sex)\n",
    "plt.legend(loc = \"upper right\")\n",
    " \n",
    "axes = plt.gca()\n",
    "axes.set_ylim([0, 20000])\n",
    " \n",
    " \n",
    "plt.show()"
   ]
  },
  {
   "cell_type": "code",
   "execution_count": 92,
   "metadata": {},
   "outputs": [
    {
     "data": {
      "image/png": "[encoded data removed]",
      "text/plain": [
       "<matplotlib.figure.Figure at 0x7f59cdfa6ba8>"
      ]
     },
     "metadata": {},
     "output_type": "display_data"
    }
   ],
   "source": [
    "# Side By Side Bar Graphs when blue team wins:\n",
    "\n",
    "Sex = (\"Blue Team Barons\", \"Red Team Barons\")\n",
    "\n",
    "class_one = [3913,16843]\n",
    "\n",
    "\n",
    "# Bar Graph:\n",
    " \n",
    "fig, ax = plt.subplots()\n",
    "y_position = np.arange(len(Sex))\n",
    "bar_width = 0.2\n",
    " \n",
    "bar1 = plt.bar(y_position, class_one, bar_width , color = \"red\",\n",
    "        label = \"Red Team Wins\")\n",
    "        \n",
    "\n",
    "# Labels And Title:\n",
    " \n",
    "plt.xlabel(\"\\n \")\n",
    "plt.ylabel(\"Number of Barons \\n\")\n",
    " \n",
    "csfont = {'fontname':'DejaVu Sans'}\n",
    "\n",
    " \n",
    "plt.xticks(y_position + bar_width, Sex)\n",
    "plt.legend(loc = \"upper right\")\n",
    " \n",
    "axes = plt.gca()\n",
    "axes.set_ylim([0, 20000])\n",
    " \n",
    " \n",
    "plt.show()"
   ]
  }
 ],
 "metadata": {
  "kernelspec": {
   "display_name": "Python 3.5",
   "language": "python",
   "name": "python35"
  },
  "language_info": {
   "codemirror_mode": {
    "name": "ipython",
    "version": 3
   },
   "file_extension": ".py",
   "mimetype": "text/x-python",
   "name": "python",
   "nbconvert_exporter": "python",
   "pygments_lexer": "ipython3",
   "version": "3.5.1"
  }
 },
 "nbformat": 4,
 "nbformat_minor": 2
}
